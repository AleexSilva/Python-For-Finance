{
 "metadata": {
  "language_info": {
   "codemirror_mode": {
    "name": "ipython",
    "version": 3
   },
   "file_extension": ".py",
   "mimetype": "text/x-python",
   "name": "python",
   "nbconvert_exporter": "python",
   "pygments_lexer": "ipython3",
   "version": "3.8.2"
  },
  "orig_nbformat": 2,
  "kernelspec": {
   "name": "python38264bit252c0851f75e4973b271bb189c728abd",
   "display_name": "Python 3.8.2 64-bit"
  },
  "metadata": {
   "interpreter": {
    "hash": "49fdda9a8f1b43ecf94cbf6adfec0c9149aed4e40f425dad389976f3db3c5b4b"
   }
  }
 },
 "nbformat": 4,
 "nbformat_minor": 2,
 "cells": [
  {
   "cell_type": "code",
   "execution_count": 1,
   "metadata": {},
   "outputs": [],
   "source": [
    "import pandas as pd\n",
    "import re\n",
    "import json\n",
    "import csv\n",
    "from io import StringIO\n",
    "from bs4 import BeautifulSoup\n",
    "import requests"
   ]
  },
  {
   "cell_type": "code",
   "execution_count": 2,
   "metadata": {},
   "outputs": [],
   "source": [
    "url = 'https://en.wikipedia.org/wiki/List_of_countries_by_past_and_projected_GDP_(PPP)'\n",
    "tables= pd.read_html(url)"
   ]
  },
  {
   "cell_type": "code",
   "execution_count": 3,
   "metadata": {},
   "outputs": [
    {
     "output_type": "execute_result",
     "data": {
      "text/plain": [
       "    Country (or dependent territory)      1980      1981      1982      1983  \\\n",
       "0                        Afghanistan       NaN       NaN       NaN       NaN   \n",
       "1                            Albania    5547.0    6410.0    7005.0    7362.0   \n",
       "2                            Algeria   86255.0   97138.0  109768.0  120263.0   \n",
       "3                             Angola   14949.0   15626.0   16595.0   17975.0   \n",
       "4                Antigua and Barbuda     276.0     312.0     328.0     363.0   \n",
       "..                               ...       ...       ...       ...       ...   \n",
       "187                        Venezuela  117193.0  126484.0  137885.0  129202.0   \n",
       "188                          Vietnam   23595.0   27294.0   31350.0   34899.0   \n",
       "189                            Yemen       NaN       NaN       NaN       NaN   \n",
       "190                           Zambia    8014.0    9343.0    9634.0    9899.0   \n",
       "191                         Zimbabwe       NaN       NaN       NaN       NaN   \n",
       "\n",
       "         1984      1985      1986      1987      1988      1989  \n",
       "0         NaN       NaN       NaN       NaN       NaN       NaN  \n",
       "1      7776.0    7904.0    8515.0    8662.0    8840.0   10084.0  \n",
       "2    131504.0  143312.0  145909.0  148586.0  150865.0  164255.0  \n",
       "3     19729.0   21073.0   22122.0   23613.0   25937.0   26957.0  \n",
       "4       415.0     460.0     508.0     558.0     609.0     671.0  \n",
       "..        ...       ...       ...       ...       ...       ...  \n",
       "187  140775.0  146540.0  158584.0  170439.0  187890.0  168025.0  \n",
       "188   39172.0   42697.0   45020.0   47346.0   51502.0   57678.0  \n",
       "189       NaN       NaN       NaN       NaN       NaN       NaN  \n",
       "190   10075.0   10526.0   10920.0   11366.0   12854.0   12866.0  \n",
       "191       NaN       NaN       NaN       NaN       NaN       NaN  \n",
       "\n",
       "[192 rows x 11 columns]"
      ],
      "text/html": "<div>\n<style scoped>\n    .dataframe tbody tr th:only-of-type {\n        vertical-align: middle;\n    }\n\n    .dataframe tbody tr th {\n        vertical-align: top;\n    }\n\n    .dataframe thead th {\n        text-align: right;\n    }\n</style>\n<table border=\"1\" class=\"dataframe\">\n  <thead>\n    <tr style=\"text-align: right;\">\n      <th></th>\n      <th>Country (or dependent territory)</th>\n      <th>1980</th>\n      <th>1981</th>\n      <th>1982</th>\n      <th>1983</th>\n      <th>1984</th>\n      <th>1985</th>\n      <th>1986</th>\n      <th>1987</th>\n      <th>1988</th>\n      <th>1989</th>\n    </tr>\n  </thead>\n  <tbody>\n    <tr>\n      <th>0</th>\n      <td>Afghanistan</td>\n      <td>NaN</td>\n      <td>NaN</td>\n      <td>NaN</td>\n      <td>NaN</td>\n      <td>NaN</td>\n      <td>NaN</td>\n      <td>NaN</td>\n      <td>NaN</td>\n      <td>NaN</td>\n      <td>NaN</td>\n    </tr>\n    <tr>\n      <th>1</th>\n      <td>Albania</td>\n      <td>5547.0</td>\n      <td>6410.0</td>\n      <td>7005.0</td>\n      <td>7362.0</td>\n      <td>7776.0</td>\n      <td>7904.0</td>\n      <td>8515.0</td>\n      <td>8662.0</td>\n      <td>8840.0</td>\n      <td>10084.0</td>\n    </tr>\n    <tr>\n      <th>2</th>\n      <td>Algeria</td>\n      <td>86255.0</td>\n      <td>97138.0</td>\n      <td>109768.0</td>\n      <td>120263.0</td>\n      <td>131504.0</td>\n      <td>143312.0</td>\n      <td>145909.0</td>\n      <td>148586.0</td>\n      <td>150865.0</td>\n      <td>164255.0</td>\n    </tr>\n    <tr>\n      <th>3</th>\n      <td>Angola</td>\n      <td>14949.0</td>\n      <td>15626.0</td>\n      <td>16595.0</td>\n      <td>17975.0</td>\n      <td>19729.0</td>\n      <td>21073.0</td>\n      <td>22122.0</td>\n      <td>23613.0</td>\n      <td>25937.0</td>\n      <td>26957.0</td>\n    </tr>\n    <tr>\n      <th>4</th>\n      <td>Antigua and Barbuda</td>\n      <td>276.0</td>\n      <td>312.0</td>\n      <td>328.0</td>\n      <td>363.0</td>\n      <td>415.0</td>\n      <td>460.0</td>\n      <td>508.0</td>\n      <td>558.0</td>\n      <td>609.0</td>\n      <td>671.0</td>\n    </tr>\n    <tr>\n      <th>...</th>\n      <td>...</td>\n      <td>...</td>\n      <td>...</td>\n      <td>...</td>\n      <td>...</td>\n      <td>...</td>\n      <td>...</td>\n      <td>...</td>\n      <td>...</td>\n      <td>...</td>\n      <td>...</td>\n    </tr>\n    <tr>\n      <th>187</th>\n      <td>Venezuela</td>\n      <td>117193.0</td>\n      <td>126484.0</td>\n      <td>137885.0</td>\n      <td>129202.0</td>\n      <td>140775.0</td>\n      <td>146540.0</td>\n      <td>158584.0</td>\n      <td>170439.0</td>\n      <td>187890.0</td>\n      <td>168025.0</td>\n    </tr>\n    <tr>\n      <th>188</th>\n      <td>Vietnam</td>\n      <td>23595.0</td>\n      <td>27294.0</td>\n      <td>31350.0</td>\n      <td>34899.0</td>\n      <td>39172.0</td>\n      <td>42697.0</td>\n      <td>45020.0</td>\n      <td>47346.0</td>\n      <td>51502.0</td>\n      <td>57678.0</td>\n    </tr>\n    <tr>\n      <th>189</th>\n      <td>Yemen</td>\n      <td>NaN</td>\n      <td>NaN</td>\n      <td>NaN</td>\n      <td>NaN</td>\n      <td>NaN</td>\n      <td>NaN</td>\n      <td>NaN</td>\n      <td>NaN</td>\n      <td>NaN</td>\n      <td>NaN</td>\n    </tr>\n    <tr>\n      <th>190</th>\n      <td>Zambia</td>\n      <td>8014.0</td>\n      <td>9343.0</td>\n      <td>9634.0</td>\n      <td>9899.0</td>\n      <td>10075.0</td>\n      <td>10526.0</td>\n      <td>10920.0</td>\n      <td>11366.0</td>\n      <td>12854.0</td>\n      <td>12866.0</td>\n    </tr>\n    <tr>\n      <th>191</th>\n      <td>Zimbabwe</td>\n      <td>NaN</td>\n      <td>NaN</td>\n      <td>NaN</td>\n      <td>NaN</td>\n      <td>NaN</td>\n      <td>NaN</td>\n      <td>NaN</td>\n      <td>NaN</td>\n      <td>NaN</td>\n      <td>NaN</td>\n    </tr>\n  </tbody>\n</table>\n<p>192 rows × 11 columns</p>\n</div>"
     },
     "metadata": {},
     "execution_count": 3
    }
   ],
   "source": [
    "tables[0]"
   ]
  },
  {
   "cell_type": "code",
   "execution_count": 4,
   "metadata": {},
   "outputs": [
    {
     "output_type": "execute_result",
     "data": {
      "text/plain": [
       "9"
      ]
     },
     "metadata": {},
     "execution_count": 4
    }
   ],
   "source": [
    "len(tables)"
   ]
  },
  {
   "source": [
    "## Scrap Yahoo Finance"
   ],
   "cell_type": "markdown",
   "metadata": {}
  },
  {
   "cell_type": "code",
   "execution_count": 6,
   "metadata": {},
   "outputs": [],
   "source": [
    "url_stats='https://finance.yahoo.com/quote/{}/key-statistics?p={}'\n",
    "url_data='https://finance.yahoo.com/quote/{}/history?p={}'\n",
    "url_profile='https://finance.yahoo.com/quote/{}/profile?p={}'\n",
    "url_financials='https://finance.yahoo.com/quote/{}/financials?p={}'\n",
    "tiker='TSLA'"
   ]
  },
  {
   "cell_type": "code",
   "execution_count": 8,
   "metadata": {},
   "outputs": [],
   "source": [
    "response = requests.get(url_financials.format(tiker,tiker))"
   ]
  },
  {
   "cell_type": "code",
   "execution_count": null,
   "metadata": {},
   "outputs": [],
   "source": [
    "soup=BeatiBeautifulSoup(resp.text,'html.parser')"
   ]
  }
 ]
}