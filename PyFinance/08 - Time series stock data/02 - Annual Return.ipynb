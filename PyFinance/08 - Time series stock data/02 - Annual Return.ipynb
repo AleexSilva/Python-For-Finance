{
 "cells": [
  {
   "cell_type": "markdown",
   "metadata": {},
   "source": [
    "### Rate of return\n",
    "\n",
    "\\begin{equation*}\n",
    "R = \\frac{V_f - V_{init}}{V_{init}} = \\frac{V_f}{V_{init}} - 1\n",
    "\\end{equation*}\n",
    "- $R$: Rate of return\n",
    "- $V_{init}$: Initial value\n",
    "- $V_f$: Final value"
   ]
  },
  {
   "cell_type": "code",
   "execution_count": 1,
   "metadata": {},
   "outputs": [],
   "source": [
    "import pandas_datareader as pdr\n",
    "import datetime as dt\n",
    "import pandas as pd"
   ]
  },
  {
   "cell_type": "code",
   "execution_count": 2,
   "metadata": {},
   "outputs": [
    {
     "output_type": "execute_result",
     "data": {
      "text/plain": [
       "                  High         Low        Open       Close    Volume  \\\n",
       "Date                                                                   \n",
       "2020-01-02  209.789993  206.270004  206.750000  209.779999  12077100   \n",
       "2020-01-03  210.399994  206.949997  207.210007  208.669998  11188400   \n",
       "2020-01-06  212.779999  206.520004  206.699997  212.600006  17058900   \n",
       "2020-01-07  214.580002  211.750000  212.820007  213.059998  14912400   \n",
       "2020-01-08  216.240005  212.610001  213.000000  215.220001  13475000   \n",
       "\n",
       "             Adj Close  \n",
       "Date                    \n",
       "2020-01-02  209.779999  \n",
       "2020-01-03  208.669998  \n",
       "2020-01-06  212.600006  \n",
       "2020-01-07  213.059998  \n",
       "2020-01-08  215.220001  "
      ],
      "text/html": "<div>\n<style scoped>\n    .dataframe tbody tr th:only-of-type {\n        vertical-align: middle;\n    }\n\n    .dataframe tbody tr th {\n        vertical-align: top;\n    }\n\n    .dataframe thead th {\n        text-align: right;\n    }\n</style>\n<table border=\"1\" class=\"dataframe\">\n  <thead>\n    <tr style=\"text-align: right;\">\n      <th></th>\n      <th>High</th>\n      <th>Low</th>\n      <th>Open</th>\n      <th>Close</th>\n      <th>Volume</th>\n      <th>Adj Close</th>\n    </tr>\n    <tr>\n      <th>Date</th>\n      <th></th>\n      <th></th>\n      <th></th>\n      <th></th>\n      <th></th>\n      <th></th>\n    </tr>\n  </thead>\n  <tbody>\n    <tr>\n      <th>2020-01-02</th>\n      <td>209.789993</td>\n      <td>206.270004</td>\n      <td>206.750000</td>\n      <td>209.779999</td>\n      <td>12077100</td>\n      <td>209.779999</td>\n    </tr>\n    <tr>\n      <th>2020-01-03</th>\n      <td>210.399994</td>\n      <td>206.949997</td>\n      <td>207.210007</td>\n      <td>208.669998</td>\n      <td>11188400</td>\n      <td>208.669998</td>\n    </tr>\n    <tr>\n      <th>2020-01-06</th>\n      <td>212.779999</td>\n      <td>206.520004</td>\n      <td>206.699997</td>\n      <td>212.600006</td>\n      <td>17058900</td>\n      <td>212.600006</td>\n    </tr>\n    <tr>\n      <th>2020-01-07</th>\n      <td>214.580002</td>\n      <td>211.750000</td>\n      <td>212.820007</td>\n      <td>213.059998</td>\n      <td>14912400</td>\n      <td>213.059998</td>\n    </tr>\n    <tr>\n      <th>2020-01-08</th>\n      <td>216.240005</td>\n      <td>212.610001</td>\n      <td>213.000000</td>\n      <td>215.220001</td>\n      <td>13475000</td>\n      <td>215.220001</td>\n    </tr>\n  </tbody>\n</table>\n</div>"
     },
     "metadata": {},
     "execution_count": 2
    }
   ],
   "source": [
    "start = dt.datetime(2020,1,1)\n",
    "fb = pdr.get_data_yahoo(\"FB\", start)\n",
    "fb.head()"
   ]
  },
  {
   "cell_type": "code",
   "execution_count": 16,
   "metadata": {},
   "outputs": [
    {
     "output_type": "execute_result",
     "data": {
      "text/plain": [
       "0.3021"
      ]
     },
     "metadata": {},
     "execution_count": 16
    }
   ],
   "source": [
    "# Annual rate of return\n",
    "round(fb.loc['2020-12-31']['Close']/fb.iloc[0]['Close'] - 1,4)"
   ]
  },
  {
   "cell_type": "code",
   "execution_count": 19,
   "metadata": {},
   "outputs": [
    {
     "output_type": "execute_result",
     "data": {
      "text/plain": [
       "0.3021"
      ]
     },
     "metadata": {},
     "execution_count": 19
    }
   ],
   "source": [
    "fb['RoR'] = fb['Close'].pct_change()\n",
    "fb['GF'] = fb['RoR'] + 1\n",
    "round(fb['GF'].loc['2020-01-02':'2020-12-31'].prod() - 1,4)"
   ]
  },
  {
   "cell_type": "code",
   "execution_count": 21,
   "metadata": {},
   "outputs": [
    {
     "output_type": "execute_result",
     "data": {
      "text/plain": [
       "331.07998657226534"
      ]
     },
     "metadata": {},
     "execution_count": 21
    }
   ],
   "source": [
    "fb.iloc[0]['Close']*fb['GF'].prod()"
   ]
  },
  {
   "cell_type": "code",
   "execution_count": 8,
   "metadata": {},
   "outputs": [
    {
     "output_type": "execute_result",
     "data": {
      "text/plain": [
       "331.0799865722656"
      ]
     },
     "metadata": {},
     "execution_count": 8
    }
   ],
   "source": [
    "fb.iloc[-1]['Close']"
   ]
  },
  {
   "cell_type": "markdown",
   "metadata": {},
   "source": [
    "### CAGR calculation\n",
    "\n",
    "\\begin{equation*}\n",
    "CAGR = \\bigg(\\frac{V_f}{V_{init}}\\bigg)^{1/n} - 1\n",
    "\\end{equation*}\n",
    "- $V_{init}$: Initial value\n",
    "- $V_f$: Final value\n",
    "- $n$: number of period"
   ]
  },
  {
   "cell_type": "code",
   "execution_count": 9,
   "metadata": {},
   "outputs": [
    {
     "output_type": "execute_result",
     "data": {
      "text/plain": [
       "0.0012440992467823708"
      ]
     },
     "metadata": {},
     "execution_count": 9
    }
   ],
   "source": [
    "n = len(fb)\n",
    "cagr = (fb.iloc[-1]['Close']/fb.iloc[0]['Close'])**(1/n) - 1\n",
    "cagr"
   ]
  },
  {
   "cell_type": "code",
   "execution_count": 10,
   "metadata": {},
   "outputs": [
    {
     "output_type": "error",
     "ename": "SyntaxError",
     "evalue": "unmatched ')' (<ipython-input-10-b8f5332f685d>, line 1)",
     "traceback": [
      "\u001b[1;36m  File \u001b[1;32m\"<ipython-input-10-b8f5332f685d>\"\u001b[1;36m, line \u001b[1;32m1\u001b[0m\n\u001b[1;33m    (1 + cagr)**n)\u001b[0m\n\u001b[1;37m                 ^\u001b[0m\n\u001b[1;31mSyntaxError\u001b[0m\u001b[1;31m:\u001b[0m unmatched ')'\n"
     ]
    }
   ],
   "source": [
    "(1 + cagr)**n"
   ]
  }
 ],
 "metadata": {
  "kernelspec": {
   "name": "python3",
   "display_name": "Python 3.9.4  ('venv': venv)"
  },
  "language_info": {
   "codemirror_mode": {
    "name": "ipython",
    "version": 3
   },
   "file_extension": ".py",
   "mimetype": "text/x-python",
   "name": "python",
   "nbconvert_exporter": "python",
   "pygments_lexer": "ipython3",
   "version": "3.9.4"
  },
  "interpreter": {
   "hash": "68085c160c24486091918865001a87af9229d3fb515dc7068b6f3f223a2e33f7"
  }
 },
 "nbformat": 4,
 "nbformat_minor": 4
}