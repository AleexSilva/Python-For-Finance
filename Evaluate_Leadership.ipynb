{
 "metadata": {
  "language_info": {
   "codemirror_mode": {
    "name": "ipython",
    "version": 3
   },
   "file_extension": ".py",
   "mimetype": "text/x-python",
   "name": "python",
   "nbconvert_exporter": "python",
   "pygments_lexer": "ipython3",
   "version": "3.9.4"
  },
  "orig_nbformat": 2,
  "kernelspec": {
   "name": "pythonjvsc74a57bd068085c160c24486091918865001a87af9229d3fb515dc7068b6f3f223a2e33f7",
   "display_name": "Python 3.9.4  ('venv': venv)"
  },
  "metadata": {
   "interpreter": {
    "hash": "68085c160c24486091918865001a87af9229d3fb515dc7068b6f3f223a2e33f7"
   }
  }
 },
 "nbformat": 4,
 "nbformat_minor": 2,
 "cells": [
  {
   "cell_type": "code",
   "execution_count": 1,
   "metadata": {},
   "outputs": [],
   "source": [
    "import pandas as pd\n",
    "import numpy as np\n",
    "pd.set_option('display.max_rows',None,'display.max_columns',None)"
   ]
  },
  {
   "source": [
    "### Debt / Equity Ratio\n",
    "\n",
    "The debt-to-equity (D/E) ratio is used to evaluate a company's financial leverage and is calculated by dividing a company’s total liabilities by its shareholder equity.\n",
    "The D/E ratio is an important metric used in corporate finance. It is a measure of the degree to which a company is financing its operations through debt versus wholly-owned funds.\n",
    "\n",
    "* How much debt for every dollar in equity.\n",
    "* The higher, most risky the company appears.\n",
    "* Depend to the industry."
   ],
   "cell_type": "markdown",
   "metadata": {}
  },
  {
   "cell_type": "code",
   "execution_count": 2,
   "metadata": {},
   "outputs": [
    {
     "output_type": "execute_result",
     "data": {
      "text/plain": [
       "            AAPL  MSFT  AMZN  GOOG    FB  TSLA  BRK.A     V   JNJ  WMT    JPM  \\\n",
       "2020-09-30  3.96  1.44  2.41  0.41  0.24  1.71   0.98  1.24  1.65  NaN  10.97   \n",
       "2020-06-30  3.39  1.55  2.50  0.34  0.27  2.56   0.98  1.19  1.52  NaN  11.15   \n",
       "2020-03-31  3.09  1.49  2.39  0.34  0.31  2.71   1.03  1.11  1.53  NaN  11.02   \n",
       "2019-12-31  2.80  1.57  2.63  0.37  0.32  3.60   0.91  1.12  1.65  NaN   9.28   \n",
       "2019-09-30  2.74  1.63  2.52  0.35  0.32  3.77   0.96  1.09  1.67  NaN   9.46   \n",
       "\n",
       "              MA    PG   UNH   DIS  NVDA  HD  PYPL   BAC    VZ  ADBE  CMCSA  \\\n",
       "2020-09-30  4.40  1.47  1.80  1.28   NaN NaN  2.54  9.19  3.46   NaN   2.07   \n",
       "2020-06-30  3.94  1.58  1.89  1.30   NaN NaN  2.57  9.32  3.57   NaN   2.14   \n",
       "2020-03-31  4.65  1.58  2.16  1.17   NaN NaN  2.39  8.89  3.78   NaN   2.17   \n",
       "2019-12-31  3.94  1.43  1.88  1.12   NaN NaN  2.03  8.19  3.64   NaN   2.14   \n",
       "2019-09-30  4.22  1.43  2.01  1.07   NaN NaN  2.05  8.04  3.72   NaN   2.24   \n",
       "\n",
       "            NFLX    KO  NKE   MRK   PEP     T   PFE  INTC  CRM   ABT  ORCL  \\\n",
       "2020-09-30  2.74  3.78  NaN  2.07  5.77  1.76  1.73  0.95  NaN  1.19   NaN   \n",
       "2020-06-30  2.98  3.94  NaN  2.27  6.11  1.83  1.76  0.86  NaN  1.23   NaN   \n",
       "2020-03-31  3.17  3.74  NaN  2.23  5.27  1.79  1.55  0.94  NaN  1.20   NaN   \n",
       "2019-12-31  3.48  3.09  NaN  2.25  4.28  1.73  1.64  0.76  NaN  1.17   NaN   \n",
       "2019-09-30  3.51  3.23  NaN  2.10  4.45  1.82  1.61  0.80  NaN  1.14   NaN   \n",
       "\n",
       "             ABBV  CSCO   TMO  AVGO   XOM  ACN  QCOM  COST   CVX    LLY   MCD  \\\n",
       "2020-09-30   8.79   NaN  1.01   NaN  0.94  NaN  4.86   NaN  0.69   7.80 -6.98   \n",
       "2020-06-30   9.15   NaN  1.06   NaN  0.93  NaN  8.78   NaN  0.66   8.82 -6.28   \n",
       "2020-03-31 -13.30   NaN  1.06   NaN  0.89  NaN  9.49   NaN  0.63  11.86 -6.44   \n",
       "2019-12-31 -11.91   NaN  0.97   NaN  0.82  NaN  6.34   NaN  0.64  13.56 -6.79   \n",
       "2019-09-30  -8.23   NaN  0.93   NaN  0.82  NaN  5.71   NaN  0.64   9.94 -6.33   \n",
       "\n",
       "             DHR  MDT   NEE   TXN   HON    UPS  \n",
       "2020-09-30  0.92  NaN  2.01  1.19  2.47  10.13  \n",
       "2020-06-30  0.97  NaN  1.93  1.28  2.46  13.18  \n",
       "2020-03-31  1.22  NaN  1.95  1.24  2.21  17.38  \n",
       "2019-12-31  1.05  NaN  1.85  1.02  2.14  16.62  \n",
       "2019-09-30  0.85  NaN  1.84  1.00  2.28   8.56  "
      ],
      "text/html": "<div>\n<style scoped>\n    .dataframe tbody tr th:only-of-type {\n        vertical-align: middle;\n    }\n\n    .dataframe tbody tr th {\n        vertical-align: top;\n    }\n\n    .dataframe thead th {\n        text-align: right;\n    }\n</style>\n<table border=\"1\" class=\"dataframe\">\n  <thead>\n    <tr style=\"text-align: right;\">\n      <th></th>\n      <th>AAPL</th>\n      <th>MSFT</th>\n      <th>AMZN</th>\n      <th>GOOG</th>\n      <th>FB</th>\n      <th>TSLA</th>\n      <th>BRK.A</th>\n      <th>V</th>\n      <th>JNJ</th>\n      <th>WMT</th>\n      <th>JPM</th>\n      <th>MA</th>\n      <th>PG</th>\n      <th>UNH</th>\n      <th>DIS</th>\n      <th>NVDA</th>\n      <th>HD</th>\n      <th>PYPL</th>\n      <th>BAC</th>\n      <th>VZ</th>\n      <th>ADBE</th>\n      <th>CMCSA</th>\n      <th>NFLX</th>\n      <th>KO</th>\n      <th>NKE</th>\n      <th>MRK</th>\n      <th>PEP</th>\n      <th>T</th>\n      <th>PFE</th>\n      <th>INTC</th>\n      <th>CRM</th>\n      <th>ABT</th>\n      <th>ORCL</th>\n      <th>ABBV</th>\n      <th>CSCO</th>\n      <th>TMO</th>\n      <th>AVGO</th>\n      <th>XOM</th>\n      <th>ACN</th>\n      <th>QCOM</th>\n      <th>COST</th>\n      <th>CVX</th>\n      <th>LLY</th>\n      <th>MCD</th>\n      <th>DHR</th>\n      <th>MDT</th>\n      <th>NEE</th>\n      <th>TXN</th>\n      <th>HON</th>\n      <th>UPS</th>\n    </tr>\n  </thead>\n  <tbody>\n    <tr>\n      <th>2020-09-30</th>\n      <td>3.96</td>\n      <td>1.44</td>\n      <td>2.41</td>\n      <td>0.41</td>\n      <td>0.24</td>\n      <td>1.71</td>\n      <td>0.98</td>\n      <td>1.24</td>\n      <td>1.65</td>\n      <td>NaN</td>\n      <td>10.97</td>\n      <td>4.40</td>\n      <td>1.47</td>\n      <td>1.80</td>\n      <td>1.28</td>\n      <td>NaN</td>\n      <td>NaN</td>\n      <td>2.54</td>\n      <td>9.19</td>\n      <td>3.46</td>\n      <td>NaN</td>\n      <td>2.07</td>\n      <td>2.74</td>\n      <td>3.78</td>\n      <td>NaN</td>\n      <td>2.07</td>\n      <td>5.77</td>\n      <td>1.76</td>\n      <td>1.73</td>\n      <td>0.95</td>\n      <td>NaN</td>\n      <td>1.19</td>\n      <td>NaN</td>\n      <td>8.79</td>\n      <td>NaN</td>\n      <td>1.01</td>\n      <td>NaN</td>\n      <td>0.94</td>\n      <td>NaN</td>\n      <td>4.86</td>\n      <td>NaN</td>\n      <td>0.69</td>\n      <td>7.80</td>\n      <td>-6.98</td>\n      <td>0.92</td>\n      <td>NaN</td>\n      <td>2.01</td>\n      <td>1.19</td>\n      <td>2.47</td>\n      <td>10.13</td>\n    </tr>\n    <tr>\n      <th>2020-06-30</th>\n      <td>3.39</td>\n      <td>1.55</td>\n      <td>2.50</td>\n      <td>0.34</td>\n      <td>0.27</td>\n      <td>2.56</td>\n      <td>0.98</td>\n      <td>1.19</td>\n      <td>1.52</td>\n      <td>NaN</td>\n      <td>11.15</td>\n      <td>3.94</td>\n      <td>1.58</td>\n      <td>1.89</td>\n      <td>1.30</td>\n      <td>NaN</td>\n      <td>NaN</td>\n      <td>2.57</td>\n      <td>9.32</td>\n      <td>3.57</td>\n      <td>NaN</td>\n      <td>2.14</td>\n      <td>2.98</td>\n      <td>3.94</td>\n      <td>NaN</td>\n      <td>2.27</td>\n      <td>6.11</td>\n      <td>1.83</td>\n      <td>1.76</td>\n      <td>0.86</td>\n      <td>NaN</td>\n      <td>1.23</td>\n      <td>NaN</td>\n      <td>9.15</td>\n      <td>NaN</td>\n      <td>1.06</td>\n      <td>NaN</td>\n      <td>0.93</td>\n      <td>NaN</td>\n      <td>8.78</td>\n      <td>NaN</td>\n      <td>0.66</td>\n      <td>8.82</td>\n      <td>-6.28</td>\n      <td>0.97</td>\n      <td>NaN</td>\n      <td>1.93</td>\n      <td>1.28</td>\n      <td>2.46</td>\n      <td>13.18</td>\n    </tr>\n    <tr>\n      <th>2020-03-31</th>\n      <td>3.09</td>\n      <td>1.49</td>\n      <td>2.39</td>\n      <td>0.34</td>\n      <td>0.31</td>\n      <td>2.71</td>\n      <td>1.03</td>\n      <td>1.11</td>\n      <td>1.53</td>\n      <td>NaN</td>\n      <td>11.02</td>\n      <td>4.65</td>\n      <td>1.58</td>\n      <td>2.16</td>\n      <td>1.17</td>\n      <td>NaN</td>\n      <td>NaN</td>\n      <td>2.39</td>\n      <td>8.89</td>\n      <td>3.78</td>\n      <td>NaN</td>\n      <td>2.17</td>\n      <td>3.17</td>\n      <td>3.74</td>\n      <td>NaN</td>\n      <td>2.23</td>\n      <td>5.27</td>\n      <td>1.79</td>\n      <td>1.55</td>\n      <td>0.94</td>\n      <td>NaN</td>\n      <td>1.20</td>\n      <td>NaN</td>\n      <td>-13.30</td>\n      <td>NaN</td>\n      <td>1.06</td>\n      <td>NaN</td>\n      <td>0.89</td>\n      <td>NaN</td>\n      <td>9.49</td>\n      <td>NaN</td>\n      <td>0.63</td>\n      <td>11.86</td>\n      <td>-6.44</td>\n      <td>1.22</td>\n      <td>NaN</td>\n      <td>1.95</td>\n      <td>1.24</td>\n      <td>2.21</td>\n      <td>17.38</td>\n    </tr>\n    <tr>\n      <th>2019-12-31</th>\n      <td>2.80</td>\n      <td>1.57</td>\n      <td>2.63</td>\n      <td>0.37</td>\n      <td>0.32</td>\n      <td>3.60</td>\n      <td>0.91</td>\n      <td>1.12</td>\n      <td>1.65</td>\n      <td>NaN</td>\n      <td>9.28</td>\n      <td>3.94</td>\n      <td>1.43</td>\n      <td>1.88</td>\n      <td>1.12</td>\n      <td>NaN</td>\n      <td>NaN</td>\n      <td>2.03</td>\n      <td>8.19</td>\n      <td>3.64</td>\n      <td>NaN</td>\n      <td>2.14</td>\n      <td>3.48</td>\n      <td>3.09</td>\n      <td>NaN</td>\n      <td>2.25</td>\n      <td>4.28</td>\n      <td>1.73</td>\n      <td>1.64</td>\n      <td>0.76</td>\n      <td>NaN</td>\n      <td>1.17</td>\n      <td>NaN</td>\n      <td>-11.91</td>\n      <td>NaN</td>\n      <td>0.97</td>\n      <td>NaN</td>\n      <td>0.82</td>\n      <td>NaN</td>\n      <td>6.34</td>\n      <td>NaN</td>\n      <td>0.64</td>\n      <td>13.56</td>\n      <td>-6.79</td>\n      <td>1.05</td>\n      <td>NaN</td>\n      <td>1.85</td>\n      <td>1.02</td>\n      <td>2.14</td>\n      <td>16.62</td>\n    </tr>\n    <tr>\n      <th>2019-09-30</th>\n      <td>2.74</td>\n      <td>1.63</td>\n      <td>2.52</td>\n      <td>0.35</td>\n      <td>0.32</td>\n      <td>3.77</td>\n      <td>0.96</td>\n      <td>1.09</td>\n      <td>1.67</td>\n      <td>NaN</td>\n      <td>9.46</td>\n      <td>4.22</td>\n      <td>1.43</td>\n      <td>2.01</td>\n      <td>1.07</td>\n      <td>NaN</td>\n      <td>NaN</td>\n      <td>2.05</td>\n      <td>8.04</td>\n      <td>3.72</td>\n      <td>NaN</td>\n      <td>2.24</td>\n      <td>3.51</td>\n      <td>3.23</td>\n      <td>NaN</td>\n      <td>2.10</td>\n      <td>4.45</td>\n      <td>1.82</td>\n      <td>1.61</td>\n      <td>0.80</td>\n      <td>NaN</td>\n      <td>1.14</td>\n      <td>NaN</td>\n      <td>-8.23</td>\n      <td>NaN</td>\n      <td>0.93</td>\n      <td>NaN</td>\n      <td>0.82</td>\n      <td>NaN</td>\n      <td>5.71</td>\n      <td>NaN</td>\n      <td>0.64</td>\n      <td>9.94</td>\n      <td>-6.33</td>\n      <td>0.85</td>\n      <td>NaN</td>\n      <td>1.84</td>\n      <td>1.00</td>\n      <td>2.28</td>\n      <td>8.56</td>\n    </tr>\n  </tbody>\n</table>\n</div>"
     },
     "metadata": {},
     "execution_count": 2
    }
   ],
   "source": [
    "de = pd.read_csv('PyFinance/04 - Intrinsic Value/50-de-ratio.csv',index_col=0)\n",
    "de.head()"
   ]
  },
  {
   "cell_type": "code",
   "execution_count": 3,
   "metadata": {},
   "outputs": [],
   "source": [
    "de.index = pd.to_datetime(de.index)"
   ]
  },
  {
   "cell_type": "code",
   "execution_count": 4,
   "metadata": {},
   "outputs": [
    {
     "output_type": "execute_result",
     "data": {
      "text/plain": [
       "            AAPL  MSFT  AMZN  GOOG    FB  TSLA  BRK.A     V   JNJ   WMT  \\\n",
       "2020-11-30   NaN   NaN   NaN   NaN   NaN   NaN    NaN   NaN   NaN   NaN   \n",
       "2020-10-31   NaN   NaN   NaN   NaN   NaN   NaN    NaN   NaN   NaN  1.87   \n",
       "2020-09-30  3.96  1.44  2.41  0.41  0.24  1.71   0.98  1.24  1.65   NaN   \n",
       "2020-08-31   NaN   NaN   NaN   NaN   NaN   NaN    NaN   NaN   NaN   NaN   \n",
       "2020-07-31   NaN   NaN   NaN   NaN   NaN   NaN    NaN   NaN   NaN  1.92   \n",
       "2020-06-30  3.39  1.55  2.50  0.34  0.27  2.56   0.98  1.19  1.52   NaN   \n",
       "\n",
       "              JPM    MA    PG   UNH   DIS  NVDA      HD  PYPL   BAC    VZ  \\\n",
       "2020-11-30    NaN   NaN   NaN   NaN   NaN   NaN     NaN   NaN   NaN   NaN   \n",
       "2020-10-31    NaN   NaN   NaN   NaN   NaN  0.75   42.60   NaN   NaN   NaN   \n",
       "2020-09-30  10.97  4.40  1.47  1.80  1.28   NaN     NaN  2.54  9.19  3.46   \n",
       "2020-08-31    NaN   NaN   NaN   NaN   NaN   NaN     NaN   NaN   NaN   NaN   \n",
       "2020-07-31    NaN   NaN   NaN   NaN   NaN  0.81 -154.02   NaN   NaN   NaN   \n",
       "2020-06-30  11.15  3.94  1.58  1.89  1.30   NaN     NaN  2.57  9.32  3.57   \n",
       "\n",
       "            ADBE  CMCSA  NFLX    KO   NKE   MRK   PEP     T   PFE  INTC   CRM  \\\n",
       "2020-11-30  0.83    NaN   NaN   NaN  2.27   NaN   NaN   NaN   NaN   NaN   NaN   \n",
       "2020-10-31   NaN    NaN   NaN   NaN   NaN   NaN   NaN   NaN   NaN   NaN  0.47   \n",
       "2020-09-30   NaN   2.07  2.74  3.78   NaN  2.07  5.77  1.76  1.73  0.95   NaN   \n",
       "2020-08-31  0.91    NaN   NaN   NaN  2.61   NaN   NaN   NaN   NaN   NaN   NaN   \n",
       "2020-07-31   NaN    NaN   NaN   NaN   NaN   NaN   NaN   NaN   NaN   NaN  0.50   \n",
       "2020-06-30   NaN   2.14  2.98  3.94   NaN  2.27  6.11  1.83  1.76  0.86   NaN   \n",
       "\n",
       "             ABT   ORCL  ABBV  CSCO   TMO  AVGO   XOM   ACN  QCOM  COST   CVX  \\\n",
       "2020-11-30   NaN  11.77   NaN   NaN   NaN   NaN   NaN  1.08   NaN  2.93   NaN   \n",
       "2020-10-31   NaN    NaN   NaN  1.49   NaN  2.18   NaN   NaN   NaN   NaN   NaN   \n",
       "2020-09-30  1.19    NaN  8.79   NaN  1.01   NaN  0.94   NaN  4.86   NaN  0.69   \n",
       "2020-08-31   NaN  10.20   NaN   NaN   NaN   NaN   NaN  1.12   NaN  1.97   NaN   \n",
       "2020-07-31   NaN    NaN   NaN  1.50   NaN  2.37   NaN   NaN   NaN   NaN   NaN   \n",
       "2020-06-30  1.23    NaN  9.15   NaN  1.06   NaN  0.93   NaN  8.78   NaN  0.66   \n",
       "\n",
       "             LLY   MCD   DHR   MDT   NEE   TXN   HON    UPS  \n",
       "2020-11-30   NaN   NaN   NaN   NaN   NaN   NaN   NaN    NaN  \n",
       "2020-10-31   NaN   NaN   NaN  0.91   NaN   NaN   NaN    NaN  \n",
       "2020-09-30  7.80 -6.98  0.92   NaN  2.01  1.19  2.47  10.13  \n",
       "2020-08-31   NaN   NaN   NaN   NaN   NaN   NaN   NaN    NaN  \n",
       "2020-07-31   NaN   NaN   NaN  0.86   NaN   NaN   NaN    NaN  \n",
       "2020-06-30  8.82 -6.28  0.97   NaN  1.93  1.28  2.46  13.18  "
      ],
      "text/html": "<div>\n<style scoped>\n    .dataframe tbody tr th:only-of-type {\n        vertical-align: middle;\n    }\n\n    .dataframe tbody tr th {\n        vertical-align: top;\n    }\n\n    .dataframe thead th {\n        text-align: right;\n    }\n</style>\n<table border=\"1\" class=\"dataframe\">\n  <thead>\n    <tr style=\"text-align: right;\">\n      <th></th>\n      <th>AAPL</th>\n      <th>MSFT</th>\n      <th>AMZN</th>\n      <th>GOOG</th>\n      <th>FB</th>\n      <th>TSLA</th>\n      <th>BRK.A</th>\n      <th>V</th>\n      <th>JNJ</th>\n      <th>WMT</th>\n      <th>JPM</th>\n      <th>MA</th>\n      <th>PG</th>\n      <th>UNH</th>\n      <th>DIS</th>\n      <th>NVDA</th>\n      <th>HD</th>\n      <th>PYPL</th>\n      <th>BAC</th>\n      <th>VZ</th>\n      <th>ADBE</th>\n      <th>CMCSA</th>\n      <th>NFLX</th>\n      <th>KO</th>\n      <th>NKE</th>\n      <th>MRK</th>\n      <th>PEP</th>\n      <th>T</th>\n      <th>PFE</th>\n      <th>INTC</th>\n      <th>CRM</th>\n      <th>ABT</th>\n      <th>ORCL</th>\n      <th>ABBV</th>\n      <th>CSCO</th>\n      <th>TMO</th>\n      <th>AVGO</th>\n      <th>XOM</th>\n      <th>ACN</th>\n      <th>QCOM</th>\n      <th>COST</th>\n      <th>CVX</th>\n      <th>LLY</th>\n      <th>MCD</th>\n      <th>DHR</th>\n      <th>MDT</th>\n      <th>NEE</th>\n      <th>TXN</th>\n      <th>HON</th>\n      <th>UPS</th>\n    </tr>\n  </thead>\n  <tbody>\n    <tr>\n      <th>2020-11-30</th>\n      <td>NaN</td>\n      <td>NaN</td>\n      <td>NaN</td>\n      <td>NaN</td>\n      <td>NaN</td>\n      <td>NaN</td>\n      <td>NaN</td>\n      <td>NaN</td>\n      <td>NaN</td>\n      <td>NaN</td>\n      <td>NaN</td>\n      <td>NaN</td>\n      <td>NaN</td>\n      <td>NaN</td>\n      <td>NaN</td>\n      <td>NaN</td>\n      <td>NaN</td>\n      <td>NaN</td>\n      <td>NaN</td>\n      <td>NaN</td>\n      <td>0.83</td>\n      <td>NaN</td>\n      <td>NaN</td>\n      <td>NaN</td>\n      <td>2.27</td>\n      <td>NaN</td>\n      <td>NaN</td>\n      <td>NaN</td>\n      <td>NaN</td>\n      <td>NaN</td>\n      <td>NaN</td>\n      <td>NaN</td>\n      <td>11.77</td>\n      <td>NaN</td>\n      <td>NaN</td>\n      <td>NaN</td>\n      <td>NaN</td>\n      <td>NaN</td>\n      <td>1.08</td>\n      <td>NaN</td>\n      <td>2.93</td>\n      <td>NaN</td>\n      <td>NaN</td>\n      <td>NaN</td>\n      <td>NaN</td>\n      <td>NaN</td>\n      <td>NaN</td>\n      <td>NaN</td>\n      <td>NaN</td>\n      <td>NaN</td>\n    </tr>\n    <tr>\n      <th>2020-10-31</th>\n      <td>NaN</td>\n      <td>NaN</td>\n      <td>NaN</td>\n      <td>NaN</td>\n      <td>NaN</td>\n      <td>NaN</td>\n      <td>NaN</td>\n      <td>NaN</td>\n      <td>NaN</td>\n      <td>1.87</td>\n      <td>NaN</td>\n      <td>NaN</td>\n      <td>NaN</td>\n      <td>NaN</td>\n      <td>NaN</td>\n      <td>0.75</td>\n      <td>42.60</td>\n      <td>NaN</td>\n      <td>NaN</td>\n      <td>NaN</td>\n      <td>NaN</td>\n      <td>NaN</td>\n      <td>NaN</td>\n      <td>NaN</td>\n      <td>NaN</td>\n      <td>NaN</td>\n      <td>NaN</td>\n      <td>NaN</td>\n      <td>NaN</td>\n      <td>NaN</td>\n      <td>0.47</td>\n      <td>NaN</td>\n      <td>NaN</td>\n      <td>NaN</td>\n      <td>1.49</td>\n      <td>NaN</td>\n      <td>2.18</td>\n      <td>NaN</td>\n      <td>NaN</td>\n      <td>NaN</td>\n      <td>NaN</td>\n      <td>NaN</td>\n      <td>NaN</td>\n      <td>NaN</td>\n      <td>NaN</td>\n      <td>0.91</td>\n      <td>NaN</td>\n      <td>NaN</td>\n      <td>NaN</td>\n      <td>NaN</td>\n    </tr>\n    <tr>\n      <th>2020-09-30</th>\n      <td>3.96</td>\n      <td>1.44</td>\n      <td>2.41</td>\n      <td>0.41</td>\n      <td>0.24</td>\n      <td>1.71</td>\n      <td>0.98</td>\n      <td>1.24</td>\n      <td>1.65</td>\n      <td>NaN</td>\n      <td>10.97</td>\n      <td>4.40</td>\n      <td>1.47</td>\n      <td>1.80</td>\n      <td>1.28</td>\n      <td>NaN</td>\n      <td>NaN</td>\n      <td>2.54</td>\n      <td>9.19</td>\n      <td>3.46</td>\n      <td>NaN</td>\n      <td>2.07</td>\n      <td>2.74</td>\n      <td>3.78</td>\n      <td>NaN</td>\n      <td>2.07</td>\n      <td>5.77</td>\n      <td>1.76</td>\n      <td>1.73</td>\n      <td>0.95</td>\n      <td>NaN</td>\n      <td>1.19</td>\n      <td>NaN</td>\n      <td>8.79</td>\n      <td>NaN</td>\n      <td>1.01</td>\n      <td>NaN</td>\n      <td>0.94</td>\n      <td>NaN</td>\n      <td>4.86</td>\n      <td>NaN</td>\n      <td>0.69</td>\n      <td>7.80</td>\n      <td>-6.98</td>\n      <td>0.92</td>\n      <td>NaN</td>\n      <td>2.01</td>\n      <td>1.19</td>\n      <td>2.47</td>\n      <td>10.13</td>\n    </tr>\n    <tr>\n      <th>2020-08-31</th>\n      <td>NaN</td>\n      <td>NaN</td>\n      <td>NaN</td>\n      <td>NaN</td>\n      <td>NaN</td>\n      <td>NaN</td>\n      <td>NaN</td>\n      <td>NaN</td>\n      <td>NaN</td>\n      <td>NaN</td>\n      <td>NaN</td>\n      <td>NaN</td>\n      <td>NaN</td>\n      <td>NaN</td>\n      <td>NaN</td>\n      <td>NaN</td>\n      <td>NaN</td>\n      <td>NaN</td>\n      <td>NaN</td>\n      <td>NaN</td>\n      <td>0.91</td>\n      <td>NaN</td>\n      <td>NaN</td>\n      <td>NaN</td>\n      <td>2.61</td>\n      <td>NaN</td>\n      <td>NaN</td>\n      <td>NaN</td>\n      <td>NaN</td>\n      <td>NaN</td>\n      <td>NaN</td>\n      <td>NaN</td>\n      <td>10.20</td>\n      <td>NaN</td>\n      <td>NaN</td>\n      <td>NaN</td>\n      <td>NaN</td>\n      <td>NaN</td>\n      <td>1.12</td>\n      <td>NaN</td>\n      <td>1.97</td>\n      <td>NaN</td>\n      <td>NaN</td>\n      <td>NaN</td>\n      <td>NaN</td>\n      <td>NaN</td>\n      <td>NaN</td>\n      <td>NaN</td>\n      <td>NaN</td>\n      <td>NaN</td>\n    </tr>\n    <tr>\n      <th>2020-07-31</th>\n      <td>NaN</td>\n      <td>NaN</td>\n      <td>NaN</td>\n      <td>NaN</td>\n      <td>NaN</td>\n      <td>NaN</td>\n      <td>NaN</td>\n      <td>NaN</td>\n      <td>NaN</td>\n      <td>1.92</td>\n      <td>NaN</td>\n      <td>NaN</td>\n      <td>NaN</td>\n      <td>NaN</td>\n      <td>NaN</td>\n      <td>0.81</td>\n      <td>-154.02</td>\n      <td>NaN</td>\n      <td>NaN</td>\n      <td>NaN</td>\n      <td>NaN</td>\n      <td>NaN</td>\n      <td>NaN</td>\n      <td>NaN</td>\n      <td>NaN</td>\n      <td>NaN</td>\n      <td>NaN</td>\n      <td>NaN</td>\n      <td>NaN</td>\n      <td>NaN</td>\n      <td>0.50</td>\n      <td>NaN</td>\n      <td>NaN</td>\n      <td>NaN</td>\n      <td>1.50</td>\n      <td>NaN</td>\n      <td>2.37</td>\n      <td>NaN</td>\n      <td>NaN</td>\n      <td>NaN</td>\n      <td>NaN</td>\n      <td>NaN</td>\n      <td>NaN</td>\n      <td>NaN</td>\n      <td>NaN</td>\n      <td>0.86</td>\n      <td>NaN</td>\n      <td>NaN</td>\n      <td>NaN</td>\n      <td>NaN</td>\n    </tr>\n    <tr>\n      <th>2020-06-30</th>\n      <td>3.39</td>\n      <td>1.55</td>\n      <td>2.50</td>\n      <td>0.34</td>\n      <td>0.27</td>\n      <td>2.56</td>\n      <td>0.98</td>\n      <td>1.19</td>\n      <td>1.52</td>\n      <td>NaN</td>\n      <td>11.15</td>\n      <td>3.94</td>\n      <td>1.58</td>\n      <td>1.89</td>\n      <td>1.30</td>\n      <td>NaN</td>\n      <td>NaN</td>\n      <td>2.57</td>\n      <td>9.32</td>\n      <td>3.57</td>\n      <td>NaN</td>\n      <td>2.14</td>\n      <td>2.98</td>\n      <td>3.94</td>\n      <td>NaN</td>\n      <td>2.27</td>\n      <td>6.11</td>\n      <td>1.83</td>\n      <td>1.76</td>\n      <td>0.86</td>\n      <td>NaN</td>\n      <td>1.23</td>\n      <td>NaN</td>\n      <td>9.15</td>\n      <td>NaN</td>\n      <td>1.06</td>\n      <td>NaN</td>\n      <td>0.93</td>\n      <td>NaN</td>\n      <td>8.78</td>\n      <td>NaN</td>\n      <td>0.66</td>\n      <td>8.82</td>\n      <td>-6.28</td>\n      <td>0.97</td>\n      <td>NaN</td>\n      <td>1.93</td>\n      <td>1.28</td>\n      <td>2.46</td>\n      <td>13.18</td>\n    </tr>\n  </tbody>\n</table>\n</div>"
     },
     "metadata": {},
     "execution_count": 4
    }
   ],
   "source": [
    "de = de.sort_index(ascending=False)\n",
    "de.head(6)"
   ]
  },
  {
   "cell_type": "code",
   "execution_count": 5,
   "metadata": {},
   "outputs": [
    {
     "output_type": "execute_result",
     "data": {
      "text/plain": [
       "(191, 50)"
      ]
     },
     "metadata": {},
     "execution_count": 5
    }
   ],
   "source": [
    "de.shape"
   ]
  },
  {
   "cell_type": "code",
   "execution_count": 6,
   "metadata": {},
   "outputs": [
    {
     "output_type": "execute_result",
     "data": {
      "text/plain": [
       "(129, 50)"
      ]
     },
     "metadata": {},
     "execution_count": 6
    }
   ],
   "source": [
    "de = de.loc['2020-09-30':'2010-01-01']\n",
    "de.shape"
   ]
  },
  {
   "cell_type": "code",
   "execution_count": 31,
   "metadata": {},
   "outputs": [
    {
     "output_type": "execute_result",
     "data": {
      "text/plain": [
       "      2010-03-31  2010-06-30  2010-09-30  2010-12-31  2011-03-31  2011-06-30  \\\n",
       "AAPL        0.45        0.50        0.57        0.59        0.54        0.54   \n",
       "MSFT        0.86        0.87        0.95        0.90        0.87        0.90   \n",
       "AMZN        1.14        1.12        1.21        1.74        1.30        1.31   \n",
       "GOOG        0.12        0.18        0.23        0.25        0.23        0.25   \n",
       "FB          0.00        0.00        0.00        0.38        0.00        0.00   \n",
       "\n",
       "      2011-09-30  2011-12-31  2012-03-31  2012-06-30  2012-09-30  2012-12-31  \\\n",
       "AAPL        0.52        0.54        0.47        0.46        0.49        0.54   \n",
       "MSFT        0.81        0.75        0.72        0.83        0.77        0.77   \n",
       "AMZN        1.45        2.26        1.80        1.80        2.02        2.97   \n",
       "GOOG        0.26        0.25        0.25        0.33        0.32        0.31   \n",
       "FB          0.00        0.29        0.30        0.12        0.13        0.29   \n",
       "\n",
       "      2013-03-31  2013-06-30  2013-09-30  2013-12-31  2014-03-31  2014-06-30  \\\n",
       "AAPL        0.44        0.62        0.68        0.74        0.71        0.84   \n",
       "MSFT        0.75        0.80        0.74        0.80        0.79        0.92   \n",
       "AMZN        2.37        2.39        2.51        3.12        2.52        2.58   \n",
       "GOOG        0.28        0.28        0.27        0.27        0.27        0.27   \n",
       "FB          0.28        0.27        0.14        0.16        0.14        0.13   \n",
       "\n",
       "      2014-09-30  2014-12-31  2015-03-31  2015-06-30  2015-09-30  2015-12-31  \\\n",
       "AAPL        1.08        1.12        1.03        1.17        1.43        1.29   \n",
       "MSFT        0.88        0.90        0.96        1.18        1.23        1.35   \n",
       "AMZN        2.91        4.07        3.61        3.46        3.52        3.84   \n",
       "GOOG        0.27        0.24        0.23        0.24        0.24        0.23   \n",
       "FB          0.14        0.11        0.12        0.12        0.12        0.12   \n",
       "\n",
       "      2016-03-31  2016-06-30  2016-09-30  2016-12-31  2017-03-31  2017-06-30  \\\n",
       "AAPL        1.34        1.42        1.51        1.50        1.50        1.61   \n",
       "MSFT        1.43        1.69        2.02        2.26        2.23        1.85   \n",
       "AMZN        3.14        2.94        2.99        3.33        2.74        2.78   \n",
       "GOOG        0.21        0.21        0.19        0.21        0.19        0.21   \n",
       "FB          0.10        0.11        0.10        0.10        0.11        0.11   \n",
       "\n",
       "      2017-09-30  2017-12-31  2018-03-31  2018-06-30  2018-09-30  2018-12-31  \\\n",
       "AAPL        1.80        1.90        1.90        2.04        2.41        2.17   \n",
       "MSFT        1.78        2.27        2.10        2.13        2.00        1.81   \n",
       "AMZN        3.68        3.74        3.02        2.83        2.67        2.74   \n",
       "GOOG        0.21        0.29        0.29        0.31        0.30        0.31   \n",
       "FB          0.11        0.14        0.15        0.14        0.15        0.16   \n",
       "\n",
       "      2019-03-31  2019-06-30  2019-09-30  2019-12-31  2020-03-31  2020-06-30  \\\n",
       "AAPL        2.23        2.34        2.74        2.80        3.09        3.39   \n",
       "MSFT        1.78        1.80        1.63        1.57        1.49        1.55   \n",
       "AMZN        2.68        2.61        2.52        2.63        2.39        2.50   \n",
       "GOOG        0.34        0.34        0.35        0.37        0.34        0.34   \n",
       "FB          0.27        0.32        0.32        0.32        0.31        0.27   \n",
       "\n",
       "      2020-09-30  \n",
       "AAPL        3.96  \n",
       "MSFT        1.44  \n",
       "AMZN        2.41  \n",
       "GOOG        0.41  \n",
       "FB          0.24  "
      ],
      "text/html": "<div>\n<style scoped>\n    .dataframe tbody tr th:only-of-type {\n        vertical-align: middle;\n    }\n\n    .dataframe tbody tr th {\n        vertical-align: top;\n    }\n\n    .dataframe thead th {\n        text-align: right;\n    }\n</style>\n<table border=\"1\" class=\"dataframe\">\n  <thead>\n    <tr style=\"text-align: right;\">\n      <th></th>\n      <th>2010-03-31</th>\n      <th>2010-06-30</th>\n      <th>2010-09-30</th>\n      <th>2010-12-31</th>\n      <th>2011-03-31</th>\n      <th>2011-06-30</th>\n      <th>2011-09-30</th>\n      <th>2011-12-31</th>\n      <th>2012-03-31</th>\n      <th>2012-06-30</th>\n      <th>2012-09-30</th>\n      <th>2012-12-31</th>\n      <th>2013-03-31</th>\n      <th>2013-06-30</th>\n      <th>2013-09-30</th>\n      <th>2013-12-31</th>\n      <th>2014-03-31</th>\n      <th>2014-06-30</th>\n      <th>2014-09-30</th>\n      <th>2014-12-31</th>\n      <th>2015-03-31</th>\n      <th>2015-06-30</th>\n      <th>2015-09-30</th>\n      <th>2015-12-31</th>\n      <th>2016-03-31</th>\n      <th>2016-06-30</th>\n      <th>2016-09-30</th>\n      <th>2016-12-31</th>\n      <th>2017-03-31</th>\n      <th>2017-06-30</th>\n      <th>2017-09-30</th>\n      <th>2017-12-31</th>\n      <th>2018-03-31</th>\n      <th>2018-06-30</th>\n      <th>2018-09-30</th>\n      <th>2018-12-31</th>\n      <th>2019-03-31</th>\n      <th>2019-06-30</th>\n      <th>2019-09-30</th>\n      <th>2019-12-31</th>\n      <th>2020-03-31</th>\n      <th>2020-06-30</th>\n      <th>2020-09-30</th>\n    </tr>\n  </thead>\n  <tbody>\n    <tr>\n      <th>AAPL</th>\n      <td>0.45</td>\n      <td>0.50</td>\n      <td>0.57</td>\n      <td>0.59</td>\n      <td>0.54</td>\n      <td>0.54</td>\n      <td>0.52</td>\n      <td>0.54</td>\n      <td>0.47</td>\n      <td>0.46</td>\n      <td>0.49</td>\n      <td>0.54</td>\n      <td>0.44</td>\n      <td>0.62</td>\n      <td>0.68</td>\n      <td>0.74</td>\n      <td>0.71</td>\n      <td>0.84</td>\n      <td>1.08</td>\n      <td>1.12</td>\n      <td>1.03</td>\n      <td>1.17</td>\n      <td>1.43</td>\n      <td>1.29</td>\n      <td>1.34</td>\n      <td>1.42</td>\n      <td>1.51</td>\n      <td>1.50</td>\n      <td>1.50</td>\n      <td>1.61</td>\n      <td>1.80</td>\n      <td>1.90</td>\n      <td>1.90</td>\n      <td>2.04</td>\n      <td>2.41</td>\n      <td>2.17</td>\n      <td>2.23</td>\n      <td>2.34</td>\n      <td>2.74</td>\n      <td>2.80</td>\n      <td>3.09</td>\n      <td>3.39</td>\n      <td>3.96</td>\n    </tr>\n    <tr>\n      <th>MSFT</th>\n      <td>0.86</td>\n      <td>0.87</td>\n      <td>0.95</td>\n      <td>0.90</td>\n      <td>0.87</td>\n      <td>0.90</td>\n      <td>0.81</td>\n      <td>0.75</td>\n      <td>0.72</td>\n      <td>0.83</td>\n      <td>0.77</td>\n      <td>0.77</td>\n      <td>0.75</td>\n      <td>0.80</td>\n      <td>0.74</td>\n      <td>0.80</td>\n      <td>0.79</td>\n      <td>0.92</td>\n      <td>0.88</td>\n      <td>0.90</td>\n      <td>0.96</td>\n      <td>1.18</td>\n      <td>1.23</td>\n      <td>1.35</td>\n      <td>1.43</td>\n      <td>1.69</td>\n      <td>2.02</td>\n      <td>2.26</td>\n      <td>2.23</td>\n      <td>1.85</td>\n      <td>1.78</td>\n      <td>2.27</td>\n      <td>2.10</td>\n      <td>2.13</td>\n      <td>2.00</td>\n      <td>1.81</td>\n      <td>1.78</td>\n      <td>1.80</td>\n      <td>1.63</td>\n      <td>1.57</td>\n      <td>1.49</td>\n      <td>1.55</td>\n      <td>1.44</td>\n    </tr>\n    <tr>\n      <th>AMZN</th>\n      <td>1.14</td>\n      <td>1.12</td>\n      <td>1.21</td>\n      <td>1.74</td>\n      <td>1.30</td>\n      <td>1.31</td>\n      <td>1.45</td>\n      <td>2.26</td>\n      <td>1.80</td>\n      <td>1.80</td>\n      <td>2.02</td>\n      <td>2.97</td>\n      <td>2.37</td>\n      <td>2.39</td>\n      <td>2.51</td>\n      <td>3.12</td>\n      <td>2.52</td>\n      <td>2.58</td>\n      <td>2.91</td>\n      <td>4.07</td>\n      <td>3.61</td>\n      <td>3.46</td>\n      <td>3.52</td>\n      <td>3.84</td>\n      <td>3.14</td>\n      <td>2.94</td>\n      <td>2.99</td>\n      <td>3.33</td>\n      <td>2.74</td>\n      <td>2.78</td>\n      <td>3.68</td>\n      <td>3.74</td>\n      <td>3.02</td>\n      <td>2.83</td>\n      <td>2.67</td>\n      <td>2.74</td>\n      <td>2.68</td>\n      <td>2.61</td>\n      <td>2.52</td>\n      <td>2.63</td>\n      <td>2.39</td>\n      <td>2.50</td>\n      <td>2.41</td>\n    </tr>\n    <tr>\n      <th>GOOG</th>\n      <td>0.12</td>\n      <td>0.18</td>\n      <td>0.23</td>\n      <td>0.25</td>\n      <td>0.23</td>\n      <td>0.25</td>\n      <td>0.26</td>\n      <td>0.25</td>\n      <td>0.25</td>\n      <td>0.33</td>\n      <td>0.32</td>\n      <td>0.31</td>\n      <td>0.28</td>\n      <td>0.28</td>\n      <td>0.27</td>\n      <td>0.27</td>\n      <td>0.27</td>\n      <td>0.27</td>\n      <td>0.27</td>\n      <td>0.24</td>\n      <td>0.23</td>\n      <td>0.24</td>\n      <td>0.24</td>\n      <td>0.23</td>\n      <td>0.21</td>\n      <td>0.21</td>\n      <td>0.19</td>\n      <td>0.21</td>\n      <td>0.19</td>\n      <td>0.21</td>\n      <td>0.21</td>\n      <td>0.29</td>\n      <td>0.29</td>\n      <td>0.31</td>\n      <td>0.30</td>\n      <td>0.31</td>\n      <td>0.34</td>\n      <td>0.34</td>\n      <td>0.35</td>\n      <td>0.37</td>\n      <td>0.34</td>\n      <td>0.34</td>\n      <td>0.41</td>\n    </tr>\n    <tr>\n      <th>FB</th>\n      <td>0.00</td>\n      <td>0.00</td>\n      <td>0.00</td>\n      <td>0.38</td>\n      <td>0.00</td>\n      <td>0.00</td>\n      <td>0.00</td>\n      <td>0.29</td>\n      <td>0.30</td>\n      <td>0.12</td>\n      <td>0.13</td>\n      <td>0.29</td>\n      <td>0.28</td>\n      <td>0.27</td>\n      <td>0.14</td>\n      <td>0.16</td>\n      <td>0.14</td>\n      <td>0.13</td>\n      <td>0.14</td>\n      <td>0.11</td>\n      <td>0.12</td>\n      <td>0.12</td>\n      <td>0.12</td>\n      <td>0.12</td>\n      <td>0.10</td>\n      <td>0.11</td>\n      <td>0.10</td>\n      <td>0.10</td>\n      <td>0.11</td>\n      <td>0.11</td>\n      <td>0.11</td>\n      <td>0.14</td>\n      <td>0.15</td>\n      <td>0.14</td>\n      <td>0.15</td>\n      <td>0.16</td>\n      <td>0.27</td>\n      <td>0.32</td>\n      <td>0.32</td>\n      <td>0.32</td>\n      <td>0.31</td>\n      <td>0.27</td>\n      <td>0.24</td>\n    </tr>\n  </tbody>\n</table>\n</div>"
     },
     "metadata": {},
     "execution_count": 31
    }
   ],
   "source": [
    "de2 = de.resample('Q',convention='end').agg('mean').transpose()\n",
    "de2.head()"
   ]
  },
  {
   "cell_type": "code",
   "execution_count": 32,
   "metadata": {},
   "outputs": [],
   "source": [
    "#new = de.resample('Q',convention='end').agg('mean').transpose()['2020-09-30']\n",
    "new = de2['2020-09-30']\n",
    "new1 = de2.mean(axis=1)\n",
    "new2 = de2.max(axis=1)\n",
    "\n",
    "\n",
    "result = (new < 5) & (new > 0)\n",
    "result1 = (new1 < 5) & (new1 > 0)\n",
    "result2 = (new2 < 5) & (new2 > 0)\n",
    "\n",
    "de2['result_year'] = result\n",
    "de2['result_mean'] = result1\n",
    "de2['result_max'] = result2\n",
    "\n",
    "# How could I do to crate a metric what evcaluate the las 5 Q and tell me if is less than 5 and grater than 0.\n",
    "\n",
    "# de2['result_last2'] = ['2 ok' if de2['2020-06-30']<5 & de2['2019-09-30']<5 else ' at least 1 is gigger than 5']\n",
    "cols=de2[['result_year','result_mean','result_max']]"
   ]
  },
  {
   "cell_type": "code",
   "execution_count": 87,
   "metadata": {},
   "outputs": [],
   "source": [
    "cols.name='D/E Ratio'\n",
    "cols.to_csv('Results/result-de.csv')"
   ]
  },
  {
   "source": [
    "### Current Ratio Evaluation\n",
    "The current ratio is a liquidity ratio that measures a company's ability to pay short-term obligations or those due within one year. \n",
    "It tells investors and analysts how a company can maximize the current assets on its balance sheet to satisfy its current debt and other payables.\n",
    "\n",
    "$$\n",
    "\\ Current Ratio = \\frac{\\text{Current Assets}} { \\text{Current Liabilities}}\n",
    "$$​\t \n",
    "\n",
    "Current Ratio > 1 = more short-long Assets than short-long Liabilities\n",
    "\n"
   ],
   "cell_type": "markdown",
   "metadata": {}
  },
  {
   "cell_type": "code",
   "execution_count": 80,
   "metadata": {},
   "outputs": [
    {
     "output_type": "execute_result",
     "data": {
      "text/plain": [
       "            AAPL  MSFT  AMZN  GOOG    FB  TSLA  BRK.A     V   JNJ  WMT   JPM  \\\n",
       "2020-09-30  1.36  2.53  1.11  3.41  5.51  1.64   0.27  1.91  1.48  NaN  0.88   \n",
       "2020-06-30  1.47  2.52  1.18  3.41  6.03  1.25   0.30  1.55  1.25  NaN  0.88   \n",
       "2020-03-31  1.50  2.90  1.08  3.66  4.60  1.24   0.33  1.25  1.31  NaN  0.89   \n",
       "2019-12-31  1.60  2.80  1.10  3.37  4.40  1.14   0.39  1.27  1.26  NaN  0.92   \n",
       "2019-09-30  1.54  2.85  1.10  3.78  4.66  1.08   0.44  1.56  1.26  NaN  0.93   \n",
       "\n",
       "              MA    PG   UNH   DIS  NVDA  HD  PYPL   BAC    VZ  ADBE  CMCSA  \\\n",
       "2020-09-30  1.86  0.87  0.82  1.32   NaN NaN  1.38  0.87  1.07   NaN   0.93   \n",
       "2020-06-30  1.95  0.85  0.84  1.34   NaN NaN  1.38  0.93  0.96   NaN   0.97   \n",
       "2020-03-31  1.87  0.83  0.75  0.94   NaN NaN  1.39  0.92  0.99   NaN   0.87   \n",
       "2019-12-31  1.42  0.63  0.69  0.80   NaN NaN  1.43  0.91  0.84   NaN   0.84   \n",
       "2019-09-30  1.39  0.73  0.70  0.90   NaN NaN  1.43  0.92  0.89   NaN   0.86   \n",
       "\n",
       "            NFLX    KO  NKE   MRK   PEP     T   PFE  INTC  CRM   ABT  ORCL  \\\n",
       "2020-09-30  1.24  1.13  NaN  1.30  0.93  0.84  1.40  1.66  NaN  1.70   NaN   \n",
       "2020-06-30  1.12  1.09  NaN  1.32  0.97  0.81  1.42  1.98  NaN  1.57   NaN   \n",
       "2020-03-31  0.82  0.87  NaN  1.12  1.10  0.76  1.03  1.74  NaN  1.43   NaN   \n",
       "2019-12-31  0.90  0.76  NaN  1.24  0.86  0.80  0.88  1.40  NaN  1.44   NaN   \n",
       "2019-09-30  0.73  0.92  NaN  1.26  0.95  0.74  0.91  1.20  NaN  1.54   NaN   \n",
       "\n",
       "            ABBV  CSCO   TMO  AVGO   XOM  ACN  QCOM  COST   CVX   LLY   MCD  \\\n",
       "2020-09-30  0.95   NaN  2.93   NaN  0.86  NaN  2.14   NaN  1.26  1.36  1.07   \n",
       "2020-06-30  0.86   NaN  2.62   NaN  0.93  NaN  1.97   NaN  1.14  1.22  0.91   \n",
       "2020-03-31  3.14   NaN  2.32   NaN  0.78  NaN  1.57   NaN  1.01  1.11  1.90   \n",
       "2019-12-31  3.18   NaN  1.92   NaN  0.78  NaN  1.76   NaN  1.07  1.16  0.98   \n",
       "2019-09-30  1.15   NaN  1.80   NaN  0.78  NaN  1.88   NaN  1.12  1.17  0.84   \n",
       "\n",
       "             DHR  MDT   NEE   TXN   HON   UPS  \n",
       "2020-09-30  2.08  NaN  0.57  4.24  1.64  1.29  \n",
       "2020-06-30  2.20  NaN  0.61  3.92  1.63  1.24  \n",
       "2020-03-31  1.32  NaN  0.71  3.49  1.30  1.22  \n",
       "2019-12-31  5.19  NaN  0.54  4.13  1.34  1.11  \n",
       "2019-09-30  3.43  NaN  0.58  4.34  1.32  1.11  "
      ],
      "text/html": "<div>\n<style scoped>\n    .dataframe tbody tr th:only-of-type {\n        vertical-align: middle;\n    }\n\n    .dataframe tbody tr th {\n        vertical-align: top;\n    }\n\n    .dataframe thead th {\n        text-align: right;\n    }\n</style>\n<table border=\"1\" class=\"dataframe\">\n  <thead>\n    <tr style=\"text-align: right;\">\n      <th></th>\n      <th>AAPL</th>\n      <th>MSFT</th>\n      <th>AMZN</th>\n      <th>GOOG</th>\n      <th>FB</th>\n      <th>TSLA</th>\n      <th>BRK.A</th>\n      <th>V</th>\n      <th>JNJ</th>\n      <th>WMT</th>\n      <th>JPM</th>\n      <th>MA</th>\n      <th>PG</th>\n      <th>UNH</th>\n      <th>DIS</th>\n      <th>NVDA</th>\n      <th>HD</th>\n      <th>PYPL</th>\n      <th>BAC</th>\n      <th>VZ</th>\n      <th>ADBE</th>\n      <th>CMCSA</th>\n      <th>NFLX</th>\n      <th>KO</th>\n      <th>NKE</th>\n      <th>MRK</th>\n      <th>PEP</th>\n      <th>T</th>\n      <th>PFE</th>\n      <th>INTC</th>\n      <th>CRM</th>\n      <th>ABT</th>\n      <th>ORCL</th>\n      <th>ABBV</th>\n      <th>CSCO</th>\n      <th>TMO</th>\n      <th>AVGO</th>\n      <th>XOM</th>\n      <th>ACN</th>\n      <th>QCOM</th>\n      <th>COST</th>\n      <th>CVX</th>\n      <th>LLY</th>\n      <th>MCD</th>\n      <th>DHR</th>\n      <th>MDT</th>\n      <th>NEE</th>\n      <th>TXN</th>\n      <th>HON</th>\n      <th>UPS</th>\n    </tr>\n  </thead>\n  <tbody>\n    <tr>\n      <th>2020-09-30</th>\n      <td>1.36</td>\n      <td>2.53</td>\n      <td>1.11</td>\n      <td>3.41</td>\n      <td>5.51</td>\n      <td>1.64</td>\n      <td>0.27</td>\n      <td>1.91</td>\n      <td>1.48</td>\n      <td>NaN</td>\n      <td>0.88</td>\n      <td>1.86</td>\n      <td>0.87</td>\n      <td>0.82</td>\n      <td>1.32</td>\n      <td>NaN</td>\n      <td>NaN</td>\n      <td>1.38</td>\n      <td>0.87</td>\n      <td>1.07</td>\n      <td>NaN</td>\n      <td>0.93</td>\n      <td>1.24</td>\n      <td>1.13</td>\n      <td>NaN</td>\n      <td>1.30</td>\n      <td>0.93</td>\n      <td>0.84</td>\n      <td>1.40</td>\n      <td>1.66</td>\n      <td>NaN</td>\n      <td>1.70</td>\n      <td>NaN</td>\n      <td>0.95</td>\n      <td>NaN</td>\n      <td>2.93</td>\n      <td>NaN</td>\n      <td>0.86</td>\n      <td>NaN</td>\n      <td>2.14</td>\n      <td>NaN</td>\n      <td>1.26</td>\n      <td>1.36</td>\n      <td>1.07</td>\n      <td>2.08</td>\n      <td>NaN</td>\n      <td>0.57</td>\n      <td>4.24</td>\n      <td>1.64</td>\n      <td>1.29</td>\n    </tr>\n    <tr>\n      <th>2020-06-30</th>\n      <td>1.47</td>\n      <td>2.52</td>\n      <td>1.18</td>\n      <td>3.41</td>\n      <td>6.03</td>\n      <td>1.25</td>\n      <td>0.30</td>\n      <td>1.55</td>\n      <td>1.25</td>\n      <td>NaN</td>\n      <td>0.88</td>\n      <td>1.95</td>\n      <td>0.85</td>\n      <td>0.84</td>\n      <td>1.34</td>\n      <td>NaN</td>\n      <td>NaN</td>\n      <td>1.38</td>\n      <td>0.93</td>\n      <td>0.96</td>\n      <td>NaN</td>\n      <td>0.97</td>\n      <td>1.12</td>\n      <td>1.09</td>\n      <td>NaN</td>\n      <td>1.32</td>\n      <td>0.97</td>\n      <td>0.81</td>\n      <td>1.42</td>\n      <td>1.98</td>\n      <td>NaN</td>\n      <td>1.57</td>\n      <td>NaN</td>\n      <td>0.86</td>\n      <td>NaN</td>\n      <td>2.62</td>\n      <td>NaN</td>\n      <td>0.93</td>\n      <td>NaN</td>\n      <td>1.97</td>\n      <td>NaN</td>\n      <td>1.14</td>\n      <td>1.22</td>\n      <td>0.91</td>\n      <td>2.20</td>\n      <td>NaN</td>\n      <td>0.61</td>\n      <td>3.92</td>\n      <td>1.63</td>\n      <td>1.24</td>\n    </tr>\n    <tr>\n      <th>2020-03-31</th>\n      <td>1.50</td>\n      <td>2.90</td>\n      <td>1.08</td>\n      <td>3.66</td>\n      <td>4.60</td>\n      <td>1.24</td>\n      <td>0.33</td>\n      <td>1.25</td>\n      <td>1.31</td>\n      <td>NaN</td>\n      <td>0.89</td>\n      <td>1.87</td>\n      <td>0.83</td>\n      <td>0.75</td>\n      <td>0.94</td>\n      <td>NaN</td>\n      <td>NaN</td>\n      <td>1.39</td>\n      <td>0.92</td>\n      <td>0.99</td>\n      <td>NaN</td>\n      <td>0.87</td>\n      <td>0.82</td>\n      <td>0.87</td>\n      <td>NaN</td>\n      <td>1.12</td>\n      <td>1.10</td>\n      <td>0.76</td>\n      <td>1.03</td>\n      <td>1.74</td>\n      <td>NaN</td>\n      <td>1.43</td>\n      <td>NaN</td>\n      <td>3.14</td>\n      <td>NaN</td>\n      <td>2.32</td>\n      <td>NaN</td>\n      <td>0.78</td>\n      <td>NaN</td>\n      <td>1.57</td>\n      <td>NaN</td>\n      <td>1.01</td>\n      <td>1.11</td>\n      <td>1.90</td>\n      <td>1.32</td>\n      <td>NaN</td>\n      <td>0.71</td>\n      <td>3.49</td>\n      <td>1.30</td>\n      <td>1.22</td>\n    </tr>\n    <tr>\n      <th>2019-12-31</th>\n      <td>1.60</td>\n      <td>2.80</td>\n      <td>1.10</td>\n      <td>3.37</td>\n      <td>4.40</td>\n      <td>1.14</td>\n      <td>0.39</td>\n      <td>1.27</td>\n      <td>1.26</td>\n      <td>NaN</td>\n      <td>0.92</td>\n      <td>1.42</td>\n      <td>0.63</td>\n      <td>0.69</td>\n      <td>0.80</td>\n      <td>NaN</td>\n      <td>NaN</td>\n      <td>1.43</td>\n      <td>0.91</td>\n      <td>0.84</td>\n      <td>NaN</td>\n      <td>0.84</td>\n      <td>0.90</td>\n      <td>0.76</td>\n      <td>NaN</td>\n      <td>1.24</td>\n      <td>0.86</td>\n      <td>0.80</td>\n      <td>0.88</td>\n      <td>1.40</td>\n      <td>NaN</td>\n      <td>1.44</td>\n      <td>NaN</td>\n      <td>3.18</td>\n      <td>NaN</td>\n      <td>1.92</td>\n      <td>NaN</td>\n      <td>0.78</td>\n      <td>NaN</td>\n      <td>1.76</td>\n      <td>NaN</td>\n      <td>1.07</td>\n      <td>1.16</td>\n      <td>0.98</td>\n      <td>5.19</td>\n      <td>NaN</td>\n      <td>0.54</td>\n      <td>4.13</td>\n      <td>1.34</td>\n      <td>1.11</td>\n    </tr>\n    <tr>\n      <th>2019-09-30</th>\n      <td>1.54</td>\n      <td>2.85</td>\n      <td>1.10</td>\n      <td>3.78</td>\n      <td>4.66</td>\n      <td>1.08</td>\n      <td>0.44</td>\n      <td>1.56</td>\n      <td>1.26</td>\n      <td>NaN</td>\n      <td>0.93</td>\n      <td>1.39</td>\n      <td>0.73</td>\n      <td>0.70</td>\n      <td>0.90</td>\n      <td>NaN</td>\n      <td>NaN</td>\n      <td>1.43</td>\n      <td>0.92</td>\n      <td>0.89</td>\n      <td>NaN</td>\n      <td>0.86</td>\n      <td>0.73</td>\n      <td>0.92</td>\n      <td>NaN</td>\n      <td>1.26</td>\n      <td>0.95</td>\n      <td>0.74</td>\n      <td>0.91</td>\n      <td>1.20</td>\n      <td>NaN</td>\n      <td>1.54</td>\n      <td>NaN</td>\n      <td>1.15</td>\n      <td>NaN</td>\n      <td>1.80</td>\n      <td>NaN</td>\n      <td>0.78</td>\n      <td>NaN</td>\n      <td>1.88</td>\n      <td>NaN</td>\n      <td>1.12</td>\n      <td>1.17</td>\n      <td>0.84</td>\n      <td>3.43</td>\n      <td>NaN</td>\n      <td>0.58</td>\n      <td>4.34</td>\n      <td>1.32</td>\n      <td>1.11</td>\n    </tr>\n  </tbody>\n</table>\n</div>"
     },
     "metadata": {},
     "execution_count": 80
    }
   ],
   "source": [
    "current = pd.read_csv('PyFinance/04 - Intrinsic Value/50-current-ratio.csv',index_col=0)\n",
    "current.head()"
   ]
  },
  {
   "cell_type": "code",
   "execution_count": 81,
   "metadata": {},
   "outputs": [
    {
     "output_type": "execute_result",
     "data": {
      "text/plain": [
       "DatetimeIndex(['2020-09-30', '2020-06-30', '2020-03-31', '2019-12-31',\n",
       "               '2019-09-30', '2019-06-30', '2019-03-31', '2018-12-31',\n",
       "               '2018-09-30', '2018-06-30',\n",
       "               ...\n",
       "               '2007-05-31', '2007-02-28', '2006-11-30', '2006-08-31',\n",
       "               '2006-05-31', '2006-02-28', '2005-11-30', '2005-08-31',\n",
       "               '2005-05-31', '2005-02-28'],\n",
       "              dtype='datetime64[ns]', length=191, freq=None)"
      ]
     },
     "metadata": {},
     "execution_count": 81
    }
   ],
   "source": [
    "current.index = pd.to_datetime(current.index)\n",
    "current.index"
   ]
  },
  {
   "cell_type": "code",
   "execution_count": 82,
   "metadata": {},
   "outputs": [
    {
     "output_type": "execute_result",
     "data": {
      "text/plain": [
       "            AAPL  MSFT  AMZN  GOOG    FB  TSLA  BRK.A     V   JNJ   WMT   JPM  \\\n",
       "2020-11-30   NaN   NaN   NaN   NaN   NaN   NaN    NaN   NaN   NaN   NaN   NaN   \n",
       "2020-10-31   NaN   NaN   NaN   NaN   NaN   NaN    NaN   NaN   NaN  0.84   NaN   \n",
       "2020-09-30  1.36  2.53  1.11  3.41  5.51  1.64   0.27  1.91  1.48   NaN  0.88   \n",
       "2020-08-31   NaN   NaN   NaN   NaN   NaN   NaN    NaN   NaN   NaN   NaN   NaN   \n",
       "2020-07-31   NaN   NaN   NaN   NaN   NaN   NaN    NaN   NaN   NaN  0.79   NaN   \n",
       "\n",
       "              MA    PG   UNH   DIS  NVDA    HD  PYPL   BAC    VZ  ADBE  CMCSA  \\\n",
       "2020-11-30   NaN   NaN   NaN   NaN   NaN   NaN   NaN   NaN   NaN  1.48    NaN   \n",
       "2020-10-31   NaN   NaN   NaN   NaN  3.92  1.36   NaN   NaN   NaN   NaN    NaN   \n",
       "2020-09-30  1.86  0.87  0.82  1.32   NaN   NaN  1.38  0.87  1.07   NaN   0.93   \n",
       "2020-08-31   NaN   NaN   NaN   NaN   NaN   NaN   NaN   NaN   NaN  1.44    NaN   \n",
       "2020-07-31   NaN   NaN   NaN   NaN  6.09  1.30   NaN   NaN   NaN   NaN    NaN   \n",
       "\n",
       "            NFLX    KO   NKE  MRK   PEP     T  PFE  INTC   CRM  ABT  ORCL  \\\n",
       "2020-11-30   NaN   NaN  2.66  NaN   NaN   NaN  NaN   NaN   NaN  NaN  2.17   \n",
       "2020-10-31   NaN   NaN   NaN  NaN   NaN   NaN  NaN   NaN  1.22  NaN   NaN   \n",
       "2020-09-30  1.24  1.13   NaN  1.3  0.93  0.84  1.4  1.66   NaN  1.7   NaN   \n",
       "2020-08-31   NaN   NaN  2.55  NaN   NaN   NaN  NaN   NaN   NaN  NaN  2.66   \n",
       "2020-07-31   NaN   NaN   NaN  NaN   NaN   NaN  NaN   NaN  1.15  NaN   NaN   \n",
       "\n",
       "            ABBV  CSCO   TMO  AVGO   XOM   ACN  QCOM  COST   CVX   LLY   MCD  \\\n",
       "2020-11-30   NaN   NaN   NaN   NaN   NaN  1.45   NaN  0.98   NaN   NaN   NaN   \n",
       "2020-10-31   NaN  1.59   NaN  1.87   NaN   NaN   NaN   NaN   NaN   NaN   NaN   \n",
       "2020-09-30  0.95   NaN  2.93   NaN  0.86   NaN  2.14   NaN  1.26  1.36  1.07   \n",
       "2020-08-31   NaN   NaN   NaN   NaN   NaN  1.40   NaN  1.13   NaN   NaN   NaN   \n",
       "2020-07-31   NaN  1.72   NaN  2.04   NaN   NaN   NaN   NaN   NaN   NaN   NaN   \n",
       "\n",
       "             DHR   MDT   NEE   TXN   HON   UPS  \n",
       "2020-11-30   NaN   NaN   NaN   NaN   NaN   NaN  \n",
       "2020-10-31   NaN  2.16   NaN   NaN   NaN   NaN  \n",
       "2020-09-30  2.08   NaN  0.57  4.24  1.64  1.29  \n",
       "2020-08-31   NaN   NaN   NaN   NaN   NaN   NaN  \n",
       "2020-07-31   NaN  1.87   NaN   NaN   NaN   NaN  "
      ],
      "text/html": "<div>\n<style scoped>\n    .dataframe tbody tr th:only-of-type {\n        vertical-align: middle;\n    }\n\n    .dataframe tbody tr th {\n        vertical-align: top;\n    }\n\n    .dataframe thead th {\n        text-align: right;\n    }\n</style>\n<table border=\"1\" class=\"dataframe\">\n  <thead>\n    <tr style=\"text-align: right;\">\n      <th></th>\n      <th>AAPL</th>\n      <th>MSFT</th>\n      <th>AMZN</th>\n      <th>GOOG</th>\n      <th>FB</th>\n      <th>TSLA</th>\n      <th>BRK.A</th>\n      <th>V</th>\n      <th>JNJ</th>\n      <th>WMT</th>\n      <th>JPM</th>\n      <th>MA</th>\n      <th>PG</th>\n      <th>UNH</th>\n      <th>DIS</th>\n      <th>NVDA</th>\n      <th>HD</th>\n      <th>PYPL</th>\n      <th>BAC</th>\n      <th>VZ</th>\n      <th>ADBE</th>\n      <th>CMCSA</th>\n      <th>NFLX</th>\n      <th>KO</th>\n      <th>NKE</th>\n      <th>MRK</th>\n      <th>PEP</th>\n      <th>T</th>\n      <th>PFE</th>\n      <th>INTC</th>\n      <th>CRM</th>\n      <th>ABT</th>\n      <th>ORCL</th>\n      <th>ABBV</th>\n      <th>CSCO</th>\n      <th>TMO</th>\n      <th>AVGO</th>\n      <th>XOM</th>\n      <th>ACN</th>\n      <th>QCOM</th>\n      <th>COST</th>\n      <th>CVX</th>\n      <th>LLY</th>\n      <th>MCD</th>\n      <th>DHR</th>\n      <th>MDT</th>\n      <th>NEE</th>\n      <th>TXN</th>\n      <th>HON</th>\n      <th>UPS</th>\n    </tr>\n  </thead>\n  <tbody>\n    <tr>\n      <th>2020-11-30</th>\n      <td>NaN</td>\n      <td>NaN</td>\n      <td>NaN</td>\n      <td>NaN</td>\n      <td>NaN</td>\n      <td>NaN</td>\n      <td>NaN</td>\n      <td>NaN</td>\n      <td>NaN</td>\n      <td>NaN</td>\n      <td>NaN</td>\n      <td>NaN</td>\n      <td>NaN</td>\n      <td>NaN</td>\n      <td>NaN</td>\n      <td>NaN</td>\n      <td>NaN</td>\n      <td>NaN</td>\n      <td>NaN</td>\n      <td>NaN</td>\n      <td>1.48</td>\n      <td>NaN</td>\n      <td>NaN</td>\n      <td>NaN</td>\n      <td>2.66</td>\n      <td>NaN</td>\n      <td>NaN</td>\n      <td>NaN</td>\n      <td>NaN</td>\n      <td>NaN</td>\n      <td>NaN</td>\n      <td>NaN</td>\n      <td>2.17</td>\n      <td>NaN</td>\n      <td>NaN</td>\n      <td>NaN</td>\n      <td>NaN</td>\n      <td>NaN</td>\n      <td>1.45</td>\n      <td>NaN</td>\n      <td>0.98</td>\n      <td>NaN</td>\n      <td>NaN</td>\n      <td>NaN</td>\n      <td>NaN</td>\n      <td>NaN</td>\n      <td>NaN</td>\n      <td>NaN</td>\n      <td>NaN</td>\n      <td>NaN</td>\n    </tr>\n    <tr>\n      <th>2020-10-31</th>\n      <td>NaN</td>\n      <td>NaN</td>\n      <td>NaN</td>\n      <td>NaN</td>\n      <td>NaN</td>\n      <td>NaN</td>\n      <td>NaN</td>\n      <td>NaN</td>\n      <td>NaN</td>\n      <td>0.84</td>\n      <td>NaN</td>\n      <td>NaN</td>\n      <td>NaN</td>\n      <td>NaN</td>\n      <td>NaN</td>\n      <td>3.92</td>\n      <td>1.36</td>\n      <td>NaN</td>\n      <td>NaN</td>\n      <td>NaN</td>\n      <td>NaN</td>\n      <td>NaN</td>\n      <td>NaN</td>\n      <td>NaN</td>\n      <td>NaN</td>\n      <td>NaN</td>\n      <td>NaN</td>\n      <td>NaN</td>\n      <td>NaN</td>\n      <td>NaN</td>\n      <td>1.22</td>\n      <td>NaN</td>\n      <td>NaN</td>\n      <td>NaN</td>\n      <td>1.59</td>\n      <td>NaN</td>\n      <td>1.87</td>\n      <td>NaN</td>\n      <td>NaN</td>\n      <td>NaN</td>\n      <td>NaN</td>\n      <td>NaN</td>\n      <td>NaN</td>\n      <td>NaN</td>\n      <td>NaN</td>\n      <td>2.16</td>\n      <td>NaN</td>\n      <td>NaN</td>\n      <td>NaN</td>\n      <td>NaN</td>\n    </tr>\n    <tr>\n      <th>2020-09-30</th>\n      <td>1.36</td>\n      <td>2.53</td>\n      <td>1.11</td>\n      <td>3.41</td>\n      <td>5.51</td>\n      <td>1.64</td>\n      <td>0.27</td>\n      <td>1.91</td>\n      <td>1.48</td>\n      <td>NaN</td>\n      <td>0.88</td>\n      <td>1.86</td>\n      <td>0.87</td>\n      <td>0.82</td>\n      <td>1.32</td>\n      <td>NaN</td>\n      <td>NaN</td>\n      <td>1.38</td>\n      <td>0.87</td>\n      <td>1.07</td>\n      <td>NaN</td>\n      <td>0.93</td>\n      <td>1.24</td>\n      <td>1.13</td>\n      <td>NaN</td>\n      <td>1.3</td>\n      <td>0.93</td>\n      <td>0.84</td>\n      <td>1.4</td>\n      <td>1.66</td>\n      <td>NaN</td>\n      <td>1.7</td>\n      <td>NaN</td>\n      <td>0.95</td>\n      <td>NaN</td>\n      <td>2.93</td>\n      <td>NaN</td>\n      <td>0.86</td>\n      <td>NaN</td>\n      <td>2.14</td>\n      <td>NaN</td>\n      <td>1.26</td>\n      <td>1.36</td>\n      <td>1.07</td>\n      <td>2.08</td>\n      <td>NaN</td>\n      <td>0.57</td>\n      <td>4.24</td>\n      <td>1.64</td>\n      <td>1.29</td>\n    </tr>\n    <tr>\n      <th>2020-08-31</th>\n      <td>NaN</td>\n      <td>NaN</td>\n      <td>NaN</td>\n      <td>NaN</td>\n      <td>NaN</td>\n      <td>NaN</td>\n      <td>NaN</td>\n      <td>NaN</td>\n      <td>NaN</td>\n      <td>NaN</td>\n      <td>NaN</td>\n      <td>NaN</td>\n      <td>NaN</td>\n      <td>NaN</td>\n      <td>NaN</td>\n      <td>NaN</td>\n      <td>NaN</td>\n      <td>NaN</td>\n      <td>NaN</td>\n      <td>NaN</td>\n      <td>1.44</td>\n      <td>NaN</td>\n      <td>NaN</td>\n      <td>NaN</td>\n      <td>2.55</td>\n      <td>NaN</td>\n      <td>NaN</td>\n      <td>NaN</td>\n      <td>NaN</td>\n      <td>NaN</td>\n      <td>NaN</td>\n      <td>NaN</td>\n      <td>2.66</td>\n      <td>NaN</td>\n      <td>NaN</td>\n      <td>NaN</td>\n      <td>NaN</td>\n      <td>NaN</td>\n      <td>1.40</td>\n      <td>NaN</td>\n      <td>1.13</td>\n      <td>NaN</td>\n      <td>NaN</td>\n      <td>NaN</td>\n      <td>NaN</td>\n      <td>NaN</td>\n      <td>NaN</td>\n      <td>NaN</td>\n      <td>NaN</td>\n      <td>NaN</td>\n    </tr>\n    <tr>\n      <th>2020-07-31</th>\n      <td>NaN</td>\n      <td>NaN</td>\n      <td>NaN</td>\n      <td>NaN</td>\n      <td>NaN</td>\n      <td>NaN</td>\n      <td>NaN</td>\n      <td>NaN</td>\n      <td>NaN</td>\n      <td>0.79</td>\n      <td>NaN</td>\n      <td>NaN</td>\n      <td>NaN</td>\n      <td>NaN</td>\n      <td>NaN</td>\n      <td>6.09</td>\n      <td>1.30</td>\n      <td>NaN</td>\n      <td>NaN</td>\n      <td>NaN</td>\n      <td>NaN</td>\n      <td>NaN</td>\n      <td>NaN</td>\n      <td>NaN</td>\n      <td>NaN</td>\n      <td>NaN</td>\n      <td>NaN</td>\n      <td>NaN</td>\n      <td>NaN</td>\n      <td>NaN</td>\n      <td>1.15</td>\n      <td>NaN</td>\n      <td>NaN</td>\n      <td>NaN</td>\n      <td>1.72</td>\n      <td>NaN</td>\n      <td>2.04</td>\n      <td>NaN</td>\n      <td>NaN</td>\n      <td>NaN</td>\n      <td>NaN</td>\n      <td>NaN</td>\n      <td>NaN</td>\n      <td>NaN</td>\n      <td>NaN</td>\n      <td>1.87</td>\n      <td>NaN</td>\n      <td>NaN</td>\n      <td>NaN</td>\n      <td>NaN</td>\n    </tr>\n  </tbody>\n</table>\n</div>"
     },
     "metadata": {},
     "execution_count": 82
    }
   ],
   "source": [
    "current.sort_index(ascending=False,inplace=True)\n",
    "current.head()"
   ]
  },
  {
   "cell_type": "code",
   "execution_count": 83,
   "metadata": {},
   "outputs": [],
   "source": [
    "current = current.loc['2020-09-30':'2010-01-01']"
   ]
  },
  {
   "cell_type": "code",
   "execution_count": 84,
   "metadata": {},
   "outputs": [
    {
     "output_type": "execute_result",
     "data": {
      "text/plain": [
       "      2010-03-31  2010-06-30  2010-09-30  2010-12-31  2011-03-31  2011-06-30  \\\n",
       "AAPL        2.64        2.31        2.01        1.85        1.93        1.75   \n",
       "MSFT        2.06        2.13        2.30        2.46        2.76        2.60   \n",
       "AMZN        1.53        1.55        1.50        1.33        1.46        1.40   \n",
       "GOOG       10.65        6.12        4.63        4.16        4.64        5.96   \n",
       "FB          0.00        0.00        0.00        5.77        0.00        0.00   \n",
       "\n",
       "      2011-09-30  2011-12-31  2012-03-31  2012-06-30  2012-09-30  2012-12-31  \\\n",
       "AAPL        1.61        1.58        1.58        1.57        1.50        1.54   \n",
       "MSFT        2.95        2.86        2.94        2.60        2.68        2.81   \n",
       "AMZN        1.33        1.17        1.16        1.08        1.04        1.12   \n",
       "GOOG        5.63        5.92        5.84        3.84        3.94        4.22   \n",
       "FB          0.00        5.12        4.52       11.57       11.38       10.71   \n",
       "\n",
       "      2013-03-31  2013-06-30  2013-09-30  2013-12-31  2014-03-31  2014-06-30  \\\n",
       "AAPL        1.78        1.88        1.68        1.49        1.63        1.47   \n",
       "MSFT        2.93        2.71        2.87        3.17        3.22        2.50   \n",
       "AMZN        1.14        1.11        1.07        1.07        1.05        1.00   \n",
       "GOOG        4.74        4.36        4.76        4.58        4.63        4.56   \n",
       "FB         10.39       10.58       10.72       11.88       13.56       12.82   \n",
       "\n",
       "      2014-09-30  2014-12-31  2015-03-31  2015-06-30  2015-09-30  2015-12-31  \\\n",
       "AAPL        1.08        1.13        1.16        1.09        1.11        1.00   \n",
       "MSFT        2.52        2.45        2.91        2.47        2.46        3.00   \n",
       "AMZN        0.89        1.12        1.12        1.10        1.08        1.05   \n",
       "GOOG        4.47        4.69        5.60        4.85        4.77        4.67   \n",
       "FB         13.06        9.40        8.59        9.01       10.68       11.25   \n",
       "\n",
       "      2016-03-31  2016-06-30  2016-09-30  2016-12-31  2017-03-31  2017-06-30  \\\n",
       "AAPL        1.28        1.31        1.35        1.23        1.39        1.39   \n",
       "MSFT        2.90        2.35        2.69        2.05        2.81        2.92   \n",
       "AMZN        1.08        1.09        1.06        1.05        1.06        1.01   \n",
       "GOOG        5.14        5.43        6.88        6.29        7.13        6.02   \n",
       "FB         13.16       12.22       11.69       11.97       12.61       12.31   \n",
       "\n",
       "      2017-09-30  2017-12-31  2018-03-31  2018-06-30  2018-09-30  2018-12-31  \\\n",
       "AAPL        1.28        1.24        1.46        1.31        1.13        1.30   \n",
       "MSFT        3.12        2.89        3.40        2.90        2.92        3.12   \n",
       "AMZN        1.03        1.04        1.06        1.07        1.08        1.10   \n",
       "GOOG        5.77        5.14        4.87        4.15        4.14        3.92   \n",
       "FB         13.38       12.92        9.91       10.67        9.00        7.19   \n",
       "\n",
       "      2019-03-31  2019-06-30  2019-09-30  2019-12-31  2020-03-31  2020-06-30  \\\n",
       "AAPL        1.32        1.51        1.54        1.60        1.50        1.47   \n",
       "MSFT        2.97        2.53        2.85        2.80        2.90        2.52   \n",
       "AMZN        1.09        1.10        1.10        1.10        1.08        1.18   \n",
       "GOOG        3.96        3.99        3.78        3.37        3.66        3.41   \n",
       "FB          5.38        4.47        4.66        4.40        4.60        6.03   \n",
       "\n",
       "      2020-09-30  \n",
       "AAPL        1.36  \n",
       "MSFT        2.53  \n",
       "AMZN        1.11  \n",
       "GOOG        3.41  \n",
       "FB          5.51  "
      ],
      "text/html": "<div>\n<style scoped>\n    .dataframe tbody tr th:only-of-type {\n        vertical-align: middle;\n    }\n\n    .dataframe tbody tr th {\n        vertical-align: top;\n    }\n\n    .dataframe thead th {\n        text-align: right;\n    }\n</style>\n<table border=\"1\" class=\"dataframe\">\n  <thead>\n    <tr style=\"text-align: right;\">\n      <th></th>\n      <th>2010-03-31</th>\n      <th>2010-06-30</th>\n      <th>2010-09-30</th>\n      <th>2010-12-31</th>\n      <th>2011-03-31</th>\n      <th>2011-06-30</th>\n      <th>2011-09-30</th>\n      <th>2011-12-31</th>\n      <th>2012-03-31</th>\n      <th>2012-06-30</th>\n      <th>2012-09-30</th>\n      <th>2012-12-31</th>\n      <th>2013-03-31</th>\n      <th>2013-06-30</th>\n      <th>2013-09-30</th>\n      <th>2013-12-31</th>\n      <th>2014-03-31</th>\n      <th>2014-06-30</th>\n      <th>2014-09-30</th>\n      <th>2014-12-31</th>\n      <th>2015-03-31</th>\n      <th>2015-06-30</th>\n      <th>2015-09-30</th>\n      <th>2015-12-31</th>\n      <th>2016-03-31</th>\n      <th>2016-06-30</th>\n      <th>2016-09-30</th>\n      <th>2016-12-31</th>\n      <th>2017-03-31</th>\n      <th>2017-06-30</th>\n      <th>2017-09-30</th>\n      <th>2017-12-31</th>\n      <th>2018-03-31</th>\n      <th>2018-06-30</th>\n      <th>2018-09-30</th>\n      <th>2018-12-31</th>\n      <th>2019-03-31</th>\n      <th>2019-06-30</th>\n      <th>2019-09-30</th>\n      <th>2019-12-31</th>\n      <th>2020-03-31</th>\n      <th>2020-06-30</th>\n      <th>2020-09-30</th>\n    </tr>\n  </thead>\n  <tbody>\n    <tr>\n      <th>AAPL</th>\n      <td>2.64</td>\n      <td>2.31</td>\n      <td>2.01</td>\n      <td>1.85</td>\n      <td>1.93</td>\n      <td>1.75</td>\n      <td>1.61</td>\n      <td>1.58</td>\n      <td>1.58</td>\n      <td>1.57</td>\n      <td>1.50</td>\n      <td>1.54</td>\n      <td>1.78</td>\n      <td>1.88</td>\n      <td>1.68</td>\n      <td>1.49</td>\n      <td>1.63</td>\n      <td>1.47</td>\n      <td>1.08</td>\n      <td>1.13</td>\n      <td>1.16</td>\n      <td>1.09</td>\n      <td>1.11</td>\n      <td>1.00</td>\n      <td>1.28</td>\n      <td>1.31</td>\n      <td>1.35</td>\n      <td>1.23</td>\n      <td>1.39</td>\n      <td>1.39</td>\n      <td>1.28</td>\n      <td>1.24</td>\n      <td>1.46</td>\n      <td>1.31</td>\n      <td>1.13</td>\n      <td>1.30</td>\n      <td>1.32</td>\n      <td>1.51</td>\n      <td>1.54</td>\n      <td>1.60</td>\n      <td>1.50</td>\n      <td>1.47</td>\n      <td>1.36</td>\n    </tr>\n    <tr>\n      <th>MSFT</th>\n      <td>2.06</td>\n      <td>2.13</td>\n      <td>2.30</td>\n      <td>2.46</td>\n      <td>2.76</td>\n      <td>2.60</td>\n      <td>2.95</td>\n      <td>2.86</td>\n      <td>2.94</td>\n      <td>2.60</td>\n      <td>2.68</td>\n      <td>2.81</td>\n      <td>2.93</td>\n      <td>2.71</td>\n      <td>2.87</td>\n      <td>3.17</td>\n      <td>3.22</td>\n      <td>2.50</td>\n      <td>2.52</td>\n      <td>2.45</td>\n      <td>2.91</td>\n      <td>2.47</td>\n      <td>2.46</td>\n      <td>3.00</td>\n      <td>2.90</td>\n      <td>2.35</td>\n      <td>2.69</td>\n      <td>2.05</td>\n      <td>2.81</td>\n      <td>2.92</td>\n      <td>3.12</td>\n      <td>2.89</td>\n      <td>3.40</td>\n      <td>2.90</td>\n      <td>2.92</td>\n      <td>3.12</td>\n      <td>2.97</td>\n      <td>2.53</td>\n      <td>2.85</td>\n      <td>2.80</td>\n      <td>2.90</td>\n      <td>2.52</td>\n      <td>2.53</td>\n    </tr>\n    <tr>\n      <th>AMZN</th>\n      <td>1.53</td>\n      <td>1.55</td>\n      <td>1.50</td>\n      <td>1.33</td>\n      <td>1.46</td>\n      <td>1.40</td>\n      <td>1.33</td>\n      <td>1.17</td>\n      <td>1.16</td>\n      <td>1.08</td>\n      <td>1.04</td>\n      <td>1.12</td>\n      <td>1.14</td>\n      <td>1.11</td>\n      <td>1.07</td>\n      <td>1.07</td>\n      <td>1.05</td>\n      <td>1.00</td>\n      <td>0.89</td>\n      <td>1.12</td>\n      <td>1.12</td>\n      <td>1.10</td>\n      <td>1.08</td>\n      <td>1.05</td>\n      <td>1.08</td>\n      <td>1.09</td>\n      <td>1.06</td>\n      <td>1.05</td>\n      <td>1.06</td>\n      <td>1.01</td>\n      <td>1.03</td>\n      <td>1.04</td>\n      <td>1.06</td>\n      <td>1.07</td>\n      <td>1.08</td>\n      <td>1.10</td>\n      <td>1.09</td>\n      <td>1.10</td>\n      <td>1.10</td>\n      <td>1.10</td>\n      <td>1.08</td>\n      <td>1.18</td>\n      <td>1.11</td>\n    </tr>\n    <tr>\n      <th>GOOG</th>\n      <td>10.65</td>\n      <td>6.12</td>\n      <td>4.63</td>\n      <td>4.16</td>\n      <td>4.64</td>\n      <td>5.96</td>\n      <td>5.63</td>\n      <td>5.92</td>\n      <td>5.84</td>\n      <td>3.84</td>\n      <td>3.94</td>\n      <td>4.22</td>\n      <td>4.74</td>\n      <td>4.36</td>\n      <td>4.76</td>\n      <td>4.58</td>\n      <td>4.63</td>\n      <td>4.56</td>\n      <td>4.47</td>\n      <td>4.69</td>\n      <td>5.60</td>\n      <td>4.85</td>\n      <td>4.77</td>\n      <td>4.67</td>\n      <td>5.14</td>\n      <td>5.43</td>\n      <td>6.88</td>\n      <td>6.29</td>\n      <td>7.13</td>\n      <td>6.02</td>\n      <td>5.77</td>\n      <td>5.14</td>\n      <td>4.87</td>\n      <td>4.15</td>\n      <td>4.14</td>\n      <td>3.92</td>\n      <td>3.96</td>\n      <td>3.99</td>\n      <td>3.78</td>\n      <td>3.37</td>\n      <td>3.66</td>\n      <td>3.41</td>\n      <td>3.41</td>\n    </tr>\n    <tr>\n      <th>FB</th>\n      <td>0.00</td>\n      <td>0.00</td>\n      <td>0.00</td>\n      <td>5.77</td>\n      <td>0.00</td>\n      <td>0.00</td>\n      <td>0.00</td>\n      <td>5.12</td>\n      <td>4.52</td>\n      <td>11.57</td>\n      <td>11.38</td>\n      <td>10.71</td>\n      <td>10.39</td>\n      <td>10.58</td>\n      <td>10.72</td>\n      <td>11.88</td>\n      <td>13.56</td>\n      <td>12.82</td>\n      <td>13.06</td>\n      <td>9.40</td>\n      <td>8.59</td>\n      <td>9.01</td>\n      <td>10.68</td>\n      <td>11.25</td>\n      <td>13.16</td>\n      <td>12.22</td>\n      <td>11.69</td>\n      <td>11.97</td>\n      <td>12.61</td>\n      <td>12.31</td>\n      <td>13.38</td>\n      <td>12.92</td>\n      <td>9.91</td>\n      <td>10.67</td>\n      <td>9.00</td>\n      <td>7.19</td>\n      <td>5.38</td>\n      <td>4.47</td>\n      <td>4.66</td>\n      <td>4.40</td>\n      <td>4.60</td>\n      <td>6.03</td>\n      <td>5.51</td>\n    </tr>\n  </tbody>\n</table>\n</div>"
     },
     "metadata": {},
     "execution_count": 84
    }
   ],
   "source": [
    "current2 = current.resample('Q',convention='end').agg('mean').transpose()\n",
    "current2.head()"
   ]
  },
  {
   "cell_type": "code",
   "execution_count": 85,
   "metadata": {},
   "outputs": [],
   "source": [
    "conditions = [\n",
    "                (current2['2020-09-30']>1.1) & (current2['2020-06-30']>1.1) & (current2['2020-03-31']>1.1) & (current2['2019-12-31']>1.1) & (current2['2019-09-30']>1.1),\n",
    "                (current2['2020-09-30']>1.1) & (current2['2020-06-30']>1.1) & (current2['2020-03-31']>1.1) & (current2['2019-12-31']>1.1),\n",
    "                (current2['2020-09-30']>1.1) & (current2['2020-06-30']>1.1) & (current2['2020-03-31']>1.1),\n",
    "                (current2['2020-09-30']>1.1) & (current2['2020-06-30']>1.1),\n",
    "                (current2['2020-09-30']>1.1),\n",
    "                (current2['2020-09-30']<1.1)\n",
    "]\n",
    "\n",
    "results=['Last 5Y OK','Last 4Y OK','Last 3Y OK','Last 2Y OK','Last Y OK','Not good to invest']\n",
    "\n",
    "current2['results'] = np.select(conditions,results)"
   ]
  },
  {
   "cell_type": "code",
   "execution_count": 88,
   "metadata": {},
   "outputs": [
    {
     "output_type": "execute_result",
     "data": {
      "text/plain": [
       "AAPL    Last 5Y OK\n",
       "MSFT    Last 5Y OK\n",
       "AMZN    Last 2Y OK\n",
       "GOOG    Last 5Y OK\n",
       "FB      Last 5Y OK\n",
       "Name: results, dtype: object"
      ]
     },
     "metadata": {},
     "execution_count": 88
    }
   ],
   "source": [
    "result=current2['results']\n",
    "result.to_csv('Results/result-CR.csv')\n",
    "result.head()"
   ]
  },
  {
   "cell_type": "code",
   "execution_count": null,
   "metadata": {},
   "outputs": [],
   "source": []
  }
 ]
}