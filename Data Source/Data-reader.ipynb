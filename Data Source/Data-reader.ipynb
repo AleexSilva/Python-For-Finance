{
 "metadata": {
  "language_info": {
   "codemirror_mode": {
    "name": "ipython",
    "version": 3
   },
   "file_extension": ".py",
   "mimetype": "text/x-python",
   "name": "python",
   "nbconvert_exporter": "python",
   "pygments_lexer": "ipython3",
   "version": "3.9.4"
  },
  "orig_nbformat": 2,
  "kernelspec": {
   "name": "pythonjvsc74a57bd068085c160c24486091918865001a87af9229d3fb515dc7068b6f3f223a2e33f7",
   "display_name": "Python 3.9.4  ('venv': venv)"
  },
  "metadata": {
   "interpreter": {
    "hash": "68085c160c24486091918865001a87af9229d3fb515dc7068b6f3f223a2e33f7"
   }
  }
 },
 "nbformat": 4,
 "nbformat_minor": 2,
 "cells": [
  {
   "source": [
    "## Data Sources:\n",
    "* Pandas Datareader: Remote data acces for Pandas. https://pandas-datareader.readthedocs.io/en/latest/\n",
    "* Yahoo Finantials\n",
    "* Web Scrapping"
   ],
   "cell_type": "markdown",
   "metadata": {}
  },
  {
   "cell_type": "code",
   "execution_count": 3,
   "metadata": {},
   "outputs": [],
   "source": [
    "import pandas_datareader as pdr\n",
    "import datetime as dt"
   ]
  },
  {
   "cell_type": "code",
   "execution_count": 4,
   "metadata": {},
   "outputs": [],
   "source": [
    "start = dt.datetime(2020,1,1)"
   ]
  },
  {
   "cell_type": "code",
   "execution_count": 6,
   "metadata": {},
   "outputs": [
    {
     "output_type": "execute_result",
     "data": {
      "text/plain": [
       "                  High         Low        Open       Close       Volume  \\\n",
       "Date                                                                      \n",
       "2020-01-02   75.150002   73.797501   74.059998   75.087502  135480400.0   \n",
       "2020-01-03   75.144997   74.125000   74.287498   74.357498  146322800.0   \n",
       "2020-01-06   74.989998   73.187500   73.447502   74.949997  118387200.0   \n",
       "2020-01-07   75.224998   74.370003   74.959999   74.597504  108872000.0   \n",
       "2020-01-08   76.110001   74.290001   74.290001   75.797501  132079200.0   \n",
       "...                ...         ...         ...         ...          ...   \n",
       "2021-06-04  126.160004  123.849998  124.070000  125.889999   75087300.0   \n",
       "2021-06-07  126.320000  124.830002  126.169998  125.900002   71057600.0   \n",
       "2021-06-08  128.460007  126.209999  126.599998  126.739998   74403800.0   \n",
       "2021-06-09  127.750000  126.519997  127.209999  127.129997   56877900.0   \n",
       "2021-06-10  128.190002  125.940002  127.019997  126.110001   71086200.0   \n",
       "\n",
       "             Adj Close  \n",
       "Date                    \n",
       "2020-01-02   74.207466  \n",
       "2020-01-03   73.486023  \n",
       "2020-01-06   74.071579  \n",
       "2020-01-07   73.723213  \n",
       "2020-01-08   74.909149  \n",
       "...                ...  \n",
       "2021-06-04  125.889999  \n",
       "2021-06-07  125.900002  \n",
       "2021-06-08  126.739998  \n",
       "2021-06-09  127.129997  \n",
       "2021-06-10  126.110001  \n",
       "\n",
       "[363 rows x 6 columns]"
      ],
      "text/html": "<div>\n<style scoped>\n    .dataframe tbody tr th:only-of-type {\n        vertical-align: middle;\n    }\n\n    .dataframe tbody tr th {\n        vertical-align: top;\n    }\n\n    .dataframe thead th {\n        text-align: right;\n    }\n</style>\n<table border=\"1\" class=\"dataframe\">\n  <thead>\n    <tr style=\"text-align: right;\">\n      <th></th>\n      <th>High</th>\n      <th>Low</th>\n      <th>Open</th>\n      <th>Close</th>\n      <th>Volume</th>\n      <th>Adj Close</th>\n    </tr>\n    <tr>\n      <th>Date</th>\n      <th></th>\n      <th></th>\n      <th></th>\n      <th></th>\n      <th></th>\n      <th></th>\n    </tr>\n  </thead>\n  <tbody>\n    <tr>\n      <th>2020-01-02</th>\n      <td>75.150002</td>\n      <td>73.797501</td>\n      <td>74.059998</td>\n      <td>75.087502</td>\n      <td>135480400.0</td>\n      <td>74.207466</td>\n    </tr>\n    <tr>\n      <th>2020-01-03</th>\n      <td>75.144997</td>\n      <td>74.125000</td>\n      <td>74.287498</td>\n      <td>74.357498</td>\n      <td>146322800.0</td>\n      <td>73.486023</td>\n    </tr>\n    <tr>\n      <th>2020-01-06</th>\n      <td>74.989998</td>\n      <td>73.187500</td>\n      <td>73.447502</td>\n      <td>74.949997</td>\n      <td>118387200.0</td>\n      <td>74.071579</td>\n    </tr>\n    <tr>\n      <th>2020-01-07</th>\n      <td>75.224998</td>\n      <td>74.370003</td>\n      <td>74.959999</td>\n      <td>74.597504</td>\n      <td>108872000.0</td>\n      <td>73.723213</td>\n    </tr>\n    <tr>\n      <th>2020-01-08</th>\n      <td>76.110001</td>\n      <td>74.290001</td>\n      <td>74.290001</td>\n      <td>75.797501</td>\n      <td>132079200.0</td>\n      <td>74.909149</td>\n    </tr>\n    <tr>\n      <th>...</th>\n      <td>...</td>\n      <td>...</td>\n      <td>...</td>\n      <td>...</td>\n      <td>...</td>\n      <td>...</td>\n    </tr>\n    <tr>\n      <th>2021-06-04</th>\n      <td>126.160004</td>\n      <td>123.849998</td>\n      <td>124.070000</td>\n      <td>125.889999</td>\n      <td>75087300.0</td>\n      <td>125.889999</td>\n    </tr>\n    <tr>\n      <th>2021-06-07</th>\n      <td>126.320000</td>\n      <td>124.830002</td>\n      <td>126.169998</td>\n      <td>125.900002</td>\n      <td>71057600.0</td>\n      <td>125.900002</td>\n    </tr>\n    <tr>\n      <th>2021-06-08</th>\n      <td>128.460007</td>\n      <td>126.209999</td>\n      <td>126.599998</td>\n      <td>126.739998</td>\n      <td>74403800.0</td>\n      <td>126.739998</td>\n    </tr>\n    <tr>\n      <th>2021-06-09</th>\n      <td>127.750000</td>\n      <td>126.519997</td>\n      <td>127.209999</td>\n      <td>127.129997</td>\n      <td>56877900.0</td>\n      <td>127.129997</td>\n    </tr>\n    <tr>\n      <th>2021-06-10</th>\n      <td>128.190002</td>\n      <td>125.940002</td>\n      <td>127.019997</td>\n      <td>126.110001</td>\n      <td>71086200.0</td>\n      <td>126.110001</td>\n    </tr>\n  </tbody>\n</table>\n<p>363 rows × 6 columns</p>\n</div>"
     },
     "metadata": {},
     "execution_count": 6
    }
   ],
   "source": [
    "aapl = pdr.get_data_yahoo(\"AAPL\", start)\n",
    "aapl"
   ]
  },
  {
   "cell_type": "code",
   "execution_count": 9,
   "metadata": {},
   "outputs": [
    {
     "output_type": "execute_result",
     "data": {
      "text/plain": [
       "High         float64\n",
       "Low          float64\n",
       "Open         float64\n",
       "Close        float64\n",
       "Volume       float64\n",
       "Adj Close    float64\n",
       "dtype: object"
      ]
     },
     "metadata": {},
     "execution_count": 9
    }
   ],
   "source": [
    "aapl.dtypes"
   ]
  },
  {
   "cell_type": "code",
   "execution_count": 10,
   "metadata": {},
   "outputs": [
    {
     "output_type": "execute_result",
     "data": {
      "text/plain": [
       "DatetimeIndex(['2020-01-02', '2020-01-03', '2020-01-06', '2020-01-07',\n",
       "               '2020-01-08', '2020-01-09', '2020-01-10', '2020-01-13',\n",
       "               '2020-01-14', '2020-01-15',\n",
       "               ...\n",
       "               '2021-05-27', '2021-05-28', '2021-06-01', '2021-06-02',\n",
       "               '2021-06-03', '2021-06-04', '2021-06-07', '2021-06-08',\n",
       "               '2021-06-09', '2021-06-10'],\n",
       "              dtype='datetime64[ns]', name='Date', length=363, freq=None)"
      ]
     },
     "metadata": {},
     "execution_count": 10
    }
   ],
   "source": [
    "aapl.index"
   ]
  },
  {
   "cell_type": "code",
   "execution_count": 12,
   "metadata": {},
   "outputs": [
    {
     "output_type": "execute_result",
     "data": {
      "text/plain": [
       "                  High         Low        Open       Close       Volume  \\\n",
       "Date                                                                      \n",
       "2020-01-02   75.150002   73.797501   74.059998   75.087502  135480400.0   \n",
       "2020-01-03   75.144997   74.125000   74.287498   74.357498  146322800.0   \n",
       "2020-01-06   74.989998   73.187500   73.447502   74.949997  118387200.0   \n",
       "2020-01-07   75.224998   74.370003   74.959999   74.597504  108872000.0   \n",
       "2020-01-08   76.110001   74.290001   74.290001   75.797501  132079200.0   \n",
       "...                ...         ...         ...         ...          ...   \n",
       "2020-12-24  133.460007  131.100006  131.320007  131.970001   54930100.0   \n",
       "2020-12-28  137.339996  133.509995  133.990005  136.690002  124486200.0   \n",
       "2020-12-29  138.789993  134.339996  138.050003  134.869995  121047300.0   \n",
       "2020-12-30  135.990005  133.399994  135.580002  133.720001   96452100.0   \n",
       "2020-12-31  134.740005  131.720001  134.080002  132.690002   99116600.0   \n",
       "\n",
       "             Adj Close  \n",
       "Date                    \n",
       "2020-01-02   74.207466  \n",
       "2020-01-03   73.486023  \n",
       "2020-01-06   74.071579  \n",
       "2020-01-07   73.723213  \n",
       "2020-01-08   74.909149  \n",
       "...                ...  \n",
       "2020-12-24  131.549637  \n",
       "2020-12-28  136.254608  \n",
       "2020-12-29  134.440399  \n",
       "2020-12-30  133.294067  \n",
       "2020-12-31  132.267349  \n",
       "\n",
       "[253 rows x 6 columns]"
      ],
      "text/html": "<div>\n<style scoped>\n    .dataframe tbody tr th:only-of-type {\n        vertical-align: middle;\n    }\n\n    .dataframe tbody tr th {\n        vertical-align: top;\n    }\n\n    .dataframe thead th {\n        text-align: right;\n    }\n</style>\n<table border=\"1\" class=\"dataframe\">\n  <thead>\n    <tr style=\"text-align: right;\">\n      <th></th>\n      <th>High</th>\n      <th>Low</th>\n      <th>Open</th>\n      <th>Close</th>\n      <th>Volume</th>\n      <th>Adj Close</th>\n    </tr>\n    <tr>\n      <th>Date</th>\n      <th></th>\n      <th></th>\n      <th></th>\n      <th></th>\n      <th></th>\n      <th></th>\n    </tr>\n  </thead>\n  <tbody>\n    <tr>\n      <th>2020-01-02</th>\n      <td>75.150002</td>\n      <td>73.797501</td>\n      <td>74.059998</td>\n      <td>75.087502</td>\n      <td>135480400.0</td>\n      <td>74.207466</td>\n    </tr>\n    <tr>\n      <th>2020-01-03</th>\n      <td>75.144997</td>\n      <td>74.125000</td>\n      <td>74.287498</td>\n      <td>74.357498</td>\n      <td>146322800.0</td>\n      <td>73.486023</td>\n    </tr>\n    <tr>\n      <th>2020-01-06</th>\n      <td>74.989998</td>\n      <td>73.187500</td>\n      <td>73.447502</td>\n      <td>74.949997</td>\n      <td>118387200.0</td>\n      <td>74.071579</td>\n    </tr>\n    <tr>\n      <th>2020-01-07</th>\n      <td>75.224998</td>\n      <td>74.370003</td>\n      <td>74.959999</td>\n      <td>74.597504</td>\n      <td>108872000.0</td>\n      <td>73.723213</td>\n    </tr>\n    <tr>\n      <th>2020-01-08</th>\n      <td>76.110001</td>\n      <td>74.290001</td>\n      <td>74.290001</td>\n      <td>75.797501</td>\n      <td>132079200.0</td>\n      <td>74.909149</td>\n    </tr>\n    <tr>\n      <th>...</th>\n      <td>...</td>\n      <td>...</td>\n      <td>...</td>\n      <td>...</td>\n      <td>...</td>\n      <td>...</td>\n    </tr>\n    <tr>\n      <th>2020-12-24</th>\n      <td>133.460007</td>\n      <td>131.100006</td>\n      <td>131.320007</td>\n      <td>131.970001</td>\n      <td>54930100.0</td>\n      <td>131.549637</td>\n    </tr>\n    <tr>\n      <th>2020-12-28</th>\n      <td>137.339996</td>\n      <td>133.509995</td>\n      <td>133.990005</td>\n      <td>136.690002</td>\n      <td>124486200.0</td>\n      <td>136.254608</td>\n    </tr>\n    <tr>\n      <th>2020-12-29</th>\n      <td>138.789993</td>\n      <td>134.339996</td>\n      <td>138.050003</td>\n      <td>134.869995</td>\n      <td>121047300.0</td>\n      <td>134.440399</td>\n    </tr>\n    <tr>\n      <th>2020-12-30</th>\n      <td>135.990005</td>\n      <td>133.399994</td>\n      <td>135.580002</td>\n      <td>133.720001</td>\n      <td>96452100.0</td>\n      <td>133.294067</td>\n    </tr>\n    <tr>\n      <th>2020-12-31</th>\n      <td>134.740005</td>\n      <td>131.720001</td>\n      <td>134.080002</td>\n      <td>132.690002</td>\n      <td>99116600.0</td>\n      <td>132.267349</td>\n    </tr>\n  </tbody>\n</table>\n<p>253 rows × 6 columns</p>\n</div>"
     },
     "metadata": {},
     "execution_count": 12
    }
   ],
   "source": [
    "start = dt.datetime(2020, 1, 1)\n",
    "end = dt.datetime(2020, 12, 31)\n",
    "aapl = pdr.get_data_yahoo('aapl',start,end)\n",
    "aapl"
   ]
  },
  {
   "cell_type": "code",
   "execution_count": 15,
   "metadata": {},
   "outputs": [
    {
     "output_type": "execute_result",
     "data": {
      "text/plain": [
       "                 High        Low       Open      Close       Volume  Adj Close\n",
       "Date                                                                          \n",
       "2020-01-01  75.224998  73.187500  74.059998  74.597504  509062400.0  73.723213\n",
       "2020-01-08  79.392502  74.290001  74.290001  78.169998  726318800.0  77.253838\n",
       "2020-01-15  79.754997  77.387497  77.962502  79.142502  479412400.0  78.214951\n",
       "2020-01-22  80.832497  76.220001  79.644997  79.422501  677016000.0  78.491669\n",
       "2020-01-29  81.962502  75.555000  81.112503  79.712502  852965600.0  78.778267"
      ],
      "text/html": "<div>\n<style scoped>\n    .dataframe tbody tr th:only-of-type {\n        vertical-align: middle;\n    }\n\n    .dataframe tbody tr th {\n        vertical-align: top;\n    }\n\n    .dataframe thead th {\n        text-align: right;\n    }\n</style>\n<table border=\"1\" class=\"dataframe\">\n  <thead>\n    <tr style=\"text-align: right;\">\n      <th></th>\n      <th>High</th>\n      <th>Low</th>\n      <th>Open</th>\n      <th>Close</th>\n      <th>Volume</th>\n      <th>Adj Close</th>\n    </tr>\n    <tr>\n      <th>Date</th>\n      <th></th>\n      <th></th>\n      <th></th>\n      <th></th>\n      <th></th>\n      <th></th>\n    </tr>\n  </thead>\n  <tbody>\n    <tr>\n      <th>2020-01-01</th>\n      <td>75.224998</td>\n      <td>73.187500</td>\n      <td>74.059998</td>\n      <td>74.597504</td>\n      <td>509062400.0</td>\n      <td>73.723213</td>\n    </tr>\n    <tr>\n      <th>2020-01-08</th>\n      <td>79.392502</td>\n      <td>74.290001</td>\n      <td>74.290001</td>\n      <td>78.169998</td>\n      <td>726318800.0</td>\n      <td>77.253838</td>\n    </tr>\n    <tr>\n      <th>2020-01-15</th>\n      <td>79.754997</td>\n      <td>77.387497</td>\n      <td>77.962502</td>\n      <td>79.142502</td>\n      <td>479412400.0</td>\n      <td>78.214951</td>\n    </tr>\n    <tr>\n      <th>2020-01-22</th>\n      <td>80.832497</td>\n      <td>76.220001</td>\n      <td>79.644997</td>\n      <td>79.422501</td>\n      <td>677016000.0</td>\n      <td>78.491669</td>\n    </tr>\n    <tr>\n      <th>2020-01-29</th>\n      <td>81.962502</td>\n      <td>75.555000</td>\n      <td>81.112503</td>\n      <td>79.712502</td>\n      <td>852965600.0</td>\n      <td>78.778267</td>\n    </tr>\n  </tbody>\n</table>\n</div>"
     },
     "metadata": {},
     "execution_count": 15
    }
   ],
   "source": [
    "start = dt.datetime(2020, 1, 1)\n",
    "end = dt.datetime(2020, 12, 31)\n",
    "aapl_w = pdr.get_data_yahoo('aapl',start,end,interval='w')\n",
    "aapl_w.head()"
   ]
  },
  {
   "cell_type": "code",
   "execution_count": 16,
   "metadata": {},
   "outputs": [
    {
     "output_type": "execute_result",
     "data": {
      "text/plain": [
       "                 High        Low       Open      Close        Volume  \\\n",
       "Date                                                                   \n",
       "2020-01-01  81.962502  73.187500  74.059998  77.377502  2.934370e+09   \n",
       "2020-02-01  81.805000  64.092499  76.074997  68.339996  3.019279e+09   \n",
       "2020-03-01  76.000000  53.152500  70.570000  63.572498  6.280072e+09   \n",
       "2020-04-01  73.632500  59.224998  61.625000  73.449997  3.265299e+09   \n",
       "2020-05-01  81.059998  71.462502  71.562500  79.485001  2.805936e+09   \n",
       "\n",
       "            Adj Close  \n",
       "Date                   \n",
       "2020-01-01  76.470634  \n",
       "2020-02-01  67.539055  \n",
       "2020-03-01  62.976532  \n",
       "2020-04-01  72.761436  \n",
       "2020-05-01  78.739868  "
      ],
      "text/html": "<div>\n<style scoped>\n    .dataframe tbody tr th:only-of-type {\n        vertical-align: middle;\n    }\n\n    .dataframe tbody tr th {\n        vertical-align: top;\n    }\n\n    .dataframe thead th {\n        text-align: right;\n    }\n</style>\n<table border=\"1\" class=\"dataframe\">\n  <thead>\n    <tr style=\"text-align: right;\">\n      <th></th>\n      <th>High</th>\n      <th>Low</th>\n      <th>Open</th>\n      <th>Close</th>\n      <th>Volume</th>\n      <th>Adj Close</th>\n    </tr>\n    <tr>\n      <th>Date</th>\n      <th></th>\n      <th></th>\n      <th></th>\n      <th></th>\n      <th></th>\n      <th></th>\n    </tr>\n  </thead>\n  <tbody>\n    <tr>\n      <th>2020-01-01</th>\n      <td>81.962502</td>\n      <td>73.187500</td>\n      <td>74.059998</td>\n      <td>77.377502</td>\n      <td>2.934370e+09</td>\n      <td>76.470634</td>\n    </tr>\n    <tr>\n      <th>2020-02-01</th>\n      <td>81.805000</td>\n      <td>64.092499</td>\n      <td>76.074997</td>\n      <td>68.339996</td>\n      <td>3.019279e+09</td>\n      <td>67.539055</td>\n    </tr>\n    <tr>\n      <th>2020-03-01</th>\n      <td>76.000000</td>\n      <td>53.152500</td>\n      <td>70.570000</td>\n      <td>63.572498</td>\n      <td>6.280072e+09</td>\n      <td>62.976532</td>\n    </tr>\n    <tr>\n      <th>2020-04-01</th>\n      <td>73.632500</td>\n      <td>59.224998</td>\n      <td>61.625000</td>\n      <td>73.449997</td>\n      <td>3.265299e+09</td>\n      <td>72.761436</td>\n    </tr>\n    <tr>\n      <th>2020-05-01</th>\n      <td>81.059998</td>\n      <td>71.462502</td>\n      <td>71.562500</td>\n      <td>79.485001</td>\n      <td>2.805936e+09</td>\n      <td>78.739868</td>\n    </tr>\n  </tbody>\n</table>\n</div>"
     },
     "metadata": {},
     "execution_count": 16
    }
   ],
   "source": [
    "start = dt.datetime(2020, 1, 1)\n",
    "end = dt.datetime(2020, 12, 31)\n",
    "aapl_m = pdr.get_data_yahoo('aapl',start,end,interval='m')\n",
    "aapl_m.head()"
   ]
  },
  {
   "cell_type": "code",
   "execution_count": 17,
   "metadata": {},
   "outputs": [
    {
     "output_type": "execute_result",
     "data": {
      "text/plain": [
       "              Open    High     Low   Close     Volume\n",
       "Date                                                 \n",
       "2020-12-31  133.88  134.54  131.52  132.49   99264699\n",
       "2020-12-30  135.34  135.79  133.20  133.52   96596256\n",
       "2020-12-29  137.84  138.58  134.14  134.67  121228209\n",
       "2020-12-28  133.79  137.14  133.31  136.49  124672261\n",
       "2020-12-24  131.12  133.26  130.90  131.77   55012148"
      ],
      "text/html": "<div>\n<style scoped>\n    .dataframe tbody tr th:only-of-type {\n        vertical-align: middle;\n    }\n\n    .dataframe tbody tr th {\n        vertical-align: top;\n    }\n\n    .dataframe thead th {\n        text-align: right;\n    }\n</style>\n<table border=\"1\" class=\"dataframe\">\n  <thead>\n    <tr style=\"text-align: right;\">\n      <th></th>\n      <th>Open</th>\n      <th>High</th>\n      <th>Low</th>\n      <th>Close</th>\n      <th>Volume</th>\n    </tr>\n    <tr>\n      <th>Date</th>\n      <th></th>\n      <th></th>\n      <th></th>\n      <th></th>\n      <th></th>\n    </tr>\n  </thead>\n  <tbody>\n    <tr>\n      <th>2020-12-31</th>\n      <td>133.88</td>\n      <td>134.54</td>\n      <td>131.52</td>\n      <td>132.49</td>\n      <td>99264699</td>\n    </tr>\n    <tr>\n      <th>2020-12-30</th>\n      <td>135.34</td>\n      <td>135.79</td>\n      <td>133.20</td>\n      <td>133.52</td>\n      <td>96596256</td>\n    </tr>\n    <tr>\n      <th>2020-12-29</th>\n      <td>137.84</td>\n      <td>138.58</td>\n      <td>134.14</td>\n      <td>134.67</td>\n      <td>121228209</td>\n    </tr>\n    <tr>\n      <th>2020-12-28</th>\n      <td>133.79</td>\n      <td>137.14</td>\n      <td>133.31</td>\n      <td>136.49</td>\n      <td>124672261</td>\n    </tr>\n    <tr>\n      <th>2020-12-24</th>\n      <td>131.12</td>\n      <td>133.26</td>\n      <td>130.90</td>\n      <td>131.77</td>\n      <td>55012148</td>\n    </tr>\n  </tbody>\n</table>\n</div>"
     },
     "metadata": {},
     "execution_count": 17
    }
   ],
   "source": [
    "pdr.get_data_stooq(\"AAPL\", start, end).head()"
   ]
  },
  {
   "cell_type": "code",
   "execution_count": 22,
   "metadata": {},
   "outputs": [],
   "source": [
    "nasdaq_symbols = pdr.get_nasdaq_symbols()"
   ]
  },
  {
   "cell_type": "code",
   "execution_count": 23,
   "metadata": {},
   "outputs": [
    {
     "output_type": "execute_result",
     "data": {
      "text/plain": [
       "10764"
      ]
     },
     "metadata": {},
     "execution_count": 23
    }
   ],
   "source": [
    "len(nasdaq_symbols)"
   ]
  },
  {
   "cell_type": "code",
   "execution_count": 24,
   "metadata": {},
   "outputs": [
    {
     "output_type": "execute_result",
     "data": {
      "text/plain": [
       "        Nasdaq Traded                                      Security Name  \\\n",
       "Symbol                                                                     \n",
       "A                True            Agilent Technologies, Inc. Common Stock   \n",
       "AA               True                    Alcoa Corporation Common Stock    \n",
       "AAA              True  Listed Funds Trust AAF First Priority CLO Bond...   \n",
       "AAAU             True             Goldman Sachs Physical Gold ETF Shares   \n",
       "AAC              True  Ares Acquisition Corporation Class A Ordinary ...   \n",
       "\n",
       "       Listing Exchange Market Category    ETF  Round Lot Size  Test Issue  \\\n",
       "Symbol                                                                       \n",
       "A                     N                  False           100.0       False   \n",
       "AA                    N                  False           100.0       False   \n",
       "AAA                   P                   True           100.0       False   \n",
       "AAAU                  P                   True           100.0       False   \n",
       "AAC                   N                  False           100.0       False   \n",
       "\n",
       "       Financial Status CQS Symbol NASDAQ Symbol  NextShares  \n",
       "Symbol                                                        \n",
       "A                   NaN          A             A       False  \n",
       "AA                  NaN         AA            AA       False  \n",
       "AAA                 NaN        AAA           AAA       False  \n",
       "AAAU                NaN       AAAU          AAAU       False  \n",
       "AAC                 NaN        AAC           AAC       False  "
      ],
      "text/html": "<div>\n<style scoped>\n    .dataframe tbody tr th:only-of-type {\n        vertical-align: middle;\n    }\n\n    .dataframe tbody tr th {\n        vertical-align: top;\n    }\n\n    .dataframe thead th {\n        text-align: right;\n    }\n</style>\n<table border=\"1\" class=\"dataframe\">\n  <thead>\n    <tr style=\"text-align: right;\">\n      <th></th>\n      <th>Nasdaq Traded</th>\n      <th>Security Name</th>\n      <th>Listing Exchange</th>\n      <th>Market Category</th>\n      <th>ETF</th>\n      <th>Round Lot Size</th>\n      <th>Test Issue</th>\n      <th>Financial Status</th>\n      <th>CQS Symbol</th>\n      <th>NASDAQ Symbol</th>\n      <th>NextShares</th>\n    </tr>\n    <tr>\n      <th>Symbol</th>\n      <th></th>\n      <th></th>\n      <th></th>\n      <th></th>\n      <th></th>\n      <th></th>\n      <th></th>\n      <th></th>\n      <th></th>\n      <th></th>\n      <th></th>\n    </tr>\n  </thead>\n  <tbody>\n    <tr>\n      <th>A</th>\n      <td>True</td>\n      <td>Agilent Technologies, Inc. Common Stock</td>\n      <td>N</td>\n      <td></td>\n      <td>False</td>\n      <td>100.0</td>\n      <td>False</td>\n      <td>NaN</td>\n      <td>A</td>\n      <td>A</td>\n      <td>False</td>\n    </tr>\n    <tr>\n      <th>AA</th>\n      <td>True</td>\n      <td>Alcoa Corporation Common Stock</td>\n      <td>N</td>\n      <td></td>\n      <td>False</td>\n      <td>100.0</td>\n      <td>False</td>\n      <td>NaN</td>\n      <td>AA</td>\n      <td>AA</td>\n      <td>False</td>\n    </tr>\n    <tr>\n      <th>AAA</th>\n      <td>True</td>\n      <td>Listed Funds Trust AAF First Priority CLO Bond...</td>\n      <td>P</td>\n      <td></td>\n      <td>True</td>\n      <td>100.0</td>\n      <td>False</td>\n      <td>NaN</td>\n      <td>AAA</td>\n      <td>AAA</td>\n      <td>False</td>\n    </tr>\n    <tr>\n      <th>AAAU</th>\n      <td>True</td>\n      <td>Goldman Sachs Physical Gold ETF Shares</td>\n      <td>P</td>\n      <td></td>\n      <td>True</td>\n      <td>100.0</td>\n      <td>False</td>\n      <td>NaN</td>\n      <td>AAAU</td>\n      <td>AAAU</td>\n      <td>False</td>\n    </tr>\n    <tr>\n      <th>AAC</th>\n      <td>True</td>\n      <td>Ares Acquisition Corporation Class A Ordinary ...</td>\n      <td>N</td>\n      <td></td>\n      <td>False</td>\n      <td>100.0</td>\n      <td>False</td>\n      <td>NaN</td>\n      <td>AAC</td>\n      <td>AAC</td>\n      <td>False</td>\n    </tr>\n  </tbody>\n</table>\n</div>"
     },
     "metadata": {},
     "execution_count": 24
    }
   ],
   "source": [
    "nasdaq_symbols.head()"
   ]
  },
  {
   "cell_type": "code",
   "execution_count": 25,
   "metadata": {},
   "outputs": [
    {
     "output_type": "execute_result",
     "data": {
      "text/plain": [
       "Nasdaq Traded                            True\n",
       "Security Name       Apple Inc. - Common Stock\n",
       "Listing Exchange                            Q\n",
       "Market Category                             Q\n",
       "ETF                                     False\n",
       "Round Lot Size                          100.0\n",
       "Test Issue                              False\n",
       "Financial Status                            N\n",
       "CQS Symbol                                NaN\n",
       "NASDAQ Symbol                            AAPL\n",
       "NextShares                              False\n",
       "Name: AAPL, dtype: object"
      ]
     },
     "metadata": {},
     "execution_count": 25
    }
   ],
   "source": [
    "nasdaq_symbols.loc['AAPL']"
   ]
  },
  {
   "cell_type": "code",
   "execution_count": 26,
   "metadata": {},
   "outputs": [],
   "source": [
    "from pandas_datareader import wb"
   ]
  },
  {
   "cell_type": "code",
   "execution_count": 29,
   "metadata": {},
   "outputs": [],
   "source": [
    "wb_data = wb.download(indicator=\"NY.GDP.PCAP.KD\", country=['FR', 'US', 'DK','AR'], start=2010, end=2020)"
   ]
  },
  {
   "cell_type": "code",
   "execution_count": 30,
   "metadata": {},
   "outputs": [
    {
     "output_type": "execute_result",
     "data": {
      "text/plain": [
       "              NY.GDP.PCAP.KD                                            \\\n",
       "year                    2010          2011          2012          2013   \n",
       "country                                                                  \n",
       "Argentina       10385.964432  10883.315359  10649.837287  10784.630699   \n",
       "Denmark         58041.398436  58575.607802  58487.793542  58788.084162   \n",
       "France          40638.334004  41329.035361  41258.274731  41282.990800   \n",
       "United States   48467.515777  48866.053276  49603.253472  50171.237131   \n",
       "\n",
       "                                                                       \\\n",
       "year                   2014          2015          2016          2017   \n",
       "country                                                                 \n",
       "Argentina      10398.694007  10568.157809  10239.481348  10419.455405   \n",
       "Denmark        59437.947318  60402.129644  61877.976479  63215.998067   \n",
       "France         41480.769608  41793.544712  42140.036880  43015.210642   \n",
       "United States  51065.682692  52168.126236  52643.917842  53552.485014   \n",
       "\n",
       "                                                \n",
       "year                   2018          2019 2020  \n",
       "country                                         \n",
       "Argentina      10049.555239   9742.455417  NaN  \n",
       "Denmark        64271.878266  65867.001720  NaN  \n",
       "France         43720.026343  44320.057726  NaN  \n",
       "United States  54832.978233  55753.144369  NaN  "
      ],
      "text/html": "<div>\n<style scoped>\n    .dataframe tbody tr th:only-of-type {\n        vertical-align: middle;\n    }\n\n    .dataframe tbody tr th {\n        vertical-align: top;\n    }\n\n    .dataframe thead tr th {\n        text-align: left;\n    }\n\n    .dataframe thead tr:last-of-type th {\n        text-align: right;\n    }\n</style>\n<table border=\"1\" class=\"dataframe\">\n  <thead>\n    <tr>\n      <th></th>\n      <th colspan=\"11\" halign=\"left\">NY.GDP.PCAP.KD</th>\n    </tr>\n    <tr>\n      <th>year</th>\n      <th>2010</th>\n      <th>2011</th>\n      <th>2012</th>\n      <th>2013</th>\n      <th>2014</th>\n      <th>2015</th>\n      <th>2016</th>\n      <th>2017</th>\n      <th>2018</th>\n      <th>2019</th>\n      <th>2020</th>\n    </tr>\n    <tr>\n      <th>country</th>\n      <th></th>\n      <th></th>\n      <th></th>\n      <th></th>\n      <th></th>\n      <th></th>\n      <th></th>\n      <th></th>\n      <th></th>\n      <th></th>\n      <th></th>\n    </tr>\n  </thead>\n  <tbody>\n    <tr>\n      <th>Argentina</th>\n      <td>10385.964432</td>\n      <td>10883.315359</td>\n      <td>10649.837287</td>\n      <td>10784.630699</td>\n      <td>10398.694007</td>\n      <td>10568.157809</td>\n      <td>10239.481348</td>\n      <td>10419.455405</td>\n      <td>10049.555239</td>\n      <td>9742.455417</td>\n      <td>NaN</td>\n    </tr>\n    <tr>\n      <th>Denmark</th>\n      <td>58041.398436</td>\n      <td>58575.607802</td>\n      <td>58487.793542</td>\n      <td>58788.084162</td>\n      <td>59437.947318</td>\n      <td>60402.129644</td>\n      <td>61877.976479</td>\n      <td>63215.998067</td>\n      <td>64271.878266</td>\n      <td>65867.001720</td>\n      <td>NaN</td>\n    </tr>\n    <tr>\n      <th>France</th>\n      <td>40638.334004</td>\n      <td>41329.035361</td>\n      <td>41258.274731</td>\n      <td>41282.990800</td>\n      <td>41480.769608</td>\n      <td>41793.544712</td>\n      <td>42140.036880</td>\n      <td>43015.210642</td>\n      <td>43720.026343</td>\n      <td>44320.057726</td>\n      <td>NaN</td>\n    </tr>\n    <tr>\n      <th>United States</th>\n      <td>48467.515777</td>\n      <td>48866.053276</td>\n      <td>49603.253472</td>\n      <td>50171.237131</td>\n      <td>51065.682692</td>\n      <td>52168.126236</td>\n      <td>52643.917842</td>\n      <td>53552.485014</td>\n      <td>54832.978233</td>\n      <td>55753.144369</td>\n      <td>NaN</td>\n    </tr>\n  </tbody>\n</table>\n</div>"
     },
     "metadata": {},
     "execution_count": 30
    }
   ],
   "source": [
    "wb_data.unstack(1)"
   ]
  },
  {
   "cell_type": "code",
   "execution_count": null,
   "metadata": {},
   "outputs": [],
   "source": []
  }
 ]
}