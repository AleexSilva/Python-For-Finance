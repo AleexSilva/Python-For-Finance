{
 "metadata": {
  "language_info": {
   "codemirror_mode": {
    "name": "ipython",
    "version": 3
   },
   "file_extension": ".py",
   "mimetype": "text/x-python",
   "name": "python",
   "nbconvert_exporter": "python",
   "pygments_lexer": "ipython3",
   "version": "3.9.4"
  },
  "orig_nbformat": 2,
  "kernelspec": {
   "name": "python3",
   "display_name": "Python 3.9.4  ('venv': venv)"
  },
  "metadata": {
   "interpreter": {
    "hash": "68085c160c24486091918865001a87af9229d3fb515dc7068b6f3f223a2e33f7"
   }
  },
  "interpreter": {
   "hash": "68085c160c24486091918865001a87af9229d3fb515dc7068b6f3f223a2e33f7"
  }
 },
 "nbformat": 4,
 "nbformat_minor": 2,
 "cells": [
  {
   "source": [
    "## Data Sources:\n",
    "* Pandas Datareader: Remote data acces for Pandas. https://pandas-datareader.readthedocs.io/en/latest/\n",
    "* Yahoo Finantials: Finantial and technical data: Income Statement, balance Sheet, Cash Flow. The output is not a DataFrame.\n",
    "* Web Scrapping:"
   ],
   "cell_type": "markdown",
   "metadata": {}
  },
  {
   "cell_type": "code",
   "execution_count": 1,
   "metadata": {},
   "outputs": [],
   "source": [
    "import pandas_datareader as pdr\n",
    "import datetime as dt\n",
    "import matplotlib.pyplot as plt\n",
    "import pandas as pd"
   ]
  },
  {
   "cell_type": "code",
   "execution_count": 2,
   "metadata": {},
   "outputs": [],
   "source": [
    "start = dt.datetime(2020,1,1)"
   ]
  },
  {
   "cell_type": "code",
   "execution_count": 3,
   "metadata": {},
   "outputs": [
    {
     "output_type": "execute_result",
     "data": {
      "text/plain": [
       "                  High         Low        Open       Close       Volume  \\\n",
       "Date                                                                      \n",
       "2020-01-02   75.150002   73.797501   74.059998   75.087502  135480400.0   \n",
       "2020-01-03   75.144997   74.125000   74.287498   74.357498  146322800.0   \n",
       "2020-01-06   74.989998   73.187500   73.447502   74.949997  118387200.0   \n",
       "2020-01-07   75.224998   74.370003   74.959999   74.597504  108872000.0   \n",
       "2020-01-08   76.110001   74.290001   74.290001   75.797501  132079200.0   \n",
       "...                ...         ...         ...         ...          ...   \n",
       "2021-06-07  126.320000  124.830002  126.169998  125.900002   71057600.0   \n",
       "2021-06-08  128.460007  126.209999  126.599998  126.739998   74403800.0   \n",
       "2021-06-09  127.750000  126.519997  127.209999  127.129997   56877900.0   \n",
       "2021-06-10  128.190002  125.940002  127.019997  126.110001   71186400.0   \n",
       "2021-06-11  127.440002  126.099998  126.529999  127.349998   53415300.0   \n",
       "\n",
       "             Adj Close  \n",
       "Date                    \n",
       "2020-01-02   74.207466  \n",
       "2020-01-03   73.486023  \n",
       "2020-01-06   74.071579  \n",
       "2020-01-07   73.723213  \n",
       "2020-01-08   74.909149  \n",
       "...                ...  \n",
       "2021-06-07  125.900002  \n",
       "2021-06-08  126.739998  \n",
       "2021-06-09  127.129997  \n",
       "2021-06-10  126.110001  \n",
       "2021-06-11  127.349998  \n",
       "\n",
       "[364 rows x 6 columns]"
      ],
      "text/html": "<div>\n<style scoped>\n    .dataframe tbody tr th:only-of-type {\n        vertical-align: middle;\n    }\n\n    .dataframe tbody tr th {\n        vertical-align: top;\n    }\n\n    .dataframe thead th {\n        text-align: right;\n    }\n</style>\n<table border=\"1\" class=\"dataframe\">\n  <thead>\n    <tr style=\"text-align: right;\">\n      <th></th>\n      <th>High</th>\n      <th>Low</th>\n      <th>Open</th>\n      <th>Close</th>\n      <th>Volume</th>\n      <th>Adj Close</th>\n    </tr>\n    <tr>\n      <th>Date</th>\n      <th></th>\n      <th></th>\n      <th></th>\n      <th></th>\n      <th></th>\n      <th></th>\n    </tr>\n  </thead>\n  <tbody>\n    <tr>\n      <th>2020-01-02</th>\n      <td>75.150002</td>\n      <td>73.797501</td>\n      <td>74.059998</td>\n      <td>75.087502</td>\n      <td>135480400.0</td>\n      <td>74.207466</td>\n    </tr>\n    <tr>\n      <th>2020-01-03</th>\n      <td>75.144997</td>\n      <td>74.125000</td>\n      <td>74.287498</td>\n      <td>74.357498</td>\n      <td>146322800.0</td>\n      <td>73.486023</td>\n    </tr>\n    <tr>\n      <th>2020-01-06</th>\n      <td>74.989998</td>\n      <td>73.187500</td>\n      <td>73.447502</td>\n      <td>74.949997</td>\n      <td>118387200.0</td>\n      <td>74.071579</td>\n    </tr>\n    <tr>\n      <th>2020-01-07</th>\n      <td>75.224998</td>\n      <td>74.370003</td>\n      <td>74.959999</td>\n      <td>74.597504</td>\n      <td>108872000.0</td>\n      <td>73.723213</td>\n    </tr>\n    <tr>\n      <th>2020-01-08</th>\n      <td>76.110001</td>\n      <td>74.290001</td>\n      <td>74.290001</td>\n      <td>75.797501</td>\n      <td>132079200.0</td>\n      <td>74.909149</td>\n    </tr>\n    <tr>\n      <th>...</th>\n      <td>...</td>\n      <td>...</td>\n      <td>...</td>\n      <td>...</td>\n      <td>...</td>\n      <td>...</td>\n    </tr>\n    <tr>\n      <th>2021-06-07</th>\n      <td>126.320000</td>\n      <td>124.830002</td>\n      <td>126.169998</td>\n      <td>125.900002</td>\n      <td>71057600.0</td>\n      <td>125.900002</td>\n    </tr>\n    <tr>\n      <th>2021-06-08</th>\n      <td>128.460007</td>\n      <td>126.209999</td>\n      <td>126.599998</td>\n      <td>126.739998</td>\n      <td>74403800.0</td>\n      <td>126.739998</td>\n    </tr>\n    <tr>\n      <th>2021-06-09</th>\n      <td>127.750000</td>\n      <td>126.519997</td>\n      <td>127.209999</td>\n      <td>127.129997</td>\n      <td>56877900.0</td>\n      <td>127.129997</td>\n    </tr>\n    <tr>\n      <th>2021-06-10</th>\n      <td>128.190002</td>\n      <td>125.940002</td>\n      <td>127.019997</td>\n      <td>126.110001</td>\n      <td>71186400.0</td>\n      <td>126.110001</td>\n    </tr>\n    <tr>\n      <th>2021-06-11</th>\n      <td>127.440002</td>\n      <td>126.099998</td>\n      <td>126.529999</td>\n      <td>127.349998</td>\n      <td>53415300.0</td>\n      <td>127.349998</td>\n    </tr>\n  </tbody>\n</table>\n<p>364 rows × 6 columns</p>\n</div>"
     },
     "metadata": {},
     "execution_count": 3
    }
   ],
   "source": [
    "aapl = pdr.get_data_yahoo(\"AAPL\", start)\n",
    "aapl"
   ]
  },
  {
   "cell_type": "code",
   "execution_count": 4,
   "metadata": {},
   "outputs": [
    {
     "output_type": "execute_result",
     "data": {
      "text/plain": [
       "High         float64\n",
       "Low          float64\n",
       "Open         float64\n",
       "Close        float64\n",
       "Volume       float64\n",
       "Adj Close    float64\n",
       "dtype: object"
      ]
     },
     "metadata": {},
     "execution_count": 4
    }
   ],
   "source": [
    "aapl.dtypes"
   ]
  },
  {
   "cell_type": "code",
   "execution_count": 5,
   "metadata": {},
   "outputs": [
    {
     "output_type": "execute_result",
     "data": {
      "text/plain": [
       "DatetimeIndex(['2020-01-02', '2020-01-03', '2020-01-06', '2020-01-07',\n",
       "               '2020-01-08', '2020-01-09', '2020-01-10', '2020-01-13',\n",
       "               '2020-01-14', '2020-01-15',\n",
       "               ...\n",
       "               '2021-05-28', '2021-06-01', '2021-06-02', '2021-06-03',\n",
       "               '2021-06-04', '2021-06-07', '2021-06-08', '2021-06-09',\n",
       "               '2021-06-10', '2021-06-11'],\n",
       "              dtype='datetime64[ns]', name='Date', length=364, freq=None)"
      ]
     },
     "metadata": {},
     "execution_count": 5
    }
   ],
   "source": [
    "aapl.index"
   ]
  },
  {
   "cell_type": "code",
   "execution_count": 6,
   "metadata": {},
   "outputs": [
    {
     "output_type": "execute_result",
     "data": {
      "text/plain": [
       "                  High         Low        Open       Close       Volume  \\\n",
       "Date                                                                      \n",
       "2020-01-02   75.150002   73.797501   74.059998   75.087502  135480400.0   \n",
       "2020-01-03   75.144997   74.125000   74.287498   74.357498  146322800.0   \n",
       "2020-01-06   74.989998   73.187500   73.447502   74.949997  118387200.0   \n",
       "2020-01-07   75.224998   74.370003   74.959999   74.597504  108872000.0   \n",
       "2020-01-08   76.110001   74.290001   74.290001   75.797501  132079200.0   \n",
       "...                ...         ...         ...         ...          ...   \n",
       "2020-12-24  133.460007  131.100006  131.320007  131.970001   54930100.0   \n",
       "2020-12-28  137.339996  133.509995  133.990005  136.690002  124486200.0   \n",
       "2020-12-29  138.789993  134.339996  138.050003  134.869995  121047300.0   \n",
       "2020-12-30  135.990005  133.399994  135.580002  133.720001   96452100.0   \n",
       "2020-12-31  134.740005  131.720001  134.080002  132.690002   99116600.0   \n",
       "\n",
       "             Adj Close  \n",
       "Date                    \n",
       "2020-01-02   74.207466  \n",
       "2020-01-03   73.486023  \n",
       "2020-01-06   74.071579  \n",
       "2020-01-07   73.723213  \n",
       "2020-01-08   74.909149  \n",
       "...                ...  \n",
       "2020-12-24  131.549637  \n",
       "2020-12-28  136.254608  \n",
       "2020-12-29  134.440399  \n",
       "2020-12-30  133.294067  \n",
       "2020-12-31  132.267349  \n",
       "\n",
       "[253 rows x 6 columns]"
      ],
      "text/html": "<div>\n<style scoped>\n    .dataframe tbody tr th:only-of-type {\n        vertical-align: middle;\n    }\n\n    .dataframe tbody tr th {\n        vertical-align: top;\n    }\n\n    .dataframe thead th {\n        text-align: right;\n    }\n</style>\n<table border=\"1\" class=\"dataframe\">\n  <thead>\n    <tr style=\"text-align: right;\">\n      <th></th>\n      <th>High</th>\n      <th>Low</th>\n      <th>Open</th>\n      <th>Close</th>\n      <th>Volume</th>\n      <th>Adj Close</th>\n    </tr>\n    <tr>\n      <th>Date</th>\n      <th></th>\n      <th></th>\n      <th></th>\n      <th></th>\n      <th></th>\n      <th></th>\n    </tr>\n  </thead>\n  <tbody>\n    <tr>\n      <th>2020-01-02</th>\n      <td>75.150002</td>\n      <td>73.797501</td>\n      <td>74.059998</td>\n      <td>75.087502</td>\n      <td>135480400.0</td>\n      <td>74.207466</td>\n    </tr>\n    <tr>\n      <th>2020-01-03</th>\n      <td>75.144997</td>\n      <td>74.125000</td>\n      <td>74.287498</td>\n      <td>74.357498</td>\n      <td>146322800.0</td>\n      <td>73.486023</td>\n    </tr>\n    <tr>\n      <th>2020-01-06</th>\n      <td>74.989998</td>\n      <td>73.187500</td>\n      <td>73.447502</td>\n      <td>74.949997</td>\n      <td>118387200.0</td>\n      <td>74.071579</td>\n    </tr>\n    <tr>\n      <th>2020-01-07</th>\n      <td>75.224998</td>\n      <td>74.370003</td>\n      <td>74.959999</td>\n      <td>74.597504</td>\n      <td>108872000.0</td>\n      <td>73.723213</td>\n    </tr>\n    <tr>\n      <th>2020-01-08</th>\n      <td>76.110001</td>\n      <td>74.290001</td>\n      <td>74.290001</td>\n      <td>75.797501</td>\n      <td>132079200.0</td>\n      <td>74.909149</td>\n    </tr>\n    <tr>\n      <th>...</th>\n      <td>...</td>\n      <td>...</td>\n      <td>...</td>\n      <td>...</td>\n      <td>...</td>\n      <td>...</td>\n    </tr>\n    <tr>\n      <th>2020-12-24</th>\n      <td>133.460007</td>\n      <td>131.100006</td>\n      <td>131.320007</td>\n      <td>131.970001</td>\n      <td>54930100.0</td>\n      <td>131.549637</td>\n    </tr>\n    <tr>\n      <th>2020-12-28</th>\n      <td>137.339996</td>\n      <td>133.509995</td>\n      <td>133.990005</td>\n      <td>136.690002</td>\n      <td>124486200.0</td>\n      <td>136.254608</td>\n    </tr>\n    <tr>\n      <th>2020-12-29</th>\n      <td>138.789993</td>\n      <td>134.339996</td>\n      <td>138.050003</td>\n      <td>134.869995</td>\n      <td>121047300.0</td>\n      <td>134.440399</td>\n    </tr>\n    <tr>\n      <th>2020-12-30</th>\n      <td>135.990005</td>\n      <td>133.399994</td>\n      <td>135.580002</td>\n      <td>133.720001</td>\n      <td>96452100.0</td>\n      <td>133.294067</td>\n    </tr>\n    <tr>\n      <th>2020-12-31</th>\n      <td>134.740005</td>\n      <td>131.720001</td>\n      <td>134.080002</td>\n      <td>132.690002</td>\n      <td>99116600.0</td>\n      <td>132.267349</td>\n    </tr>\n  </tbody>\n</table>\n<p>253 rows × 6 columns</p>\n</div>"
     },
     "metadata": {},
     "execution_count": 6
    }
   ],
   "source": [
    "start = dt.datetime(2020, 1, 1)\n",
    "end = dt.datetime(2020, 12, 31)\n",
    "aapl = pdr.get_data_yahoo('aapl',start,end)\n",
    "aapl"
   ]
  },
  {
   "cell_type": "code",
   "execution_count": 7,
   "metadata": {},
   "outputs": [
    {
     "output_type": "execute_result",
     "data": {
      "text/plain": [
       "                 High        Low       Open      Close       Volume  Adj Close\n",
       "Date                                                                          \n",
       "2020-01-01  75.224998  73.187500  74.059998  74.597504  509062400.0  73.723213\n",
       "2020-01-08  79.392502  74.290001  74.290001  78.169998  726318800.0  77.253838\n",
       "2020-01-15  79.754997  77.387497  77.962502  79.142502  479412400.0  78.214951\n",
       "2020-01-22  80.832497  76.220001  79.644997  79.422501  677016000.0  78.491669\n",
       "2020-01-29  81.962502  75.555000  81.112503  79.712502  852965600.0  78.778267"
      ],
      "text/html": "<div>\n<style scoped>\n    .dataframe tbody tr th:only-of-type {\n        vertical-align: middle;\n    }\n\n    .dataframe tbody tr th {\n        vertical-align: top;\n    }\n\n    .dataframe thead th {\n        text-align: right;\n    }\n</style>\n<table border=\"1\" class=\"dataframe\">\n  <thead>\n    <tr style=\"text-align: right;\">\n      <th></th>\n      <th>High</th>\n      <th>Low</th>\n      <th>Open</th>\n      <th>Close</th>\n      <th>Volume</th>\n      <th>Adj Close</th>\n    </tr>\n    <tr>\n      <th>Date</th>\n      <th></th>\n      <th></th>\n      <th></th>\n      <th></th>\n      <th></th>\n      <th></th>\n    </tr>\n  </thead>\n  <tbody>\n    <tr>\n      <th>2020-01-01</th>\n      <td>75.224998</td>\n      <td>73.187500</td>\n      <td>74.059998</td>\n      <td>74.597504</td>\n      <td>509062400.0</td>\n      <td>73.723213</td>\n    </tr>\n    <tr>\n      <th>2020-01-08</th>\n      <td>79.392502</td>\n      <td>74.290001</td>\n      <td>74.290001</td>\n      <td>78.169998</td>\n      <td>726318800.0</td>\n      <td>77.253838</td>\n    </tr>\n    <tr>\n      <th>2020-01-15</th>\n      <td>79.754997</td>\n      <td>77.387497</td>\n      <td>77.962502</td>\n      <td>79.142502</td>\n      <td>479412400.0</td>\n      <td>78.214951</td>\n    </tr>\n    <tr>\n      <th>2020-01-22</th>\n      <td>80.832497</td>\n      <td>76.220001</td>\n      <td>79.644997</td>\n      <td>79.422501</td>\n      <td>677016000.0</td>\n      <td>78.491669</td>\n    </tr>\n    <tr>\n      <th>2020-01-29</th>\n      <td>81.962502</td>\n      <td>75.555000</td>\n      <td>81.112503</td>\n      <td>79.712502</td>\n      <td>852965600.0</td>\n      <td>78.778267</td>\n    </tr>\n  </tbody>\n</table>\n</div>"
     },
     "metadata": {},
     "execution_count": 7
    }
   ],
   "source": [
    "start = dt.datetime(2020, 1, 1)\n",
    "end = dt.datetime(2020, 12, 31)\n",
    "aapl_w = pdr.get_data_yahoo('aapl',start,end,interval='w')\n",
    "aapl_w.head()"
   ]
  },
  {
   "cell_type": "code",
   "execution_count": 8,
   "metadata": {},
   "outputs": [
    {
     "output_type": "execute_result",
     "data": {
      "text/plain": [
       "                 High        Low       Open      Close        Volume  \\\n",
       "Date                                                                   \n",
       "2020-01-01  81.962502  73.187500  74.059998  77.377502  2.934370e+09   \n",
       "2020-02-01  81.805000  64.092499  76.074997  68.339996  3.019279e+09   \n",
       "2020-03-01  76.000000  53.152500  70.570000  63.572498  6.280072e+09   \n",
       "2020-04-01  73.632500  59.224998  61.625000  73.449997  3.265299e+09   \n",
       "2020-05-01  81.059998  71.462502  71.562500  79.485001  2.805936e+09   \n",
       "\n",
       "            Adj Close  \n",
       "Date                   \n",
       "2020-01-01  76.470634  \n",
       "2020-02-01  67.539055  \n",
       "2020-03-01  62.976532  \n",
       "2020-04-01  72.761436  \n",
       "2020-05-01  78.739868  "
      ],
      "text/html": "<div>\n<style scoped>\n    .dataframe tbody tr th:only-of-type {\n        vertical-align: middle;\n    }\n\n    .dataframe tbody tr th {\n        vertical-align: top;\n    }\n\n    .dataframe thead th {\n        text-align: right;\n    }\n</style>\n<table border=\"1\" class=\"dataframe\">\n  <thead>\n    <tr style=\"text-align: right;\">\n      <th></th>\n      <th>High</th>\n      <th>Low</th>\n      <th>Open</th>\n      <th>Close</th>\n      <th>Volume</th>\n      <th>Adj Close</th>\n    </tr>\n    <tr>\n      <th>Date</th>\n      <th></th>\n      <th></th>\n      <th></th>\n      <th></th>\n      <th></th>\n      <th></th>\n    </tr>\n  </thead>\n  <tbody>\n    <tr>\n      <th>2020-01-01</th>\n      <td>81.962502</td>\n      <td>73.187500</td>\n      <td>74.059998</td>\n      <td>77.377502</td>\n      <td>2.934370e+09</td>\n      <td>76.470634</td>\n    </tr>\n    <tr>\n      <th>2020-02-01</th>\n      <td>81.805000</td>\n      <td>64.092499</td>\n      <td>76.074997</td>\n      <td>68.339996</td>\n      <td>3.019279e+09</td>\n      <td>67.539055</td>\n    </tr>\n    <tr>\n      <th>2020-03-01</th>\n      <td>76.000000</td>\n      <td>53.152500</td>\n      <td>70.570000</td>\n      <td>63.572498</td>\n      <td>6.280072e+09</td>\n      <td>62.976532</td>\n    </tr>\n    <tr>\n      <th>2020-04-01</th>\n      <td>73.632500</td>\n      <td>59.224998</td>\n      <td>61.625000</td>\n      <td>73.449997</td>\n      <td>3.265299e+09</td>\n      <td>72.761436</td>\n    </tr>\n    <tr>\n      <th>2020-05-01</th>\n      <td>81.059998</td>\n      <td>71.462502</td>\n      <td>71.562500</td>\n      <td>79.485001</td>\n      <td>2.805936e+09</td>\n      <td>78.739868</td>\n    </tr>\n  </tbody>\n</table>\n</div>"
     },
     "metadata": {},
     "execution_count": 8
    }
   ],
   "source": [
    "start = dt.datetime(2020, 1, 1)\n",
    "end = dt.datetime(2020, 12, 31)\n",
    "aapl_m = pdr.get_data_yahoo('aapl',start,end,interval='m')\n",
    "aapl_m.head()"
   ]
  },
  {
   "cell_type": "code",
   "execution_count": 9,
   "metadata": {},
   "outputs": [
    {
     "output_type": "execute_result",
     "data": {
      "text/plain": [
       "              Open    High     Low   Close     Volume\n",
       "Date                                                 \n",
       "2020-12-31  133.88  134.54  131.52  132.49   99264699\n",
       "2020-12-30  135.34  135.79  133.20  133.52   96596256\n",
       "2020-12-29  137.84  138.58  134.14  134.67  121228209\n",
       "2020-12-28  133.79  137.14  133.31  136.49  124672261\n",
       "2020-12-24  131.12  133.26  130.90  131.77   55012148"
      ],
      "text/html": "<div>\n<style scoped>\n    .dataframe tbody tr th:only-of-type {\n        vertical-align: middle;\n    }\n\n    .dataframe tbody tr th {\n        vertical-align: top;\n    }\n\n    .dataframe thead th {\n        text-align: right;\n    }\n</style>\n<table border=\"1\" class=\"dataframe\">\n  <thead>\n    <tr style=\"text-align: right;\">\n      <th></th>\n      <th>Open</th>\n      <th>High</th>\n      <th>Low</th>\n      <th>Close</th>\n      <th>Volume</th>\n    </tr>\n    <tr>\n      <th>Date</th>\n      <th></th>\n      <th></th>\n      <th></th>\n      <th></th>\n      <th></th>\n    </tr>\n  </thead>\n  <tbody>\n    <tr>\n      <th>2020-12-31</th>\n      <td>133.88</td>\n      <td>134.54</td>\n      <td>131.52</td>\n      <td>132.49</td>\n      <td>99264699</td>\n    </tr>\n    <tr>\n      <th>2020-12-30</th>\n      <td>135.34</td>\n      <td>135.79</td>\n      <td>133.20</td>\n      <td>133.52</td>\n      <td>96596256</td>\n    </tr>\n    <tr>\n      <th>2020-12-29</th>\n      <td>137.84</td>\n      <td>138.58</td>\n      <td>134.14</td>\n      <td>134.67</td>\n      <td>121228209</td>\n    </tr>\n    <tr>\n      <th>2020-12-28</th>\n      <td>133.79</td>\n      <td>137.14</td>\n      <td>133.31</td>\n      <td>136.49</td>\n      <td>124672261</td>\n    </tr>\n    <tr>\n      <th>2020-12-24</th>\n      <td>131.12</td>\n      <td>133.26</td>\n      <td>130.90</td>\n      <td>131.77</td>\n      <td>55012148</td>\n    </tr>\n  </tbody>\n</table>\n</div>"
     },
     "metadata": {},
     "execution_count": 9
    }
   ],
   "source": [
    "pdr.get_data_stooq(\"AAPL\", start, end).head()"
   ]
  },
  {
   "cell_type": "code",
   "execution_count": 10,
   "metadata": {},
   "outputs": [],
   "source": [
    "nasdaq_symbols = pdr.get_nasdaq_symbols()"
   ]
  },
  {
   "cell_type": "code",
   "execution_count": 11,
   "metadata": {},
   "outputs": [
    {
     "output_type": "execute_result",
     "data": {
      "text/plain": [
       "10772"
      ]
     },
     "metadata": {},
     "execution_count": 11
    }
   ],
   "source": [
    "len(nasdaq_symbols)"
   ]
  },
  {
   "cell_type": "code",
   "execution_count": 12,
   "metadata": {},
   "outputs": [
    {
     "output_type": "execute_result",
     "data": {
      "text/plain": [
       "        Nasdaq Traded                                      Security Name  \\\n",
       "Symbol                                                                     \n",
       "A                True            Agilent Technologies, Inc. Common Stock   \n",
       "AA               True                    Alcoa Corporation Common Stock    \n",
       "AAA              True  Listed Funds Trust AAF First Priority CLO Bond...   \n",
       "AAAU             True             Goldman Sachs Physical Gold ETF Shares   \n",
       "AAC              True  Ares Acquisition Corporation Class A Ordinary ...   \n",
       "\n",
       "       Listing Exchange Market Category    ETF  Round Lot Size  Test Issue  \\\n",
       "Symbol                                                                       \n",
       "A                     N                  False           100.0       False   \n",
       "AA                    N                  False           100.0       False   \n",
       "AAA                   P                   True           100.0       False   \n",
       "AAAU                  P                   True           100.0       False   \n",
       "AAC                   N                  False           100.0       False   \n",
       "\n",
       "       Financial Status CQS Symbol NASDAQ Symbol  NextShares  \n",
       "Symbol                                                        \n",
       "A                   NaN          A             A       False  \n",
       "AA                  NaN         AA            AA       False  \n",
       "AAA                 NaN        AAA           AAA       False  \n",
       "AAAU                NaN       AAAU          AAAU       False  \n",
       "AAC                 NaN        AAC           AAC       False  "
      ],
      "text/html": "<div>\n<style scoped>\n    .dataframe tbody tr th:only-of-type {\n        vertical-align: middle;\n    }\n\n    .dataframe tbody tr th {\n        vertical-align: top;\n    }\n\n    .dataframe thead th {\n        text-align: right;\n    }\n</style>\n<table border=\"1\" class=\"dataframe\">\n  <thead>\n    <tr style=\"text-align: right;\">\n      <th></th>\n      <th>Nasdaq Traded</th>\n      <th>Security Name</th>\n      <th>Listing Exchange</th>\n      <th>Market Category</th>\n      <th>ETF</th>\n      <th>Round Lot Size</th>\n      <th>Test Issue</th>\n      <th>Financial Status</th>\n      <th>CQS Symbol</th>\n      <th>NASDAQ Symbol</th>\n      <th>NextShares</th>\n    </tr>\n    <tr>\n      <th>Symbol</th>\n      <th></th>\n      <th></th>\n      <th></th>\n      <th></th>\n      <th></th>\n      <th></th>\n      <th></th>\n      <th></th>\n      <th></th>\n      <th></th>\n      <th></th>\n    </tr>\n  </thead>\n  <tbody>\n    <tr>\n      <th>A</th>\n      <td>True</td>\n      <td>Agilent Technologies, Inc. Common Stock</td>\n      <td>N</td>\n      <td></td>\n      <td>False</td>\n      <td>100.0</td>\n      <td>False</td>\n      <td>NaN</td>\n      <td>A</td>\n      <td>A</td>\n      <td>False</td>\n    </tr>\n    <tr>\n      <th>AA</th>\n      <td>True</td>\n      <td>Alcoa Corporation Common Stock</td>\n      <td>N</td>\n      <td></td>\n      <td>False</td>\n      <td>100.0</td>\n      <td>False</td>\n      <td>NaN</td>\n      <td>AA</td>\n      <td>AA</td>\n      <td>False</td>\n    </tr>\n    <tr>\n      <th>AAA</th>\n      <td>True</td>\n      <td>Listed Funds Trust AAF First Priority CLO Bond...</td>\n      <td>P</td>\n      <td></td>\n      <td>True</td>\n      <td>100.0</td>\n      <td>False</td>\n      <td>NaN</td>\n      <td>AAA</td>\n      <td>AAA</td>\n      <td>False</td>\n    </tr>\n    <tr>\n      <th>AAAU</th>\n      <td>True</td>\n      <td>Goldman Sachs Physical Gold ETF Shares</td>\n      <td>P</td>\n      <td></td>\n      <td>True</td>\n      <td>100.0</td>\n      <td>False</td>\n      <td>NaN</td>\n      <td>AAAU</td>\n      <td>AAAU</td>\n      <td>False</td>\n    </tr>\n    <tr>\n      <th>AAC</th>\n      <td>True</td>\n      <td>Ares Acquisition Corporation Class A Ordinary ...</td>\n      <td>N</td>\n      <td></td>\n      <td>False</td>\n      <td>100.0</td>\n      <td>False</td>\n      <td>NaN</td>\n      <td>AAC</td>\n      <td>AAC</td>\n      <td>False</td>\n    </tr>\n  </tbody>\n</table>\n</div>"
     },
     "metadata": {},
     "execution_count": 12
    }
   ],
   "source": [
    "nasdaq_symbols.head()"
   ]
  },
  {
   "cell_type": "code",
   "execution_count": 13,
   "metadata": {},
   "outputs": [
    {
     "output_type": "execute_result",
     "data": {
      "text/plain": [
       "Nasdaq Traded                            True\n",
       "Security Name       Apple Inc. - Common Stock\n",
       "Listing Exchange                            Q\n",
       "Market Category                             Q\n",
       "ETF                                     False\n",
       "Round Lot Size                          100.0\n",
       "Test Issue                              False\n",
       "Financial Status                            N\n",
       "CQS Symbol                                NaN\n",
       "NASDAQ Symbol                            AAPL\n",
       "NextShares                              False\n",
       "Name: AAPL, dtype: object"
      ]
     },
     "metadata": {},
     "execution_count": 13
    }
   ],
   "source": [
    "nasdaq_symbols.loc['AAPL']"
   ]
  },
  {
   "cell_type": "code",
   "execution_count": 14,
   "metadata": {},
   "outputs": [],
   "source": [
    "from pandas_datareader import wb"
   ]
  },
  {
   "cell_type": "code",
   "execution_count": 15,
   "metadata": {},
   "outputs": [],
   "source": [
    "wb_data = wb.download(indicator=\"NY.GDP.PCAP.KD\", country=['FR', 'US', 'DK','AR'], start=2010, end=2020)"
   ]
  },
  {
   "cell_type": "code",
   "execution_count": 16,
   "metadata": {},
   "outputs": [
    {
     "output_type": "execute_result",
     "data": {
      "text/plain": [
       "              NY.GDP.PCAP.KD                                            \\\n",
       "year                    2010          2011          2012          2013   \n",
       "country                                                                  \n",
       "Argentina       10385.964432  10883.315359  10649.837287  10784.630699   \n",
       "Denmark         58041.398436  58575.607802  58487.793542  58788.084162   \n",
       "France          40638.334004  41329.035361  41258.274731  41282.990800   \n",
       "United States   48467.515777  48866.053276  49603.253472  50171.237131   \n",
       "\n",
       "                                                                       \\\n",
       "year                   2014          2015          2016          2017   \n",
       "country                                                                 \n",
       "Argentina      10398.694007  10568.157809  10239.481348  10419.455405   \n",
       "Denmark        59437.947318  60402.129644  61877.976479  63215.998067   \n",
       "France         41480.769608  41793.544712  42140.036880  43015.210642   \n",
       "United States  51065.682692  52168.126236  52643.917842  53552.485014   \n",
       "\n",
       "                                                \n",
       "year                   2018          2019 2020  \n",
       "country                                         \n",
       "Argentina      10049.555239   9742.455417  NaN  \n",
       "Denmark        64271.878266  65867.001720  NaN  \n",
       "France         43720.026343  44320.057726  NaN  \n",
       "United States  54832.978233  55753.144369  NaN  "
      ],
      "text/html": "<div>\n<style scoped>\n    .dataframe tbody tr th:only-of-type {\n        vertical-align: middle;\n    }\n\n    .dataframe tbody tr th {\n        vertical-align: top;\n    }\n\n    .dataframe thead tr th {\n        text-align: left;\n    }\n\n    .dataframe thead tr:last-of-type th {\n        text-align: right;\n    }\n</style>\n<table border=\"1\" class=\"dataframe\">\n  <thead>\n    <tr>\n      <th></th>\n      <th colspan=\"11\" halign=\"left\">NY.GDP.PCAP.KD</th>\n    </tr>\n    <tr>\n      <th>year</th>\n      <th>2010</th>\n      <th>2011</th>\n      <th>2012</th>\n      <th>2013</th>\n      <th>2014</th>\n      <th>2015</th>\n      <th>2016</th>\n      <th>2017</th>\n      <th>2018</th>\n      <th>2019</th>\n      <th>2020</th>\n    </tr>\n    <tr>\n      <th>country</th>\n      <th></th>\n      <th></th>\n      <th></th>\n      <th></th>\n      <th></th>\n      <th></th>\n      <th></th>\n      <th></th>\n      <th></th>\n      <th></th>\n      <th></th>\n    </tr>\n  </thead>\n  <tbody>\n    <tr>\n      <th>Argentina</th>\n      <td>10385.964432</td>\n      <td>10883.315359</td>\n      <td>10649.837287</td>\n      <td>10784.630699</td>\n      <td>10398.694007</td>\n      <td>10568.157809</td>\n      <td>10239.481348</td>\n      <td>10419.455405</td>\n      <td>10049.555239</td>\n      <td>9742.455417</td>\n      <td>NaN</td>\n    </tr>\n    <tr>\n      <th>Denmark</th>\n      <td>58041.398436</td>\n      <td>58575.607802</td>\n      <td>58487.793542</td>\n      <td>58788.084162</td>\n      <td>59437.947318</td>\n      <td>60402.129644</td>\n      <td>61877.976479</td>\n      <td>63215.998067</td>\n      <td>64271.878266</td>\n      <td>65867.001720</td>\n      <td>NaN</td>\n    </tr>\n    <tr>\n      <th>France</th>\n      <td>40638.334004</td>\n      <td>41329.035361</td>\n      <td>41258.274731</td>\n      <td>41282.990800</td>\n      <td>41480.769608</td>\n      <td>41793.544712</td>\n      <td>42140.036880</td>\n      <td>43015.210642</td>\n      <td>43720.026343</td>\n      <td>44320.057726</td>\n      <td>NaN</td>\n    </tr>\n    <tr>\n      <th>United States</th>\n      <td>48467.515777</td>\n      <td>48866.053276</td>\n      <td>49603.253472</td>\n      <td>50171.237131</td>\n      <td>51065.682692</td>\n      <td>52168.126236</td>\n      <td>52643.917842</td>\n      <td>53552.485014</td>\n      <td>54832.978233</td>\n      <td>55753.144369</td>\n      <td>NaN</td>\n    </tr>\n  </tbody>\n</table>\n</div>"
     },
     "metadata": {},
     "execution_count": 16
    }
   ],
   "source": [
    "wb_data.unstack(1)"
   ]
  },
  {
   "cell_type": "code",
   "execution_count": 17,
   "metadata": {},
   "outputs": [],
   "source": [
    "tickers = ['AAPL','TSLA','MSFT','AMZN']\n",
    "start = dt.datetime(2020,6,1)\n",
    "end = dt.datetime(2021,5,31)"
   ]
  },
  {
   "cell_type": "code",
   "execution_count": 18,
   "metadata": {},
   "outputs": [],
   "source": [
    "data = pdr.get_data_yahoo(tickers,start,end)"
   ]
  },
  {
   "cell_type": "code",
   "execution_count": 19,
   "metadata": {},
   "outputs": [
    {
     "output_type": "execute_result",
     "data": {
      "text/plain": [
       "Attributes   Adj Close                                            Close  \\\n",
       "Symbols           AAPL        TSLA        MSFT         AMZN        AAPL   \n",
       "Date                                                                      \n",
       "2020-06-01   79.923965  179.619995  181.076721  2471.040039   80.462502   \n",
       "2020-06-02   80.293968  176.311996  183.136765  2472.409912   80.834999   \n",
       "2020-06-03   80.735992  176.591995  183.582458  2478.399902   81.279999   \n",
       "2020-06-04   80.040680  172.876007  181.165863  2460.600098   80.580002   \n",
       "2020-06-05   82.320328  177.132004  185.404800  2483.000000   82.875000   \n",
       "...                ...         ...         ...          ...         ...   \n",
       "2021-05-24  127.099998  606.440002  250.779999  3244.989990  127.099998   \n",
       "2021-05-25  126.900002  604.690002  251.720001  3259.050049  126.900002   \n",
       "2021-05-26  126.849998  619.130005  251.490005  3265.159912  126.849998   \n",
       "2021-05-27  125.279999  630.849976  249.309998  3230.110107  125.279999   \n",
       "2021-05-28  124.610001  625.219971  249.679993  3223.070068  124.610001   \n",
       "\n",
       "Attributes                                             High              ...  \\\n",
       "Symbols           TSLA        MSFT         AMZN        AAPL        TSLA  ...   \n",
       "Date                                                                     ...   \n",
       "2020-06-01  179.619995  182.830002  2471.040039   80.587502  179.800003  ...   \n",
       "2020-06-02  176.311996  184.910004  2472.409912   80.860001  181.731995  ...   \n",
       "2020-06-03  176.591995  185.360001  2478.399902   81.550003  179.587997  ...   \n",
       "2020-06-04  172.876007  182.919998  2460.600098   81.404999  179.149994  ...   \n",
       "2020-06-05  177.132004  187.199997  2483.000000   82.937500  177.304001  ...   \n",
       "...                ...         ...          ...         ...         ...  ...   \n",
       "2021-05-24  606.440002  250.779999  3244.989990  127.940002  614.479980  ...   \n",
       "2021-05-25  604.690002  251.720001  3259.050049  128.320007  613.989990  ...   \n",
       "2021-05-26  619.130005  251.490005  3265.159912  127.389999  626.169983  ...   \n",
       "2021-05-27  630.849976  249.309998  3230.110107  127.639999  631.130005  ...   \n",
       "2021-05-28  625.219971  249.679993  3223.070068  125.800003  635.590027  ...   \n",
       "\n",
       "Attributes         Low                     Open                          \\\n",
       "Symbols           MSFT         AMZN        AAPL        TSLA        MSFT   \n",
       "Date                                                                      \n",
       "2020-06-01  181.460007  2444.169922   79.437500  171.600006  182.539993   \n",
       "2020-06-02  181.350006  2445.310059   80.187500  178.940002  184.250000   \n",
       "2020-06-03  183.580002  2461.169922   81.165001  177.623993  184.820007   \n",
       "2020-06-04  182.300003  2450.010010   81.097504  177.975998  184.300003   \n",
       "2020-06-05  182.009995  2437.129883   80.837502  175.567993  182.619995   \n",
       "...                ...          ...         ...         ...         ...   \n",
       "2021-05-24  247.509995  3210.500000  126.010002  581.599976  247.789993   \n",
       "2021-05-25  250.820007  3213.760010  127.820000  607.309998  251.770004   \n",
       "2021-05-26  250.750000  3258.510010  126.959999  607.559998  251.429993   \n",
       "2021-05-27  249.250000  3230.040039  126.440002  620.239990  251.169998   \n",
       "2021-05-28  249.559998  3219.699951  125.570000  628.500000  251.000000   \n",
       "\n",
       "Attributes                    Volume                                     \n",
       "Symbols            AMZN         AAPL        TSLA        MSFT       AMZN  \n",
       "Date                                                                     \n",
       "2020-06-01  2448.000000   80791200.0  74697500.0  22622400.0  2928900.0  \n",
       "2020-06-02  2467.000000   87642800.0  67828000.0  30794600.0  2529900.0  \n",
       "2020-06-03  2468.010010  104491200.0  39747500.0  27311000.0  2671000.0  \n",
       "2020-06-04  2477.429932   87560400.0  44438500.0  28761800.0  2948700.0  \n",
       "2020-06-05  2444.510010  137250400.0  39059500.0  39893600.0  3306400.0  \n",
       "...                 ...          ...         ...         ...        ...  \n",
       "2021-05-24  3215.500000   63092900.0  34558100.0  21411500.0  2422800.0  \n",
       "2021-05-25  3266.669922   72009500.0  28005900.0  17704300.0  3261100.0  \n",
       "2021-05-26  3274.590088   56575900.0  28639300.0  17771600.0  2384000.0  \n",
       "2021-05-27  3256.000000   94625600.0  26370600.0  24426200.0  2561200.0  \n",
       "2021-05-28  3242.000000   71311100.0  22737000.0  18270200.0  2329800.0  \n",
       "\n",
       "[252 rows x 24 columns]"
      ],
      "text/html": "<div>\n<style scoped>\n    .dataframe tbody tr th:only-of-type {\n        vertical-align: middle;\n    }\n\n    .dataframe tbody tr th {\n        vertical-align: top;\n    }\n\n    .dataframe thead tr th {\n        text-align: left;\n    }\n\n    .dataframe thead tr:last-of-type th {\n        text-align: right;\n    }\n</style>\n<table border=\"1\" class=\"dataframe\">\n  <thead>\n    <tr>\n      <th>Attributes</th>\n      <th colspan=\"4\" halign=\"left\">Adj Close</th>\n      <th colspan=\"4\" halign=\"left\">Close</th>\n      <th colspan=\"2\" halign=\"left\">High</th>\n      <th>...</th>\n      <th colspan=\"2\" halign=\"left\">Low</th>\n      <th colspan=\"4\" halign=\"left\">Open</th>\n      <th colspan=\"4\" halign=\"left\">Volume</th>\n    </tr>\n    <tr>\n      <th>Symbols</th>\n      <th>AAPL</th>\n      <th>TSLA</th>\n      <th>MSFT</th>\n      <th>AMZN</th>\n      <th>AAPL</th>\n      <th>TSLA</th>\n      <th>MSFT</th>\n      <th>AMZN</th>\n      <th>AAPL</th>\n      <th>TSLA</th>\n      <th>...</th>\n      <th>MSFT</th>\n      <th>AMZN</th>\n      <th>AAPL</th>\n      <th>TSLA</th>\n      <th>MSFT</th>\n      <th>AMZN</th>\n      <th>AAPL</th>\n      <th>TSLA</th>\n      <th>MSFT</th>\n      <th>AMZN</th>\n    </tr>\n    <tr>\n      <th>Date</th>\n      <th></th>\n      <th></th>\n      <th></th>\n      <th></th>\n      <th></th>\n      <th></th>\n      <th></th>\n      <th></th>\n      <th></th>\n      <th></th>\n      <th></th>\n      <th></th>\n      <th></th>\n      <th></th>\n      <th></th>\n      <th></th>\n      <th></th>\n      <th></th>\n      <th></th>\n      <th></th>\n      <th></th>\n    </tr>\n  </thead>\n  <tbody>\n    <tr>\n      <th>2020-06-01</th>\n      <td>79.923965</td>\n      <td>179.619995</td>\n      <td>181.076721</td>\n      <td>2471.040039</td>\n      <td>80.462502</td>\n      <td>179.619995</td>\n      <td>182.830002</td>\n      <td>2471.040039</td>\n      <td>80.587502</td>\n      <td>179.800003</td>\n      <td>...</td>\n      <td>181.460007</td>\n      <td>2444.169922</td>\n      <td>79.437500</td>\n      <td>171.600006</td>\n      <td>182.539993</td>\n      <td>2448.000000</td>\n      <td>80791200.0</td>\n      <td>74697500.0</td>\n      <td>22622400.0</td>\n      <td>2928900.0</td>\n    </tr>\n    <tr>\n      <th>2020-06-02</th>\n      <td>80.293968</td>\n      <td>176.311996</td>\n      <td>183.136765</td>\n      <td>2472.409912</td>\n      <td>80.834999</td>\n      <td>176.311996</td>\n      <td>184.910004</td>\n      <td>2472.409912</td>\n      <td>80.860001</td>\n      <td>181.731995</td>\n      <td>...</td>\n      <td>181.350006</td>\n      <td>2445.310059</td>\n      <td>80.187500</td>\n      <td>178.940002</td>\n      <td>184.250000</td>\n      <td>2467.000000</td>\n      <td>87642800.0</td>\n      <td>67828000.0</td>\n      <td>30794600.0</td>\n      <td>2529900.0</td>\n    </tr>\n    <tr>\n      <th>2020-06-03</th>\n      <td>80.735992</td>\n      <td>176.591995</td>\n      <td>183.582458</td>\n      <td>2478.399902</td>\n      <td>81.279999</td>\n      <td>176.591995</td>\n      <td>185.360001</td>\n      <td>2478.399902</td>\n      <td>81.550003</td>\n      <td>179.587997</td>\n      <td>...</td>\n      <td>183.580002</td>\n      <td>2461.169922</td>\n      <td>81.165001</td>\n      <td>177.623993</td>\n      <td>184.820007</td>\n      <td>2468.010010</td>\n      <td>104491200.0</td>\n      <td>39747500.0</td>\n      <td>27311000.0</td>\n      <td>2671000.0</td>\n    </tr>\n    <tr>\n      <th>2020-06-04</th>\n      <td>80.040680</td>\n      <td>172.876007</td>\n      <td>181.165863</td>\n      <td>2460.600098</td>\n      <td>80.580002</td>\n      <td>172.876007</td>\n      <td>182.919998</td>\n      <td>2460.600098</td>\n      <td>81.404999</td>\n      <td>179.149994</td>\n      <td>...</td>\n      <td>182.300003</td>\n      <td>2450.010010</td>\n      <td>81.097504</td>\n      <td>177.975998</td>\n      <td>184.300003</td>\n      <td>2477.429932</td>\n      <td>87560400.0</td>\n      <td>44438500.0</td>\n      <td>28761800.0</td>\n      <td>2948700.0</td>\n    </tr>\n    <tr>\n      <th>2020-06-05</th>\n      <td>82.320328</td>\n      <td>177.132004</td>\n      <td>185.404800</td>\n      <td>2483.000000</td>\n      <td>82.875000</td>\n      <td>177.132004</td>\n      <td>187.199997</td>\n      <td>2483.000000</td>\n      <td>82.937500</td>\n      <td>177.304001</td>\n      <td>...</td>\n      <td>182.009995</td>\n      <td>2437.129883</td>\n      <td>80.837502</td>\n      <td>175.567993</td>\n      <td>182.619995</td>\n      <td>2444.510010</td>\n      <td>137250400.0</td>\n      <td>39059500.0</td>\n      <td>39893600.0</td>\n      <td>3306400.0</td>\n    </tr>\n    <tr>\n      <th>...</th>\n      <td>...</td>\n      <td>...</td>\n      <td>...</td>\n      <td>...</td>\n      <td>...</td>\n      <td>...</td>\n      <td>...</td>\n      <td>...</td>\n      <td>...</td>\n      <td>...</td>\n      <td>...</td>\n      <td>...</td>\n      <td>...</td>\n      <td>...</td>\n      <td>...</td>\n      <td>...</td>\n      <td>...</td>\n      <td>...</td>\n      <td>...</td>\n      <td>...</td>\n      <td>...</td>\n    </tr>\n    <tr>\n      <th>2021-05-24</th>\n      <td>127.099998</td>\n      <td>606.440002</td>\n      <td>250.779999</td>\n      <td>3244.989990</td>\n      <td>127.099998</td>\n      <td>606.440002</td>\n      <td>250.779999</td>\n      <td>3244.989990</td>\n      <td>127.940002</td>\n      <td>614.479980</td>\n      <td>...</td>\n      <td>247.509995</td>\n      <td>3210.500000</td>\n      <td>126.010002</td>\n      <td>581.599976</td>\n      <td>247.789993</td>\n      <td>3215.500000</td>\n      <td>63092900.0</td>\n      <td>34558100.0</td>\n      <td>21411500.0</td>\n      <td>2422800.0</td>\n    </tr>\n    <tr>\n      <th>2021-05-25</th>\n      <td>126.900002</td>\n      <td>604.690002</td>\n      <td>251.720001</td>\n      <td>3259.050049</td>\n      <td>126.900002</td>\n      <td>604.690002</td>\n      <td>251.720001</td>\n      <td>3259.050049</td>\n      <td>128.320007</td>\n      <td>613.989990</td>\n      <td>...</td>\n      <td>250.820007</td>\n      <td>3213.760010</td>\n      <td>127.820000</td>\n      <td>607.309998</td>\n      <td>251.770004</td>\n      <td>3266.669922</td>\n      <td>72009500.0</td>\n      <td>28005900.0</td>\n      <td>17704300.0</td>\n      <td>3261100.0</td>\n    </tr>\n    <tr>\n      <th>2021-05-26</th>\n      <td>126.849998</td>\n      <td>619.130005</td>\n      <td>251.490005</td>\n      <td>3265.159912</td>\n      <td>126.849998</td>\n      <td>619.130005</td>\n      <td>251.490005</td>\n      <td>3265.159912</td>\n      <td>127.389999</td>\n      <td>626.169983</td>\n      <td>...</td>\n      <td>250.750000</td>\n      <td>3258.510010</td>\n      <td>126.959999</td>\n      <td>607.559998</td>\n      <td>251.429993</td>\n      <td>3274.590088</td>\n      <td>56575900.0</td>\n      <td>28639300.0</td>\n      <td>17771600.0</td>\n      <td>2384000.0</td>\n    </tr>\n    <tr>\n      <th>2021-05-27</th>\n      <td>125.279999</td>\n      <td>630.849976</td>\n      <td>249.309998</td>\n      <td>3230.110107</td>\n      <td>125.279999</td>\n      <td>630.849976</td>\n      <td>249.309998</td>\n      <td>3230.110107</td>\n      <td>127.639999</td>\n      <td>631.130005</td>\n      <td>...</td>\n      <td>249.250000</td>\n      <td>3230.040039</td>\n      <td>126.440002</td>\n      <td>620.239990</td>\n      <td>251.169998</td>\n      <td>3256.000000</td>\n      <td>94625600.0</td>\n      <td>26370600.0</td>\n      <td>24426200.0</td>\n      <td>2561200.0</td>\n    </tr>\n    <tr>\n      <th>2021-05-28</th>\n      <td>124.610001</td>\n      <td>625.219971</td>\n      <td>249.679993</td>\n      <td>3223.070068</td>\n      <td>124.610001</td>\n      <td>625.219971</td>\n      <td>249.679993</td>\n      <td>3223.070068</td>\n      <td>125.800003</td>\n      <td>635.590027</td>\n      <td>...</td>\n      <td>249.559998</td>\n      <td>3219.699951</td>\n      <td>125.570000</td>\n      <td>628.500000</td>\n      <td>251.000000</td>\n      <td>3242.000000</td>\n      <td>71311100.0</td>\n      <td>22737000.0</td>\n      <td>18270200.0</td>\n      <td>2329800.0</td>\n    </tr>\n  </tbody>\n</table>\n<p>252 rows × 24 columns</p>\n</div>"
     },
     "metadata": {},
     "execution_count": 19
    }
   ],
   "source": [
    "data"
   ]
  },
  {
   "cell_type": "code",
   "execution_count": 20,
   "metadata": {},
   "outputs": [
    {
     "output_type": "execute_result",
     "data": {
      "text/plain": [
       "Text(0, 0.5, 'Price')"
      ]
     },
     "metadata": {},
     "execution_count": 20
    },
    {
     "output_type": "display_data",
     "data": {
      "text/plain": "<Figure size 1080x360 with 1 Axes>",
      "image/svg+xml": "<?xml version=\"1.0\" encoding=\"utf-8\" standalone=\"no\"?>\r\n<!DOCTYPE svg PUBLIC \"-//W3C//DTD SVG 1.1//EN\"\r\n  \"http://www.w3.org/Graphics/SVG/1.1/DTD/svg11.dtd\">\r\n<svg height=\"336.649375pt\" version=\"1.1\" viewBox=\"0 0 899.46375 336.649375\" width=\"899.46375pt\" xmlns=\"http://www.w3.org/2000/svg\" xmlns:xlink=\"http://www.w3.org/1999/xlink\">\r\n <metadata>\r\n  <rdf:RDF xmlns:cc=\"http://creativecommons.org/ns#\" xmlns:dc=\"http://purl.org/dc/elements/1.1/\" xmlns:rdf=\"http://www.w3.org/1999/02/22-rdf-syntax-ns#\">\r\n   <cc:Work>\r\n    <dc:type rdf:resource=\"http://purl.org/dc/dcmitype/StillImage\"/>\r\n    <dc:date>2021-06-12T18:36:08.261469</dc:date>\r\n    <dc:format>image/svg+xml</dc:format>\r\n    <dc:creator>\r\n     <cc:Agent>\r\n      <dc:title>Matplotlib v3.4.1, https://matplotlib.org/</dc:title>\r\n     </cc:Agent>\r\n    </dc:creator>\r\n   </cc:Work>\r\n  </rdf:RDF>\r\n </metadata>\r\n <defs>\r\n  <style type=\"text/css\">*{stroke-linecap:butt;stroke-linejoin:round;}</style>\r\n </defs>\r\n <g id=\"figure_1\">\r\n  <g id=\"patch_1\">\r\n   <path d=\"M 0 336.649375 \r\nL 899.46375 336.649375 \r\nL 899.46375 0 \r\nL 0 0 \r\nz\r\n\" style=\"fill:none;\"/>\r\n  </g>\r\n  <g id=\"axes_1\">\r\n   <g id=\"patch_2\">\r\n    <path d=\"M 55.26375 297.1575 \r\nL 892.26375 297.1575 \r\nL 892.26375 25.3575 \r\nL 55.26375 25.3575 \r\nz\r\n\" style=\"fill:#ffffff;\"/>\r\n   </g>\r\n   <g id=\"matplotlib.axis_1\">\r\n    <g id=\"xtick_1\">\r\n     <g id=\"line2d_1\">\r\n      <defs>\r\n       <path d=\"M 0 0 \r\nL 0 3.5 \r\n\" id=\"m8256089d36\" style=\"stroke:#000000;stroke-width:0.8;\"/>\r\n      </defs>\r\n      <g>\r\n       <use style=\"stroke:#000000;stroke-width:0.8;\" x=\"156.542647\" xlink:href=\"#m8256089d36\" y=\"297.1575\"/>\r\n      </g>\r\n     </g>\r\n     <g id=\"text_1\">\r\n      <!-- 2020-07 -->\r\n      <g transform=\"translate(135.651241 311.755937)scale(0.1 -0.1)\">\r\n       <defs>\r\n        <path d=\"M 1228 531 \r\nL 3431 531 \r\nL 3431 0 \r\nL 469 0 \r\nL 469 531 \r\nQ 828 903 1448 1529 \r\nQ 2069 2156 2228 2338 \r\nQ 2531 2678 2651 2914 \r\nQ 2772 3150 2772 3378 \r\nQ 2772 3750 2511 3984 \r\nQ 2250 4219 1831 4219 \r\nQ 1534 4219 1204 4116 \r\nQ 875 4013 500 3803 \r\nL 500 4441 \r\nQ 881 4594 1212 4672 \r\nQ 1544 4750 1819 4750 \r\nQ 2544 4750 2975 4387 \r\nQ 3406 4025 3406 3419 \r\nQ 3406 3131 3298 2873 \r\nQ 3191 2616 2906 2266 \r\nQ 2828 2175 2409 1742 \r\nQ 1991 1309 1228 531 \r\nz\r\n\" id=\"DejaVuSans-32\" transform=\"scale(0.015625)\"/>\r\n        <path d=\"M 2034 4250 \r\nQ 1547 4250 1301 3770 \r\nQ 1056 3291 1056 2328 \r\nQ 1056 1369 1301 889 \r\nQ 1547 409 2034 409 \r\nQ 2525 409 2770 889 \r\nQ 3016 1369 3016 2328 \r\nQ 3016 3291 2770 3770 \r\nQ 2525 4250 2034 4250 \r\nz\r\nM 2034 4750 \r\nQ 2819 4750 3233 4129 \r\nQ 3647 3509 3647 2328 \r\nQ 3647 1150 3233 529 \r\nQ 2819 -91 2034 -91 \r\nQ 1250 -91 836 529 \r\nQ 422 1150 422 2328 \r\nQ 422 3509 836 4129 \r\nQ 1250 4750 2034 4750 \r\nz\r\n\" id=\"DejaVuSans-30\" transform=\"scale(0.015625)\"/>\r\n        <path d=\"M 313 2009 \r\nL 1997 2009 \r\nL 1997 1497 \r\nL 313 1497 \r\nL 313 2009 \r\nz\r\n\" id=\"DejaVuSans-2d\" transform=\"scale(0.015625)\"/>\r\n        <path d=\"M 525 4666 \r\nL 3525 4666 \r\nL 3525 4397 \r\nL 1831 0 \r\nL 1172 0 \r\nL 2766 4134 \r\nL 525 4134 \r\nL 525 4666 \r\nz\r\n\" id=\"DejaVuSans-37\" transform=\"scale(0.015625)\"/>\r\n       </defs>\r\n       <use xlink:href=\"#DejaVuSans-32\"/>\r\n       <use x=\"63.623047\" xlink:href=\"#DejaVuSans-30\"/>\r\n       <use x=\"127.246094\" xlink:href=\"#DejaVuSans-32\"/>\r\n       <use x=\"190.869141\" xlink:href=\"#DejaVuSans-30\"/>\r\n       <use x=\"254.492188\" xlink:href=\"#DejaVuSans-2d\"/>\r\n       <use x=\"290.576172\" xlink:href=\"#DejaVuSans-30\"/>\r\n       <use x=\"354.199219\" xlink:href=\"#DejaVuSans-37\"/>\r\n      </g>\r\n     </g>\r\n    </g>\r\n    <g id=\"xtick_2\">\r\n     <g id=\"line2d_2\">\r\n      <g>\r\n       <use style=\"stroke:#000000;stroke-width:0.8;\" x=\"287.225095\" xlink:href=\"#m8256089d36\" y=\"297.1575\"/>\r\n      </g>\r\n     </g>\r\n     <g id=\"text_2\">\r\n      <!-- 2020-09 -->\r\n      <g transform=\"translate(266.333688 311.755937)scale(0.1 -0.1)\">\r\n       <defs>\r\n        <path d=\"M 703 97 \r\nL 703 672 \r\nQ 941 559 1184 500 \r\nQ 1428 441 1663 441 \r\nQ 2288 441 2617 861 \r\nQ 2947 1281 2994 2138 \r\nQ 2813 1869 2534 1725 \r\nQ 2256 1581 1919 1581 \r\nQ 1219 1581 811 2004 \r\nQ 403 2428 403 3163 \r\nQ 403 3881 828 4315 \r\nQ 1253 4750 1959 4750 \r\nQ 2769 4750 3195 4129 \r\nQ 3622 3509 3622 2328 \r\nQ 3622 1225 3098 567 \r\nQ 2575 -91 1691 -91 \r\nQ 1453 -91 1209 -44 \r\nQ 966 3 703 97 \r\nz\r\nM 1959 2075 \r\nQ 2384 2075 2632 2365 \r\nQ 2881 2656 2881 3163 \r\nQ 2881 3666 2632 3958 \r\nQ 2384 4250 1959 4250 \r\nQ 1534 4250 1286 3958 \r\nQ 1038 3666 1038 3163 \r\nQ 1038 2656 1286 2365 \r\nQ 1534 2075 1959 2075 \r\nz\r\n\" id=\"DejaVuSans-39\" transform=\"scale(0.015625)\"/>\r\n       </defs>\r\n       <use xlink:href=\"#DejaVuSans-32\"/>\r\n       <use x=\"63.623047\" xlink:href=\"#DejaVuSans-30\"/>\r\n       <use x=\"127.246094\" xlink:href=\"#DejaVuSans-32\"/>\r\n       <use x=\"190.869141\" xlink:href=\"#DejaVuSans-30\"/>\r\n       <use x=\"254.492188\" xlink:href=\"#DejaVuSans-2d\"/>\r\n       <use x=\"290.576172\" xlink:href=\"#DejaVuSans-30\"/>\r\n       <use x=\"354.199219\" xlink:href=\"#DejaVuSans-39\"/>\r\n      </g>\r\n     </g>\r\n    </g>\r\n    <g id=\"xtick_3\">\r\n     <g id=\"line2d_3\">\r\n      <g>\r\n       <use style=\"stroke:#000000;stroke-width:0.8;\" x=\"415.799761\" xlink:href=\"#m8256089d36\" y=\"297.1575\"/>\r\n      </g>\r\n     </g>\r\n     <g id=\"text_3\">\r\n      <!-- 2020-11 -->\r\n      <g transform=\"translate(394.908355 311.755937)scale(0.1 -0.1)\">\r\n       <defs>\r\n        <path d=\"M 794 531 \r\nL 1825 531 \r\nL 1825 4091 \r\nL 703 3866 \r\nL 703 4441 \r\nL 1819 4666 \r\nL 2450 4666 \r\nL 2450 531 \r\nL 3481 531 \r\nL 3481 0 \r\nL 794 0 \r\nL 794 531 \r\nz\r\n\" id=\"DejaVuSans-31\" transform=\"scale(0.015625)\"/>\r\n       </defs>\r\n       <use xlink:href=\"#DejaVuSans-32\"/>\r\n       <use x=\"63.623047\" xlink:href=\"#DejaVuSans-30\"/>\r\n       <use x=\"127.246094\" xlink:href=\"#DejaVuSans-32\"/>\r\n       <use x=\"190.869141\" xlink:href=\"#DejaVuSans-30\"/>\r\n       <use x=\"254.492188\" xlink:href=\"#DejaVuSans-2d\"/>\r\n       <use x=\"290.576172\" xlink:href=\"#DejaVuSans-31\"/>\r\n       <use x=\"354.199219\" xlink:href=\"#DejaVuSans-31\"/>\r\n      </g>\r\n     </g>\r\n    </g>\r\n    <g id=\"xtick_4\">\r\n     <g id=\"line2d_4\">\r\n      <g>\r\n       <use style=\"stroke:#000000;stroke-width:0.8;\" x=\"544.374427\" xlink:href=\"#m8256089d36\" y=\"297.1575\"/>\r\n      </g>\r\n     </g>\r\n     <g id=\"text_4\">\r\n      <!-- 2021-01 -->\r\n      <g transform=\"translate(523.483021 311.755937)scale(0.1 -0.1)\">\r\n       <use xlink:href=\"#DejaVuSans-32\"/>\r\n       <use x=\"63.623047\" xlink:href=\"#DejaVuSans-30\"/>\r\n       <use x=\"127.246094\" xlink:href=\"#DejaVuSans-32\"/>\r\n       <use x=\"190.869141\" xlink:href=\"#DejaVuSans-31\"/>\r\n       <use x=\"254.492188\" xlink:href=\"#DejaVuSans-2d\"/>\r\n       <use x=\"290.576172\" xlink:href=\"#DejaVuSans-30\"/>\r\n       <use x=\"354.199219\" xlink:href=\"#DejaVuSans-31\"/>\r\n      </g>\r\n     </g>\r\n    </g>\r\n    <g id=\"xtick_5\">\r\n     <g id=\"line2d_5\">\r\n      <g>\r\n       <use style=\"stroke:#000000;stroke-width:0.8;\" x=\"668.733531\" xlink:href=\"#m8256089d36\" y=\"297.1575\"/>\r\n      </g>\r\n     </g>\r\n     <g id=\"text_5\">\r\n      <!-- 2021-03 -->\r\n      <g transform=\"translate(647.842125 311.755937)scale(0.1 -0.1)\">\r\n       <defs>\r\n        <path d=\"M 2597 2516 \r\nQ 3050 2419 3304 2112 \r\nQ 3559 1806 3559 1356 \r\nQ 3559 666 3084 287 \r\nQ 2609 -91 1734 -91 \r\nQ 1441 -91 1130 -33 \r\nQ 819 25 488 141 \r\nL 488 750 \r\nQ 750 597 1062 519 \r\nQ 1375 441 1716 441 \r\nQ 2309 441 2620 675 \r\nQ 2931 909 2931 1356 \r\nQ 2931 1769 2642 2001 \r\nQ 2353 2234 1838 2234 \r\nL 1294 2234 \r\nL 1294 2753 \r\nL 1863 2753 \r\nQ 2328 2753 2575 2939 \r\nQ 2822 3125 2822 3475 \r\nQ 2822 3834 2567 4026 \r\nQ 2313 4219 1838 4219 \r\nQ 1578 4219 1281 4162 \r\nQ 984 4106 628 3988 \r\nL 628 4550 \r\nQ 988 4650 1302 4700 \r\nQ 1616 4750 1894 4750 \r\nQ 2613 4750 3031 4423 \r\nQ 3450 4097 3450 3541 \r\nQ 3450 3153 3228 2886 \r\nQ 3006 2619 2597 2516 \r\nz\r\n\" id=\"DejaVuSans-33\" transform=\"scale(0.015625)\"/>\r\n       </defs>\r\n       <use xlink:href=\"#DejaVuSans-32\"/>\r\n       <use x=\"63.623047\" xlink:href=\"#DejaVuSans-30\"/>\r\n       <use x=\"127.246094\" xlink:href=\"#DejaVuSans-32\"/>\r\n       <use x=\"190.869141\" xlink:href=\"#DejaVuSans-31\"/>\r\n       <use x=\"254.492188\" xlink:href=\"#DejaVuSans-2d\"/>\r\n       <use x=\"290.576172\" xlink:href=\"#DejaVuSans-30\"/>\r\n       <use x=\"354.199219\" xlink:href=\"#DejaVuSans-33\"/>\r\n      </g>\r\n     </g>\r\n    </g>\r\n    <g id=\"xtick_6\">\r\n     <g id=\"line2d_6\">\r\n      <g>\r\n       <use style=\"stroke:#000000;stroke-width:0.8;\" x=\"797.308197\" xlink:href=\"#m8256089d36\" y=\"297.1575\"/>\r\n      </g>\r\n     </g>\r\n     <g id=\"text_6\">\r\n      <!-- 2021-05 -->\r\n      <g transform=\"translate(776.416791 311.755937)scale(0.1 -0.1)\">\r\n       <defs>\r\n        <path d=\"M 691 4666 \r\nL 3169 4666 \r\nL 3169 4134 \r\nL 1269 4134 \r\nL 1269 2991 \r\nQ 1406 3038 1543 3061 \r\nQ 1681 3084 1819 3084 \r\nQ 2600 3084 3056 2656 \r\nQ 3513 2228 3513 1497 \r\nQ 3513 744 3044 326 \r\nQ 2575 -91 1722 -91 \r\nQ 1428 -91 1123 -41 \r\nQ 819 9 494 109 \r\nL 494 744 \r\nQ 775 591 1075 516 \r\nQ 1375 441 1709 441 \r\nQ 2250 441 2565 725 \r\nQ 2881 1009 2881 1497 \r\nQ 2881 1984 2565 2268 \r\nQ 2250 2553 1709 2553 \r\nQ 1456 2553 1204 2497 \r\nQ 953 2441 691 2322 \r\nL 691 4666 \r\nz\r\n\" id=\"DejaVuSans-35\" transform=\"scale(0.015625)\"/>\r\n       </defs>\r\n       <use xlink:href=\"#DejaVuSans-32\"/>\r\n       <use x=\"63.623047\" xlink:href=\"#DejaVuSans-30\"/>\r\n       <use x=\"127.246094\" xlink:href=\"#DejaVuSans-32\"/>\r\n       <use x=\"190.869141\" xlink:href=\"#DejaVuSans-31\"/>\r\n       <use x=\"254.492188\" xlink:href=\"#DejaVuSans-2d\"/>\r\n       <use x=\"290.576172\" xlink:href=\"#DejaVuSans-30\"/>\r\n       <use x=\"354.199219\" xlink:href=\"#DejaVuSans-35\"/>\r\n      </g>\r\n     </g>\r\n    </g>\r\n    <g id=\"text_7\">\r\n     <!-- Date -->\r\n     <g transform=\"translate(459.422813 326.95375)scale(0.12 -0.12)\">\r\n      <defs>\r\n       <path d=\"M 1259 4147 \r\nL 1259 519 \r\nL 2022 519 \r\nQ 2988 519 3436 956 \r\nQ 3884 1394 3884 2338 \r\nQ 3884 3275 3436 3711 \r\nQ 2988 4147 2022 4147 \r\nL 1259 4147 \r\nz\r\nM 628 4666 \r\nL 1925 4666 \r\nQ 3281 4666 3915 4102 \r\nQ 4550 3538 4550 2338 \r\nQ 4550 1131 3912 565 \r\nQ 3275 0 1925 0 \r\nL 628 0 \r\nL 628 4666 \r\nz\r\n\" id=\"DejaVuSans-44\" transform=\"scale(0.015625)\"/>\r\n       <path d=\"M 2194 1759 \r\nQ 1497 1759 1228 1600 \r\nQ 959 1441 959 1056 \r\nQ 959 750 1161 570 \r\nQ 1363 391 1709 391 \r\nQ 2188 391 2477 730 \r\nQ 2766 1069 2766 1631 \r\nL 2766 1759 \r\nL 2194 1759 \r\nz\r\nM 3341 1997 \r\nL 3341 0 \r\nL 2766 0 \r\nL 2766 531 \r\nQ 2569 213 2275 61 \r\nQ 1981 -91 1556 -91 \r\nQ 1019 -91 701 211 \r\nQ 384 513 384 1019 \r\nQ 384 1609 779 1909 \r\nQ 1175 2209 1959 2209 \r\nL 2766 2209 \r\nL 2766 2266 \r\nQ 2766 2663 2505 2880 \r\nQ 2244 3097 1772 3097 \r\nQ 1472 3097 1187 3025 \r\nQ 903 2953 641 2809 \r\nL 641 3341 \r\nQ 956 3463 1253 3523 \r\nQ 1550 3584 1831 3584 \r\nQ 2591 3584 2966 3190 \r\nQ 3341 2797 3341 1997 \r\nz\r\n\" id=\"DejaVuSans-61\" transform=\"scale(0.015625)\"/>\r\n       <path d=\"M 1172 4494 \r\nL 1172 3500 \r\nL 2356 3500 \r\nL 2356 3053 \r\nL 1172 3053 \r\nL 1172 1153 \r\nQ 1172 725 1289 603 \r\nQ 1406 481 1766 481 \r\nL 2356 481 \r\nL 2356 0 \r\nL 1766 0 \r\nQ 1100 0 847 248 \r\nQ 594 497 594 1153 \r\nL 594 3053 \r\nL 172 3053 \r\nL 172 3500 \r\nL 594 3500 \r\nL 594 4494 \r\nL 1172 4494 \r\nz\r\n\" id=\"DejaVuSans-74\" transform=\"scale(0.015625)\"/>\r\n       <path d=\"M 3597 1894 \r\nL 3597 1613 \r\nL 953 1613 \r\nQ 991 1019 1311 708 \r\nQ 1631 397 2203 397 \r\nQ 2534 397 2845 478 \r\nQ 3156 559 3463 722 \r\nL 3463 178 \r\nQ 3153 47 2828 -22 \r\nQ 2503 -91 2169 -91 \r\nQ 1331 -91 842 396 \r\nQ 353 884 353 1716 \r\nQ 353 2575 817 3079 \r\nQ 1281 3584 2069 3584 \r\nQ 2775 3584 3186 3129 \r\nQ 3597 2675 3597 1894 \r\nz\r\nM 3022 2063 \r\nQ 3016 2534 2758 2815 \r\nQ 2500 3097 2075 3097 \r\nQ 1594 3097 1305 2825 \r\nQ 1016 2553 972 2059 \r\nL 3022 2063 \r\nz\r\n\" id=\"DejaVuSans-65\" transform=\"scale(0.015625)\"/>\r\n      </defs>\r\n      <use xlink:href=\"#DejaVuSans-44\"/>\r\n      <use x=\"77.001953\" xlink:href=\"#DejaVuSans-61\"/>\r\n      <use x=\"138.28125\" xlink:href=\"#DejaVuSans-74\"/>\r\n      <use x=\"177.490234\" xlink:href=\"#DejaVuSans-65\"/>\r\n     </g>\r\n    </g>\r\n   </g>\r\n   <g id=\"matplotlib.axis_2\">\r\n    <g id=\"ytick_1\">\r\n     <g id=\"line2d_7\">\r\n      <defs>\r\n       <path d=\"M 0 0 \r\nL -3.5 0 \r\n\" id=\"mac1f8bf3fd\" style=\"stroke:#000000;stroke-width:0.8;\"/>\r\n      </defs>\r\n      <g>\r\n       <use style=\"stroke:#000000;stroke-width:0.8;\" x=\"55.26375\" xlink:href=\"#mac1f8bf3fd\" y=\"290.524622\"/>\r\n      </g>\r\n     </g>\r\n     <g id=\"text_8\">\r\n      <!-- 0 -->\r\n      <g transform=\"translate(41.90125 294.323841)scale(0.1 -0.1)\">\r\n       <use xlink:href=\"#DejaVuSans-30\"/>\r\n      </g>\r\n     </g>\r\n    </g>\r\n    <g id=\"ytick_2\">\r\n     <g id=\"line2d_8\">\r\n      <g>\r\n       <use style=\"stroke:#000000;stroke-width:0.8;\" x=\"55.26375\" xlink:href=\"#mac1f8bf3fd\" y=\"254.730178\"/>\r\n      </g>\r\n     </g>\r\n     <g id=\"text_9\">\r\n      <!-- 500 -->\r\n      <g transform=\"translate(29.17625 258.529397)scale(0.1 -0.1)\">\r\n       <use xlink:href=\"#DejaVuSans-35\"/>\r\n       <use x=\"63.623047\" xlink:href=\"#DejaVuSans-30\"/>\r\n       <use x=\"127.246094\" xlink:href=\"#DejaVuSans-30\"/>\r\n      </g>\r\n     </g>\r\n    </g>\r\n    <g id=\"ytick_3\">\r\n     <g id=\"line2d_9\">\r\n      <g>\r\n       <use style=\"stroke:#000000;stroke-width:0.8;\" x=\"55.26375\" xlink:href=\"#mac1f8bf3fd\" y=\"218.935734\"/>\r\n      </g>\r\n     </g>\r\n     <g id=\"text_10\">\r\n      <!-- 1000 -->\r\n      <g transform=\"translate(22.81375 222.734953)scale(0.1 -0.1)\">\r\n       <use xlink:href=\"#DejaVuSans-31\"/>\r\n       <use x=\"63.623047\" xlink:href=\"#DejaVuSans-30\"/>\r\n       <use x=\"127.246094\" xlink:href=\"#DejaVuSans-30\"/>\r\n       <use x=\"190.869141\" xlink:href=\"#DejaVuSans-30\"/>\r\n      </g>\r\n     </g>\r\n    </g>\r\n    <g id=\"ytick_4\">\r\n     <g id=\"line2d_10\">\r\n      <g>\r\n       <use style=\"stroke:#000000;stroke-width:0.8;\" x=\"55.26375\" xlink:href=\"#mac1f8bf3fd\" y=\"183.14129\"/>\r\n      </g>\r\n     </g>\r\n     <g id=\"text_11\">\r\n      <!-- 1500 -->\r\n      <g transform=\"translate(22.81375 186.940508)scale(0.1 -0.1)\">\r\n       <use xlink:href=\"#DejaVuSans-31\"/>\r\n       <use x=\"63.623047\" xlink:href=\"#DejaVuSans-35\"/>\r\n       <use x=\"127.246094\" xlink:href=\"#DejaVuSans-30\"/>\r\n       <use x=\"190.869141\" xlink:href=\"#DejaVuSans-30\"/>\r\n      </g>\r\n     </g>\r\n    </g>\r\n    <g id=\"ytick_5\">\r\n     <g id=\"line2d_11\">\r\n      <g>\r\n       <use style=\"stroke:#000000;stroke-width:0.8;\" x=\"55.26375\" xlink:href=\"#mac1f8bf3fd\" y=\"147.346845\"/>\r\n      </g>\r\n     </g>\r\n     <g id=\"text_12\">\r\n      <!-- 2000 -->\r\n      <g transform=\"translate(22.81375 151.146064)scale(0.1 -0.1)\">\r\n       <use xlink:href=\"#DejaVuSans-32\"/>\r\n       <use x=\"63.623047\" xlink:href=\"#DejaVuSans-30\"/>\r\n       <use x=\"127.246094\" xlink:href=\"#DejaVuSans-30\"/>\r\n       <use x=\"190.869141\" xlink:href=\"#DejaVuSans-30\"/>\r\n      </g>\r\n     </g>\r\n    </g>\r\n    <g id=\"ytick_6\">\r\n     <g id=\"line2d_12\">\r\n      <g>\r\n       <use style=\"stroke:#000000;stroke-width:0.8;\" x=\"55.26375\" xlink:href=\"#mac1f8bf3fd\" y=\"111.552401\"/>\r\n      </g>\r\n     </g>\r\n     <g id=\"text_13\">\r\n      <!-- 2500 -->\r\n      <g transform=\"translate(22.81375 115.35162)scale(0.1 -0.1)\">\r\n       <use xlink:href=\"#DejaVuSans-32\"/>\r\n       <use x=\"63.623047\" xlink:href=\"#DejaVuSans-35\"/>\r\n       <use x=\"127.246094\" xlink:href=\"#DejaVuSans-30\"/>\r\n       <use x=\"190.869141\" xlink:href=\"#DejaVuSans-30\"/>\r\n      </g>\r\n     </g>\r\n    </g>\r\n    <g id=\"ytick_7\">\r\n     <g id=\"line2d_13\">\r\n      <g>\r\n       <use style=\"stroke:#000000;stroke-width:0.8;\" x=\"55.26375\" xlink:href=\"#mac1f8bf3fd\" y=\"75.757957\"/>\r\n      </g>\r\n     </g>\r\n     <g id=\"text_14\">\r\n      <!-- 3000 -->\r\n      <g transform=\"translate(22.81375 79.557176)scale(0.1 -0.1)\">\r\n       <use xlink:href=\"#DejaVuSans-33\"/>\r\n       <use x=\"63.623047\" xlink:href=\"#DejaVuSans-30\"/>\r\n       <use x=\"127.246094\" xlink:href=\"#DejaVuSans-30\"/>\r\n       <use x=\"190.869141\" xlink:href=\"#DejaVuSans-30\"/>\r\n      </g>\r\n     </g>\r\n    </g>\r\n    <g id=\"ytick_8\">\r\n     <g id=\"line2d_14\">\r\n      <g>\r\n       <use style=\"stroke:#000000;stroke-width:0.8;\" x=\"55.26375\" xlink:href=\"#mac1f8bf3fd\" y=\"39.963513\"/>\r\n      </g>\r\n     </g>\r\n     <g id=\"text_15\">\r\n      <!-- 3500 -->\r\n      <g transform=\"translate(22.81375 43.762731)scale(0.1 -0.1)\">\r\n       <use xlink:href=\"#DejaVuSans-33\"/>\r\n       <use x=\"63.623047\" xlink:href=\"#DejaVuSans-35\"/>\r\n       <use x=\"127.246094\" xlink:href=\"#DejaVuSans-30\"/>\r\n       <use x=\"190.869141\" xlink:href=\"#DejaVuSans-30\"/>\r\n      </g>\r\n     </g>\r\n    </g>\r\n    <g id=\"text_16\">\r\n     <!-- Price -->\r\n     <g transform=\"translate(16.318125 175.894687)rotate(-90)scale(0.12 -0.12)\">\r\n      <defs>\r\n       <path d=\"M 1259 4147 \r\nL 1259 2394 \r\nL 2053 2394 \r\nQ 2494 2394 2734 2622 \r\nQ 2975 2850 2975 3272 \r\nQ 2975 3691 2734 3919 \r\nQ 2494 4147 2053 4147 \r\nL 1259 4147 \r\nz\r\nM 628 4666 \r\nL 2053 4666 \r\nQ 2838 4666 3239 4311 \r\nQ 3641 3956 3641 3272 \r\nQ 3641 2581 3239 2228 \r\nQ 2838 1875 2053 1875 \r\nL 1259 1875 \r\nL 1259 0 \r\nL 628 0 \r\nL 628 4666 \r\nz\r\n\" id=\"DejaVuSans-50\" transform=\"scale(0.015625)\"/>\r\n       <path d=\"M 2631 2963 \r\nQ 2534 3019 2420 3045 \r\nQ 2306 3072 2169 3072 \r\nQ 1681 3072 1420 2755 \r\nQ 1159 2438 1159 1844 \r\nL 1159 0 \r\nL 581 0 \r\nL 581 3500 \r\nL 1159 3500 \r\nL 1159 2956 \r\nQ 1341 3275 1631 3429 \r\nQ 1922 3584 2338 3584 \r\nQ 2397 3584 2469 3576 \r\nQ 2541 3569 2628 3553 \r\nL 2631 2963 \r\nz\r\n\" id=\"DejaVuSans-72\" transform=\"scale(0.015625)\"/>\r\n       <path d=\"M 603 3500 \r\nL 1178 3500 \r\nL 1178 0 \r\nL 603 0 \r\nL 603 3500 \r\nz\r\nM 603 4863 \r\nL 1178 4863 \r\nL 1178 4134 \r\nL 603 4134 \r\nL 603 4863 \r\nz\r\n\" id=\"DejaVuSans-69\" transform=\"scale(0.015625)\"/>\r\n       <path d=\"M 3122 3366 \r\nL 3122 2828 \r\nQ 2878 2963 2633 3030 \r\nQ 2388 3097 2138 3097 \r\nQ 1578 3097 1268 2742 \r\nQ 959 2388 959 1747 \r\nQ 959 1106 1268 751 \r\nQ 1578 397 2138 397 \r\nQ 2388 397 2633 464 \r\nQ 2878 531 3122 666 \r\nL 3122 134 \r\nQ 2881 22 2623 -34 \r\nQ 2366 -91 2075 -91 \r\nQ 1284 -91 818 406 \r\nQ 353 903 353 1747 \r\nQ 353 2603 823 3093 \r\nQ 1294 3584 2113 3584 \r\nQ 2378 3584 2631 3529 \r\nQ 2884 3475 3122 3366 \r\nz\r\n\" id=\"DejaVuSans-63\" transform=\"scale(0.015625)\"/>\r\n      </defs>\r\n      <use xlink:href=\"#DejaVuSans-50\"/>\r\n      <use x=\"58.552734\" xlink:href=\"#DejaVuSans-72\"/>\r\n      <use x=\"99.666016\" xlink:href=\"#DejaVuSans-69\"/>\r\n      <use x=\"127.449219\" xlink:href=\"#DejaVuSans-63\"/>\r\n      <use x=\"182.429688\" xlink:href=\"#DejaVuSans-65\"/>\r\n     </g>\r\n    </g>\r\n   </g>\r\n   <g id=\"line2d_15\">\r\n    <path clip-path=\"url(#pa1c3be0ac1)\" d=\"M 93.309205 284.802955 \r\nL 108.063674 284.596559 \r\nL 112.279237 284.252032 \r\nL 114.387019 284.553181 \r\nL 129.141489 284.271764 \r\nL 131.24927 284.307497 \r\nL 143.895959 284.038703 \r\nL 146.00374 284.237988 \r\nL 158.650428 284.05168 \r\nL 175.51268 283.703775 \r\nL 181.836024 283.735242 \r\nL 186.051587 283.575422 \r\nL 190.26715 283.674799 \r\nL 196.590494 283.530446 \r\nL 198.698275 283.626977 \r\nL 200.806057 283.6076 \r\nL 202.913838 283.922438 \r\nL 205.02162 283.938794 \r\nL 211.344964 283.782708 \r\nL 213.452745 283.893461 \r\nL 217.668308 283.684576 \r\nL 219.776089 282.968501 \r\nL 230.314997 282.698106 \r\nL 232.422778 282.425045 \r\nL 234.530559 282.609194 \r\nL 240.853904 282.494145 \r\nL 242.961685 282.732971 \r\nL 245.069466 282.474021 \r\nL 247.177248 282.331545 \r\nL 259.823936 282.281857 \r\nL 261.931718 282.098953 \r\nL 264.039499 281.664757 \r\nL 274.578406 281.511418 \r\nL 278.793969 281.633591 \r\nL 285.117313 281.332076 \r\nL 287.225095 280.965913 \r\nL 289.332876 281.163955 \r\nL 291.440658 281.913378 \r\nL 293.548439 281.907679 \r\nL 301.979565 282.487556 \r\nL 304.087346 282.166986 \r\nL 306.195127 282.439826 \r\nL 308.302909 282.545971 \r\nL 316.734035 282.293788 \r\nL 318.841816 282.536711 \r\nL 320.949597 282.664226 \r\nL 323.057379 282.913559 \r\nL 331.488504 282.559507 \r\nL 333.596286 282.893612 \r\nL 335.704067 282.81525 \r\nL 337.811849 282.526025 \r\nL 344.135193 282.335107 \r\nL 346.242974 282.397084 \r\nL 350.458537 282.204741 \r\nL 352.566319 282.473308 \r\nL 358.889663 282.225401 \r\nL 360.997444 282.463335 \r\nL 363.105226 282.326558 \r\nL 365.213007 282.334395 \r\nL 373.644133 281.66262 \r\nL 375.751914 281.897706 \r\nL 379.967477 281.925489 \r\nL 382.075258 282.045881 \r\nL 388.398603 282.262444 \r\nL 390.506384 282.15345 \r\nL 403.153073 282.328695 \r\nL 405.260854 282.218276 \r\nL 407.368635 282.602962 \r\nL 409.476417 282.309461 \r\nL 411.584198 282.769659 \r\nL 417.907542 282.77607 \r\nL 420.015324 282.657102 \r\nL 424.230887 282.045168 \r\nL 426.338668 282.054801 \r\nL 434.769794 282.248903 \r\nL 436.877575 281.997714 \r\nL 441.093138 282.014126 \r\nL 449.524264 282.004849 \r\nL 451.632045 282.1019 \r\nL 453.739827 282.05837 \r\nL 462.170952 282.400189 \r\nL 466.386515 282.244622 \r\nL 470.602078 282.20466 \r\nL 476.925422 282.029112 \r\nL 479.033204 281.767217 \r\nL 493.787673 281.648759 \r\nL 495.895455 281.834297 \r\nL 498.003236 281.73011 \r\nL 500.111018 281.789339 \r\nL 506.434362 281.834297 \r\nL 508.542143 281.398996 \r\nL 521.188832 281.37402 \r\nL 523.296613 281.113552 \r\nL 525.404395 281.179204 \r\nL 535.943302 280.770306 \r\nL 542.266646 281.05575 \r\nL 550.697772 281.289813 \r\nL 552.805553 281.175636 \r\nL 554.913334 281.490338 \r\nL 557.021116 281.182058 \r\nL 559.128897 281.101421 \r\nL 567.560023 281.333344 \r\nL 569.667804 281.184199 \r\nL 573.883367 281.451803 \r\nL 582.314493 281.402564 \r\nL 588.637837 280.600467 \r\nL 597.068963 280.308601 \r\nL 599.176744 280.387098 \r\nL 603.392307 281.107843 \r\nL 611.823433 280.89162 \r\nL 613.931214 280.966548 \r\nL 616.038996 280.720354 \r\nL 630.793465 280.86722 \r\nL 632.901247 280.850068 \r\nL 641.332373 281.005866 \r\nL 645.547935 281.254574 \r\nL 647.655717 281.243139 \r\nL 656.086842 281.529723 \r\nL 658.194624 281.566172 \r\nL 660.302405 281.87777 \r\nL 662.410187 281.858474 \r\nL 668.733531 281.391791 \r\nL 675.056875 281.939232 \r\nL 677.164657 281.847039 \r\nL 683.488001 282.208665 \r\nL 685.595782 281.870623 \r\nL 687.703564 281.949952 \r\nL 689.811345 281.808447 \r\nL 691.919126 281.874912 \r\nL 702.458034 281.608338 \r\nL 704.565815 281.910645 \r\nL 706.673596 281.949238 \r\nL 712.996941 281.706248 \r\nL 715.104722 281.766995 \r\nL 717.212503 281.942091 \r\nL 727.751411 281.849183 \r\nL 729.859192 281.95567 \r\nL 734.074755 281.734121 \r\nL 746.721443 281.38393 \r\nL 750.937006 281.019445 \r\nL 757.26035 281.145228 \r\nL 759.368132 280.917247 \r\nL 761.475913 281.088769 \r\nL 763.583695 280.912244 \r\nL 765.691476 280.936543 \r\nL 772.01482 280.887946 \r\nL 774.122602 281.011584 \r\nL 776.230383 280.983712 \r\nL 778.338165 281.0952 \r\nL 780.445946 280.925108 \r\nL 790.984853 280.977995 \r\nL 793.092634 280.985141 \r\nL 795.200416 281.129505 \r\nL 801.52376 281.052321 \r\nL 803.631541 281.387503 \r\nL 807.847104 281.252429 \r\nL 809.954886 281.203033 \r\nL 818.386011 281.510865 \r\nL 820.493793 281.735655 \r\nL 824.709356 281.400619 \r\nL 835.248263 281.598204 \r\nL 837.356044 281.410641 \r\nL 839.463826 281.545228 \r\nL 850.002733 281.443572 \r\nL 854.218295 281.603931 \r\nL 854.218295 281.603931 \r\n\" style=\"fill:none;stroke:#1f77b4;stroke-linecap:square;stroke-width:1.5;\"/>\r\n   </g>\r\n   <g id=\"line2d_16\">\r\n    <path clip-path=\"url(#pa1c3be0ac1)\" d=\"M 93.309205 277.665827 \r\nL 95.416986 277.902643 \r\nL 97.524767 277.882598 \r\nL 99.632549 278.148621 \r\nL 108.063674 276.923879 \r\nL 110.171456 277.056318 \r\nL 112.279237 275.848185 \r\nL 114.387019 276.595716 \r\nL 116.4948 277.133491 \r\nL 122.818144 276.337137 \r\nL 124.925926 276.462704 \r\nL 129.141489 276.150146 \r\nL 137.572614 276.28817 \r\nL 139.680396 276.181359 \r\nL 141.788177 276.767386 \r\nL 143.895959 276.40758 \r\nL 146.00374 276.783279 \r\nL 152.327084 276.072974 \r\nL 154.434866 275.064142 \r\nL 156.542647 274.494009 \r\nL 158.650428 273.219298 \r\nL 167.081554 270.886644 \r\nL 169.189335 270.624917 \r\nL 171.297117 270.968257 \r\nL 173.404898 270.561632 \r\nL 175.51268 268.408668 \r\nL 181.836024 269.090051 \r\nL 183.943805 268.807418 \r\nL 186.051587 268.389195 \r\nL 188.159368 269.038793 \r\nL 190.26715 269.035929 \r\nL 196.590494 267.000513 \r\nL 198.698275 268.069193 \r\nL 200.806057 267.725995 \r\nL 202.913838 268.860822 \r\nL 205.02162 270.236332 \r\nL 211.344964 268.480971 \r\nL 213.452745 269.384566 \r\nL 215.560527 269.060699 \r\nL 217.668308 269.227072 \r\nL 219.776089 270.039318 \r\nL 226.099434 269.262723 \r\nL 232.422778 269.197148 \r\nL 234.530559 269.725044 \r\nL 240.853904 270.213853 \r\nL 242.961685 270.846413 \r\nL 245.069466 268.263915 \r\nL 247.177248 267.315504 \r\nL 249.285029 266.890124 \r\nL 255.608374 264.242338 \r\nL 257.716155 263.505687 \r\nL 259.823936 263.628248 \r\nL 261.931718 261.862866 \r\nL 264.039499 261.173464 \r\nL 270.362843 261.685755 \r\nL 272.470625 261.55489 \r\nL 274.578406 259.696013 \r\nL 276.686188 258.470698 \r\nL 278.793969 258.833654 \r\nL 285.117313 254.850447 \r\nL 287.225095 256.516322 \r\nL 289.332876 258.497902 \r\nL 291.440658 261.387945 \r\nL 293.548439 260.577558 \r\nL 301.979565 266.885256 \r\nL 304.087346 264.303044 \r\nL 306.195127 263.940805 \r\nL 308.302909 263.842012 \r\nL 314.626253 260.484493 \r\nL 316.734035 258.326803 \r\nL 318.841816 258.899514 \r\nL 320.949597 260.21174 \r\nL 323.057379 258.871596 \r\nL 329.380723 258.353291 \r\nL 331.488504 260.154467 \r\nL 333.596286 263.295074 \r\nL 335.704067 262.763167 \r\nL 337.811849 261.363605 \r\nL 344.135193 260.371382 \r\nL 346.242974 260.523866 \r\nL 348.350756 259.812273 \r\nL 350.458537 258.441346 \r\nL 352.566319 260.808791 \r\nL 358.889663 260.050665 \r\nL 360.997444 260.888254 \r\nL 363.105226 260.077869 \r\nL 365.213007 260.033482 \r\nL 367.320789 259.455045 \r\nL 373.644133 258.860858 \r\nL 375.751914 258.549446 \r\nL 377.859696 257.500669 \r\nL 379.967477 258.389802 \r\nL 382.075258 259.049135 \r\nL 388.398603 259.681983 \r\nL 390.506384 260.318407 \r\nL 392.614166 260.268293 \r\nL 394.721947 260.042789 \r\nL 396.829728 260.412188 \r\nL 403.153073 260.437244 \r\nL 405.260854 260.122254 \r\nL 407.368635 261.458103 \r\nL 409.476417 261.11376 \r\nL 411.584198 262.745269 \r\nL 417.907542 261.852556 \r\nL 420.015324 260.178093 \r\nL 422.123105 260.387131 \r\nL 424.230887 259.162246 \r\nL 426.338668 259.744979 \r\nL 432.662012 260.367087 \r\nL 434.769794 261.147407 \r\nL 436.877575 260.662749 \r\nL 438.985357 261.047181 \r\nL 441.093138 261.280561 \r\nL 447.416482 261.309913 \r\nL 449.524264 258.910254 \r\nL 451.632045 255.686605 \r\nL 453.739827 254.782439 \r\nL 455.847608 255.473988 \r\nL 462.170952 253.165963 \r\nL 464.278734 250.765585 \r\nL 466.386515 249.4326 \r\nL 470.602078 248.590714 \r\nL 476.925422 249.890771 \r\nL 479.033204 248.662303 \r\nL 481.140985 249.80343 \r\nL 483.248766 248.045207 \r\nL 485.356548 247.640016 \r\nL 491.679892 244.581737 \r\nL 493.787673 244.000435 \r\nL 495.895455 247.250572 \r\nL 498.003236 245.633378 \r\nL 500.111018 246.856117 \r\nL 506.434362 244.719903 \r\nL 508.542143 245.190959 \r\nL 510.649925 245.941209 \r\nL 512.757706 243.569469 \r\nL 514.865488 240.770345 \r\nL 521.188832 244.001868 \r\nL 523.296613 244.683392 \r\nL 525.404395 244.279634 \r\nL 527.512176 243.149242 \r\nL 535.943302 243.011793 \r\nL 538.051083 242.847139 \r\nL 540.158865 240.786092 \r\nL 542.266646 240.006493 \r\nL 552.805553 237.898916 \r\nL 554.913334 236.404856 \r\nL 557.021116 232.105227 \r\nL 559.128897 227.524967 \r\nL 565.452242 232.452432 \r\nL 567.560023 229.714157 \r\nL 569.667804 229.358362 \r\nL 571.775586 230.032012 \r\nL 573.883367 231.380748 \r\nL 584.422274 229.641851 \r\nL 586.530056 230.032728 \r\nL 588.637837 229.914605 \r\nL 594.961181 227.46913 \r\nL 597.068963 227.305189 \r\nL 599.176744 228.66037 \r\nL 601.284526 230.717118 \r\nL 603.392307 233.71669 \r\nL 609.715651 230.403558 \r\nL 611.823433 228.042558 \r\nL 613.931214 229.338315 \r\nL 616.038996 229.674784 \r\nL 618.146777 229.514425 \r\nL 624.470121 228.713345 \r\nL 626.577903 229.712724 \r\nL 628.685684 232.908453 \r\nL 630.793465 232.418787 \r\nL 632.901247 232.099499 \r\nL 641.332373 233.52412 \r\nL 643.440154 233.385949 \r\nL 645.547935 234.156963 \r\nL 647.655717 234.592225 \r\nL 653.979061 239.374362 \r\nL 656.086842 240.495442 \r\nL 658.194624 237.404234 \r\nL 660.302405 241.685253 \r\nL 662.410187 242.166328 \r\nL 668.733531 239.093018 \r\nL 675.056875 246.036423 \r\nL 677.164657 247.718046 \r\nL 683.488001 250.220078 \r\nL 685.595782 242.303778 \r\nL 687.703564 242.69895 \r\nL 689.811345 240.441038 \r\nL 691.919126 240.861264 \r\nL 698.242471 239.843984 \r\nL 700.350252 242.067535 \r\nL 702.458034 240.282825 \r\nL 704.565815 243.765626 \r\nL 706.673596 243.643207 \r\nL 712.996941 242.560067 \r\nL 715.104722 243.121326 \r\nL 717.212503 245.404292 \r\nL 719.320285 244.679813 \r\nL 721.428066 246.23186 \r\nL 727.751411 246.763052 \r\nL 729.859192 245.021293 \r\nL 731.966973 242.708257 \r\nL 734.074755 243.150675 \r\nL 742.50588 241.053122 \r\nL 744.613662 241.012316 \r\nL 746.721443 242.490628 \r\nL 748.829225 241.572141 \r\nL 750.937006 242.057512 \r\nL 757.26035 240.270656 \r\nL 759.368132 235.95098 \r\nL 761.475913 238.105092 \r\nL 763.583695 237.631174 \r\nL 765.691476 237.564592 \r\nL 772.01482 239.365055 \r\nL 774.122602 239.052928 \r\nL 776.230383 237.253899 \r\nL 778.338165 239.002815 \r\nL 780.445946 238.307685 \r\nL 786.76929 237.677704 \r\nL 788.877072 240.07307 \r\nL 790.984853 240.813296 \r\nL 793.092634 242.058945 \r\nL 795.200416 239.736601 \r\nL 801.52376 241.493391 \r\nL 803.631541 242.302349 \r\nL 805.739323 242.492773 \r\nL 807.847104 243.022533 \r\nL 809.954886 242.390402 \r\nL 816.27823 245.49235 \r\nL 818.386011 246.33996 \r\nL 820.493793 248.295052 \r\nL 822.601574 249.597971 \r\nL 824.709356 248.305792 \r\nL 831.0327 249.230003 \r\nL 833.140481 249.155552 \r\nL 835.248263 250.187146 \r\nL 837.356044 248.517692 \r\nL 839.463826 248.940068 \r\nL 845.78717 247.110257 \r\nL 847.894951 247.235537 \r\nL 850.002733 246.201793 \r\nL 852.110514 245.362774 \r\nL 854.218295 245.76582 \r\nL 854.218295 245.76582 \r\n\" style=\"fill:none;stroke:#ff7f0e;stroke-linecap:square;stroke-width:1.5;\"/>\r\n   </g>\r\n   <g id=\"line2d_17\">\r\n    <path clip-path=\"url(#pa1c3be0ac1)\" d=\"M 93.309205 277.561541 \r\nL 95.416986 277.414065 \r\nL 97.524767 277.382158 \r\nL 99.632549 277.55516 \r\nL 101.74033 277.251699 \r\nL 110.171456 277.067351 \r\nL 112.279237 276.568199 \r\nL 114.387019 277.317637 \r\nL 116.4948 277.213412 \r\nL 122.818144 277.128329 \r\nL 124.925926 276.800048 \r\nL 131.24927 276.688025 \r\nL 139.680396 276.208725 \r\nL 141.788177 276.497297 \r\nL 143.895959 276.320042 \r\nL 146.00374 276.604361 \r\nL 152.327084 276.454756 \r\nL 154.434866 276.095281 \r\nL 167.081554 275.585493 \r\nL 169.189335 275.759204 \r\nL 171.297117 275.43447 \r\nL 173.404898 275.328826 \r\nL 175.51268 275.374912 \r\nL 181.836024 275.842868 \r\nL 183.943805 275.752114 \r\nL 186.051587 275.774094 \r\nL 188.159368 276.066211 \r\nL 190.26715 276.139949 \r\nL 196.590494 275.52168 \r\nL 198.698275 275.723752 \r\nL 200.806057 275.511046 \r\nL 202.913838 276.164057 \r\nL 205.02162 276.251974 \r\nL 211.344964 276.071174 \r\nL 213.452745 276.200924 \r\nL 215.560527 276.056285 \r\nL 219.776089 275.988928 \r\nL 226.099434 275.171423 \r\nL 228.207215 275.401856 \r\nL 230.314997 275.426672 \r\nL 232.422778 275.184894 \r\nL 234.530559 275.459287 \r\nL 240.853904 275.759204 \r\nL 242.961685 276.104497 \r\nL 245.069466 275.692554 \r\nL 249.285029 275.713118 \r\nL 259.823936 275.620454 \r\nL 261.931718 275.273614 \r\nL 264.039499 275.384489 \r\nL 270.362843 275.33687 \r\nL 272.470625 275.139284 \r\nL 276.686188 274.420728 \r\nL 278.793969 274.255127 \r\nL 285.117313 274.495357 \r\nL 287.225095 274.371687 \r\nL 289.332876 274.060385 \r\nL 291.440658 275.080292 \r\nL 301.979565 276.120814 \r\nL 304.087346 275.507447 \r\nL 306.195127 275.928204 \r\nL 308.302909 276.023442 \r\nL 314.626253 275.925361 \r\nL 316.734035 275.685842 \r\nL 318.841816 275.950947 \r\nL 323.057379 276.282151 \r\nL 329.380723 276.129343 \r\nL 331.488504 275.782503 \r\nL 333.596286 276.267936 \r\nL 335.704067 276.083145 \r\nL 337.811849 275.754072 \r\nL 344.135193 275.638933 \r\nL 346.242974 275.793875 \r\nL 350.458537 275.42429 \r\nL 352.566319 275.869922 \r\nL 358.889663 275.572123 \r\nL 360.997444 275.889823 \r\nL 363.105226 275.611215 \r\nL 365.213007 275.557908 \r\nL 367.320789 275.186193 \r\nL 375.751914 274.685124 \r\nL 379.967477 274.912559 \r\nL 382.075258 274.912559 \r\nL 388.398603 275.299201 \r\nL 396.829728 275.156342 \r\nL 403.153073 275.593445 \r\nL 405.260854 275.368142 \r\nL 407.368635 276.119393 \r\nL 409.476417 275.974401 \r\nL 411.584198 276.134316 \r\nL 417.907542 276.144268 \r\nL 420.015324 275.852866 \r\nL 422.123105 275.144971 \r\nL 424.230887 274.654561 \r\nL 426.338668 274.623999 \r\nL 432.662012 275.002824 \r\nL 434.769794 275.527348 \r\nL 436.877575 275.133598 \r\nL 438.985357 275.21249 \r\nL 441.093138 275.136441 \r\nL 447.416482 275.085269 \r\nL 451.632045 275.483095 \r\nL 453.739827 275.387607 \r\nL 455.847608 275.532264 \r\nL 462.170952 275.552218 \r\nL 464.278734 275.284994 \r\nL 476.925422 275.270027 \r\nL 479.033204 275.117532 \r\nL 485.356548 275.249363 \r\nL 491.679892 275.254352 \r\nL 493.787673 275.131785 \r\nL 495.895455 275.431788 \r\nL 498.003236 275.523 \r\nL 500.111018 275.32775 \r\nL 508.542143 275.265752 \r\nL 510.649925 274.898765 \r\nL 514.865488 274.947934 \r\nL 523.296613 274.566694 \r\nL 525.404395 274.774773 \r\nL 527.512176 274.651493 \r\nL 538.051083 274.55173 \r\nL 540.158865 274.727742 \r\nL 542.266646 274.675009 \r\nL 552.805553 274.997104 \r\nL 554.913334 275.399722 \r\nL 557.021116 274.969313 \r\nL 559.128897 274.874536 \r\nL 565.452242 275.026319 \r\nL 567.560023 275.208746 \r\nL 569.667804 275.108268 \r\nL 571.775586 275.344852 \r\nL 573.883367 275.371218 \r\nL 582.314493 275.101142 \r\nL 584.422274 274.53819 \r\nL 588.637837 274.423461 \r\nL 594.961181 274.168352 \r\nL 597.068963 273.968823 \r\nL 599.176744 273.928205 \r\nL 601.284526 273.498509 \r\nL 603.392307 273.995189 \r\nL 609.715651 273.447202 \r\nL 611.823433 273.457179 \r\nL 613.931214 273.208481 \r\nL 618.146777 273.265489 \r\nL 628.685684 273.221308 \r\nL 632.901247 273.066674 \r\nL 647.655717 273.31359 \r\nL 656.086842 273.863554 \r\nL 658.194624 273.772131 \r\nL 660.302405 274.169249 \r\nL 662.410187 273.927122 \r\nL 668.733531 273.601428 \r\nL 670.841312 273.820701 \r\nL 672.949094 274.271385 \r\nL 675.056875 274.330668 \r\nL 677.164657 273.982832 \r\nL 683.488001 274.283527 \r\nL 685.595782 273.827128 \r\nL 687.703564 273.924265 \r\nL 689.811345 273.587858 \r\nL 691.919126 273.686423 \r\nL 698.242471 273.753562 \r\nL 700.350252 273.546432 \r\nL 702.458034 273.594286 \r\nL 704.565815 274.045685 \r\nL 706.673596 274.072112 \r\nL 715.104722 273.555717 \r\nL 719.320285 273.929979 \r\nL 721.428066 273.634284 \r\nL 727.751411 273.722849 \r\nL 729.859192 273.964976 \r\nL 731.966973 273.684995 \r\nL 734.074755 273.215024 \r\nL 742.50588 272.735056 \r\nL 744.613662 272.821479 \r\nL 748.829225 272.436504 \r\nL 750.937006 272.250801 \r\nL 757.26035 272.246515 \r\nL 759.368132 272.062242 \r\nL 761.475913 272.269372 \r\nL 763.583695 271.990104 \r\nL 765.691476 271.901538 \r\nL 774.122602 272.078669 \r\nL 776.230383 271.912966 \r\nL 778.338165 272.156521 \r\nL 780.445946 271.872254 \r\nL 788.877072 271.813686 \r\nL 790.984853 272.342939 \r\nL 793.092634 272.489358 \r\nL 801.52376 272.535783 \r\nL 803.631541 272.826478 \r\nL 805.739323 272.920758 \r\nL 809.954886 272.492929 \r\nL 818.386011 272.9379 \r\nL 820.493793 273.454295 \r\nL 824.709356 272.800766 \r\nL 835.248263 273.119932 \r\nL 837.356044 272.879393 \r\nL 839.463826 272.973175 \r\nL 847.894951 272.504267 \r\nL 850.002733 272.520732 \r\nL 852.110514 272.676797 \r\nL 854.218295 272.650309 \r\nL 854.218295 272.650309 \r\n\" style=\"fill:none;stroke:#2ca02c;stroke-linecap:square;stroke-width:1.5;\"/>\r\n   </g>\r\n   <g id=\"line2d_18\">\r\n    <path clip-path=\"url(#pa1c3be0ac1)\" d=\"M 93.309205 113.625612 \r\nL 95.416986 113.527545 \r\nL 97.524767 113.098728 \r\nL 99.632549 114.372996 \r\nL 101.74033 112.769412 \r\nL 108.063674 109.829968 \r\nL 110.171456 104.331938 \r\nL 112.279237 100.996623 \r\nL 114.387019 107.403112 \r\nL 116.4948 108.329468 \r\nL 122.818144 106.349326 \r\nL 124.925926 103.300348 \r\nL 127.033707 101.459801 \r\nL 129.141489 100.529145 \r\nL 131.24927 99.023629 \r\nL 137.572614 96.24526 \r\nL 139.680396 92.623589 \r\nL 141.788177 94.771973 \r\nL 143.895959 93.327296 \r\nL 146.00374 97.745044 \r\nL 152.327084 98.639206 \r\nL 154.434866 93.02376 \r\nL 156.542647 84.441692 \r\nL 158.650428 83.611254 \r\nL 167.081554 71.674524 \r\nL 169.189335 75.749358 \r\nL 171.297117 69.951374 \r\nL 173.404898 62.683686 \r\nL 175.51268 61.440179 \r\nL 181.836024 68.312712 \r\nL 183.943805 69.74449 \r\nL 186.051587 75.122955 \r\nL 188.159368 75.765123 \r\nL 190.26715 78.480484 \r\nL 196.590494 61.666394 \r\nL 198.698275 65.857927 \r\nL 200.806057 68.605517 \r\nL 202.913838 76.720824 \r\nL 205.02162 75.120106 \r\nL 211.344964 71.805537 \r\nL 213.452745 75.734327 \r\nL 215.560527 73.357579 \r\nL 217.668308 72.043934 \r\nL 219.776089 63.968704 \r\nL 226.099434 67.747884 \r\nL 228.207215 65.819266 \r\nL 230.314997 61.080085 \r\nL 232.422778 59.650457 \r\nL 234.530559 63.769684 \r\nL 240.853904 65.151353 \r\nL 242.961685 69.982887 \r\nL 245.069466 64.143376 \r\nL 247.177248 64.230713 \r\nL 249.285029 65.161368 \r\nL 255.608374 62.699434 \r\nL 257.716155 53.387146 \r\nL 259.823936 57.110484 \r\nL 261.931718 54.469561 \r\nL 264.039499 55.375171 \r\nL 270.362843 53.74724 \r\nL 272.470625 50.953123 \r\nL 274.578406 44.126399 \r\nL 276.686188 47.122401 \r\nL 278.793969 46.993538 \r\nL 285.117313 43.474234 \r\nL 287.225095 40.026502 \r\nL 289.332876 37.712045 \r\nL 291.440658 49.413246 \r\nL 293.548439 54.66643 \r\nL 301.979565 65.031071 \r\nL 304.087346 56.528458 \r\nL 306.195127 63.222019 \r\nL 308.302909 67.437898 \r\nL 314.626253 68.386451 \r\nL 316.734035 64.580792 \r\nL 318.841816 70.166858 \r\nL 320.949597 75.132987 \r\nL 323.057379 78.985906 \r\nL 329.380723 78.587868 \r\nL 331.488504 66.523707 \r\nL 333.596286 75.767972 \r\nL 335.704067 74.34121 \r\nL 337.811849 68.947714 \r\nL 344.135193 63.297907 \r\nL 346.242974 65.386167 \r\nL 348.350756 65.110543 \r\nL 350.458537 59.918199 \r\nL 352.566319 66.809346 \r\nL 358.889663 61.497454 \r\nL 360.997444 68.601934 \r\nL 363.105226 61.748731 \r\nL 365.213007 62.116691 \r\nL 367.320789 55.237009 \r\nL 373.644133 44.049095 \r\nL 375.751914 43.998987 \r\nL 377.859696 49.720365 \r\nL 379.967477 51.514387 \r\nL 382.075258 56.234954 \r\nL 388.398603 60.924026 \r\nL 390.506384 60.222451 \r\nL 392.614166 62.518312 \r\nL 394.721947 63.129684 \r\nL 396.829728 61.125195 \r\nL 403.153073 60.93619 \r\nL 405.260854 55.259905 \r\nL 407.368635 64.104715 \r\nL 409.476417 60.651985 \r\nL 411.584198 73.170025 \r\nL 417.907542 75.43724 \r\nL 420.015324 72.292345 \r\nL 422.123105 58.493587 \r\nL 424.230887 52.706335 \r\nL 426.338668 53.467316 \r\nL 432.662012 65.467771 \r\nL 434.769794 73.250912 \r\nL 436.877575 65.922367 \r\nL 438.985357 67.863132 \r\nL 441.093138 66.536588 \r\nL 447.416482 66.375513 \r\nL 449.524264 66.046214 \r\nL 451.632045 68.208195 \r\nL 453.739827 67.380624 \r\nL 455.847608 68.642028 \r\nL 462.170952 68.714334 \r\nL 464.278734 67.306168 \r\nL 466.386515 62.508996 \r\nL 470.602078 61.773777 \r\nL 476.925422 63.728157 \r\nL 479.033204 60.002669 \r\nL 483.248766 62.390165 \r\nL 485.356548 64.11903 \r\nL 491.679892 64.446912 \r\nL 493.787673 63.06596 \r\nL 495.895455 68.298398 \r\nL 498.003236 68.492401 \r\nL 500.111018 67.423584 \r\nL 506.434362 64.520651 \r\nL 508.542143 63.937191 \r\nL 510.649925 58.507901 \r\nL 512.757706 58.857246 \r\nL 514.865488 61.322064 \r\nL 523.296613 60.973418 \r\nL 525.404395 62.494682 \r\nL 527.512176 63.395276 \r\nL 535.943302 55.429579 \r\nL 538.051083 52.706335 \r\nL 540.158865 55.294266 \r\nL 542.266646 57.364629 \r\nL 550.697772 62.397331 \r\nL 552.805553 60.115068 \r\nL 554.913334 65.851495 \r\nL 557.021116 64.149109 \r\nL 559.128897 62.67867 \r\nL 565.452242 67.581793 \r\nL 567.560023 67.107866 \r\nL 569.667804 63.882084 \r\nL 571.775586 66.632523 \r\nL 573.883367 68.294815 \r\nL 582.314493 67.112882 \r\nL 584.422274 56.902884 \r\nL 586.530056 53.780885 \r\nL 588.637837 54.837537 \r\nL 594.961181 54.710824 \r\nL 597.068963 52.410681 \r\nL 599.176744 59.107807 \r\nL 601.284526 58.746997 \r\nL 603.392307 60.996331 \r\nL 609.715651 51.211567 \r\nL 611.823433 48.554179 \r\nL 613.931214 53.384279 \r\nL 616.038996 52.062035 \r\nL 618.146777 50.547937 \r\nL 624.470121 52.639045 \r\nL 628.685684 55.242008 \r\nL 630.793465 56.99237 \r\nL 632.901247 55.877009 \r\nL 641.332373 56.504129 \r\nL 643.440154 53.66277 \r\nL 645.547935 52.260337 \r\nL 647.655717 57.867901 \r\nL 653.979061 62.818982 \r\nL 656.086842 61.833918 \r\nL 658.194624 64.337379 \r\nL 660.302405 71.665942 \r\nL 662.410187 69.105206 \r\nL 668.733531 65.295964 \r\nL 670.841312 68.990657 \r\nL 672.949094 75.400012 \r\nL 675.056875 77.363691 \r\nL 677.164657 75.725029 \r\nL 683.488001 79.197806 \r\nL 685.595782 71.258588 \r\nL 687.703564 71.631581 \r\nL 689.811345 67.626169 \r\nL 691.919126 69.351468 \r\nL 698.242471 69.910581 \r\nL 700.350252 69.181794 \r\nL 702.458034 66.041198 \r\nL 704.565815 73.754184 \r\nL 706.673596 70.391656 \r\nL 712.996941 67.820888 \r\nL 715.104722 65.914485 \r\nL 717.212503 69.524707 \r\nL 719.320285 72.446254 \r\nL 721.428066 72.033185 \r\nL 727.751411 70.336532 \r\nL 729.859192 71.799804 \r\nL 731.966973 69.022869 \r\nL 734.074755 64.232146 \r\nL 742.50588 59.526609 \r\nL 744.613662 59.734927 \r\nL 746.721443 55.756745 \r\nL 748.829225 54.331399 \r\nL 750.937006 49.112576 \r\nL 757.26035 48.597856 \r\nL 759.368132 47.122401 \r\nL 761.475913 51.918857 \r\nL 763.583695 48.619319 \r\nL 765.691476 47.162495 \r\nL 772.01482 49.126174 \r\nL 774.122602 51.797876 \r\nL 776.230383 49.841346 \r\nL 778.338165 53.634124 \r\nL 780.445946 51.354745 \r\nL 786.76929 46.478101 \r\nL 788.877072 45.874612 \r\nL 790.984853 42.934451 \r\nL 793.092634 42.017394 \r\nL 795.200416 42.295884 \r\nL 801.52376 48.089568 \r\nL 803.631541 53.431522 \r\nL 805.739323 56.390296 \r\nL 807.847104 53.825261 \r\nL 809.954886 54.881913 \r\nL 816.27823 62.12099 \r\nL 818.386011 59.728495 \r\nL 820.493793 64.880745 \r\nL 822.601574 64.198501 \r\nL 824.709356 59.800801 \r\nL 831.0327 56.401045 \r\nL 833.140481 59.129288 \r\nL 835.248263 59.163649 \r\nL 837.356044 58.026826 \r\nL 839.463826 61.21968 \r\nL 847.894951 57.212852 \r\nL 850.002733 56.775453 \r\nL 852.110514 59.28463 \r\nL 854.218295 59.788619 \r\nL 854.218295 59.788619 \r\n\" style=\"fill:none;stroke:#d62728;stroke-linecap:square;stroke-width:1.5;\"/>\r\n   </g>\r\n   <g id=\"patch_3\">\r\n    <path d=\"M 55.26375 297.1575 \r\nL 55.26375 25.3575 \r\n\" style=\"fill:none;stroke:#000000;stroke-linecap:square;stroke-linejoin:miter;stroke-width:0.8;\"/>\r\n   </g>\r\n   <g id=\"patch_4\">\r\n    <path d=\"M 892.26375 297.1575 \r\nL 892.26375 25.3575 \r\n\" style=\"fill:none;stroke:#000000;stroke-linecap:square;stroke-linejoin:miter;stroke-width:0.8;\"/>\r\n   </g>\r\n   <g id=\"patch_5\">\r\n    <path d=\"M 55.26375 297.1575 \r\nL 892.26375 297.1575 \r\n\" style=\"fill:none;stroke:#000000;stroke-linecap:square;stroke-linejoin:miter;stroke-width:0.8;\"/>\r\n   </g>\r\n   <g id=\"patch_6\">\r\n    <path d=\"M 55.26375 25.3575 \r\nL 892.26375 25.3575 \r\n\" style=\"fill:none;stroke:#000000;stroke-linecap:square;stroke-linejoin:miter;stroke-width:0.8;\"/>\r\n   </g>\r\n   <g id=\"text_17\">\r\n    <!-- Adjusted Close -->\r\n    <g transform=\"translate(414.41875 19.3575)scale(0.16 -0.16)\">\r\n     <defs>\r\n      <path d=\"M 2188 4044 \r\nL 1331 1722 \r\nL 3047 1722 \r\nL 2188 4044 \r\nz\r\nM 1831 4666 \r\nL 2547 4666 \r\nL 4325 0 \r\nL 3669 0 \r\nL 3244 1197 \r\nL 1141 1197 \r\nL 716 0 \r\nL 50 0 \r\nL 1831 4666 \r\nz\r\n\" id=\"DejaVuSans-41\" transform=\"scale(0.015625)\"/>\r\n      <path d=\"M 2906 2969 \r\nL 2906 4863 \r\nL 3481 4863 \r\nL 3481 0 \r\nL 2906 0 \r\nL 2906 525 \r\nQ 2725 213 2448 61 \r\nQ 2172 -91 1784 -91 \r\nQ 1150 -91 751 415 \r\nQ 353 922 353 1747 \r\nQ 353 2572 751 3078 \r\nQ 1150 3584 1784 3584 \r\nQ 2172 3584 2448 3432 \r\nQ 2725 3281 2906 2969 \r\nz\r\nM 947 1747 \r\nQ 947 1113 1208 752 \r\nQ 1469 391 1925 391 \r\nQ 2381 391 2643 752 \r\nQ 2906 1113 2906 1747 \r\nQ 2906 2381 2643 2742 \r\nQ 2381 3103 1925 3103 \r\nQ 1469 3103 1208 2742 \r\nQ 947 2381 947 1747 \r\nz\r\n\" id=\"DejaVuSans-64\" transform=\"scale(0.015625)\"/>\r\n      <path d=\"M 603 3500 \r\nL 1178 3500 \r\nL 1178 -63 \r\nQ 1178 -731 923 -1031 \r\nQ 669 -1331 103 -1331 \r\nL -116 -1331 \r\nL -116 -844 \r\nL 38 -844 \r\nQ 366 -844 484 -692 \r\nQ 603 -541 603 -63 \r\nL 603 3500 \r\nz\r\nM 603 4863 \r\nL 1178 4863 \r\nL 1178 4134 \r\nL 603 4134 \r\nL 603 4863 \r\nz\r\n\" id=\"DejaVuSans-6a\" transform=\"scale(0.015625)\"/>\r\n      <path d=\"M 544 1381 \r\nL 544 3500 \r\nL 1119 3500 \r\nL 1119 1403 \r\nQ 1119 906 1312 657 \r\nQ 1506 409 1894 409 \r\nQ 2359 409 2629 706 \r\nQ 2900 1003 2900 1516 \r\nL 2900 3500 \r\nL 3475 3500 \r\nL 3475 0 \r\nL 2900 0 \r\nL 2900 538 \r\nQ 2691 219 2414 64 \r\nQ 2138 -91 1772 -91 \r\nQ 1169 -91 856 284 \r\nQ 544 659 544 1381 \r\nz\r\nM 1991 3584 \r\nL 1991 3584 \r\nz\r\n\" id=\"DejaVuSans-75\" transform=\"scale(0.015625)\"/>\r\n      <path d=\"M 2834 3397 \r\nL 2834 2853 \r\nQ 2591 2978 2328 3040 \r\nQ 2066 3103 1784 3103 \r\nQ 1356 3103 1142 2972 \r\nQ 928 2841 928 2578 \r\nQ 928 2378 1081 2264 \r\nQ 1234 2150 1697 2047 \r\nL 1894 2003 \r\nQ 2506 1872 2764 1633 \r\nQ 3022 1394 3022 966 \r\nQ 3022 478 2636 193 \r\nQ 2250 -91 1575 -91 \r\nQ 1294 -91 989 -36 \r\nQ 684 19 347 128 \r\nL 347 722 \r\nQ 666 556 975 473 \r\nQ 1284 391 1588 391 \r\nQ 1994 391 2212 530 \r\nQ 2431 669 2431 922 \r\nQ 2431 1156 2273 1281 \r\nQ 2116 1406 1581 1522 \r\nL 1381 1569 \r\nQ 847 1681 609 1914 \r\nQ 372 2147 372 2553 \r\nQ 372 3047 722 3315 \r\nQ 1072 3584 1716 3584 \r\nQ 2034 3584 2315 3537 \r\nQ 2597 3491 2834 3397 \r\nz\r\n\" id=\"DejaVuSans-73\" transform=\"scale(0.015625)\"/>\r\n      <path id=\"DejaVuSans-20\" transform=\"scale(0.015625)\"/>\r\n      <path d=\"M 4122 4306 \r\nL 4122 3641 \r\nQ 3803 3938 3442 4084 \r\nQ 3081 4231 2675 4231 \r\nQ 1875 4231 1450 3742 \r\nQ 1025 3253 1025 2328 \r\nQ 1025 1406 1450 917 \r\nQ 1875 428 2675 428 \r\nQ 3081 428 3442 575 \r\nQ 3803 722 4122 1019 \r\nL 4122 359 \r\nQ 3791 134 3420 21 \r\nQ 3050 -91 2638 -91 \r\nQ 1578 -91 968 557 \r\nQ 359 1206 359 2328 \r\nQ 359 3453 968 4101 \r\nQ 1578 4750 2638 4750 \r\nQ 3056 4750 3426 4639 \r\nQ 3797 4528 4122 4306 \r\nz\r\n\" id=\"DejaVuSans-43\" transform=\"scale(0.015625)\"/>\r\n      <path d=\"M 603 4863 \r\nL 1178 4863 \r\nL 1178 0 \r\nL 603 0 \r\nL 603 4863 \r\nz\r\n\" id=\"DejaVuSans-6c\" transform=\"scale(0.015625)\"/>\r\n      <path d=\"M 1959 3097 \r\nQ 1497 3097 1228 2736 \r\nQ 959 2375 959 1747 \r\nQ 959 1119 1226 758 \r\nQ 1494 397 1959 397 \r\nQ 2419 397 2687 759 \r\nQ 2956 1122 2956 1747 \r\nQ 2956 2369 2687 2733 \r\nQ 2419 3097 1959 3097 \r\nz\r\nM 1959 3584 \r\nQ 2709 3584 3137 3096 \r\nQ 3566 2609 3566 1747 \r\nQ 3566 888 3137 398 \r\nQ 2709 -91 1959 -91 \r\nQ 1206 -91 779 398 \r\nQ 353 888 353 1747 \r\nQ 353 2609 779 3096 \r\nQ 1206 3584 1959 3584 \r\nz\r\n\" id=\"DejaVuSans-6f\" transform=\"scale(0.015625)\"/>\r\n     </defs>\r\n     <use xlink:href=\"#DejaVuSans-41\"/>\r\n     <use x=\"66.658203\" xlink:href=\"#DejaVuSans-64\"/>\r\n     <use x=\"130.134766\" xlink:href=\"#DejaVuSans-6a\"/>\r\n     <use x=\"157.917969\" xlink:href=\"#DejaVuSans-75\"/>\r\n     <use x=\"221.296875\" xlink:href=\"#DejaVuSans-73\"/>\r\n     <use x=\"273.396484\" xlink:href=\"#DejaVuSans-74\"/>\r\n     <use x=\"312.605469\" xlink:href=\"#DejaVuSans-65\"/>\r\n     <use x=\"374.128906\" xlink:href=\"#DejaVuSans-64\"/>\r\n     <use x=\"437.605469\" xlink:href=\"#DejaVuSans-20\"/>\r\n     <use x=\"469.392578\" xlink:href=\"#DejaVuSans-43\"/>\r\n     <use x=\"539.216797\" xlink:href=\"#DejaVuSans-6c\"/>\r\n     <use x=\"567\" xlink:href=\"#DejaVuSans-6f\"/>\r\n     <use x=\"628.181641\" xlink:href=\"#DejaVuSans-73\"/>\r\n     <use x=\"680.28125\" xlink:href=\"#DejaVuSans-65\"/>\r\n    </g>\r\n   </g>\r\n  </g>\r\n </g>\r\n <defs>\r\n  <clipPath id=\"pa1c3be0ac1\">\r\n   <rect height=\"271.8\" width=\"837\" x=\"55.26375\" y=\"25.3575\"/>\r\n  </clipPath>\r\n </defs>\r\n</svg>\r\n",
      "image/png": "[encoded data removed]"
     },
     "metadata": {
      "needs_background": "light"
     }
    }
   ],
   "source": [
    "fig, ax = plt.subplots(figsize=[15,5])\n",
    "ax.plot(data['Adj Close'])\n",
    "ax.set_title('Adjusted Close',fontsize=16)\n",
    "ax.set_xlabel('Date',fontsize=12)\n",
    "ax.set_ylabel('Price',fontsize=12)"
   ]
  },
  {
   "cell_type": "code",
   "execution_count": 21,
   "metadata": {},
   "outputs": [
    {
     "output_type": "execute_result",
     "data": {
      "text/plain": [
       "Attributes  Adj Close                                           Close  \\\n",
       "Symbols          AAPL        TSLA        MSFT         AMZN       AAPL   \n",
       "Date                                                                    \n",
       "2020-06-01  79.923965  179.619995  181.076721  2471.040039  80.462502   \n",
       "2020-06-02  80.293968  176.311996  183.136765  2472.409912  80.834999   \n",
       "2020-06-03  80.735992  176.591995  183.582458  2478.399902  81.279999   \n",
       "2020-06-04  80.040680  172.876007  181.165863  2460.600098  80.580002   \n",
       "2020-06-05  82.320328  177.132004  185.404800  2483.000000  82.875000   \n",
       "\n",
       "Attributes                                            High              ...  \\\n",
       "Symbols           TSLA        MSFT         AMZN       AAPL        TSLA  ...   \n",
       "Date                                                                    ...   \n",
       "2020-06-01  179.619995  182.830002  2471.040039  80.587502  179.800003  ...   \n",
       "2020-06-02  176.311996  184.910004  2472.409912  80.860001  181.731995  ...   \n",
       "2020-06-03  176.591995  185.360001  2478.399902  81.550003  179.587997  ...   \n",
       "2020-06-04  172.876007  182.919998  2460.600098  81.404999  179.149994  ...   \n",
       "2020-06-05  177.132004  187.199997  2483.000000  82.937500  177.304001  ...   \n",
       "\n",
       "Attributes         Low                    Open                          \\\n",
       "Symbols           MSFT         AMZN       AAPL        TSLA        MSFT   \n",
       "Date                                                                     \n",
       "2020-06-01  181.460007  2444.169922  79.437500  171.600006  182.539993   \n",
       "2020-06-02  181.350006  2445.310059  80.187500  178.940002  184.250000   \n",
       "2020-06-03  183.580002  2461.169922  81.165001  177.623993  184.820007   \n",
       "2020-06-04  182.300003  2450.010010  81.097504  177.975998  184.300003   \n",
       "2020-06-05  182.009995  2437.129883  80.837502  175.567993  182.619995   \n",
       "\n",
       "Attributes                    Volume                                     \n",
       "Symbols            AMZN         AAPL        TSLA        MSFT       AMZN  \n",
       "Date                                                                     \n",
       "2020-06-01  2448.000000   80791200.0  74697500.0  22622400.0  2928900.0  \n",
       "2020-06-02  2467.000000   87642800.0  67828000.0  30794600.0  2529900.0  \n",
       "2020-06-03  2468.010010  104491200.0  39747500.0  27311000.0  2671000.0  \n",
       "2020-06-04  2477.429932   87560400.0  44438500.0  28761800.0  2948700.0  \n",
       "2020-06-05  2444.510010  137250400.0  39059500.0  39893600.0  3306400.0  \n",
       "\n",
       "[5 rows x 24 columns]"
      ],
      "text/html": "<div>\n<style scoped>\n    .dataframe tbody tr th:only-of-type {\n        vertical-align: middle;\n    }\n\n    .dataframe tbody tr th {\n        vertical-align: top;\n    }\n\n    .dataframe thead tr th {\n        text-align: left;\n    }\n\n    .dataframe thead tr:last-of-type th {\n        text-align: right;\n    }\n</style>\n<table border=\"1\" class=\"dataframe\">\n  <thead>\n    <tr>\n      <th>Attributes</th>\n      <th colspan=\"4\" halign=\"left\">Adj Close</th>\n      <th colspan=\"4\" halign=\"left\">Close</th>\n      <th colspan=\"2\" halign=\"left\">High</th>\n      <th>...</th>\n      <th colspan=\"2\" halign=\"left\">Low</th>\n      <th colspan=\"4\" halign=\"left\">Open</th>\n      <th colspan=\"4\" halign=\"left\">Volume</th>\n    </tr>\n    <tr>\n      <th>Symbols</th>\n      <th>AAPL</th>\n      <th>TSLA</th>\n      <th>MSFT</th>\n      <th>AMZN</th>\n      <th>AAPL</th>\n      <th>TSLA</th>\n      <th>MSFT</th>\n      <th>AMZN</th>\n      <th>AAPL</th>\n      <th>TSLA</th>\n      <th>...</th>\n      <th>MSFT</th>\n      <th>AMZN</th>\n      <th>AAPL</th>\n      <th>TSLA</th>\n      <th>MSFT</th>\n      <th>AMZN</th>\n      <th>AAPL</th>\n      <th>TSLA</th>\n      <th>MSFT</th>\n      <th>AMZN</th>\n    </tr>\n    <tr>\n      <th>Date</th>\n      <th></th>\n      <th></th>\n      <th></th>\n      <th></th>\n      <th></th>\n      <th></th>\n      <th></th>\n      <th></th>\n      <th></th>\n      <th></th>\n      <th></th>\n      <th></th>\n      <th></th>\n      <th></th>\n      <th></th>\n      <th></th>\n      <th></th>\n      <th></th>\n      <th></th>\n      <th></th>\n      <th></th>\n    </tr>\n  </thead>\n  <tbody>\n    <tr>\n      <th>2020-06-01</th>\n      <td>79.923965</td>\n      <td>179.619995</td>\n      <td>181.076721</td>\n      <td>2471.040039</td>\n      <td>80.462502</td>\n      <td>179.619995</td>\n      <td>182.830002</td>\n      <td>2471.040039</td>\n      <td>80.587502</td>\n      <td>179.800003</td>\n      <td>...</td>\n      <td>181.460007</td>\n      <td>2444.169922</td>\n      <td>79.437500</td>\n      <td>171.600006</td>\n      <td>182.539993</td>\n      <td>2448.000000</td>\n      <td>80791200.0</td>\n      <td>74697500.0</td>\n      <td>22622400.0</td>\n      <td>2928900.0</td>\n    </tr>\n    <tr>\n      <th>2020-06-02</th>\n      <td>80.293968</td>\n      <td>176.311996</td>\n      <td>183.136765</td>\n      <td>2472.409912</td>\n      <td>80.834999</td>\n      <td>176.311996</td>\n      <td>184.910004</td>\n      <td>2472.409912</td>\n      <td>80.860001</td>\n      <td>181.731995</td>\n      <td>...</td>\n      <td>181.350006</td>\n      <td>2445.310059</td>\n      <td>80.187500</td>\n      <td>178.940002</td>\n      <td>184.250000</td>\n      <td>2467.000000</td>\n      <td>87642800.0</td>\n      <td>67828000.0</td>\n      <td>30794600.0</td>\n      <td>2529900.0</td>\n    </tr>\n    <tr>\n      <th>2020-06-03</th>\n      <td>80.735992</td>\n      <td>176.591995</td>\n      <td>183.582458</td>\n      <td>2478.399902</td>\n      <td>81.279999</td>\n      <td>176.591995</td>\n      <td>185.360001</td>\n      <td>2478.399902</td>\n      <td>81.550003</td>\n      <td>179.587997</td>\n      <td>...</td>\n      <td>183.580002</td>\n      <td>2461.169922</td>\n      <td>81.165001</td>\n      <td>177.623993</td>\n      <td>184.820007</td>\n      <td>2468.010010</td>\n      <td>104491200.0</td>\n      <td>39747500.0</td>\n      <td>27311000.0</td>\n      <td>2671000.0</td>\n    </tr>\n    <tr>\n      <th>2020-06-04</th>\n      <td>80.040680</td>\n      <td>172.876007</td>\n      <td>181.165863</td>\n      <td>2460.600098</td>\n      <td>80.580002</td>\n      <td>172.876007</td>\n      <td>182.919998</td>\n      <td>2460.600098</td>\n      <td>81.404999</td>\n      <td>179.149994</td>\n      <td>...</td>\n      <td>182.300003</td>\n      <td>2450.010010</td>\n      <td>81.097504</td>\n      <td>177.975998</td>\n      <td>184.300003</td>\n      <td>2477.429932</td>\n      <td>87560400.0</td>\n      <td>44438500.0</td>\n      <td>28761800.0</td>\n      <td>2948700.0</td>\n    </tr>\n    <tr>\n      <th>2020-06-05</th>\n      <td>82.320328</td>\n      <td>177.132004</td>\n      <td>185.404800</td>\n      <td>2483.000000</td>\n      <td>82.875000</td>\n      <td>177.132004</td>\n      <td>187.199997</td>\n      <td>2483.000000</td>\n      <td>82.937500</td>\n      <td>177.304001</td>\n      <td>...</td>\n      <td>182.009995</td>\n      <td>2437.129883</td>\n      <td>80.837502</td>\n      <td>175.567993</td>\n      <td>182.619995</td>\n      <td>2444.510010</td>\n      <td>137250400.0</td>\n      <td>39059500.0</td>\n      <td>39893600.0</td>\n      <td>3306400.0</td>\n    </tr>\n  </tbody>\n</table>\n<p>5 rows × 24 columns</p>\n</div>"
     },
     "metadata": {},
     "execution_count": 21
    }
   ],
   "source": [
    "data.head()"
   ]
  },
  {
   "cell_type": "code",
   "execution_count": 22,
   "metadata": {},
   "outputs": [],
   "source": [
    "aapl = data.xs('AAPL',axis=1,level=1)"
   ]
  },
  {
   "cell_type": "code",
   "execution_count": 23,
   "metadata": {},
   "outputs": [
    {
     "output_type": "execute_result",
     "data": {
      "text/plain": [
       "Attributes  Adj Close      Close       High        Low       Open       Volume\n",
       "Date                                                                          \n",
       "2020-06-01  79.923965  80.462502  80.587502  79.302498  79.437500   80791200.0\n",
       "2020-06-02  80.293968  80.834999  80.860001  79.732498  80.187500   87642800.0\n",
       "2020-06-03  80.735992  81.279999  81.550003  80.574997  81.165001  104491200.0\n",
       "2020-06-04  80.040680  80.580002  81.404999  80.195000  81.097504   87560400.0\n",
       "2020-06-05  82.320328  82.875000  82.937500  80.807503  80.837502  137250400.0"
      ],
      "text/html": "<div>\n<style scoped>\n    .dataframe tbody tr th:only-of-type {\n        vertical-align: middle;\n    }\n\n    .dataframe tbody tr th {\n        vertical-align: top;\n    }\n\n    .dataframe thead th {\n        text-align: right;\n    }\n</style>\n<table border=\"1\" class=\"dataframe\">\n  <thead>\n    <tr style=\"text-align: right;\">\n      <th>Attributes</th>\n      <th>Adj Close</th>\n      <th>Close</th>\n      <th>High</th>\n      <th>Low</th>\n      <th>Open</th>\n      <th>Volume</th>\n    </tr>\n    <tr>\n      <th>Date</th>\n      <th></th>\n      <th></th>\n      <th></th>\n      <th></th>\n      <th></th>\n      <th></th>\n    </tr>\n  </thead>\n  <tbody>\n    <tr>\n      <th>2020-06-01</th>\n      <td>79.923965</td>\n      <td>80.462502</td>\n      <td>80.587502</td>\n      <td>79.302498</td>\n      <td>79.437500</td>\n      <td>80791200.0</td>\n    </tr>\n    <tr>\n      <th>2020-06-02</th>\n      <td>80.293968</td>\n      <td>80.834999</td>\n      <td>80.860001</td>\n      <td>79.732498</td>\n      <td>80.187500</td>\n      <td>87642800.0</td>\n    </tr>\n    <tr>\n      <th>2020-06-03</th>\n      <td>80.735992</td>\n      <td>81.279999</td>\n      <td>81.550003</td>\n      <td>80.574997</td>\n      <td>81.165001</td>\n      <td>104491200.0</td>\n    </tr>\n    <tr>\n      <th>2020-06-04</th>\n      <td>80.040680</td>\n      <td>80.580002</td>\n      <td>81.404999</td>\n      <td>80.195000</td>\n      <td>81.097504</td>\n      <td>87560400.0</td>\n    </tr>\n    <tr>\n      <th>2020-06-05</th>\n      <td>82.320328</td>\n      <td>82.875000</td>\n      <td>82.937500</td>\n      <td>80.807503</td>\n      <td>80.837502</td>\n      <td>137250400.0</td>\n    </tr>\n  </tbody>\n</table>\n</div>"
     },
     "metadata": {},
     "execution_count": 23
    }
   ],
   "source": [
    "aapl.head()"
   ]
  },
  {
   "source": [
    "## Yahoo Financials\n",
    "* https://pypi.org/project/yahoofinancials/\n",
    "* New libraries come all the time\n",
    "* Yahoo API unstable - but a good source and free"
   ],
   "cell_type": "markdown",
   "metadata": {}
  },
  {
   "cell_type": "code",
   "execution_count": 24,
   "metadata": {},
   "outputs": [
    {
     "output_type": "stream",
     "name": "stdout",
     "text": [
      "Requirement already satisfied: yahoofinancials in d:\\data science proyects\\venv\\lib\\site-packages (1.6)\n",
      "Requirement already satisfied: beautifulsoup4 in d:\\data science proyects\\venv\\lib\\site-packages (from yahoofinancials) (4.9.3)\n",
      "Requirement already satisfied: pytz in d:\\data science proyects\\venv\\lib\\site-packages (from yahoofinancials) (2021.1)\n",
      "Requirement already satisfied: soupsieve>1.2 in d:\\data science proyects\\venv\\lib\\site-packages (from beautifulsoup4->yahoofinancials) (2.2.1)\n",
      "WARNING: Ignoring invalid distribution -ip (d:\\data science proyects\\venv\\lib\\site-packages)\n",
      "WARNING: Ignoring invalid distribution -ip (d:\\data science proyects\\venv\\lib\\site-packages)\n",
      "WARNING: Ignoring invalid distribution -ip (d:\\data science proyects\\venv\\lib\\site-packages)\n",
      "WARNING: Ignoring invalid distribution -ip (d:\\data science proyects\\venv\\lib\\site-packages)\n",
      "WARNING: Ignoring invalid distribution -ip (d:\\data science proyects\\venv\\lib\\site-packages)\n"
     ]
    }
   ],
   "source": [
    "!pip install yahoofinancials"
   ]
  },
  {
   "cell_type": "code",
   "execution_count": 25,
   "metadata": {},
   "outputs": [],
   "source": [
    "from yahoofinancials import YahooFinancials\n",
    "\n",
    "ticker = 'AAPL'\n",
    "yf = YahooFinancials(ticker)\n",
    "\n",
    "income_statement = yf.get_financial_stmts('annual', 'income')"
   ]
  },
  {
   "cell_type": "code",
   "execution_count": 26,
   "metadata": {},
   "outputs": [],
   "source": [
    "# How to extract the income Statement\n",
    "aapl_is = income_statement['incomeStatementHistory']['AAPL']"
   ]
  },
  {
   "cell_type": "code",
   "execution_count": 27,
   "metadata": {},
   "outputs": [
    {
     "output_type": "execute_result",
     "data": {
      "text/plain": [
       "[{'2020-09-26': {'researchDevelopment': 18752000000,\n",
       "   'effectOfAccountingCharges': None,\n",
       "   'incomeBeforeTax': 67091000000,\n",
       "   'minorityInterest': None,\n",
       "   'netIncome': 57411000000,\n",
       "   'sellingGeneralAdministrative': 19916000000,\n",
       "   'grossProfit': 104956000000,\n",
       "   'ebit': 66288000000,\n",
       "   'operatingIncome': 66288000000,\n",
       "   'otherOperatingExpenses': None,\n",
       "   'interestExpense': -2873000000,\n",
       "   'extraordinaryItems': None,\n",
       "   'nonRecurring': None,\n",
       "   'otherItems': None,\n",
       "   'incomeTaxExpense': 9680000000,\n",
       "   'totalRevenue': 274515000000,\n",
       "   'totalOperatingExpenses': 208227000000,\n",
       "   'costOfRevenue': 169559000000,\n",
       "   'totalOtherIncomeExpenseNet': 803000000,\n",
       "   'discontinuedOperations': None,\n",
       "   'netIncomeFromContinuingOps': 57411000000,\n",
       "   'netIncomeApplicableToCommonShares': 57411000000}},\n",
       " {'2019-09-28': {'researchDevelopment': 16217000000,\n",
       "   'effectOfAccountingCharges': None,\n",
       "   'incomeBeforeTax': 65737000000,\n",
       "   'minorityInterest': None,\n",
       "   'netIncome': 55256000000,\n",
       "   'sellingGeneralAdministrative': 18245000000,\n",
       "   'grossProfit': 98392000000,\n",
       "   'ebit': 63930000000,\n",
       "   'operatingIncome': 63930000000,\n",
       "   'otherOperatingExpenses': None,\n",
       "   'interestExpense': -3576000000,\n",
       "   'extraordinaryItems': None,\n",
       "   'nonRecurring': None,\n",
       "   'otherItems': None,\n",
       "   'incomeTaxExpense': 10481000000,\n",
       "   'totalRevenue': 260174000000,\n",
       "   'totalOperatingExpenses': 196244000000,\n",
       "   'costOfRevenue': 161782000000,\n",
       "   'totalOtherIncomeExpenseNet': 1807000000,\n",
       "   'discontinuedOperations': None,\n",
       "   'netIncomeFromContinuingOps': 55256000000,\n",
       "   'netIncomeApplicableToCommonShares': 55256000000}},\n",
       " {'2018-09-29': {'researchDevelopment': 14236000000,\n",
       "   'effectOfAccountingCharges': None,\n",
       "   'incomeBeforeTax': 72903000000,\n",
       "   'minorityInterest': None,\n",
       "   'netIncome': 59531000000,\n",
       "   'sellingGeneralAdministrative': 16705000000,\n",
       "   'grossProfit': 101839000000,\n",
       "   'ebit': 70898000000,\n",
       "   'operatingIncome': 70898000000,\n",
       "   'otherOperatingExpenses': None,\n",
       "   'interestExpense': -3240000000,\n",
       "   'extraordinaryItems': None,\n",
       "   'nonRecurring': None,\n",
       "   'otherItems': None,\n",
       "   'incomeTaxExpense': 13372000000,\n",
       "   'totalRevenue': 265595000000,\n",
       "   'totalOperatingExpenses': 194697000000,\n",
       "   'costOfRevenue': 163756000000,\n",
       "   'totalOtherIncomeExpenseNet': 2005000000,\n",
       "   'discontinuedOperations': None,\n",
       "   'netIncomeFromContinuingOps': 59531000000,\n",
       "   'netIncomeApplicableToCommonShares': 59531000000}},\n",
       " {'2017-09-30': {'researchDevelopment': 11581000000,\n",
       "   'effectOfAccountingCharges': None,\n",
       "   'incomeBeforeTax': 64089000000,\n",
       "   'minorityInterest': None,\n",
       "   'netIncome': 48351000000,\n",
       "   'sellingGeneralAdministrative': 15261000000,\n",
       "   'grossProfit': 88186000000,\n",
       "   'ebit': 61344000000,\n",
       "   'operatingIncome': 61344000000,\n",
       "   'otherOperatingExpenses': None,\n",
       "   'interestExpense': -2323000000,\n",
       "   'extraordinaryItems': None,\n",
       "   'nonRecurring': None,\n",
       "   'otherItems': None,\n",
       "   'incomeTaxExpense': 15738000000,\n",
       "   'totalRevenue': 229234000000,\n",
       "   'totalOperatingExpenses': 167890000000,\n",
       "   'costOfRevenue': 141048000000,\n",
       "   'totalOtherIncomeExpenseNet': 2745000000,\n",
       "   'discontinuedOperations': None,\n",
       "   'netIncomeFromContinuingOps': 48351000000,\n",
       "   'netIncomeApplicableToCommonShares': 48351000000}}]"
      ]
     },
     "metadata": {},
     "execution_count": 27
    }
   ],
   "source": [
    "aapl_is"
   ]
  },
  {
   "cell_type": "code",
   "execution_count": 28,
   "metadata": {},
   "outputs": [
    {
     "output_type": "execute_result",
     "data": {
      "text/plain": [
       "            researchDevelopment effectOfAccountingCharges  incomeBeforeTax  \\\n",
       "2020-09-26          18752000000                      None      67091000000   \n",
       "2019-09-28          16217000000                      None      65737000000   \n",
       "2018-09-29          14236000000                      None      72903000000   \n",
       "2017-09-30          11581000000                      None      64089000000   \n",
       "\n",
       "           minorityInterest    netIncome  sellingGeneralAdministrative  \\\n",
       "2020-09-26             None  57411000000                   19916000000   \n",
       "2019-09-28             None  55256000000                   18245000000   \n",
       "2018-09-29             None  59531000000                   16705000000   \n",
       "2017-09-30             None  48351000000                   15261000000   \n",
       "\n",
       "             grossProfit         ebit  operatingIncome otherOperatingExpenses  \\\n",
       "2020-09-26  104956000000  66288000000      66288000000                   None   \n",
       "2019-09-28   98392000000  63930000000      63930000000                   None   \n",
       "2018-09-29  101839000000  70898000000      70898000000                   None   \n",
       "2017-09-30   88186000000  61344000000      61344000000                   None   \n",
       "\n",
       "            ...  nonRecurring otherItems incomeTaxExpense  totalRevenue  \\\n",
       "2020-09-26  ...          None       None       9680000000  274515000000   \n",
       "2019-09-28  ...          None       None      10481000000  260174000000   \n",
       "2018-09-29  ...          None       None      13372000000  265595000000   \n",
       "2017-09-30  ...          None       None      15738000000  229234000000   \n",
       "\n",
       "            totalOperatingExpenses  costOfRevenue  totalOtherIncomeExpenseNet  \\\n",
       "2020-09-26            208227000000   169559000000                   803000000   \n",
       "2019-09-28            196244000000   161782000000                  1807000000   \n",
       "2018-09-29            194697000000   163756000000                  2005000000   \n",
       "2017-09-30            167890000000   141048000000                  2745000000   \n",
       "\n",
       "            discontinuedOperations  netIncomeFromContinuingOps  \\\n",
       "2020-09-26                    None                 57411000000   \n",
       "2019-09-28                    None                 55256000000   \n",
       "2018-09-29                    None                 59531000000   \n",
       "2017-09-30                    None                 48351000000   \n",
       "\n",
       "           netIncomeApplicableToCommonShares  \n",
       "2020-09-26                       57411000000  \n",
       "2019-09-28                       55256000000  \n",
       "2018-09-29                       59531000000  \n",
       "2017-09-30                       48351000000  \n",
       "\n",
       "[4 rows x 22 columns]"
      ],
      "text/html": "<div>\n<style scoped>\n    .dataframe tbody tr th:only-of-type {\n        vertical-align: middle;\n    }\n\n    .dataframe tbody tr th {\n        vertical-align: top;\n    }\n\n    .dataframe thead th {\n        text-align: right;\n    }\n</style>\n<table border=\"1\" class=\"dataframe\">\n  <thead>\n    <tr style=\"text-align: right;\">\n      <th></th>\n      <th>researchDevelopment</th>\n      <th>effectOfAccountingCharges</th>\n      <th>incomeBeforeTax</th>\n      <th>minorityInterest</th>\n      <th>netIncome</th>\n      <th>sellingGeneralAdministrative</th>\n      <th>grossProfit</th>\n      <th>ebit</th>\n      <th>operatingIncome</th>\n      <th>otherOperatingExpenses</th>\n      <th>...</th>\n      <th>nonRecurring</th>\n      <th>otherItems</th>\n      <th>incomeTaxExpense</th>\n      <th>totalRevenue</th>\n      <th>totalOperatingExpenses</th>\n      <th>costOfRevenue</th>\n      <th>totalOtherIncomeExpenseNet</th>\n      <th>discontinuedOperations</th>\n      <th>netIncomeFromContinuingOps</th>\n      <th>netIncomeApplicableToCommonShares</th>\n    </tr>\n  </thead>\n  <tbody>\n    <tr>\n      <th>2020-09-26</th>\n      <td>18752000000</td>\n      <td>None</td>\n      <td>67091000000</td>\n      <td>None</td>\n      <td>57411000000</td>\n      <td>19916000000</td>\n      <td>104956000000</td>\n      <td>66288000000</td>\n      <td>66288000000</td>\n      <td>None</td>\n      <td>...</td>\n      <td>None</td>\n      <td>None</td>\n      <td>9680000000</td>\n      <td>274515000000</td>\n      <td>208227000000</td>\n      <td>169559000000</td>\n      <td>803000000</td>\n      <td>None</td>\n      <td>57411000000</td>\n      <td>57411000000</td>\n    </tr>\n    <tr>\n      <th>2019-09-28</th>\n      <td>16217000000</td>\n      <td>None</td>\n      <td>65737000000</td>\n      <td>None</td>\n      <td>55256000000</td>\n      <td>18245000000</td>\n      <td>98392000000</td>\n      <td>63930000000</td>\n      <td>63930000000</td>\n      <td>None</td>\n      <td>...</td>\n      <td>None</td>\n      <td>None</td>\n      <td>10481000000</td>\n      <td>260174000000</td>\n      <td>196244000000</td>\n      <td>161782000000</td>\n      <td>1807000000</td>\n      <td>None</td>\n      <td>55256000000</td>\n      <td>55256000000</td>\n    </tr>\n    <tr>\n      <th>2018-09-29</th>\n      <td>14236000000</td>\n      <td>None</td>\n      <td>72903000000</td>\n      <td>None</td>\n      <td>59531000000</td>\n      <td>16705000000</td>\n      <td>101839000000</td>\n      <td>70898000000</td>\n      <td>70898000000</td>\n      <td>None</td>\n      <td>...</td>\n      <td>None</td>\n      <td>None</td>\n      <td>13372000000</td>\n      <td>265595000000</td>\n      <td>194697000000</td>\n      <td>163756000000</td>\n      <td>2005000000</td>\n      <td>None</td>\n      <td>59531000000</td>\n      <td>59531000000</td>\n    </tr>\n    <tr>\n      <th>2017-09-30</th>\n      <td>11581000000</td>\n      <td>None</td>\n      <td>64089000000</td>\n      <td>None</td>\n      <td>48351000000</td>\n      <td>15261000000</td>\n      <td>88186000000</td>\n      <td>61344000000</td>\n      <td>61344000000</td>\n      <td>None</td>\n      <td>...</td>\n      <td>None</td>\n      <td>None</td>\n      <td>15738000000</td>\n      <td>229234000000</td>\n      <td>167890000000</td>\n      <td>141048000000</td>\n      <td>2745000000</td>\n      <td>None</td>\n      <td>48351000000</td>\n      <td>48351000000</td>\n    </tr>\n  </tbody>\n</table>\n<p>4 rows × 22 columns</p>\n</div>"
     },
     "metadata": {},
     "execution_count": 28
    }
   ],
   "source": [
    "df_list = []\n",
    "\n",
    "for d in aapl_is:\n",
    "    df_list.append(pd.DataFrame.from_dict(d, orient='index'))\n",
    "\n",
    "df_is = pd.concat(df_list)\n",
    "df_is"
   ]
  },
  {
   "cell_type": "code",
   "execution_count": 30,
   "metadata": {},
   "outputs": [
    {
     "output_type": "execute_result",
     "data": {
      "text/plain": [
       "{'balanceSheetHistory': {'AAPL': [{'2020-09-26': {'totalLiab': 258549000000,\n",
       "     'totalStockholderEquity': 65339000000,\n",
       "     'otherCurrentLiab': 47867000000,\n",
       "     'totalAssets': 323888000000,\n",
       "     'commonStock': 50779000000,\n",
       "     'otherCurrentAssets': 11264000000,\n",
       "     'retainedEarnings': 14966000000,\n",
       "     'otherLiab': 46108000000,\n",
       "     'treasuryStock': -406000000,\n",
       "     'otherAssets': 33952000000,\n",
       "     'cash': 38016000000,\n",
       "     'totalCurrentLiabilities': 105392000000,\n",
       "     'shortLongTermDebt': 8773000000,\n",
       "     'otherStockholderEquity': -406000000,\n",
       "     'propertyPlantEquipment': 45336000000,\n",
       "     'totalCurrentAssets': 143713000000,\n",
       "     'longTermInvestments': 100887000000,\n",
       "     'netTangibleAssets': 65339000000,\n",
       "     'shortTermInvestments': 52927000000,\n",
       "     'netReceivables': 37445000000,\n",
       "     'longTermDebt': 98667000000,\n",
       "     'inventory': 4061000000,\n",
       "     'accountsPayable': 42296000000}},\n",
       "   {'2019-09-28': {'totalLiab': 248028000000,\n",
       "     'totalStockholderEquity': 90488000000,\n",
       "     'otherCurrentLiab': 43242000000,\n",
       "     'totalAssets': 338516000000,\n",
       "     'commonStock': 45174000000,\n",
       "     'otherCurrentAssets': 12352000000,\n",
       "     'retainedEarnings': 45898000000,\n",
       "     'otherLiab': 50503000000,\n",
       "     'treasuryStock': -584000000,\n",
       "     'otherAssets': 32978000000,\n",
       "     'cash': 48844000000,\n",
       "     'totalCurrentLiabilities': 105718000000,\n",
       "     'shortLongTermDebt': 10260000000,\n",
       "     'otherStockholderEquity': -584000000,\n",
       "     'propertyPlantEquipment': 37378000000,\n",
       "     'totalCurrentAssets': 162819000000,\n",
       "     'longTermInvestments': 105341000000,\n",
       "     'netTangibleAssets': 90488000000,\n",
       "     'shortTermInvestments': 51713000000,\n",
       "     'netReceivables': 45804000000,\n",
       "     'longTermDebt': 91807000000,\n",
       "     'inventory': 4106000000,\n",
       "     'accountsPayable': 46236000000}},\n",
       "   {'2018-09-29': {'totalLiab': 258578000000,\n",
       "     'totalStockholderEquity': 107147000000,\n",
       "     'otherCurrentLiab': 39293000000,\n",
       "     'totalAssets': 365725000000,\n",
       "     'commonStock': 40201000000,\n",
       "     'otherCurrentAssets': 12087000000,\n",
       "     'retainedEarnings': 70400000000,\n",
       "     'otherLiab': 48914000000,\n",
       "     'treasuryStock': -3454000000,\n",
       "     'otherAssets': 22283000000,\n",
       "     'cash': 25913000000,\n",
       "     'totalCurrentLiabilities': 115929000000,\n",
       "     'shortLongTermDebt': 8784000000,\n",
       "     'otherStockholderEquity': -3454000000,\n",
       "     'propertyPlantEquipment': 41304000000,\n",
       "     'totalCurrentAssets': 131339000000,\n",
       "     'longTermInvestments': 170799000000,\n",
       "     'netTangibleAssets': 107147000000,\n",
       "     'shortTermInvestments': 40388000000,\n",
       "     'netReceivables': 48995000000,\n",
       "     'longTermDebt': 93735000000,\n",
       "     'inventory': 3956000000,\n",
       "     'accountsPayable': 55888000000}},\n",
       "   {'2017-09-30': {'totalLiab': 241272000000,\n",
       "     'totalStockholderEquity': 134047000000,\n",
       "     'otherCurrentLiab': 38099000000,\n",
       "     'totalAssets': 375319000000,\n",
       "     'commonStock': 35867000000,\n",
       "     'otherCurrentAssets': 13936000000,\n",
       "     'retainedEarnings': 98330000000,\n",
       "     'otherLiab': 43251000000,\n",
       "     'treasuryStock': -150000000,\n",
       "     'otherAssets': 18177000000,\n",
       "     'cash': 20289000000,\n",
       "     'totalCurrentLiabilities': 100814000000,\n",
       "     'shortLongTermDebt': 6496000000,\n",
       "     'otherStockholderEquity': -150000000,\n",
       "     'propertyPlantEquipment': 33783000000,\n",
       "     'totalCurrentAssets': 128645000000,\n",
       "     'longTermInvestments': 194714000000,\n",
       "     'netTangibleAssets': 134047000000,\n",
       "     'shortTermInvestments': 53892000000,\n",
       "     'netReceivables': 35673000000,\n",
       "     'longTermDebt': 97207000000,\n",
       "     'inventory': 4855000000,\n",
       "     'accountsPayable': 44242000000}}]}}"
      ]
     },
     "metadata": {},
     "execution_count": 30
    }
   ],
   "source": [
    "balance_statement = yf.get_financial_stmts('annual', 'balance')\n",
    "balance_statement"
   ]
  },
  {
   "cell_type": "code",
   "execution_count": 31,
   "metadata": {},
   "outputs": [],
   "source": [
    "aapl_bs = balance_statement['balanceSheetHistory']['AAPL']"
   ]
  },
  {
   "cell_type": "code",
   "execution_count": 32,
   "metadata": {},
   "outputs": [
    {
     "output_type": "execute_result",
     "data": {
      "text/plain": [
       "[{'2020-09-26': {'totalLiab': 258549000000,\n",
       "   'totalStockholderEquity': 65339000000,\n",
       "   'otherCurrentLiab': 47867000000,\n",
       "   'totalAssets': 323888000000,\n",
       "   'commonStock': 50779000000,\n",
       "   'otherCurrentAssets': 11264000000,\n",
       "   'retainedEarnings': 14966000000,\n",
       "   'otherLiab': 46108000000,\n",
       "   'treasuryStock': -406000000,\n",
       "   'otherAssets': 33952000000,\n",
       "   'cash': 38016000000,\n",
       "   'totalCurrentLiabilities': 105392000000,\n",
       "   'shortLongTermDebt': 8773000000,\n",
       "   'otherStockholderEquity': -406000000,\n",
       "   'propertyPlantEquipment': 45336000000,\n",
       "   'totalCurrentAssets': 143713000000,\n",
       "   'longTermInvestments': 100887000000,\n",
       "   'netTangibleAssets': 65339000000,\n",
       "   'shortTermInvestments': 52927000000,\n",
       "   'netReceivables': 37445000000,\n",
       "   'longTermDebt': 98667000000,\n",
       "   'inventory': 4061000000,\n",
       "   'accountsPayable': 42296000000}},\n",
       " {'2019-09-28': {'totalLiab': 248028000000,\n",
       "   'totalStockholderEquity': 90488000000,\n",
       "   'otherCurrentLiab': 43242000000,\n",
       "   'totalAssets': 338516000000,\n",
       "   'commonStock': 45174000000,\n",
       "   'otherCurrentAssets': 12352000000,\n",
       "   'retainedEarnings': 45898000000,\n",
       "   'otherLiab': 50503000000,\n",
       "   'treasuryStock': -584000000,\n",
       "   'otherAssets': 32978000000,\n",
       "   'cash': 48844000000,\n",
       "   'totalCurrentLiabilities': 105718000000,\n",
       "   'shortLongTermDebt': 10260000000,\n",
       "   'otherStockholderEquity': -584000000,\n",
       "   'propertyPlantEquipment': 37378000000,\n",
       "   'totalCurrentAssets': 162819000000,\n",
       "   'longTermInvestments': 105341000000,\n",
       "   'netTangibleAssets': 90488000000,\n",
       "   'shortTermInvestments': 51713000000,\n",
       "   'netReceivables': 45804000000,\n",
       "   'longTermDebt': 91807000000,\n",
       "   'inventory': 4106000000,\n",
       "   'accountsPayable': 46236000000}},\n",
       " {'2018-09-29': {'totalLiab': 258578000000,\n",
       "   'totalStockholderEquity': 107147000000,\n",
       "   'otherCurrentLiab': 39293000000,\n",
       "   'totalAssets': 365725000000,\n",
       "   'commonStock': 40201000000,\n",
       "   'otherCurrentAssets': 12087000000,\n",
       "   'retainedEarnings': 70400000000,\n",
       "   'otherLiab': 48914000000,\n",
       "   'treasuryStock': -3454000000,\n",
       "   'otherAssets': 22283000000,\n",
       "   'cash': 25913000000,\n",
       "   'totalCurrentLiabilities': 115929000000,\n",
       "   'shortLongTermDebt': 8784000000,\n",
       "   'otherStockholderEquity': -3454000000,\n",
       "   'propertyPlantEquipment': 41304000000,\n",
       "   'totalCurrentAssets': 131339000000,\n",
       "   'longTermInvestments': 170799000000,\n",
       "   'netTangibleAssets': 107147000000,\n",
       "   'shortTermInvestments': 40388000000,\n",
       "   'netReceivables': 48995000000,\n",
       "   'longTermDebt': 93735000000,\n",
       "   'inventory': 3956000000,\n",
       "   'accountsPayable': 55888000000}},\n",
       " {'2017-09-30': {'totalLiab': 241272000000,\n",
       "   'totalStockholderEquity': 134047000000,\n",
       "   'otherCurrentLiab': 38099000000,\n",
       "   'totalAssets': 375319000000,\n",
       "   'commonStock': 35867000000,\n",
       "   'otherCurrentAssets': 13936000000,\n",
       "   'retainedEarnings': 98330000000,\n",
       "   'otherLiab': 43251000000,\n",
       "   'treasuryStock': -150000000,\n",
       "   'otherAssets': 18177000000,\n",
       "   'cash': 20289000000,\n",
       "   'totalCurrentLiabilities': 100814000000,\n",
       "   'shortLongTermDebt': 6496000000,\n",
       "   'otherStockholderEquity': -150000000,\n",
       "   'propertyPlantEquipment': 33783000000,\n",
       "   'totalCurrentAssets': 128645000000,\n",
       "   'longTermInvestments': 194714000000,\n",
       "   'netTangibleAssets': 134047000000,\n",
       "   'shortTermInvestments': 53892000000,\n",
       "   'netReceivables': 35673000000,\n",
       "   'longTermDebt': 97207000000,\n",
       "   'inventory': 4855000000,\n",
       "   'accountsPayable': 44242000000}}]"
      ]
     },
     "metadata": {},
     "execution_count": 32
    }
   ],
   "source": [
    "aapl_bs"
   ]
  },
  {
   "cell_type": "code",
   "execution_count": 34,
   "metadata": {},
   "outputs": [
    {
     "output_type": "execute_result",
     "data": {
      "text/plain": [
       "               totalLiab  totalStockholderEquity  otherCurrentLiab  \\\n",
       "2020-09-26  258549000000             65339000000       47867000000   \n",
       "2019-09-28  248028000000             90488000000       43242000000   \n",
       "2018-09-29  258578000000            107147000000       39293000000   \n",
       "2017-09-30  241272000000            134047000000       38099000000   \n",
       "\n",
       "             totalAssets  commonStock  otherCurrentAssets  retainedEarnings  \\\n",
       "2020-09-26  323888000000  50779000000         11264000000       14966000000   \n",
       "2019-09-28  338516000000  45174000000         12352000000       45898000000   \n",
       "2018-09-29  365725000000  40201000000         12087000000       70400000000   \n",
       "2017-09-30  375319000000  35867000000         13936000000       98330000000   \n",
       "\n",
       "              otherLiab  treasuryStock  otherAssets  ...  \\\n",
       "2020-09-26  46108000000     -406000000  33952000000  ...   \n",
       "2019-09-28  50503000000     -584000000  32978000000  ...   \n",
       "2018-09-29  48914000000    -3454000000  22283000000  ...   \n",
       "2017-09-30  43251000000     -150000000  18177000000  ...   \n",
       "\n",
       "            otherStockholderEquity  propertyPlantEquipment  \\\n",
       "2020-09-26              -406000000             45336000000   \n",
       "2019-09-28              -584000000             37378000000   \n",
       "2018-09-29             -3454000000             41304000000   \n",
       "2017-09-30              -150000000             33783000000   \n",
       "\n",
       "            totalCurrentAssets  longTermInvestments  netTangibleAssets  \\\n",
       "2020-09-26        143713000000         100887000000        65339000000   \n",
       "2019-09-28        162819000000         105341000000        90488000000   \n",
       "2018-09-29        131339000000         170799000000       107147000000   \n",
       "2017-09-30        128645000000         194714000000       134047000000   \n",
       "\n",
       "            shortTermInvestments  netReceivables  longTermDebt   inventory  \\\n",
       "2020-09-26           52927000000     37445000000   98667000000  4061000000   \n",
       "2019-09-28           51713000000     45804000000   91807000000  4106000000   \n",
       "2018-09-29           40388000000     48995000000   93735000000  3956000000   \n",
       "2017-09-30           53892000000     35673000000   97207000000  4855000000   \n",
       "\n",
       "            accountsPayable  \n",
       "2020-09-26      42296000000  \n",
       "2019-09-28      46236000000  \n",
       "2018-09-29      55888000000  \n",
       "2017-09-30      44242000000  \n",
       "\n",
       "[4 rows x 23 columns]"
      ],
      "text/html": "<div>\n<style scoped>\n    .dataframe tbody tr th:only-of-type {\n        vertical-align: middle;\n    }\n\n    .dataframe tbody tr th {\n        vertical-align: top;\n    }\n\n    .dataframe thead th {\n        text-align: right;\n    }\n</style>\n<table border=\"1\" class=\"dataframe\">\n  <thead>\n    <tr style=\"text-align: right;\">\n      <th></th>\n      <th>totalLiab</th>\n      <th>totalStockholderEquity</th>\n      <th>otherCurrentLiab</th>\n      <th>totalAssets</th>\n      <th>commonStock</th>\n      <th>otherCurrentAssets</th>\n      <th>retainedEarnings</th>\n      <th>otherLiab</th>\n      <th>treasuryStock</th>\n      <th>otherAssets</th>\n      <th>...</th>\n      <th>otherStockholderEquity</th>\n      <th>propertyPlantEquipment</th>\n      <th>totalCurrentAssets</th>\n      <th>longTermInvestments</th>\n      <th>netTangibleAssets</th>\n      <th>shortTermInvestments</th>\n      <th>netReceivables</th>\n      <th>longTermDebt</th>\n      <th>inventory</th>\n      <th>accountsPayable</th>\n    </tr>\n  </thead>\n  <tbody>\n    <tr>\n      <th>2020-09-26</th>\n      <td>258549000000</td>\n      <td>65339000000</td>\n      <td>47867000000</td>\n      <td>323888000000</td>\n      <td>50779000000</td>\n      <td>11264000000</td>\n      <td>14966000000</td>\n      <td>46108000000</td>\n      <td>-406000000</td>\n      <td>33952000000</td>\n      <td>...</td>\n      <td>-406000000</td>\n      <td>45336000000</td>\n      <td>143713000000</td>\n      <td>100887000000</td>\n      <td>65339000000</td>\n      <td>52927000000</td>\n      <td>37445000000</td>\n      <td>98667000000</td>\n      <td>4061000000</td>\n      <td>42296000000</td>\n    </tr>\n    <tr>\n      <th>2019-09-28</th>\n      <td>248028000000</td>\n      <td>90488000000</td>\n      <td>43242000000</td>\n      <td>338516000000</td>\n      <td>45174000000</td>\n      <td>12352000000</td>\n      <td>45898000000</td>\n      <td>50503000000</td>\n      <td>-584000000</td>\n      <td>32978000000</td>\n      <td>...</td>\n      <td>-584000000</td>\n      <td>37378000000</td>\n      <td>162819000000</td>\n      <td>105341000000</td>\n      <td>90488000000</td>\n      <td>51713000000</td>\n      <td>45804000000</td>\n      <td>91807000000</td>\n      <td>4106000000</td>\n      <td>46236000000</td>\n    </tr>\n    <tr>\n      <th>2018-09-29</th>\n      <td>258578000000</td>\n      <td>107147000000</td>\n      <td>39293000000</td>\n      <td>365725000000</td>\n      <td>40201000000</td>\n      <td>12087000000</td>\n      <td>70400000000</td>\n      <td>48914000000</td>\n      <td>-3454000000</td>\n      <td>22283000000</td>\n      <td>...</td>\n      <td>-3454000000</td>\n      <td>41304000000</td>\n      <td>131339000000</td>\n      <td>170799000000</td>\n      <td>107147000000</td>\n      <td>40388000000</td>\n      <td>48995000000</td>\n      <td>93735000000</td>\n      <td>3956000000</td>\n      <td>55888000000</td>\n    </tr>\n    <tr>\n      <th>2017-09-30</th>\n      <td>241272000000</td>\n      <td>134047000000</td>\n      <td>38099000000</td>\n      <td>375319000000</td>\n      <td>35867000000</td>\n      <td>13936000000</td>\n      <td>98330000000</td>\n      <td>43251000000</td>\n      <td>-150000000</td>\n      <td>18177000000</td>\n      <td>...</td>\n      <td>-150000000</td>\n      <td>33783000000</td>\n      <td>128645000000</td>\n      <td>194714000000</td>\n      <td>134047000000</td>\n      <td>53892000000</td>\n      <td>35673000000</td>\n      <td>97207000000</td>\n      <td>4855000000</td>\n      <td>44242000000</td>\n    </tr>\n  </tbody>\n</table>\n<p>4 rows × 23 columns</p>\n</div>"
     },
     "metadata": {},
     "execution_count": 34
    }
   ],
   "source": [
    "df_list = []\n",
    "\n",
    "for d in aapl_bs:\n",
    "    df_list.append(pd.DataFrame.from_dict(d, orient='index'))\n",
    "\n",
    "df_bs = pd.concat(df_list)\n",
    "df_bs"
   ]
  },
  {
   "cell_type": "code",
   "execution_count": 35,
   "metadata": {},
   "outputs": [
    {
     "output_type": "execute_result",
     "data": {
      "text/plain": [
       "{'cashflowStatementHistory': {'AAPL': [{'2020-09-26': {'investments': 5335000000,\n",
       "     'changeToLiabilities': -1981000000,\n",
       "     'totalCashflowsFromInvestingActivities': -4289000000,\n",
       "     'netBorrowings': 2499000000,\n",
       "     'totalCashFromFinancingActivities': -86820000000,\n",
       "     'changeToOperatingActivities': 881000000,\n",
       "     'issuanceOfStock': 880000000,\n",
       "     'netIncome': 57411000000,\n",
       "     'changeInCash': -10435000000,\n",
       "     'repurchaseOfStock': -75992000000,\n",
       "     'totalCashFromOperatingActivities': 80674000000,\n",
       "     'depreciation': 11056000000,\n",
       "     'otherCashflowsFromInvestingActivities': -791000000,\n",
       "     'dividendsPaid': -14081000000,\n",
       "     'changeToInventory': -127000000,\n",
       "     'changeToAccountReceivables': 6917000000,\n",
       "     'otherCashflowsFromFinancingActivities': -126000000,\n",
       "     'changeToNetincome': 6517000000,\n",
       "     'capitalExpenditures': -7309000000}},\n",
       "   {'2019-09-28': {'investments': 58093000000,\n",
       "     'changeToLiabilities': -2548000000,\n",
       "     'totalCashflowsFromInvestingActivities': 45896000000,\n",
       "     'netBorrowings': -7819000000,\n",
       "     'totalCashFromFinancingActivities': -90976000000,\n",
       "     'changeToOperatingActivities': -896000000,\n",
       "     'issuanceOfStock': 781000000,\n",
       "     'netIncome': 55256000000,\n",
       "     'changeInCash': 24311000000,\n",
       "     'repurchaseOfStock': -69714000000,\n",
       "     'totalCashFromOperatingActivities': 69391000000,\n",
       "     'depreciation': 12547000000,\n",
       "     'otherCashflowsFromInvestingActivities': -1078000000,\n",
       "     'dividendsPaid': -14119000000,\n",
       "     'changeToInventory': -289000000,\n",
       "     'changeToAccountReceivables': 245000000,\n",
       "     'otherCashflowsFromFinancingActivities': -105000000,\n",
       "     'changeToNetincome': 5076000000,\n",
       "     'capitalExpenditures': -10495000000}},\n",
       "   {'2018-09-29': {'investments': 30845000000,\n",
       "     'changeToLiabilities': 9172000000,\n",
       "     'totalCashflowsFromInvestingActivities': 16066000000,\n",
       "     'netBorrowings': 432000000,\n",
       "     'totalCashFromFinancingActivities': -87876000000,\n",
       "     'changeToOperatingActivities': 30016000000,\n",
       "     'issuanceOfStock': 669000000,\n",
       "     'netIncome': 59531000000,\n",
       "     'changeInCash': 5624000000,\n",
       "     'repurchaseOfStock': -75265000000,\n",
       "     'totalCashFromOperatingActivities': 77434000000,\n",
       "     'depreciation': 10903000000,\n",
       "     'otherCashflowsFromInvestingActivities': -745000000,\n",
       "     'dividendsPaid': -13712000000,\n",
       "     'changeToInventory': 828000000,\n",
       "     'changeToAccountReceivables': -5322000000,\n",
       "     'otherCashflowsFromFinancingActivities': -105000000,\n",
       "     'changeToNetincome': -27694000000,\n",
       "     'capitalExpenditures': -13313000000}},\n",
       "   {'2017-09-30': {'investments': -33542000000,\n",
       "     'changeToLiabilities': 8373000000,\n",
       "     'totalCashflowsFromInvestingActivities': -46446000000,\n",
       "     'netBorrowings': 29014000000,\n",
       "     'totalCashFromFinancingActivities': -17974000000,\n",
       "     'changeToOperatingActivities': -8480000000,\n",
       "     'issuanceOfStock': 555000000,\n",
       "     'netIncome': 48351000000,\n",
       "     'changeInCash': -195000000,\n",
       "     'repurchaseOfStock': -34774000000,\n",
       "     'totalCashFromOperatingActivities': 64225000000,\n",
       "     'depreciation': 10157000000,\n",
       "     'otherCashflowsFromInvestingActivities': -124000000,\n",
       "     'dividendsPaid': -12769000000,\n",
       "     'changeToInventory': -2723000000,\n",
       "     'changeToAccountReceivables': -2093000000,\n",
       "     'otherCashflowsFromFinancingActivities': -105000000,\n",
       "     'changeToNetincome': 10640000000,\n",
       "     'capitalExpenditures': -12451000000}}]}}"
      ]
     },
     "metadata": {},
     "execution_count": 35
    }
   ],
   "source": [
    "cash_flow = yf.get_financial_stmts('annual', 'cash')\n",
    "cash_flow"
   ]
  },
  {
   "cell_type": "code",
   "execution_count": 36,
   "metadata": {},
   "outputs": [
    {
     "output_type": "execute_result",
     "data": {
      "text/plain": [
       "[{'2020-09-26': {'investments': 5335000000,\n",
       "   'changeToLiabilities': -1981000000,\n",
       "   'totalCashflowsFromInvestingActivities': -4289000000,\n",
       "   'netBorrowings': 2499000000,\n",
       "   'totalCashFromFinancingActivities': -86820000000,\n",
       "   'changeToOperatingActivities': 881000000,\n",
       "   'issuanceOfStock': 880000000,\n",
       "   'netIncome': 57411000000,\n",
       "   'changeInCash': -10435000000,\n",
       "   'repurchaseOfStock': -75992000000,\n",
       "   'totalCashFromOperatingActivities': 80674000000,\n",
       "   'depreciation': 11056000000,\n",
       "   'otherCashflowsFromInvestingActivities': -791000000,\n",
       "   'dividendsPaid': -14081000000,\n",
       "   'changeToInventory': -127000000,\n",
       "   'changeToAccountReceivables': 6917000000,\n",
       "   'otherCashflowsFromFinancingActivities': -126000000,\n",
       "   'changeToNetincome': 6517000000,\n",
       "   'capitalExpenditures': -7309000000}},\n",
       " {'2019-09-28': {'investments': 58093000000,\n",
       "   'changeToLiabilities': -2548000000,\n",
       "   'totalCashflowsFromInvestingActivities': 45896000000,\n",
       "   'netBorrowings': -7819000000,\n",
       "   'totalCashFromFinancingActivities': -90976000000,\n",
       "   'changeToOperatingActivities': -896000000,\n",
       "   'issuanceOfStock': 781000000,\n",
       "   'netIncome': 55256000000,\n",
       "   'changeInCash': 24311000000,\n",
       "   'repurchaseOfStock': -69714000000,\n",
       "   'totalCashFromOperatingActivities': 69391000000,\n",
       "   'depreciation': 12547000000,\n",
       "   'otherCashflowsFromInvestingActivities': -1078000000,\n",
       "   'dividendsPaid': -14119000000,\n",
       "   'changeToInventory': -289000000,\n",
       "   'changeToAccountReceivables': 245000000,\n",
       "   'otherCashflowsFromFinancingActivities': -105000000,\n",
       "   'changeToNetincome': 5076000000,\n",
       "   'capitalExpenditures': -10495000000}},\n",
       " {'2018-09-29': {'investments': 30845000000,\n",
       "   'changeToLiabilities': 9172000000,\n",
       "   'totalCashflowsFromInvestingActivities': 16066000000,\n",
       "   'netBorrowings': 432000000,\n",
       "   'totalCashFromFinancingActivities': -87876000000,\n",
       "   'changeToOperatingActivities': 30016000000,\n",
       "   'issuanceOfStock': 669000000,\n",
       "   'netIncome': 59531000000,\n",
       "   'changeInCash': 5624000000,\n",
       "   'repurchaseOfStock': -75265000000,\n",
       "   'totalCashFromOperatingActivities': 77434000000,\n",
       "   'depreciation': 10903000000,\n",
       "   'otherCashflowsFromInvestingActivities': -745000000,\n",
       "   'dividendsPaid': -13712000000,\n",
       "   'changeToInventory': 828000000,\n",
       "   'changeToAccountReceivables': -5322000000,\n",
       "   'otherCashflowsFromFinancingActivities': -105000000,\n",
       "   'changeToNetincome': -27694000000,\n",
       "   'capitalExpenditures': -13313000000}},\n",
       " {'2017-09-30': {'investments': -33542000000,\n",
       "   'changeToLiabilities': 8373000000,\n",
       "   'totalCashflowsFromInvestingActivities': -46446000000,\n",
       "   'netBorrowings': 29014000000,\n",
       "   'totalCashFromFinancingActivities': -17974000000,\n",
       "   'changeToOperatingActivities': -8480000000,\n",
       "   'issuanceOfStock': 555000000,\n",
       "   'netIncome': 48351000000,\n",
       "   'changeInCash': -195000000,\n",
       "   'repurchaseOfStock': -34774000000,\n",
       "   'totalCashFromOperatingActivities': 64225000000,\n",
       "   'depreciation': 10157000000,\n",
       "   'otherCashflowsFromInvestingActivities': -124000000,\n",
       "   'dividendsPaid': -12769000000,\n",
       "   'changeToInventory': -2723000000,\n",
       "   'changeToAccountReceivables': -2093000000,\n",
       "   'otherCashflowsFromFinancingActivities': -105000000,\n",
       "   'changeToNetincome': 10640000000,\n",
       "   'capitalExpenditures': -12451000000}}]"
      ]
     },
     "metadata": {},
     "execution_count": 36
    }
   ],
   "source": [
    "aapl_cf=cash_flow['cashflowStatementHistory']['AAPL']\n",
    "aapl_cf"
   ]
  },
  {
   "cell_type": "code",
   "execution_count": 37,
   "metadata": {},
   "outputs": [
    {
     "output_type": "execute_result",
     "data": {
      "text/plain": [
       "            investments  changeToLiabilities  \\\n",
       "2020-09-26   5335000000          -1981000000   \n",
       "2019-09-28  58093000000          -2548000000   \n",
       "2018-09-29  30845000000           9172000000   \n",
       "2017-09-30 -33542000000           8373000000   \n",
       "\n",
       "            totalCashflowsFromInvestingActivities  netBorrowings  \\\n",
       "2020-09-26                            -4289000000     2499000000   \n",
       "2019-09-28                            45896000000    -7819000000   \n",
       "2018-09-29                            16066000000      432000000   \n",
       "2017-09-30                           -46446000000    29014000000   \n",
       "\n",
       "            totalCashFromFinancingActivities  changeToOperatingActivities  \\\n",
       "2020-09-26                      -86820000000                    881000000   \n",
       "2019-09-28                      -90976000000                   -896000000   \n",
       "2018-09-29                      -87876000000                  30016000000   \n",
       "2017-09-30                      -17974000000                  -8480000000   \n",
       "\n",
       "            issuanceOfStock    netIncome  changeInCash  repurchaseOfStock  \\\n",
       "2020-09-26        880000000  57411000000  -10435000000       -75992000000   \n",
       "2019-09-28        781000000  55256000000   24311000000       -69714000000   \n",
       "2018-09-29        669000000  59531000000    5624000000       -75265000000   \n",
       "2017-09-30        555000000  48351000000    -195000000       -34774000000   \n",
       "\n",
       "            totalCashFromOperatingActivities  depreciation  \\\n",
       "2020-09-26                       80674000000   11056000000   \n",
       "2019-09-28                       69391000000   12547000000   \n",
       "2018-09-29                       77434000000   10903000000   \n",
       "2017-09-30                       64225000000   10157000000   \n",
       "\n",
       "            otherCashflowsFromInvestingActivities  dividendsPaid  \\\n",
       "2020-09-26                             -791000000   -14081000000   \n",
       "2019-09-28                            -1078000000   -14119000000   \n",
       "2018-09-29                             -745000000   -13712000000   \n",
       "2017-09-30                             -124000000   -12769000000   \n",
       "\n",
       "            changeToInventory  changeToAccountReceivables  \\\n",
       "2020-09-26         -127000000                  6917000000   \n",
       "2019-09-28         -289000000                   245000000   \n",
       "2018-09-29          828000000                 -5322000000   \n",
       "2017-09-30        -2723000000                 -2093000000   \n",
       "\n",
       "            otherCashflowsFromFinancingActivities  changeToNetincome  \\\n",
       "2020-09-26                             -126000000         6517000000   \n",
       "2019-09-28                             -105000000         5076000000   \n",
       "2018-09-29                             -105000000       -27694000000   \n",
       "2017-09-30                             -105000000        10640000000   \n",
       "\n",
       "            capitalExpenditures  \n",
       "2020-09-26          -7309000000  \n",
       "2019-09-28         -10495000000  \n",
       "2018-09-29         -13313000000  \n",
       "2017-09-30         -12451000000  "
      ],
      "text/html": "<div>\n<style scoped>\n    .dataframe tbody tr th:only-of-type {\n        vertical-align: middle;\n    }\n\n    .dataframe tbody tr th {\n        vertical-align: top;\n    }\n\n    .dataframe thead th {\n        text-align: right;\n    }\n</style>\n<table border=\"1\" class=\"dataframe\">\n  <thead>\n    <tr style=\"text-align: right;\">\n      <th></th>\n      <th>investments</th>\n      <th>changeToLiabilities</th>\n      <th>totalCashflowsFromInvestingActivities</th>\n      <th>netBorrowings</th>\n      <th>totalCashFromFinancingActivities</th>\n      <th>changeToOperatingActivities</th>\n      <th>issuanceOfStock</th>\n      <th>netIncome</th>\n      <th>changeInCash</th>\n      <th>repurchaseOfStock</th>\n      <th>totalCashFromOperatingActivities</th>\n      <th>depreciation</th>\n      <th>otherCashflowsFromInvestingActivities</th>\n      <th>dividendsPaid</th>\n      <th>changeToInventory</th>\n      <th>changeToAccountReceivables</th>\n      <th>otherCashflowsFromFinancingActivities</th>\n      <th>changeToNetincome</th>\n      <th>capitalExpenditures</th>\n    </tr>\n  </thead>\n  <tbody>\n    <tr>\n      <th>2020-09-26</th>\n      <td>5335000000</td>\n      <td>-1981000000</td>\n      <td>-4289000000</td>\n      <td>2499000000</td>\n      <td>-86820000000</td>\n      <td>881000000</td>\n      <td>880000000</td>\n      <td>57411000000</td>\n      <td>-10435000000</td>\n      <td>-75992000000</td>\n      <td>80674000000</td>\n      <td>11056000000</td>\n      <td>-791000000</td>\n      <td>-14081000000</td>\n      <td>-127000000</td>\n      <td>6917000000</td>\n      <td>-126000000</td>\n      <td>6517000000</td>\n      <td>-7309000000</td>\n    </tr>\n    <tr>\n      <th>2019-09-28</th>\n      <td>58093000000</td>\n      <td>-2548000000</td>\n      <td>45896000000</td>\n      <td>-7819000000</td>\n      <td>-90976000000</td>\n      <td>-896000000</td>\n      <td>781000000</td>\n      <td>55256000000</td>\n      <td>24311000000</td>\n      <td>-69714000000</td>\n      <td>69391000000</td>\n      <td>12547000000</td>\n      <td>-1078000000</td>\n      <td>-14119000000</td>\n      <td>-289000000</td>\n      <td>245000000</td>\n      <td>-105000000</td>\n      <td>5076000000</td>\n      <td>-10495000000</td>\n    </tr>\n    <tr>\n      <th>2018-09-29</th>\n      <td>30845000000</td>\n      <td>9172000000</td>\n      <td>16066000000</td>\n      <td>432000000</td>\n      <td>-87876000000</td>\n      <td>30016000000</td>\n      <td>669000000</td>\n      <td>59531000000</td>\n      <td>5624000000</td>\n      <td>-75265000000</td>\n      <td>77434000000</td>\n      <td>10903000000</td>\n      <td>-745000000</td>\n      <td>-13712000000</td>\n      <td>828000000</td>\n      <td>-5322000000</td>\n      <td>-105000000</td>\n      <td>-27694000000</td>\n      <td>-13313000000</td>\n    </tr>\n    <tr>\n      <th>2017-09-30</th>\n      <td>-33542000000</td>\n      <td>8373000000</td>\n      <td>-46446000000</td>\n      <td>29014000000</td>\n      <td>-17974000000</td>\n      <td>-8480000000</td>\n      <td>555000000</td>\n      <td>48351000000</td>\n      <td>-195000000</td>\n      <td>-34774000000</td>\n      <td>64225000000</td>\n      <td>10157000000</td>\n      <td>-124000000</td>\n      <td>-12769000000</td>\n      <td>-2723000000</td>\n      <td>-2093000000</td>\n      <td>-105000000</td>\n      <td>10640000000</td>\n      <td>-12451000000</td>\n    </tr>\n  </tbody>\n</table>\n</div>"
     },
     "metadata": {},
     "execution_count": 37
    }
   ],
   "source": [
    "df_list = []\n",
    "\n",
    "for d in aapl_cf:\n",
    "    df_list.append(pd.DataFrame.from_dict(d, orient='index'))\n",
    "\n",
    "df_cf = pd.concat(df_list)\n",
    "df_cf"
   ]
  },
  {
   "source": [
    "## Web Scraping\n",
    "* It's a grey zone.\n",
    "* Always be ehtical and don't use ir for comercial purpose.\n",
    "* Only private use.\n",
    "- The legality of web scraping varies across the world.\n",
    "- In general, web scraping may be against the terms of use of some websites, but the enforceability of these terms is unclear."
   ],
   "cell_type": "markdown",
   "metadata": {}
  },
  {
   "cell_type": "code",
   "execution_count": 62,
   "metadata": {},
   "outputs": [
    {
     "output_type": "execute_result",
     "data": {
      "text/plain": [
       "list"
      ]
     },
     "metadata": {},
     "execution_count": 62
    }
   ],
   "source": [
    "url = \"https://en.wikipedia.org/wiki/Wikipedia:Fundraising_statistics\"\n",
    "\n",
    "tables = pd.read_html(url)\n",
    "type(tables)"
   ]
  },
  {
   "cell_type": "code",
   "execution_count": 63,
   "metadata": {},
   "outputs": [
    {
     "output_type": "execute_result",
     "data": {
      "text/plain": [
       "2"
      ]
     },
     "metadata": {},
     "execution_count": 63
    }
   ],
   "source": [
    "len(tables)"
   ]
  },
  {
   "cell_type": "code",
   "execution_count": 64,
   "metadata": {},
   "outputs": [
    {
     "output_type": "execute_result",
     "data": {
      "text/plain": [
       "        Year Source        Revenue       Expenses    Asset rise   Total assets\n",
       "0  2019/2020    PDF  $ 129,234,327  $ 112,489,397  $ 14,674,300  $ 180,315,725\n",
       "1  2018/2019    PDF  $ 120,067,266   $ 91,414,010  $ 30,691,855  $ 165,641,425\n",
       "2  2017/2018    PDF  $ 104,505,783   $ 81,442,265  $ 21,619,373  $ 134,949,570\n",
       "3  2016/2017    PDF   $ 91,242,418   $ 69,136,758  $ 21,547,402  $ 113,330,197\n",
       "4  2015/2016    PDF   $ 81,862,724   $ 65,947,465  $ 13,962,497   $ 91,782,795"
      ],
      "text/html": "<div>\n<style scoped>\n    .dataframe tbody tr th:only-of-type {\n        vertical-align: middle;\n    }\n\n    .dataframe tbody tr th {\n        vertical-align: top;\n    }\n\n    .dataframe thead th {\n        text-align: right;\n    }\n</style>\n<table border=\"1\" class=\"dataframe\">\n  <thead>\n    <tr style=\"text-align: right;\">\n      <th></th>\n      <th>Year</th>\n      <th>Source</th>\n      <th>Revenue</th>\n      <th>Expenses</th>\n      <th>Asset rise</th>\n      <th>Total assets</th>\n    </tr>\n  </thead>\n  <tbody>\n    <tr>\n      <th>0</th>\n      <td>2019/2020</td>\n      <td>PDF</td>\n      <td>$ 129,234,327</td>\n      <td>$ 112,489,397</td>\n      <td>$ 14,674,300</td>\n      <td>$ 180,315,725</td>\n    </tr>\n    <tr>\n      <th>1</th>\n      <td>2018/2019</td>\n      <td>PDF</td>\n      <td>$ 120,067,266</td>\n      <td>$ 91,414,010</td>\n      <td>$ 30,691,855</td>\n      <td>$ 165,641,425</td>\n    </tr>\n    <tr>\n      <th>2</th>\n      <td>2017/2018</td>\n      <td>PDF</td>\n      <td>$ 104,505,783</td>\n      <td>$ 81,442,265</td>\n      <td>$ 21,619,373</td>\n      <td>$ 134,949,570</td>\n    </tr>\n    <tr>\n      <th>3</th>\n      <td>2016/2017</td>\n      <td>PDF</td>\n      <td>$ 91,242,418</td>\n      <td>$ 69,136,758</td>\n      <td>$ 21,547,402</td>\n      <td>$ 113,330,197</td>\n    </tr>\n    <tr>\n      <th>4</th>\n      <td>2015/2016</td>\n      <td>PDF</td>\n      <td>$ 81,862,724</td>\n      <td>$ 65,947,465</td>\n      <td>$ 13,962,497</td>\n      <td>$ 91,782,795</td>\n    </tr>\n  </tbody>\n</table>\n</div>"
     },
     "metadata": {},
     "execution_count": 64
    }
   ],
   "source": [
    "foundraising = tables[0].head()\n",
    "foundraising.head()"
   ]
  },
  {
   "cell_type": "code",
   "execution_count": 65,
   "metadata": {},
   "outputs": [
    {
     "output_type": "execute_result",
     "data": {
      "text/plain": [
       "Year            object\n",
       "Source          object\n",
       "Revenue         object\n",
       "Expenses        object\n",
       "Asset rise      object\n",
       "Total assets    object\n",
       "dtype: object"
      ]
     },
     "metadata": {},
     "execution_count": 65
    }
   ],
   "source": [
    "foundraising.dtypes"
   ]
  },
  {
   "cell_type": "code",
   "execution_count": 67,
   "metadata": {},
   "outputs": [
    {
     "output_type": "stream",
     "name": "stderr",
     "text": [
      "<ipython-input-67-7dd9b6f4e871>:4: SettingWithCopyWarning: \nA value is trying to be set on a copy of a slice from a DataFrame.\nTry using .loc[row_indexer,col_indexer] = value instead\n\nSee the caveats in the documentation: https://pandas.pydata.org/pandas-docs/stable/user_guide/indexing.html#returning-a-view-versus-a-copy\n  foundraising[i] = foundraising[i].str[2:]\n<ipython-input-67-7dd9b6f4e871>:5: SettingWithCopyWarning: \nA value is trying to be set on a copy of a slice from a DataFrame.\nTry using .loc[row_indexer,col_indexer] = value instead\n\nSee the caveats in the documentation: https://pandas.pydata.org/pandas-docs/stable/user_guide/indexing.html#returning-a-view-versus-a-copy\n  foundraising[i] = foundraising[i].str.replace(',','')\n<ipython-input-67-7dd9b6f4e871>:6: SettingWithCopyWarning: \nA value is trying to be set on a copy of a slice from a DataFrame.\nTry using .loc[row_indexer,col_indexer] = value instead\n\nSee the caveats in the documentation: https://pandas.pydata.org/pandas-docs/stable/user_guide/indexing.html#returning-a-view-versus-a-copy\n  foundraising[i] = pd.to_numeric(foundraising[i])\n"
     ]
    },
    {
     "output_type": "execute_result",
     "data": {
      "text/plain": [
       "        Year Source  Revenue   Expenses  Asset rise  Total assets        Rev\n",
       "0  2019/2020    PDF  9234327  112489397    14674300     180315725  129234327\n",
       "1  2018/2019    PDF    67266   91414010    30691855     165641425  120067266\n",
       "2  2017/2018    PDF  4505783   81442265    21619373     134949570  104505783\n",
       "3  2016/2017    PDF   242418   69136758    21547402     113330197   91242418\n",
       "4  2015/2016    PDF   862724   65947465    13962497      91782795   81862724"
      ],
      "text/html": "<div>\n<style scoped>\n    .dataframe tbody tr th:only-of-type {\n        vertical-align: middle;\n    }\n\n    .dataframe tbody tr th {\n        vertical-align: top;\n    }\n\n    .dataframe thead th {\n        text-align: right;\n    }\n</style>\n<table border=\"1\" class=\"dataframe\">\n  <thead>\n    <tr style=\"text-align: right;\">\n      <th></th>\n      <th>Year</th>\n      <th>Source</th>\n      <th>Revenue</th>\n      <th>Expenses</th>\n      <th>Asset rise</th>\n      <th>Total assets</th>\n      <th>Rev</th>\n    </tr>\n  </thead>\n  <tbody>\n    <tr>\n      <th>0</th>\n      <td>2019/2020</td>\n      <td>PDF</td>\n      <td>9234327</td>\n      <td>112489397</td>\n      <td>14674300</td>\n      <td>180315725</td>\n      <td>129234327</td>\n    </tr>\n    <tr>\n      <th>1</th>\n      <td>2018/2019</td>\n      <td>PDF</td>\n      <td>67266</td>\n      <td>91414010</td>\n      <td>30691855</td>\n      <td>165641425</td>\n      <td>120067266</td>\n    </tr>\n    <tr>\n      <th>2</th>\n      <td>2017/2018</td>\n      <td>PDF</td>\n      <td>4505783</td>\n      <td>81442265</td>\n      <td>21619373</td>\n      <td>134949570</td>\n      <td>104505783</td>\n    </tr>\n    <tr>\n      <th>3</th>\n      <td>2016/2017</td>\n      <td>PDF</td>\n      <td>242418</td>\n      <td>69136758</td>\n      <td>21547402</td>\n      <td>113330197</td>\n      <td>91242418</td>\n    </tr>\n    <tr>\n      <th>4</th>\n      <td>2015/2016</td>\n      <td>PDF</td>\n      <td>862724</td>\n      <td>65947465</td>\n      <td>13962497</td>\n      <td>91782795</td>\n      <td>81862724</td>\n    </tr>\n  </tbody>\n</table>\n</div>"
     },
     "metadata": {},
     "execution_count": 67
    }
   ],
   "source": [
    "lista = ['Revenue','Expenses','Asset rise','Total assets']\n",
    "\n",
    "for i in lista:\n",
    "    foundraising[i] = foundraising[i].str[2:]\n",
    "    foundraising[i] = foundraising[i].str.replace(',','')\n",
    "    foundraising[i] = pd.to_numeric(foundraising[i],errors='coerce')\n",
    "\n",
    "foundraising.head()"
   ]
  },
  {
   "cell_type": "code",
   "execution_count": 68,
   "metadata": {},
   "outputs": [
    {
     "output_type": "execute_result",
     "data": {
      "text/plain": [
       "Year            object\n",
       "Source          object\n",
       "Revenue          int64\n",
       "Expenses         int64\n",
       "Asset rise       int64\n",
       "Total assets     int64\n",
       "Rev              int64\n",
       "dtype: object"
      ]
     },
     "metadata": {},
     "execution_count": 68
    }
   ],
   "source": [
    "foundraising.dtypes"
   ]
  },
  {
   "cell_type": "code",
   "execution_count": null,
   "metadata": {},
   "outputs": [],
   "source": []
  }
 ]
}