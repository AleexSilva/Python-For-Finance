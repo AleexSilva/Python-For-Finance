{
 "metadata": {
  "language_info": {
   "codemirror_mode": {
    "name": "ipython",
    "version": 3
   },
   "file_extension": ".py",
   "mimetype": "text/x-python",
   "name": "python",
   "nbconvert_exporter": "python",
   "pygments_lexer": "ipython3",
   "version": "3.9.4"
  },
  "orig_nbformat": 2,
  "kernelspec": {
   "name": "pythonjvsc74a57bd068085c160c24486091918865001a87af9229d3fb515dc7068b6f3f223a2e33f7",
   "display_name": "Python 3.9.4  ('venv': venv)"
  },
  "metadata": {
   "interpreter": {
    "hash": "68085c160c24486091918865001a87af9229d3fb515dc7068b6f3f223a2e33f7"
   }
  }
 },
 "nbformat": 4,
 "nbformat_minor": 2,
 "cells": [
  {
   "cell_type": "code",
   "execution_count": 1,
   "metadata": {},
   "outputs": [],
   "source": [
    "import pandas as pd\n",
    "import numpy as np\n",
    "pd.set_option('display.max_rows',None,'display.max_columns',None)"
   ]
  },
  {
   "source": [
    "### Return of Investment\n",
    "ROI tries to directly measure the amount of return on a particular investment, relative to the investment’s cost.\n",
    "* The benefit (or return) of an investment is divided by the cost of the investment.\n",
    "* 10% on average for over 10Y and should be predictible (stable numbers).\n",
    "* Return on Investment (ROI) is a popular profitability metric used to evaluate how well an investment has performed.\n",
    "$$\n",
    "\\ ROI = \\frac{\\text{Current Value Of Investment − Cost Of Investment}} { \\text{Cost Of Investment}}\n",
    "$$​\t \n",
    "​\t"
   ],
   "cell_type": "markdown",
   "metadata": {}
  },
  {
   "cell_type": "code",
   "execution_count": 2,
   "metadata": {},
   "outputs": [
    {
     "output_type": "execute_result",
     "data": {
      "text/plain": [
       "             AAPL   MSFT   AMZN   GOOG      FB  TSLA  BRK.A      V    JNJ  \\\n",
       "2020-09-30  38.97  31.67  20.07  16.34     NaN  8.03    NaN  27.06  21.31   \n",
       "2020-06-30  38.43  30.21  18.74  15.90     NaN  6.21    NaN  29.02  18.87   \n",
       "2020-03-31  36.76  30.02  17.13  17.58     NaN  3.88    NaN  31.08  22.43   \n",
       "2019-12-31  35.64  29.17  18.61  17.36  103.08 -0.39    NaN  30.15  20.02   \n",
       "2019-09-30  33.18  27.49  19.65  17.36   98.62 -0.08    NaN  29.31  18.68   \n",
       "\n",
       "            WMT   JPM     MA     PG    UNH   DIS  NVDA  HD   PYPL   BAC  \\\n",
       "2020-09-30  NaN  5.51  48.29  24.10  23.55 -1.40   NaN NaN  12.51  4.05   \n",
       "2020-06-30  NaN  5.44  56.04  23.12  24.62  0.64   NaN NaN  12.11  4.52   \n",
       "2020-03-31  NaN  6.54  66.77  10.45  20.92  6.29   NaN NaN  15.44  5.57   \n",
       "2019-12-31  NaN  8.04  75.82   9.84  21.13  7.35   NaN NaN  25.09  6.46   \n",
       "2019-09-30  NaN  7.78  71.13   8.64  20.95  8.90   NaN NaN  46.96  6.60   \n",
       "\n",
       "               VZ  ADBE  CMCSA   NFLX     KO  NKE    MRK    PEP     T    PFE  \\\n",
       "2020-09-30  16.66   NaN   9.92  17.14  16.32  NaN  25.58  20.38  6.46  11.17   \n",
       "2020-06-30  17.32   NaN  10.71  16.91  17.34  NaN  25.11  20.87  6.97  11.19   \n",
       "2020-03-31  17.82   NaN  11.26  14.97  19.98  NaN  26.05  22.87  8.08  12.91   \n",
       "2019-12-31  18.67   NaN  11.57  13.64  20.26  NaN  24.58  23.88  7.92  13.45   \n",
       "2019-09-30  15.51   NaN  11.28  13.57  20.28  NaN  25.02  23.41  8.12  14.34   \n",
       "\n",
       "             INTC  CRM   ABT  ORCL   ABBV  CSCO    TMO  AVGO   XOM  ACN  \\\n",
       "2020-09-30  22.14  NaN  8.89   NaN  15.17   NaN  12.03   NaN  1.82  NaN   \n",
       "2020-06-30  24.07  NaN  8.29   NaN  18.81   NaN   9.38   NaN  4.09  NaN   \n",
       "2020-03-31  24.08  NaN  9.30   NaN  34.23   NaN   9.87   NaN  7.00  NaN   \n",
       "2019-12-31  22.02  NaN  9.13   NaN  39.95   NaN  10.07   NaN  9.09  NaN   \n",
       "2019-09-30  21.62  NaN  8.59   NaN  25.89   NaN   9.97   NaN  9.93  NaN   \n",
       "\n",
       "             QCOM  COST    CVX    LLY    MCD   DHR  MDT   NEE    TXN    HON  \\\n",
       "2020-09-30  33.59   NaN  -8.92  29.40  28.06  6.42  NaN  6.13  38.14  17.43   \n",
       "2020-06-30  19.59   NaN  -6.32  32.04  28.26  6.13  NaN  7.02  38.19  19.76   \n",
       "2020-03-31  44.86   NaN   3.26  35.14  33.10  6.57  NaN  8.01  40.81  23.94   \n",
       "2019-12-31  42.91   NaN   3.09  29.97  35.45  7.07  NaN  7.25  41.53  24.16   \n",
       "2019-09-30  40.61   NaN  10.31  25.57  34.67  6.83  NaN  7.96  44.19  23.90   \n",
       "\n",
       "              UPS  \n",
       "2020-09-30  28.52  \n",
       "2020-06-30  28.07  \n",
       "2020-03-31  28.54  \n",
       "2019-12-31  30.84  \n",
       "2019-09-30  30.99  "
      ],
      "text/html": "<div>\n<style scoped>\n    .dataframe tbody tr th:only-of-type {\n        vertical-align: middle;\n    }\n\n    .dataframe tbody tr th {\n        vertical-align: top;\n    }\n\n    .dataframe thead th {\n        text-align: right;\n    }\n</style>\n<table border=\"1\" class=\"dataframe\">\n  <thead>\n    <tr style=\"text-align: right;\">\n      <th></th>\n      <th>AAPL</th>\n      <th>MSFT</th>\n      <th>AMZN</th>\n      <th>GOOG</th>\n      <th>FB</th>\n      <th>TSLA</th>\n      <th>BRK.A</th>\n      <th>V</th>\n      <th>JNJ</th>\n      <th>WMT</th>\n      <th>JPM</th>\n      <th>MA</th>\n      <th>PG</th>\n      <th>UNH</th>\n      <th>DIS</th>\n      <th>NVDA</th>\n      <th>HD</th>\n      <th>PYPL</th>\n      <th>BAC</th>\n      <th>VZ</th>\n      <th>ADBE</th>\n      <th>CMCSA</th>\n      <th>NFLX</th>\n      <th>KO</th>\n      <th>NKE</th>\n      <th>MRK</th>\n      <th>PEP</th>\n      <th>T</th>\n      <th>PFE</th>\n      <th>INTC</th>\n      <th>CRM</th>\n      <th>ABT</th>\n      <th>ORCL</th>\n      <th>ABBV</th>\n      <th>CSCO</th>\n      <th>TMO</th>\n      <th>AVGO</th>\n      <th>XOM</th>\n      <th>ACN</th>\n      <th>QCOM</th>\n      <th>COST</th>\n      <th>CVX</th>\n      <th>LLY</th>\n      <th>MCD</th>\n      <th>DHR</th>\n      <th>MDT</th>\n      <th>NEE</th>\n      <th>TXN</th>\n      <th>HON</th>\n      <th>UPS</th>\n    </tr>\n  </thead>\n  <tbody>\n    <tr>\n      <th>2020-09-30</th>\n      <td>38.97</td>\n      <td>31.67</td>\n      <td>20.07</td>\n      <td>16.34</td>\n      <td>NaN</td>\n      <td>8.03</td>\n      <td>NaN</td>\n      <td>27.06</td>\n      <td>21.31</td>\n      <td>NaN</td>\n      <td>5.51</td>\n      <td>48.29</td>\n      <td>24.10</td>\n      <td>23.55</td>\n      <td>-1.40</td>\n      <td>NaN</td>\n      <td>NaN</td>\n      <td>12.51</td>\n      <td>4.05</td>\n      <td>16.66</td>\n      <td>NaN</td>\n      <td>9.92</td>\n      <td>17.14</td>\n      <td>16.32</td>\n      <td>NaN</td>\n      <td>25.58</td>\n      <td>20.38</td>\n      <td>6.46</td>\n      <td>11.17</td>\n      <td>22.14</td>\n      <td>NaN</td>\n      <td>8.89</td>\n      <td>NaN</td>\n      <td>15.17</td>\n      <td>NaN</td>\n      <td>12.03</td>\n      <td>NaN</td>\n      <td>1.82</td>\n      <td>NaN</td>\n      <td>33.59</td>\n      <td>NaN</td>\n      <td>-8.92</td>\n      <td>29.40</td>\n      <td>28.06</td>\n      <td>6.42</td>\n      <td>NaN</td>\n      <td>6.13</td>\n      <td>38.14</td>\n      <td>17.43</td>\n      <td>28.52</td>\n    </tr>\n    <tr>\n      <th>2020-06-30</th>\n      <td>38.43</td>\n      <td>30.21</td>\n      <td>18.74</td>\n      <td>15.90</td>\n      <td>NaN</td>\n      <td>6.21</td>\n      <td>NaN</td>\n      <td>29.02</td>\n      <td>18.87</td>\n      <td>NaN</td>\n      <td>5.44</td>\n      <td>56.04</td>\n      <td>23.12</td>\n      <td>24.62</td>\n      <td>0.64</td>\n      <td>NaN</td>\n      <td>NaN</td>\n      <td>12.11</td>\n      <td>4.52</td>\n      <td>17.32</td>\n      <td>NaN</td>\n      <td>10.71</td>\n      <td>16.91</td>\n      <td>17.34</td>\n      <td>NaN</td>\n      <td>25.11</td>\n      <td>20.87</td>\n      <td>6.97</td>\n      <td>11.19</td>\n      <td>24.07</td>\n      <td>NaN</td>\n      <td>8.29</td>\n      <td>NaN</td>\n      <td>18.81</td>\n      <td>NaN</td>\n      <td>9.38</td>\n      <td>NaN</td>\n      <td>4.09</td>\n      <td>NaN</td>\n      <td>19.59</td>\n      <td>NaN</td>\n      <td>-6.32</td>\n      <td>32.04</td>\n      <td>28.26</td>\n      <td>6.13</td>\n      <td>NaN</td>\n      <td>7.02</td>\n      <td>38.19</td>\n      <td>19.76</td>\n      <td>28.07</td>\n    </tr>\n    <tr>\n      <th>2020-03-31</th>\n      <td>36.76</td>\n      <td>30.02</td>\n      <td>17.13</td>\n      <td>17.58</td>\n      <td>NaN</td>\n      <td>3.88</td>\n      <td>NaN</td>\n      <td>31.08</td>\n      <td>22.43</td>\n      <td>NaN</td>\n      <td>6.54</td>\n      <td>66.77</td>\n      <td>10.45</td>\n      <td>20.92</td>\n      <td>6.29</td>\n      <td>NaN</td>\n      <td>NaN</td>\n      <td>15.44</td>\n      <td>5.57</td>\n      <td>17.82</td>\n      <td>NaN</td>\n      <td>11.26</td>\n      <td>14.97</td>\n      <td>19.98</td>\n      <td>NaN</td>\n      <td>26.05</td>\n      <td>22.87</td>\n      <td>8.08</td>\n      <td>12.91</td>\n      <td>24.08</td>\n      <td>NaN</td>\n      <td>9.30</td>\n      <td>NaN</td>\n      <td>34.23</td>\n      <td>NaN</td>\n      <td>9.87</td>\n      <td>NaN</td>\n      <td>7.00</td>\n      <td>NaN</td>\n      <td>44.86</td>\n      <td>NaN</td>\n      <td>3.26</td>\n      <td>35.14</td>\n      <td>33.10</td>\n      <td>6.57</td>\n      <td>NaN</td>\n      <td>8.01</td>\n      <td>40.81</td>\n      <td>23.94</td>\n      <td>28.54</td>\n    </tr>\n    <tr>\n      <th>2019-12-31</th>\n      <td>35.64</td>\n      <td>29.17</td>\n      <td>18.61</td>\n      <td>17.36</td>\n      <td>103.08</td>\n      <td>-0.39</td>\n      <td>NaN</td>\n      <td>30.15</td>\n      <td>20.02</td>\n      <td>NaN</td>\n      <td>8.04</td>\n      <td>75.82</td>\n      <td>9.84</td>\n      <td>21.13</td>\n      <td>7.35</td>\n      <td>NaN</td>\n      <td>NaN</td>\n      <td>25.09</td>\n      <td>6.46</td>\n      <td>18.67</td>\n      <td>NaN</td>\n      <td>11.57</td>\n      <td>13.64</td>\n      <td>20.26</td>\n      <td>NaN</td>\n      <td>24.58</td>\n      <td>23.88</td>\n      <td>7.92</td>\n      <td>13.45</td>\n      <td>22.02</td>\n      <td>NaN</td>\n      <td>9.13</td>\n      <td>NaN</td>\n      <td>39.95</td>\n      <td>NaN</td>\n      <td>10.07</td>\n      <td>NaN</td>\n      <td>9.09</td>\n      <td>NaN</td>\n      <td>42.91</td>\n      <td>NaN</td>\n      <td>3.09</td>\n      <td>29.97</td>\n      <td>35.45</td>\n      <td>7.07</td>\n      <td>NaN</td>\n      <td>7.25</td>\n      <td>41.53</td>\n      <td>24.16</td>\n      <td>30.84</td>\n    </tr>\n    <tr>\n      <th>2019-09-30</th>\n      <td>33.18</td>\n      <td>27.49</td>\n      <td>19.65</td>\n      <td>17.36</td>\n      <td>98.62</td>\n      <td>-0.08</td>\n      <td>NaN</td>\n      <td>29.31</td>\n      <td>18.68</td>\n      <td>NaN</td>\n      <td>7.78</td>\n      <td>71.13</td>\n      <td>8.64</td>\n      <td>20.95</td>\n      <td>8.90</td>\n      <td>NaN</td>\n      <td>NaN</td>\n      <td>46.96</td>\n      <td>6.60</td>\n      <td>15.51</td>\n      <td>NaN</td>\n      <td>11.28</td>\n      <td>13.57</td>\n      <td>20.28</td>\n      <td>NaN</td>\n      <td>25.02</td>\n      <td>23.41</td>\n      <td>8.12</td>\n      <td>14.34</td>\n      <td>21.62</td>\n      <td>NaN</td>\n      <td>8.59</td>\n      <td>NaN</td>\n      <td>25.89</td>\n      <td>NaN</td>\n      <td>9.97</td>\n      <td>NaN</td>\n      <td>9.93</td>\n      <td>NaN</td>\n      <td>40.61</td>\n      <td>NaN</td>\n      <td>10.31</td>\n      <td>25.57</td>\n      <td>34.67</td>\n      <td>6.83</td>\n      <td>NaN</td>\n      <td>7.96</td>\n      <td>44.19</td>\n      <td>23.90</td>\n      <td>30.99</td>\n    </tr>\n  </tbody>\n</table>\n</div>"
     },
     "metadata": {},
     "execution_count": 2
    }
   ],
   "source": [
    "roi = pd.read_csv('PyFinance/04 - Intrinsic Value/50-roi.csv',index_col=0)\n",
    "roi.head()"
   ]
  },
  {
   "cell_type": "code",
   "execution_count": 3,
   "metadata": {},
   "outputs": [
    {
     "output_type": "execute_result",
     "data": {
      "text/plain": [
       "DatetimeIndex(['2020-09-30', '2020-06-30', '2020-03-31', '2019-12-31',\n",
       "               '2019-09-30', '2019-06-30', '2019-03-31', '2018-12-31',\n",
       "               '2018-09-30', '2018-06-30',\n",
       "               ...\n",
       "               '2008-02-29', '2007-11-30', '2007-08-31', '2007-05-31',\n",
       "               '2007-02-28', '2006-11-30', '2006-08-31', '2006-05-31',\n",
       "               '2006-02-28', '2005-11-30'],\n",
       "              dtype='datetime64[ns]', length=182, freq=None)"
      ]
     },
     "metadata": {},
     "execution_count": 3
    }
   ],
   "source": [
    "roi.index = pd.to_datetime(roi.index)\n",
    "roi.index"
   ]
  },
  {
   "cell_type": "code",
   "execution_count": 4,
   "metadata": {},
   "outputs": [],
   "source": [
    "roi.sort_index(ascending=False,inplace=True)"
   ]
  },
  {
   "cell_type": "code",
   "execution_count": 5,
   "metadata": {},
   "outputs": [
    {
     "output_type": "execute_result",
     "data": {
      "text/plain": [
       "             AAPL   MSFT   AMZN   GOOG  FB  TSLA  BRK.A      V    JNJ    WMT  \\\n",
       "2020-09-30  38.97  31.67  20.07  16.34 NaN  8.03    NaN  27.06  21.31    NaN   \n",
       "2020-08-31    NaN    NaN    NaN    NaN NaN   NaN    NaN    NaN    NaN    NaN   \n",
       "2020-07-31    NaN    NaN    NaN    NaN NaN   NaN    NaN    NaN    NaN  16.88   \n",
       "2020-06-30  38.43  30.21  18.74  15.90 NaN  6.21    NaN  29.02  18.87    NaN   \n",
       "2020-05-31    NaN    NaN    NaN    NaN NaN   NaN    NaN    NaN    NaN    NaN   \n",
       "\n",
       "             JPM     MA     PG    UNH   DIS   NVDA     HD   PYPL   BAC     VZ  \\\n",
       "2020-09-30  5.51  48.29  24.10  23.55 -1.40    NaN    NaN  12.51  4.05  16.66   \n",
       "2020-08-31   NaN    NaN    NaN    NaN   NaN    NaN    NaN    NaN   NaN    NaN   \n",
       "2020-07-31   NaN    NaN    NaN    NaN   NaN  20.75  60.07    NaN   NaN    NaN   \n",
       "2020-06-30  5.44  56.04  23.12  24.62  0.64    NaN    NaN  12.11  4.52  17.32   \n",
       "2020-05-31   NaN    NaN    NaN    NaN   NaN    NaN    NaN    NaN   NaN    NaN   \n",
       "\n",
       "             ADBE  CMCSA   NFLX     KO    NKE    MRK    PEP     T    PFE  \\\n",
       "2020-09-30    NaN   9.92  17.14  16.32    NaN  25.58  20.38  6.46  11.17   \n",
       "2020-08-31  28.05    NaN    NaN    NaN  21.74    NaN    NaN   NaN    NaN   \n",
       "2020-07-31    NaN    NaN    NaN    NaN    NaN    NaN    NaN   NaN    NaN   \n",
       "2020-06-30    NaN  10.71  16.91  17.34    NaN  25.11  20.87  6.97  11.19   \n",
       "2020-05-31  28.87    NaN    NaN    NaN  22.47    NaN    NaN   NaN    NaN   \n",
       "\n",
       "             INTC   CRM   ABT   ORCL   ABBV   CSCO    TMO  AVGO   XOM    ACN  \\\n",
       "2020-09-30  22.14   NaN  8.89    NaN  15.17    NaN  12.03   NaN  1.82    NaN   \n",
       "2020-08-31    NaN   NaN   NaN  19.57    NaN    NaN    NaN   NaN   NaN  39.69   \n",
       "2020-07-31    NaN  0.18   NaN    NaN    NaN  27.83    NaN   5.5   NaN    NaN   \n",
       "2020-06-30  24.07   NaN  8.29    NaN  18.81    NaN   9.38   NaN  4.09    NaN   \n",
       "2020-05-31    NaN   NaN   NaN  19.66    NaN    NaN    NaN   NaN   NaN  41.56   \n",
       "\n",
       "             QCOM   COST   CVX    LLY    MCD   DHR   MDT   NEE    TXN    HON  \\\n",
       "2020-09-30  33.59    NaN -8.92  29.40  28.06  6.42   NaN  6.13  38.14  17.43   \n",
       "2020-08-31    NaN  23.02   NaN    NaN    NaN   NaN   NaN   NaN    NaN    NaN   \n",
       "2020-07-31    NaN    NaN   NaN    NaN    NaN   NaN  5.33   NaN    NaN    NaN   \n",
       "2020-06-30  19.59    NaN -6.32  32.04  28.26  6.13   NaN  7.02  38.19  19.76   \n",
       "2020-05-31    NaN  22.35   NaN    NaN    NaN   NaN   NaN   NaN    NaN    NaN   \n",
       "\n",
       "              UPS  \n",
       "2020-09-30  28.52  \n",
       "2020-08-31    NaN  \n",
       "2020-07-31    NaN  \n",
       "2020-06-30  28.07  \n",
       "2020-05-31    NaN  "
      ],
      "text/html": "<div>\n<style scoped>\n    .dataframe tbody tr th:only-of-type {\n        vertical-align: middle;\n    }\n\n    .dataframe tbody tr th {\n        vertical-align: top;\n    }\n\n    .dataframe thead th {\n        text-align: right;\n    }\n</style>\n<table border=\"1\" class=\"dataframe\">\n  <thead>\n    <tr style=\"text-align: right;\">\n      <th></th>\n      <th>AAPL</th>\n      <th>MSFT</th>\n      <th>AMZN</th>\n      <th>GOOG</th>\n      <th>FB</th>\n      <th>TSLA</th>\n      <th>BRK.A</th>\n      <th>V</th>\n      <th>JNJ</th>\n      <th>WMT</th>\n      <th>JPM</th>\n      <th>MA</th>\n      <th>PG</th>\n      <th>UNH</th>\n      <th>DIS</th>\n      <th>NVDA</th>\n      <th>HD</th>\n      <th>PYPL</th>\n      <th>BAC</th>\n      <th>VZ</th>\n      <th>ADBE</th>\n      <th>CMCSA</th>\n      <th>NFLX</th>\n      <th>KO</th>\n      <th>NKE</th>\n      <th>MRK</th>\n      <th>PEP</th>\n      <th>T</th>\n      <th>PFE</th>\n      <th>INTC</th>\n      <th>CRM</th>\n      <th>ABT</th>\n      <th>ORCL</th>\n      <th>ABBV</th>\n      <th>CSCO</th>\n      <th>TMO</th>\n      <th>AVGO</th>\n      <th>XOM</th>\n      <th>ACN</th>\n      <th>QCOM</th>\n      <th>COST</th>\n      <th>CVX</th>\n      <th>LLY</th>\n      <th>MCD</th>\n      <th>DHR</th>\n      <th>MDT</th>\n      <th>NEE</th>\n      <th>TXN</th>\n      <th>HON</th>\n      <th>UPS</th>\n    </tr>\n  </thead>\n  <tbody>\n    <tr>\n      <th>2020-09-30</th>\n      <td>38.97</td>\n      <td>31.67</td>\n      <td>20.07</td>\n      <td>16.34</td>\n      <td>NaN</td>\n      <td>8.03</td>\n      <td>NaN</td>\n      <td>27.06</td>\n      <td>21.31</td>\n      <td>NaN</td>\n      <td>5.51</td>\n      <td>48.29</td>\n      <td>24.10</td>\n      <td>23.55</td>\n      <td>-1.40</td>\n      <td>NaN</td>\n      <td>NaN</td>\n      <td>12.51</td>\n      <td>4.05</td>\n      <td>16.66</td>\n      <td>NaN</td>\n      <td>9.92</td>\n      <td>17.14</td>\n      <td>16.32</td>\n      <td>NaN</td>\n      <td>25.58</td>\n      <td>20.38</td>\n      <td>6.46</td>\n      <td>11.17</td>\n      <td>22.14</td>\n      <td>NaN</td>\n      <td>8.89</td>\n      <td>NaN</td>\n      <td>15.17</td>\n      <td>NaN</td>\n      <td>12.03</td>\n      <td>NaN</td>\n      <td>1.82</td>\n      <td>NaN</td>\n      <td>33.59</td>\n      <td>NaN</td>\n      <td>-8.92</td>\n      <td>29.40</td>\n      <td>28.06</td>\n      <td>6.42</td>\n      <td>NaN</td>\n      <td>6.13</td>\n      <td>38.14</td>\n      <td>17.43</td>\n      <td>28.52</td>\n    </tr>\n    <tr>\n      <th>2020-08-31</th>\n      <td>NaN</td>\n      <td>NaN</td>\n      <td>NaN</td>\n      <td>NaN</td>\n      <td>NaN</td>\n      <td>NaN</td>\n      <td>NaN</td>\n      <td>NaN</td>\n      <td>NaN</td>\n      <td>NaN</td>\n      <td>NaN</td>\n      <td>NaN</td>\n      <td>NaN</td>\n      <td>NaN</td>\n      <td>NaN</td>\n      <td>NaN</td>\n      <td>NaN</td>\n      <td>NaN</td>\n      <td>NaN</td>\n      <td>NaN</td>\n      <td>28.05</td>\n      <td>NaN</td>\n      <td>NaN</td>\n      <td>NaN</td>\n      <td>21.74</td>\n      <td>NaN</td>\n      <td>NaN</td>\n      <td>NaN</td>\n      <td>NaN</td>\n      <td>NaN</td>\n      <td>NaN</td>\n      <td>NaN</td>\n      <td>19.57</td>\n      <td>NaN</td>\n      <td>NaN</td>\n      <td>NaN</td>\n      <td>NaN</td>\n      <td>NaN</td>\n      <td>39.69</td>\n      <td>NaN</td>\n      <td>23.02</td>\n      <td>NaN</td>\n      <td>NaN</td>\n      <td>NaN</td>\n      <td>NaN</td>\n      <td>NaN</td>\n      <td>NaN</td>\n      <td>NaN</td>\n      <td>NaN</td>\n      <td>NaN</td>\n    </tr>\n    <tr>\n      <th>2020-07-31</th>\n      <td>NaN</td>\n      <td>NaN</td>\n      <td>NaN</td>\n      <td>NaN</td>\n      <td>NaN</td>\n      <td>NaN</td>\n      <td>NaN</td>\n      <td>NaN</td>\n      <td>NaN</td>\n      <td>16.88</td>\n      <td>NaN</td>\n      <td>NaN</td>\n      <td>NaN</td>\n      <td>NaN</td>\n      <td>NaN</td>\n      <td>20.75</td>\n      <td>60.07</td>\n      <td>NaN</td>\n      <td>NaN</td>\n      <td>NaN</td>\n      <td>NaN</td>\n      <td>NaN</td>\n      <td>NaN</td>\n      <td>NaN</td>\n      <td>NaN</td>\n      <td>NaN</td>\n      <td>NaN</td>\n      <td>NaN</td>\n      <td>NaN</td>\n      <td>NaN</td>\n      <td>0.18</td>\n      <td>NaN</td>\n      <td>NaN</td>\n      <td>NaN</td>\n      <td>27.83</td>\n      <td>NaN</td>\n      <td>5.5</td>\n      <td>NaN</td>\n      <td>NaN</td>\n      <td>NaN</td>\n      <td>NaN</td>\n      <td>NaN</td>\n      <td>NaN</td>\n      <td>NaN</td>\n      <td>NaN</td>\n      <td>5.33</td>\n      <td>NaN</td>\n      <td>NaN</td>\n      <td>NaN</td>\n      <td>NaN</td>\n    </tr>\n    <tr>\n      <th>2020-06-30</th>\n      <td>38.43</td>\n      <td>30.21</td>\n      <td>18.74</td>\n      <td>15.90</td>\n      <td>NaN</td>\n      <td>6.21</td>\n      <td>NaN</td>\n      <td>29.02</td>\n      <td>18.87</td>\n      <td>NaN</td>\n      <td>5.44</td>\n      <td>56.04</td>\n      <td>23.12</td>\n      <td>24.62</td>\n      <td>0.64</td>\n      <td>NaN</td>\n      <td>NaN</td>\n      <td>12.11</td>\n      <td>4.52</td>\n      <td>17.32</td>\n      <td>NaN</td>\n      <td>10.71</td>\n      <td>16.91</td>\n      <td>17.34</td>\n      <td>NaN</td>\n      <td>25.11</td>\n      <td>20.87</td>\n      <td>6.97</td>\n      <td>11.19</td>\n      <td>24.07</td>\n      <td>NaN</td>\n      <td>8.29</td>\n      <td>NaN</td>\n      <td>18.81</td>\n      <td>NaN</td>\n      <td>9.38</td>\n      <td>NaN</td>\n      <td>4.09</td>\n      <td>NaN</td>\n      <td>19.59</td>\n      <td>NaN</td>\n      <td>-6.32</td>\n      <td>32.04</td>\n      <td>28.26</td>\n      <td>6.13</td>\n      <td>NaN</td>\n      <td>7.02</td>\n      <td>38.19</td>\n      <td>19.76</td>\n      <td>28.07</td>\n    </tr>\n    <tr>\n      <th>2020-05-31</th>\n      <td>NaN</td>\n      <td>NaN</td>\n      <td>NaN</td>\n      <td>NaN</td>\n      <td>NaN</td>\n      <td>NaN</td>\n      <td>NaN</td>\n      <td>NaN</td>\n      <td>NaN</td>\n      <td>NaN</td>\n      <td>NaN</td>\n      <td>NaN</td>\n      <td>NaN</td>\n      <td>NaN</td>\n      <td>NaN</td>\n      <td>NaN</td>\n      <td>NaN</td>\n      <td>NaN</td>\n      <td>NaN</td>\n      <td>NaN</td>\n      <td>28.87</td>\n      <td>NaN</td>\n      <td>NaN</td>\n      <td>NaN</td>\n      <td>22.47</td>\n      <td>NaN</td>\n      <td>NaN</td>\n      <td>NaN</td>\n      <td>NaN</td>\n      <td>NaN</td>\n      <td>NaN</td>\n      <td>NaN</td>\n      <td>19.66</td>\n      <td>NaN</td>\n      <td>NaN</td>\n      <td>NaN</td>\n      <td>NaN</td>\n      <td>NaN</td>\n      <td>41.56</td>\n      <td>NaN</td>\n      <td>22.35</td>\n      <td>NaN</td>\n      <td>NaN</td>\n      <td>NaN</td>\n      <td>NaN</td>\n      <td>NaN</td>\n      <td>NaN</td>\n      <td>NaN</td>\n      <td>NaN</td>\n      <td>NaN</td>\n    </tr>\n  </tbody>\n</table>\n</div>"
     },
     "metadata": {},
     "execution_count": 5
    }
   ],
   "source": [
    "roi = roi.loc['2020-09-30':'2010-01-01']\n",
    "roi.head()"
   ]
  },
  {
   "cell_type": "code",
   "execution_count": 6,
   "metadata": {},
   "outputs": [],
   "source": [
    "roi2 = roi.resample('Q',convention='end').agg('mean').transpose()"
   ]
  },
  {
   "cell_type": "code",
   "execution_count": 7,
   "metadata": {},
   "outputs": [
    {
     "output_type": "execute_result",
     "data": {
      "text/plain": [
       "      2010-03-31 00:00:00  2010-06-30 00:00:00  2010-09-30 00:00:00  \\\n",
       "AAPL                  NaN                  NaN                  NaN   \n",
       "MSFT                47.71                49.80                52.11   \n",
       "AMZN                39.92                36.01                30.76   \n",
       "GOOG                  NaN                  NaN                  NaN   \n",
       "FB                    NaN                  NaN                  NaN   \n",
       "\n",
       "      2010-12-31 00:00:00  2011-03-31 00:00:00  2011-06-30 00:00:00  \\\n",
       "AAPL                  NaN                  NaN                  NaN   \n",
       "MSFT                49.01                46.57                43.61   \n",
       "AMZN                21.04                17.71                14.87   \n",
       "GOOG                  NaN                  NaN                77.89   \n",
       "FB                 171.31               208.79               240.13   \n",
       "\n",
       "      2011-09-30 00:00:00  2011-12-31 00:00:00  2012-03-31 00:00:00  \\\n",
       "AAPL                  NaN                  NaN                  NaN   \n",
       "MSFT                41.31                38.44                37.37   \n",
       "AMZN                11.46                 9.28                 7.74   \n",
       "GOOG                39.78                27.01                21.52   \n",
       "FB                 272.97               132.68                63.79   \n",
       "\n",
       "      2012-06-30 00:00:00  2012-09-30 00:00:00  2012-12-31 00:00:00  \\\n",
       "AAPL                  NaN                  NaN                  NaN   \n",
       "MSFT                28.54                25.45                24.50   \n",
       "AMZN                 6.72                 5.57                 6.53   \n",
       "GOOG                20.99                19.46                19.90   \n",
       "FB                   9.73                 5.72                 4.50   \n",
       "\n",
       "      2013-03-31 00:00:00  2013-06-30 00:00:00  2013-09-30 00:00:00  \\\n",
       "AAPL                  NaN               142.29                69.79   \n",
       "MSFT                25.41                31.19                30.97   \n",
       "AMZN                 6.18                 5.69                 5.49   \n",
       "GOOG                19.45                18.91                19.35   \n",
       "FB                   3.79                13.02                15.95   \n",
       "\n",
       "      2013-12-31 00:00:00  2014-03-31 00:00:00  2014-06-30 00:00:00  \\\n",
       "AAPL                46.09                35.63                35.78   \n",
       "MSFT                29.44                27.37                26.53   \n",
       "AMZN                 6.17                 5.64                 4.71   \n",
       "GOOG                18.44                17.99                17.97   \n",
       "FB                  19.68                23.31                26.89   \n",
       "\n",
       "      2014-09-30 00:00:00  2014-12-31 00:00:00  2015-03-31 00:00:00  \\\n",
       "AAPL                36.57                40.64                41.58   \n",
       "MSFT                25.19                24.77                23.89   \n",
       "AMZN                 0.72                 1.19                 1.76   \n",
       "GOOG                17.15                16.37                16.03   \n",
       "FB                  27.56                21.48                17.07   \n",
       "\n",
       "      2015-06-30 00:00:00  2015-09-30 00:00:00  2015-12-31 00:00:00  \\\n",
       "AAPL                42.45                42.48                40.87   \n",
       "MSFT                16.34                16.42                14.59   \n",
       "AMZN                 4.28                 8.71                10.97   \n",
       "GOOG                16.00                16.30                16.61   \n",
       "FB                  14.05                12.39                15.27   \n",
       "\n",
       "      2016-03-31 00:00:00  2016-06-30 00:00:00  2016-09-30 00:00:00  \\\n",
       "AAPL                36.78                33.56                30.76   \n",
       "MSFT                13.49                23.13                22.68   \n",
       "AMZN                14.30                17.20                16.95   \n",
       "GOOG                16.87                17.26                17.42   \n",
       "FB                  23.29                40.83                94.04   \n",
       "\n",
       "      2016-12-31 00:00:00  2017-03-31 00:00:00  2017-06-30 00:00:00  \\\n",
       "AAPL                29.42                28.81                28.21   \n",
       "MSFT                23.72                23.45                20.43   \n",
       "AMZN                16.63                15.39                12.23   \n",
       "GOOG                17.68                17.82                15.88   \n",
       "FB                    NaN                  NaN                  NaN   \n",
       "\n",
       "      2017-09-30 00:00:00  2017-12-31 00:00:00  2018-03-31 00:00:00  \\\n",
       "AAPL                27.94                28.05                28.54   \n",
       "MSFT                19.89                19.63                20.41   \n",
       "AMZN                 9.47                10.13                10.65   \n",
       "GOOG                16.60                16.93                17.17   \n",
       "FB                    NaN                  NaN                  NaN   \n",
       "\n",
       "      2018-06-30 00:00:00  2018-09-30 00:00:00  2018-12-31 00:00:00  \\\n",
       "AAPL                29.66                32.03                31.91   \n",
       "MSFT                22.43                24.26                24.88   \n",
       "AMZN                13.57                18.55                20.15   \n",
       "GOOG                16.14                16.34                16.04   \n",
       "FB                    NaN                  NaN                  NaN   \n",
       "\n",
       "      2019-03-31 00:00:00  2019-06-30 00:00:00  2019-09-30 00:00:00  \\\n",
       "AAPL                31.95                32.65                33.18   \n",
       "MSFT                25.83                26.52                27.49   \n",
       "AMZN                22.75                21.53                19.65   \n",
       "GOOG                14.95                17.66                17.36   \n",
       "FB                  97.90                92.58                98.62   \n",
       "\n",
       "      2019-12-31 00:00:00  2020-03-31 00:00:00  2020-06-30 00:00:00  \\\n",
       "AAPL                35.64                36.76                38.43   \n",
       "MSFT                29.17                30.02                30.21   \n",
       "AMZN                18.61                17.13                18.74   \n",
       "GOOG                17.36                17.58                15.90   \n",
       "FB                 103.08                  NaN                  NaN   \n",
       "\n",
       "      2020-09-30 00:00:00       Mean  \n",
       "AAPL                38.97  39.580667  \n",
       "MSFT                31.67  28.740465  \n",
       "AMZN                20.07  13.553953  \n",
       "GOOG                16.34  19.905789  \n",
       "FB                    NaN  66.800714  "
      ],
      "text/html": "<div>\n<style scoped>\n    .dataframe tbody tr th:only-of-type {\n        vertical-align: middle;\n    }\n\n    .dataframe tbody tr th {\n        vertical-align: top;\n    }\n\n    .dataframe thead th {\n        text-align: right;\n    }\n</style>\n<table border=\"1\" class=\"dataframe\">\n  <thead>\n    <tr style=\"text-align: right;\">\n      <th></th>\n      <th>2010-03-31 00:00:00</th>\n      <th>2010-06-30 00:00:00</th>\n      <th>2010-09-30 00:00:00</th>\n      <th>2010-12-31 00:00:00</th>\n      <th>2011-03-31 00:00:00</th>\n      <th>2011-06-30 00:00:00</th>\n      <th>2011-09-30 00:00:00</th>\n      <th>2011-12-31 00:00:00</th>\n      <th>2012-03-31 00:00:00</th>\n      <th>2012-06-30 00:00:00</th>\n      <th>2012-09-30 00:00:00</th>\n      <th>2012-12-31 00:00:00</th>\n      <th>2013-03-31 00:00:00</th>\n      <th>2013-06-30 00:00:00</th>\n      <th>2013-09-30 00:00:00</th>\n      <th>2013-12-31 00:00:00</th>\n      <th>2014-03-31 00:00:00</th>\n      <th>2014-06-30 00:00:00</th>\n      <th>2014-09-30 00:00:00</th>\n      <th>2014-12-31 00:00:00</th>\n      <th>2015-03-31 00:00:00</th>\n      <th>2015-06-30 00:00:00</th>\n      <th>2015-09-30 00:00:00</th>\n      <th>2015-12-31 00:00:00</th>\n      <th>2016-03-31 00:00:00</th>\n      <th>2016-06-30 00:00:00</th>\n      <th>2016-09-30 00:00:00</th>\n      <th>2016-12-31 00:00:00</th>\n      <th>2017-03-31 00:00:00</th>\n      <th>2017-06-30 00:00:00</th>\n      <th>2017-09-30 00:00:00</th>\n      <th>2017-12-31 00:00:00</th>\n      <th>2018-03-31 00:00:00</th>\n      <th>2018-06-30 00:00:00</th>\n      <th>2018-09-30 00:00:00</th>\n      <th>2018-12-31 00:00:00</th>\n      <th>2019-03-31 00:00:00</th>\n      <th>2019-06-30 00:00:00</th>\n      <th>2019-09-30 00:00:00</th>\n      <th>2019-12-31 00:00:00</th>\n      <th>2020-03-31 00:00:00</th>\n      <th>2020-06-30 00:00:00</th>\n      <th>2020-09-30 00:00:00</th>\n      <th>Mean</th>\n    </tr>\n  </thead>\n  <tbody>\n    <tr>\n      <th>AAPL</th>\n      <td>NaN</td>\n      <td>NaN</td>\n      <td>NaN</td>\n      <td>NaN</td>\n      <td>NaN</td>\n      <td>NaN</td>\n      <td>NaN</td>\n      <td>NaN</td>\n      <td>NaN</td>\n      <td>NaN</td>\n      <td>NaN</td>\n      <td>NaN</td>\n      <td>NaN</td>\n      <td>142.29</td>\n      <td>69.79</td>\n      <td>46.09</td>\n      <td>35.63</td>\n      <td>35.78</td>\n      <td>36.57</td>\n      <td>40.64</td>\n      <td>41.58</td>\n      <td>42.45</td>\n      <td>42.48</td>\n      <td>40.87</td>\n      <td>36.78</td>\n      <td>33.56</td>\n      <td>30.76</td>\n      <td>29.42</td>\n      <td>28.81</td>\n      <td>28.21</td>\n      <td>27.94</td>\n      <td>28.05</td>\n      <td>28.54</td>\n      <td>29.66</td>\n      <td>32.03</td>\n      <td>31.91</td>\n      <td>31.95</td>\n      <td>32.65</td>\n      <td>33.18</td>\n      <td>35.64</td>\n      <td>36.76</td>\n      <td>38.43</td>\n      <td>38.97</td>\n      <td>39.580667</td>\n    </tr>\n    <tr>\n      <th>MSFT</th>\n      <td>47.71</td>\n      <td>49.80</td>\n      <td>52.11</td>\n      <td>49.01</td>\n      <td>46.57</td>\n      <td>43.61</td>\n      <td>41.31</td>\n      <td>38.44</td>\n      <td>37.37</td>\n      <td>28.54</td>\n      <td>25.45</td>\n      <td>24.50</td>\n      <td>25.41</td>\n      <td>31.19</td>\n      <td>30.97</td>\n      <td>29.44</td>\n      <td>27.37</td>\n      <td>26.53</td>\n      <td>25.19</td>\n      <td>24.77</td>\n      <td>23.89</td>\n      <td>16.34</td>\n      <td>16.42</td>\n      <td>14.59</td>\n      <td>13.49</td>\n      <td>23.13</td>\n      <td>22.68</td>\n      <td>23.72</td>\n      <td>23.45</td>\n      <td>20.43</td>\n      <td>19.89</td>\n      <td>19.63</td>\n      <td>20.41</td>\n      <td>22.43</td>\n      <td>24.26</td>\n      <td>24.88</td>\n      <td>25.83</td>\n      <td>26.52</td>\n      <td>27.49</td>\n      <td>29.17</td>\n      <td>30.02</td>\n      <td>30.21</td>\n      <td>31.67</td>\n      <td>28.740465</td>\n    </tr>\n    <tr>\n      <th>AMZN</th>\n      <td>39.92</td>\n      <td>36.01</td>\n      <td>30.76</td>\n      <td>21.04</td>\n      <td>17.71</td>\n      <td>14.87</td>\n      <td>11.46</td>\n      <td>9.28</td>\n      <td>7.74</td>\n      <td>6.72</td>\n      <td>5.57</td>\n      <td>6.53</td>\n      <td>6.18</td>\n      <td>5.69</td>\n      <td>5.49</td>\n      <td>6.17</td>\n      <td>5.64</td>\n      <td>4.71</td>\n      <td>0.72</td>\n      <td>1.19</td>\n      <td>1.76</td>\n      <td>4.28</td>\n      <td>8.71</td>\n      <td>10.97</td>\n      <td>14.30</td>\n      <td>17.20</td>\n      <td>16.95</td>\n      <td>16.63</td>\n      <td>15.39</td>\n      <td>12.23</td>\n      <td>9.47</td>\n      <td>10.13</td>\n      <td>10.65</td>\n      <td>13.57</td>\n      <td>18.55</td>\n      <td>20.15</td>\n      <td>22.75</td>\n      <td>21.53</td>\n      <td>19.65</td>\n      <td>18.61</td>\n      <td>17.13</td>\n      <td>18.74</td>\n      <td>20.07</td>\n      <td>13.553953</td>\n    </tr>\n    <tr>\n      <th>GOOG</th>\n      <td>NaN</td>\n      <td>NaN</td>\n      <td>NaN</td>\n      <td>NaN</td>\n      <td>NaN</td>\n      <td>77.89</td>\n      <td>39.78</td>\n      <td>27.01</td>\n      <td>21.52</td>\n      <td>20.99</td>\n      <td>19.46</td>\n      <td>19.90</td>\n      <td>19.45</td>\n      <td>18.91</td>\n      <td>19.35</td>\n      <td>18.44</td>\n      <td>17.99</td>\n      <td>17.97</td>\n      <td>17.15</td>\n      <td>16.37</td>\n      <td>16.03</td>\n      <td>16.00</td>\n      <td>16.30</td>\n      <td>16.61</td>\n      <td>16.87</td>\n      <td>17.26</td>\n      <td>17.42</td>\n      <td>17.68</td>\n      <td>17.82</td>\n      <td>15.88</td>\n      <td>16.60</td>\n      <td>16.93</td>\n      <td>17.17</td>\n      <td>16.14</td>\n      <td>16.34</td>\n      <td>16.04</td>\n      <td>14.95</td>\n      <td>17.66</td>\n      <td>17.36</td>\n      <td>17.36</td>\n      <td>17.58</td>\n      <td>15.90</td>\n      <td>16.34</td>\n      <td>19.905789</td>\n    </tr>\n    <tr>\n      <th>FB</th>\n      <td>NaN</td>\n      <td>NaN</td>\n      <td>NaN</td>\n      <td>171.31</td>\n      <td>208.79</td>\n      <td>240.13</td>\n      <td>272.97</td>\n      <td>132.68</td>\n      <td>63.79</td>\n      <td>9.73</td>\n      <td>5.72</td>\n      <td>4.50</td>\n      <td>3.79</td>\n      <td>13.02</td>\n      <td>15.95</td>\n      <td>19.68</td>\n      <td>23.31</td>\n      <td>26.89</td>\n      <td>27.56</td>\n      <td>21.48</td>\n      <td>17.07</td>\n      <td>14.05</td>\n      <td>12.39</td>\n      <td>15.27</td>\n      <td>23.29</td>\n      <td>40.83</td>\n      <td>94.04</td>\n      <td>NaN</td>\n      <td>NaN</td>\n      <td>NaN</td>\n      <td>NaN</td>\n      <td>NaN</td>\n      <td>NaN</td>\n      <td>NaN</td>\n      <td>NaN</td>\n      <td>NaN</td>\n      <td>97.90</td>\n      <td>92.58</td>\n      <td>98.62</td>\n      <td>103.08</td>\n      <td>NaN</td>\n      <td>NaN</td>\n      <td>NaN</td>\n      <td>66.800714</td>\n    </tr>\n  </tbody>\n</table>\n</div>"
     },
     "metadata": {},
     "execution_count": 7
    }
   ],
   "source": [
    "roi2['Mean'] = roi2.mean(axis=1)\n",
    "roi2.head()"
   ]
  },
  {
   "cell_type": "code",
   "execution_count": 8,
   "metadata": {},
   "outputs": [],
   "source": [
    "roi2['results'] = roi2['Mean'] >= 10"
   ]
  },
  {
   "cell_type": "code",
   "execution_count": 9,
   "metadata": {},
   "outputs": [],
   "source": [
    "roi2 = roi2.sort_values('Mean',ascending=False)"
   ]
  },
  {
   "cell_type": "code",
   "execution_count": 40,
   "metadata": {},
   "outputs": [
    {
     "output_type": "execute_result",
     "data": {
      "text/plain": [
       "           Mean  results\n",
       "ACN   84.799767     True\n",
       "MA    78.922424     True\n",
       "FB    66.800714     True\n",
       "HD    40.548837     True\n",
       "AAPL  39.580667     True"
      ],
      "text/html": "<div>\n<style scoped>\n    .dataframe tbody tr th:only-of-type {\n        vertical-align: middle;\n    }\n\n    .dataframe tbody tr th {\n        vertical-align: top;\n    }\n\n    .dataframe thead th {\n        text-align: right;\n    }\n</style>\n<table border=\"1\" class=\"dataframe\">\n  <thead>\n    <tr style=\"text-align: right;\">\n      <th></th>\n      <th>Mean</th>\n      <th>results</th>\n    </tr>\n  </thead>\n  <tbody>\n    <tr>\n      <th>ACN</th>\n      <td>84.799767</td>\n      <td>True</td>\n    </tr>\n    <tr>\n      <th>MA</th>\n      <td>78.922424</td>\n      <td>True</td>\n    </tr>\n    <tr>\n      <th>FB</th>\n      <td>66.800714</td>\n      <td>True</td>\n    </tr>\n    <tr>\n      <th>HD</th>\n      <td>40.548837</td>\n      <td>True</td>\n    </tr>\n    <tr>\n      <th>AAPL</th>\n      <td>39.580667</td>\n      <td>True</td>\n    </tr>\n  </tbody>\n</table>\n</div>"
     },
     "metadata": {},
     "execution_count": 40
    }
   ],
   "source": [
    "roi2=roi2[['Mean','results']]\n",
    "roi2.to_csv('Results/result-roi.csv')\n",
    "roi2.head()"
   ]
  },
  {
   "source": [
    "### Revenue\n",
    "* Revenue is the income generated from normal business operations and includes discounts and deductions for returned merchandise.\n",
    "* It is the top line or gross income figure from which costs are subtracted to determine net income.\n",
    "* Looking for growth (2020 = 10, 2019 = 8, 2018 = 4)\n",
    "$$\n",
    "Revenue = \\text{Sales Price × Number Of Units Sold}\n",
    "$$"
   ],
   "cell_type": "markdown",
   "metadata": {}
  },
  {
   "cell_type": "code",
   "execution_count": 47,
   "metadata": {},
   "outputs": [
    {
     "output_type": "execute_result",
     "data": {
      "text/plain": [
       "       AAPL   MSFT     AMZN     GOOG     FB   TSLA     BRK.A     V      JNJ  \\\n",
       "2005  13931  39788   8490.0   6139.0    NaN    NaN   81663.0  2665  50514.0   \n",
       "2006  19315  44282  10711.0  10605.0    NaN    NaN   98539.0  2948  53324.0   \n",
       "2007  24578  51122  14835.0  16594.0  153.0    NaN  118245.0  3590  61095.0   \n",
       "2008  37491  60420  19166.0  21796.0  272.0   15.0  107786.0  6263  63747.0   \n",
       "2009  42905  58437  24509.0  23651.0  777.0  112.0  112493.0  6911  61897.0   \n",
       "\n",
       "         WMT       JPM      MA     PG      UNH    DIS  NVDA     HD  PYPL  \\\n",
       "2005  284310   79768.0  2938.0  56741  46425.0  31374  2010  73094   NaN   \n",
       "2006  312101   99864.0  3326.0  68222  71542.0  33747  2376  77019   NaN   \n",
       "2007  348368  116353.0  4068.0  74832  75431.0  35510  3069  79022   NaN   \n",
       "2008  377023  101491.0  4992.0  79257  81186.0  37843  4098  77349   NaN   \n",
       "2009  404254  115632.0  5099.0  76694  87138.0  36149  3425  71288   NaN   \n",
       "\n",
       "           BAC        VZ  ADBE    CMCSA    NFLX       KO    NKE      MRK  \\\n",
       "2005   85064.0   69518.0  1966  21075.0   682.0  23104.0  13740  22012.0   \n",
       "2006  116767.0   88182.0  2575  24966.0   997.0  24088.0  14955  22636.0   \n",
       "2007  119696.0   93469.0  3158  31060.0  1205.0  28857.0  16326  24198.0   \n",
       "2008  113106.0   97354.0  3580  34423.0  1365.0  31944.0  18627  23850.0   \n",
       "2009  150450.0  107808.0  2946  35756.0  1670.0  30990.0  19176  27428.0   \n",
       "\n",
       "          PEP         T      PFE     INTC   CRM      ABT   ORCL     ABBV  \\\n",
       "2005  32562.0   43764.0  47405.0  38826.0   176  22338.0  11799      NaN   \n",
       "2006  35137.0   63055.0  48371.0  35382.0   310  22476.0  14380      NaN   \n",
       "2007  39474.0  118928.0  48418.0  38334.0   497  25914.0  17996      NaN   \n",
       "2008  43251.0  123443.0  48296.0  37586.0   749  29528.0  22430      NaN   \n",
       "2009  43232.0  122513.0  49269.0  35127.0  1077  30765.0  23252  14214.0   \n",
       "\n",
       "       CSCO      TMO    AVGO       XOM    ACN   QCOM   COST       CVX  \\\n",
       "2005  24801   2633.0     NaN  370680.0  17094   5673  52952  198200.0   \n",
       "2006  28484   3792.0     NaN  377635.0  18228   7526  60151  210118.0   \n",
       "2007  34922   9746.0  1527.0  404552.0  21453   8871  64401  220904.0   \n",
       "2008  39540  10498.0  1699.0  477359.0  25314  11142  72483  273005.0   \n",
       "2009  36117   9912.0  1484.0  310586.0  23171  10387  71422  171636.0   \n",
       "\n",
       "          LLY      MCD      DHR    MDT      NEE      TXN      HON      UPS  \n",
       "2005  14645.0  19117.0   7871.0  10055  11846.0  12335.0  27652.0  42581.0  \n",
       "2006  15691.0  20895.0   9466.0  11292  15710.0  14255.0  31367.0  47547.0  \n",
       "2007  18634.0  22787.0  11026.0  12299  15263.0  13835.0  34589.0  49692.0  \n",
       "2008  20372.0  23522.0  12697.0  13515  16410.0  12501.0  36556.0  51486.0  \n",
       "2009  21836.0  22745.0  10517.0  14599  15643.0  10427.0  29951.0  45297.0  "
      ],
      "text/html": "<div>\n<style scoped>\n    .dataframe tbody tr th:only-of-type {\n        vertical-align: middle;\n    }\n\n    .dataframe tbody tr th {\n        vertical-align: top;\n    }\n\n    .dataframe thead th {\n        text-align: right;\n    }\n</style>\n<table border=\"1\" class=\"dataframe\">\n  <thead>\n    <tr style=\"text-align: right;\">\n      <th></th>\n      <th>AAPL</th>\n      <th>MSFT</th>\n      <th>AMZN</th>\n      <th>GOOG</th>\n      <th>FB</th>\n      <th>TSLA</th>\n      <th>BRK.A</th>\n      <th>V</th>\n      <th>JNJ</th>\n      <th>WMT</th>\n      <th>JPM</th>\n      <th>MA</th>\n      <th>PG</th>\n      <th>UNH</th>\n      <th>DIS</th>\n      <th>NVDA</th>\n      <th>HD</th>\n      <th>PYPL</th>\n      <th>BAC</th>\n      <th>VZ</th>\n      <th>ADBE</th>\n      <th>CMCSA</th>\n      <th>NFLX</th>\n      <th>KO</th>\n      <th>NKE</th>\n      <th>MRK</th>\n      <th>PEP</th>\n      <th>T</th>\n      <th>PFE</th>\n      <th>INTC</th>\n      <th>CRM</th>\n      <th>ABT</th>\n      <th>ORCL</th>\n      <th>ABBV</th>\n      <th>CSCO</th>\n      <th>TMO</th>\n      <th>AVGO</th>\n      <th>XOM</th>\n      <th>ACN</th>\n      <th>QCOM</th>\n      <th>COST</th>\n      <th>CVX</th>\n      <th>LLY</th>\n      <th>MCD</th>\n      <th>DHR</th>\n      <th>MDT</th>\n      <th>NEE</th>\n      <th>TXN</th>\n      <th>HON</th>\n      <th>UPS</th>\n    </tr>\n  </thead>\n  <tbody>\n    <tr>\n      <th>2005</th>\n      <td>13931</td>\n      <td>39788</td>\n      <td>8490.0</td>\n      <td>6139.0</td>\n      <td>NaN</td>\n      <td>NaN</td>\n      <td>81663.0</td>\n      <td>2665</td>\n      <td>50514.0</td>\n      <td>284310</td>\n      <td>79768.0</td>\n      <td>2938.0</td>\n      <td>56741</td>\n      <td>46425.0</td>\n      <td>31374</td>\n      <td>2010</td>\n      <td>73094</td>\n      <td>NaN</td>\n      <td>85064.0</td>\n      <td>69518.0</td>\n      <td>1966</td>\n      <td>21075.0</td>\n      <td>682.0</td>\n      <td>23104.0</td>\n      <td>13740</td>\n      <td>22012.0</td>\n      <td>32562.0</td>\n      <td>43764.0</td>\n      <td>47405.0</td>\n      <td>38826.0</td>\n      <td>176</td>\n      <td>22338.0</td>\n      <td>11799</td>\n      <td>NaN</td>\n      <td>24801</td>\n      <td>2633.0</td>\n      <td>NaN</td>\n      <td>370680.0</td>\n      <td>17094</td>\n      <td>5673</td>\n      <td>52952</td>\n      <td>198200.0</td>\n      <td>14645.0</td>\n      <td>19117.0</td>\n      <td>7871.0</td>\n      <td>10055</td>\n      <td>11846.0</td>\n      <td>12335.0</td>\n      <td>27652.0</td>\n      <td>42581.0</td>\n    </tr>\n    <tr>\n      <th>2006</th>\n      <td>19315</td>\n      <td>44282</td>\n      <td>10711.0</td>\n      <td>10605.0</td>\n      <td>NaN</td>\n      <td>NaN</td>\n      <td>98539.0</td>\n      <td>2948</td>\n      <td>53324.0</td>\n      <td>312101</td>\n      <td>99864.0</td>\n      <td>3326.0</td>\n      <td>68222</td>\n      <td>71542.0</td>\n      <td>33747</td>\n      <td>2376</td>\n      <td>77019</td>\n      <td>NaN</td>\n      <td>116767.0</td>\n      <td>88182.0</td>\n      <td>2575</td>\n      <td>24966.0</td>\n      <td>997.0</td>\n      <td>24088.0</td>\n      <td>14955</td>\n      <td>22636.0</td>\n      <td>35137.0</td>\n      <td>63055.0</td>\n      <td>48371.0</td>\n      <td>35382.0</td>\n      <td>310</td>\n      <td>22476.0</td>\n      <td>14380</td>\n      <td>NaN</td>\n      <td>28484</td>\n      <td>3792.0</td>\n      <td>NaN</td>\n      <td>377635.0</td>\n      <td>18228</td>\n      <td>7526</td>\n      <td>60151</td>\n      <td>210118.0</td>\n      <td>15691.0</td>\n      <td>20895.0</td>\n      <td>9466.0</td>\n      <td>11292</td>\n      <td>15710.0</td>\n      <td>14255.0</td>\n      <td>31367.0</td>\n      <td>47547.0</td>\n    </tr>\n    <tr>\n      <th>2007</th>\n      <td>24578</td>\n      <td>51122</td>\n      <td>14835.0</td>\n      <td>16594.0</td>\n      <td>153.0</td>\n      <td>NaN</td>\n      <td>118245.0</td>\n      <td>3590</td>\n      <td>61095.0</td>\n      <td>348368</td>\n      <td>116353.0</td>\n      <td>4068.0</td>\n      <td>74832</td>\n      <td>75431.0</td>\n      <td>35510</td>\n      <td>3069</td>\n      <td>79022</td>\n      <td>NaN</td>\n      <td>119696.0</td>\n      <td>93469.0</td>\n      <td>3158</td>\n      <td>31060.0</td>\n      <td>1205.0</td>\n      <td>28857.0</td>\n      <td>16326</td>\n      <td>24198.0</td>\n      <td>39474.0</td>\n      <td>118928.0</td>\n      <td>48418.0</td>\n      <td>38334.0</td>\n      <td>497</td>\n      <td>25914.0</td>\n      <td>17996</td>\n      <td>NaN</td>\n      <td>34922</td>\n      <td>9746.0</td>\n      <td>1527.0</td>\n      <td>404552.0</td>\n      <td>21453</td>\n      <td>8871</td>\n      <td>64401</td>\n      <td>220904.0</td>\n      <td>18634.0</td>\n      <td>22787.0</td>\n      <td>11026.0</td>\n      <td>12299</td>\n      <td>15263.0</td>\n      <td>13835.0</td>\n      <td>34589.0</td>\n      <td>49692.0</td>\n    </tr>\n    <tr>\n      <th>2008</th>\n      <td>37491</td>\n      <td>60420</td>\n      <td>19166.0</td>\n      <td>21796.0</td>\n      <td>272.0</td>\n      <td>15.0</td>\n      <td>107786.0</td>\n      <td>6263</td>\n      <td>63747.0</td>\n      <td>377023</td>\n      <td>101491.0</td>\n      <td>4992.0</td>\n      <td>79257</td>\n      <td>81186.0</td>\n      <td>37843</td>\n      <td>4098</td>\n      <td>77349</td>\n      <td>NaN</td>\n      <td>113106.0</td>\n      <td>97354.0</td>\n      <td>3580</td>\n      <td>34423.0</td>\n      <td>1365.0</td>\n      <td>31944.0</td>\n      <td>18627</td>\n      <td>23850.0</td>\n      <td>43251.0</td>\n      <td>123443.0</td>\n      <td>48296.0</td>\n      <td>37586.0</td>\n      <td>749</td>\n      <td>29528.0</td>\n      <td>22430</td>\n      <td>NaN</td>\n      <td>39540</td>\n      <td>10498.0</td>\n      <td>1699.0</td>\n      <td>477359.0</td>\n      <td>25314</td>\n      <td>11142</td>\n      <td>72483</td>\n      <td>273005.0</td>\n      <td>20372.0</td>\n      <td>23522.0</td>\n      <td>12697.0</td>\n      <td>13515</td>\n      <td>16410.0</td>\n      <td>12501.0</td>\n      <td>36556.0</td>\n      <td>51486.0</td>\n    </tr>\n    <tr>\n      <th>2009</th>\n      <td>42905</td>\n      <td>58437</td>\n      <td>24509.0</td>\n      <td>23651.0</td>\n      <td>777.0</td>\n      <td>112.0</td>\n      <td>112493.0</td>\n      <td>6911</td>\n      <td>61897.0</td>\n      <td>404254</td>\n      <td>115632.0</td>\n      <td>5099.0</td>\n      <td>76694</td>\n      <td>87138.0</td>\n      <td>36149</td>\n      <td>3425</td>\n      <td>71288</td>\n      <td>NaN</td>\n      <td>150450.0</td>\n      <td>107808.0</td>\n      <td>2946</td>\n      <td>35756.0</td>\n      <td>1670.0</td>\n      <td>30990.0</td>\n      <td>19176</td>\n      <td>27428.0</td>\n      <td>43232.0</td>\n      <td>122513.0</td>\n      <td>49269.0</td>\n      <td>35127.0</td>\n      <td>1077</td>\n      <td>30765.0</td>\n      <td>23252</td>\n      <td>14214.0</td>\n      <td>36117</td>\n      <td>9912.0</td>\n      <td>1484.0</td>\n      <td>310586.0</td>\n      <td>23171</td>\n      <td>10387</td>\n      <td>71422</td>\n      <td>171636.0</td>\n      <td>21836.0</td>\n      <td>22745.0</td>\n      <td>10517.0</td>\n      <td>14599</td>\n      <td>15643.0</td>\n      <td>10427.0</td>\n      <td>29951.0</td>\n      <td>45297.0</td>\n    </tr>\n  </tbody>\n</table>\n</div>"
     },
     "metadata": {},
     "execution_count": 47
    }
   ],
   "source": [
    "rev = pd.read_csv('PyFinance/04 - Intrinsic Value/50-rev.csv',index_col=0)\n",
    "rev.head()"
   ]
  },
  {
   "cell_type": "code",
   "execution_count": 48,
   "metadata": {},
   "outputs": [
    {
     "output_type": "execute_result",
     "data": {
      "text/plain": [
       "        AAPL   MSFT     AMZN     GOOG      FB    TSLA     BRK.A      V  \\\n",
       "2009   42905  58437  24509.0  23651.0   777.0   112.0  112493.0   6911   \n",
       "2010   65225  62484  34204.0  29321.0  1974.0   117.0  136185.0   8065   \n",
       "2011  108249  69943  48077.0  37905.0  3711.0   204.0  143688.0   9188   \n",
       "2012  156508  73723  61093.0  46039.0  5089.0   413.0  162463.0  10421   \n",
       "2013  170910  77849  74452.0  55519.0  7872.0  2013.0  182150.0  11778   \n",
       "\n",
       "          JNJ     WMT       JPM      MA     PG       UNH    DIS  NVDA     HD  \\\n",
       "2009  61897.0  404254  115632.0  5099.0  76694   87138.0  36149  3425  71288   \n",
       "2010  61587.0  408085  115475.0  5539.0  77567   94155.0  38063  3326  66176   \n",
       "2011  65030.0  421849  110838.0  6714.0  81104  101862.0  40893  3543  67997   \n",
       "2012  67224.0  446509  108074.0  7391.0  82006  110618.0  42278  3998  70395   \n",
       "2013  71312.0  468651  106717.0  8312.0  80116  122489.0  45041  4280  74754   \n",
       "\n",
       "        PYPL       BAC        VZ  ADBE    CMCSA    NFLX       KO    NKE  \\\n",
       "2009     NaN  150450.0  107808.0  2946  35756.0  1670.0  30990.0  19176   \n",
       "2010     NaN  134194.0  106565.0  3800  37937.0  2163.0  35119.0  19014   \n",
       "2011     NaN  115074.0  110875.0  4216  55842.0  3205.0  46542.0  20117   \n",
       "2012  5662.0  100078.0  115846.0  4404  62570.0  3609.0  48017.0  23331   \n",
       "2013  6727.0  101697.0  120550.0  4055  64657.0  4375.0  46854.0  25313   \n",
       "\n",
       "          MRK      PEP         T      PFE     INTC   CRM      ABT   ORCL  \\\n",
       "2009  27428.0  43232.0  122513.0  49269.0  35127.0  1077  30765.0  23252   \n",
       "2010  45987.0  57838.0  124280.0  65165.0  43623.0  1306  35167.0  26820   \n",
       "2011  48047.0  66504.0  126723.0  61035.0  53999.0  1657  21407.0  35622   \n",
       "2012  47267.0  65492.0  127434.0  54657.0  53341.0  2267  19050.0  37121   \n",
       "2013  44033.0  66415.0  128752.0  51584.0  52708.0  3050  19657.0  37180   \n",
       "\n",
       "         ABBV   CSCO      TMO    AVGO       XOM    ACN   QCOM    COST  \\\n",
       "2009  14214.0  36117   9912.0  1484.0  310586.0  23171  10387   71422   \n",
       "2010  15638.0  40040  10393.0  2093.0  383221.0  23094  10982   77946   \n",
       "2011  17444.0  43218  11559.0  2336.0  486429.0  27353  14957   88915   \n",
       "2012  18380.0  46061  12510.0  2364.0  480681.0  29778  19121   99137   \n",
       "2013  18790.0  48607  13090.0  2520.0  438255.0  30394  24866  105156   \n",
       "\n",
       "           CVX      LLY      MCD      DHR    MDT      NEE      TXN      HON  \\\n",
       "2009  171636.0  21836.0  22745.0  10517.0  14599  15643.0  10427.0  29951.0   \n",
       "2010  204928.0  23076.0  24075.0  12550.0  15392  15317.0  13966.0  32350.0   \n",
       "2011  253706.0  24287.0  27006.0  16091.0  15508  15341.0  13735.0  36529.0   \n",
       "2012  241909.0  22603.0  27567.0  18260.0  16184  14256.0  12825.0  37665.0   \n",
       "2013  228848.0  23113.0  28106.0  18283.0  16590  15136.0  12205.0  39055.0   \n",
       "\n",
       "          UPS  \n",
       "2009  45297.0  \n",
       "2010  49545.0  \n",
       "2011  53105.0  \n",
       "2012  54127.0  \n",
       "2013  55438.0  "
      ],
      "text/html": "<div>\n<style scoped>\n    .dataframe tbody tr th:only-of-type {\n        vertical-align: middle;\n    }\n\n    .dataframe tbody tr th {\n        vertical-align: top;\n    }\n\n    .dataframe thead th {\n        text-align: right;\n    }\n</style>\n<table border=\"1\" class=\"dataframe\">\n  <thead>\n    <tr style=\"text-align: right;\">\n      <th></th>\n      <th>AAPL</th>\n      <th>MSFT</th>\n      <th>AMZN</th>\n      <th>GOOG</th>\n      <th>FB</th>\n      <th>TSLA</th>\n      <th>BRK.A</th>\n      <th>V</th>\n      <th>JNJ</th>\n      <th>WMT</th>\n      <th>JPM</th>\n      <th>MA</th>\n      <th>PG</th>\n      <th>UNH</th>\n      <th>DIS</th>\n      <th>NVDA</th>\n      <th>HD</th>\n      <th>PYPL</th>\n      <th>BAC</th>\n      <th>VZ</th>\n      <th>ADBE</th>\n      <th>CMCSA</th>\n      <th>NFLX</th>\n      <th>KO</th>\n      <th>NKE</th>\n      <th>MRK</th>\n      <th>PEP</th>\n      <th>T</th>\n      <th>PFE</th>\n      <th>INTC</th>\n      <th>CRM</th>\n      <th>ABT</th>\n      <th>ORCL</th>\n      <th>ABBV</th>\n      <th>CSCO</th>\n      <th>TMO</th>\n      <th>AVGO</th>\n      <th>XOM</th>\n      <th>ACN</th>\n      <th>QCOM</th>\n      <th>COST</th>\n      <th>CVX</th>\n      <th>LLY</th>\n      <th>MCD</th>\n      <th>DHR</th>\n      <th>MDT</th>\n      <th>NEE</th>\n      <th>TXN</th>\n      <th>HON</th>\n      <th>UPS</th>\n    </tr>\n  </thead>\n  <tbody>\n    <tr>\n      <th>2009</th>\n      <td>42905</td>\n      <td>58437</td>\n      <td>24509.0</td>\n      <td>23651.0</td>\n      <td>777.0</td>\n      <td>112.0</td>\n      <td>112493.0</td>\n      <td>6911</td>\n      <td>61897.0</td>\n      <td>404254</td>\n      <td>115632.0</td>\n      <td>5099.0</td>\n      <td>76694</td>\n      <td>87138.0</td>\n      <td>36149</td>\n      <td>3425</td>\n      <td>71288</td>\n      <td>NaN</td>\n      <td>150450.0</td>\n      <td>107808.0</td>\n      <td>2946</td>\n      <td>35756.0</td>\n      <td>1670.0</td>\n      <td>30990.0</td>\n      <td>19176</td>\n      <td>27428.0</td>\n      <td>43232.0</td>\n      <td>122513.0</td>\n      <td>49269.0</td>\n      <td>35127.0</td>\n      <td>1077</td>\n      <td>30765.0</td>\n      <td>23252</td>\n      <td>14214.0</td>\n      <td>36117</td>\n      <td>9912.0</td>\n      <td>1484.0</td>\n      <td>310586.0</td>\n      <td>23171</td>\n      <td>10387</td>\n      <td>71422</td>\n      <td>171636.0</td>\n      <td>21836.0</td>\n      <td>22745.0</td>\n      <td>10517.0</td>\n      <td>14599</td>\n      <td>15643.0</td>\n      <td>10427.0</td>\n      <td>29951.0</td>\n      <td>45297.0</td>\n    </tr>\n    <tr>\n      <th>2010</th>\n      <td>65225</td>\n      <td>62484</td>\n      <td>34204.0</td>\n      <td>29321.0</td>\n      <td>1974.0</td>\n      <td>117.0</td>\n      <td>136185.0</td>\n      <td>8065</td>\n      <td>61587.0</td>\n      <td>408085</td>\n      <td>115475.0</td>\n      <td>5539.0</td>\n      <td>77567</td>\n      <td>94155.0</td>\n      <td>38063</td>\n      <td>3326</td>\n      <td>66176</td>\n      <td>NaN</td>\n      <td>134194.0</td>\n      <td>106565.0</td>\n      <td>3800</td>\n      <td>37937.0</td>\n      <td>2163.0</td>\n      <td>35119.0</td>\n      <td>19014</td>\n      <td>45987.0</td>\n      <td>57838.0</td>\n      <td>124280.0</td>\n      <td>65165.0</td>\n      <td>43623.0</td>\n      <td>1306</td>\n      <td>35167.0</td>\n      <td>26820</td>\n      <td>15638.0</td>\n      <td>40040</td>\n      <td>10393.0</td>\n      <td>2093.0</td>\n      <td>383221.0</td>\n      <td>23094</td>\n      <td>10982</td>\n      <td>77946</td>\n      <td>204928.0</td>\n      <td>23076.0</td>\n      <td>24075.0</td>\n      <td>12550.0</td>\n      <td>15392</td>\n      <td>15317.0</td>\n      <td>13966.0</td>\n      <td>32350.0</td>\n      <td>49545.0</td>\n    </tr>\n    <tr>\n      <th>2011</th>\n      <td>108249</td>\n      <td>69943</td>\n      <td>48077.0</td>\n      <td>37905.0</td>\n      <td>3711.0</td>\n      <td>204.0</td>\n      <td>143688.0</td>\n      <td>9188</td>\n      <td>65030.0</td>\n      <td>421849</td>\n      <td>110838.0</td>\n      <td>6714.0</td>\n      <td>81104</td>\n      <td>101862.0</td>\n      <td>40893</td>\n      <td>3543</td>\n      <td>67997</td>\n      <td>NaN</td>\n      <td>115074.0</td>\n      <td>110875.0</td>\n      <td>4216</td>\n      <td>55842.0</td>\n      <td>3205.0</td>\n      <td>46542.0</td>\n      <td>20117</td>\n      <td>48047.0</td>\n      <td>66504.0</td>\n      <td>126723.0</td>\n      <td>61035.0</td>\n      <td>53999.0</td>\n      <td>1657</td>\n      <td>21407.0</td>\n      <td>35622</td>\n      <td>17444.0</td>\n      <td>43218</td>\n      <td>11559.0</td>\n      <td>2336.0</td>\n      <td>486429.0</td>\n      <td>27353</td>\n      <td>14957</td>\n      <td>88915</td>\n      <td>253706.0</td>\n      <td>24287.0</td>\n      <td>27006.0</td>\n      <td>16091.0</td>\n      <td>15508</td>\n      <td>15341.0</td>\n      <td>13735.0</td>\n      <td>36529.0</td>\n      <td>53105.0</td>\n    </tr>\n    <tr>\n      <th>2012</th>\n      <td>156508</td>\n      <td>73723</td>\n      <td>61093.0</td>\n      <td>46039.0</td>\n      <td>5089.0</td>\n      <td>413.0</td>\n      <td>162463.0</td>\n      <td>10421</td>\n      <td>67224.0</td>\n      <td>446509</td>\n      <td>108074.0</td>\n      <td>7391.0</td>\n      <td>82006</td>\n      <td>110618.0</td>\n      <td>42278</td>\n      <td>3998</td>\n      <td>70395</td>\n      <td>5662.0</td>\n      <td>100078.0</td>\n      <td>115846.0</td>\n      <td>4404</td>\n      <td>62570.0</td>\n      <td>3609.0</td>\n      <td>48017.0</td>\n      <td>23331</td>\n      <td>47267.0</td>\n      <td>65492.0</td>\n      <td>127434.0</td>\n      <td>54657.0</td>\n      <td>53341.0</td>\n      <td>2267</td>\n      <td>19050.0</td>\n      <td>37121</td>\n      <td>18380.0</td>\n      <td>46061</td>\n      <td>12510.0</td>\n      <td>2364.0</td>\n      <td>480681.0</td>\n      <td>29778</td>\n      <td>19121</td>\n      <td>99137</td>\n      <td>241909.0</td>\n      <td>22603.0</td>\n      <td>27567.0</td>\n      <td>18260.0</td>\n      <td>16184</td>\n      <td>14256.0</td>\n      <td>12825.0</td>\n      <td>37665.0</td>\n      <td>54127.0</td>\n    </tr>\n    <tr>\n      <th>2013</th>\n      <td>170910</td>\n      <td>77849</td>\n      <td>74452.0</td>\n      <td>55519.0</td>\n      <td>7872.0</td>\n      <td>2013.0</td>\n      <td>182150.0</td>\n      <td>11778</td>\n      <td>71312.0</td>\n      <td>468651</td>\n      <td>106717.0</td>\n      <td>8312.0</td>\n      <td>80116</td>\n      <td>122489.0</td>\n      <td>45041</td>\n      <td>4280</td>\n      <td>74754</td>\n      <td>6727.0</td>\n      <td>101697.0</td>\n      <td>120550.0</td>\n      <td>4055</td>\n      <td>64657.0</td>\n      <td>4375.0</td>\n      <td>46854.0</td>\n      <td>25313</td>\n      <td>44033.0</td>\n      <td>66415.0</td>\n      <td>128752.0</td>\n      <td>51584.0</td>\n      <td>52708.0</td>\n      <td>3050</td>\n      <td>19657.0</td>\n      <td>37180</td>\n      <td>18790.0</td>\n      <td>48607</td>\n      <td>13090.0</td>\n      <td>2520.0</td>\n      <td>438255.0</td>\n      <td>30394</td>\n      <td>24866</td>\n      <td>105156</td>\n      <td>228848.0</td>\n      <td>23113.0</td>\n      <td>28106.0</td>\n      <td>18283.0</td>\n      <td>16590</td>\n      <td>15136.0</td>\n      <td>12205.0</td>\n      <td>39055.0</td>\n      <td>55438.0</td>\n    </tr>\n  </tbody>\n</table>\n</div>"
     },
     "metadata": {},
     "execution_count": 48
    }
   ],
   "source": [
    "rev = rev.loc[2009:2019]\n",
    "rev.head()"
   ]
  },
  {
   "cell_type": "code",
   "execution_count": 49,
   "metadata": {},
   "outputs": [
    {
     "output_type": "execute_result",
     "data": {
      "text/plain": [
       "         2009     2010      2011      2012      2013      2014      2015  \\\n",
       "AAPL  42905.0  65225.0  108249.0  156508.0  170910.0  182795.0  233715.0   \n",
       "MSFT  58437.0  62484.0   69943.0   73723.0   77849.0   86833.0   93580.0   \n",
       "AMZN  24509.0  34204.0   48077.0   61093.0   74452.0   88988.0  107006.0   \n",
       "GOOG  23651.0  29321.0   37905.0   46039.0   55519.0   66001.0   74989.0   \n",
       "FB      777.0   1974.0    3711.0    5089.0    7872.0   12466.0   17928.0   \n",
       "\n",
       "          2016      2017      2018      2019  \n",
       "AAPL  215639.0  229234.0  265595.0  260174.0  \n",
       "MSFT   91154.0   96571.0  110360.0  125843.0  \n",
       "AMZN  135987.0  177866.0  232887.0  280522.0  \n",
       "GOOG   90272.0  110855.0  136819.0  161857.0  \n",
       "FB     27638.0   40653.0   55838.0   70697.0  "
      ],
      "text/html": "<div>\n<style scoped>\n    .dataframe tbody tr th:only-of-type {\n        vertical-align: middle;\n    }\n\n    .dataframe tbody tr th {\n        vertical-align: top;\n    }\n\n    .dataframe thead th {\n        text-align: right;\n    }\n</style>\n<table border=\"1\" class=\"dataframe\">\n  <thead>\n    <tr style=\"text-align: right;\">\n      <th></th>\n      <th>2009</th>\n      <th>2010</th>\n      <th>2011</th>\n      <th>2012</th>\n      <th>2013</th>\n      <th>2014</th>\n      <th>2015</th>\n      <th>2016</th>\n      <th>2017</th>\n      <th>2018</th>\n      <th>2019</th>\n    </tr>\n  </thead>\n  <tbody>\n    <tr>\n      <th>AAPL</th>\n      <td>42905.0</td>\n      <td>65225.0</td>\n      <td>108249.0</td>\n      <td>156508.0</td>\n      <td>170910.0</td>\n      <td>182795.0</td>\n      <td>233715.0</td>\n      <td>215639.0</td>\n      <td>229234.0</td>\n      <td>265595.0</td>\n      <td>260174.0</td>\n    </tr>\n    <tr>\n      <th>MSFT</th>\n      <td>58437.0</td>\n      <td>62484.0</td>\n      <td>69943.0</td>\n      <td>73723.0</td>\n      <td>77849.0</td>\n      <td>86833.0</td>\n      <td>93580.0</td>\n      <td>91154.0</td>\n      <td>96571.0</td>\n      <td>110360.0</td>\n      <td>125843.0</td>\n    </tr>\n    <tr>\n      <th>AMZN</th>\n      <td>24509.0</td>\n      <td>34204.0</td>\n      <td>48077.0</td>\n      <td>61093.0</td>\n      <td>74452.0</td>\n      <td>88988.0</td>\n      <td>107006.0</td>\n      <td>135987.0</td>\n      <td>177866.0</td>\n      <td>232887.0</td>\n      <td>280522.0</td>\n    </tr>\n    <tr>\n      <th>GOOG</th>\n      <td>23651.0</td>\n      <td>29321.0</td>\n      <td>37905.0</td>\n      <td>46039.0</td>\n      <td>55519.0</td>\n      <td>66001.0</td>\n      <td>74989.0</td>\n      <td>90272.0</td>\n      <td>110855.0</td>\n      <td>136819.0</td>\n      <td>161857.0</td>\n    </tr>\n    <tr>\n      <th>FB</th>\n      <td>777.0</td>\n      <td>1974.0</td>\n      <td>3711.0</td>\n      <td>5089.0</td>\n      <td>7872.0</td>\n      <td>12466.0</td>\n      <td>17928.0</td>\n      <td>27638.0</td>\n      <td>40653.0</td>\n      <td>55838.0</td>\n      <td>70697.0</td>\n    </tr>\n  </tbody>\n</table>\n</div>"
     },
     "metadata": {},
     "execution_count": 49
    }
   ],
   "source": [
    "rev2 = rev.transpose()\n",
    "rev2.head()"
   ]
  },
  {
   "source": [
    "## Compound Annual Growth Rate (CAGR)\n",
    "### We need to calculate the comany anual growth rate.\n",
    "### CAGR is the rate of return that would be required for an investment to grow from its beginning balance to its ending balance.\n",
    "\n",
    "$$\n",
    "\\ CAGR = (\\frac{ EV } { BN }) ^ \\frac{ 1 } { N } - 1\n",
    "$$​\t "
   ],
   "cell_type": "markdown",
   "metadata": {}
  },
  {
   "cell_type": "code",
   "execution_count": 50,
   "metadata": {},
   "outputs": [
    {
     "output_type": "execute_result",
     "data": {
      "text/plain": [
       "      10Y CAGR   5Y CAGR   3Y CAGR   1Y CAGR\n",
       "NFLX  0.282829  0.296371  0.316633  0.276181\n",
       "FB    0.569994  0.414929  0.367618  0.266109\n",
       "CRM   0.285597  0.266813  0.258281  0.260152\n",
       "ADBE  0.142578  0.219191  0.240356  0.237099\n",
       "NVDA  0.130868  0.231873  0.327335  0.206094"
      ],
      "text/html": "<div>\n<style scoped>\n    .dataframe tbody tr th:only-of-type {\n        vertical-align: middle;\n    }\n\n    .dataframe tbody tr th {\n        vertical-align: top;\n    }\n\n    .dataframe thead th {\n        text-align: right;\n    }\n</style>\n<table border=\"1\" class=\"dataframe\">\n  <thead>\n    <tr style=\"text-align: right;\">\n      <th></th>\n      <th>10Y CAGR</th>\n      <th>5Y CAGR</th>\n      <th>3Y CAGR</th>\n      <th>1Y CAGR</th>\n    </tr>\n  </thead>\n  <tbody>\n    <tr>\n      <th>NFLX</th>\n      <td>0.282829</td>\n      <td>0.296371</td>\n      <td>0.316633</td>\n      <td>0.276181</td>\n    </tr>\n    <tr>\n      <th>FB</th>\n      <td>0.569994</td>\n      <td>0.414929</td>\n      <td>0.367618</td>\n      <td>0.266109</td>\n    </tr>\n    <tr>\n      <th>CRM</th>\n      <td>0.285597</td>\n      <td>0.266813</td>\n      <td>0.258281</td>\n      <td>0.260152</td>\n    </tr>\n    <tr>\n      <th>ADBE</th>\n      <td>0.142578</td>\n      <td>0.219191</td>\n      <td>0.240356</td>\n      <td>0.237099</td>\n    </tr>\n    <tr>\n      <th>NVDA</th>\n      <td>0.130868</td>\n      <td>0.231873</td>\n      <td>0.327335</td>\n      <td>0.206094</td>\n    </tr>\n  </tbody>\n</table>\n</div>"
     },
     "metadata": {},
     "execution_count": 50
    }
   ],
   "source": [
    "rev2['10Y CAGR'] = (rev2[2019]/rev2[2009])**(1/10)-1\n",
    "rev2['5Y CAGR'] = (rev2[2019]/rev2[2014])**(1/5)-1\n",
    "rev2['3Y CAGR'] = (rev2[2019]/rev2[2016])**(1/3)-1\n",
    "rev2['1Y CAGR'] = (rev2[2019]/rev2[2018])**(1/1)-1\n",
    "rev2 = rev2.sort_values('1Y CAGR',ascending=False)\n",
    "rev2=rev2[['10Y CAGR','5Y CAGR','3Y CAGR','1Y CAGR']]\n",
    "rev2.to_csv('Results/Rev.csv')\n",
    "rev2.head()"
   ]
  },
  {
   "source": [
    "## Earnings per Share(EPS)\n",
    "* EPS is calculated as a company's profit divided by the outstanding shares of its common stock. \n",
    "* The resulting number serves as an indicator of a company's profitability.\n",
    "* Bottom line number of income Statement.\n",
    "* We must to make sure that the growth in revenue give growth in earnings.\n",
    "* We take care about the growth rate.\n",
    "$$\n",
    "\\text{Earnings per Share}=\\frac{\\text{Net Income}-\\text{ Preferred Dividends}}{\\text{End-of-Period Common Shares Outstanding}}\n",
    "$$\n"
   ],
   "cell_type": "markdown",
   "metadata": {}
  },
  {
   "cell_type": "code",
   "execution_count": 19,
   "metadata": {},
   "outputs": [
    {
     "output_type": "execute_result",
     "data": {
      "text/plain": [
       "      AAPL  MSFT  AMZN   GOOG    FB  TSLA  BRK.A     V   JNJ   WMT   JPM  \\\n",
       "2005  0.06  1.12  0.84   2.51   NaN   NaN   3.57  0.00  3.35  2.41  2.38   \n",
       "2006  0.08  1.20  0.45   4.97   NaN   NaN   4.61  0.00  3.73  2.68  4.04   \n",
       "2007  0.14  1.42  1.12   6.65 -0.16   NaN   5.70  0.00  3.63  2.71  4.33   \n",
       "2008  0.24  1.87  1.49   6.66 -0.06 -2.49   2.15  0.15  4.57  3.13  1.35   \n",
       "2009  0.32  1.62  2.04  10.21  0.10 -1.59   3.46  0.51  4.40  3.39  2.26   \n",
       "\n",
       "        MA    PG   UNH   DIS  NVDA    HD  PYPL   BAC    VZ  ADBE  CMCSA  NFLX  \\\n",
       "2005  0.20  2.53  2.31  1.22  0.17  2.26   NaN  4.04  2.65  1.19   0.14  0.09   \n",
       "2006  0.04  2.64  2.97  1.64  0.55  2.72   NaN  4.59  2.12  0.83   0.40  0.10   \n",
       "2007  0.80  3.04  3.42  2.25  0.76  2.79   NaN  3.29  1.90  1.21   0.42  0.14   \n",
       "2008 -0.19  3.64  2.40  2.28  1.31  2.37   NaN  0.54 -0.77  1.59   0.43  0.19   \n",
       "2009  1.12  4.26  3.24  1.76 -0.05  1.34   NaN -0.29  1.72  0.73   0.63  0.28   \n",
       "\n",
       "        KO   NKE   MRK   PEP     T   PFE  INTC   CRM   ABT  ORCL  ABBV  CSCO  \\\n",
       "2005  1.02  0.56  2.10  2.39  1.42  1.09  1.40  0.02  2.16  0.55   NaN  0.87   \n",
       "2006  1.08  0.66  2.03  3.34  1.89  2.66  0.86  0.06  1.12  0.64   NaN  0.89   \n",
       "2007  1.29  0.73  1.49  3.41  1.94  1.17  1.18  0.00  2.31  0.81   NaN  1.17   \n",
       "2008  1.25  0.94  3.63  3.21 -0.44  1.20  0.92  0.04  3.12  1.06   NaN  1.31   \n",
       "2009  1.47  0.76  5.65  3.77  2.05  1.23  0.77  0.09  3.69  1.09   0.0  1.05   \n",
       "\n",
       "       TMO  AVGO   XOM   ACN  QCOM  COST    CVX   LLY   MCD   DHR   MDT   NEE  \\\n",
       "2005  1.36   NaN  5.71  1.56  1.26  2.18   6.54  1.81  2.04  1.38  1.48  0.59   \n",
       "2006  0.84   NaN  6.62  1.59  1.44  2.30   7.80  2.45  2.83  1.74  2.09  0.81   \n",
       "2007  1.69 -0.74  7.26  1.97  1.95  2.37   8.77  2.71  1.98  2.10  2.41  0.82   \n",
       "2008  2.25  0.38  8.66  2.64  1.90  2.89  11.67 -1.89  3.76  1.98  1.87  1.02   \n",
       "2009  2.01 -0.20  3.98  2.44  0.95  2.47   5.24  3.94  4.11  1.73  1.84  0.99   \n",
       "\n",
       "       TXN   HON   UPS  \n",
       "2005  1.39  1.92  3.47  \n",
       "2006  2.78  2.52  3.86  \n",
       "2007  1.83  3.16  0.36  \n",
       "2008  1.44  1.08  2.94  \n",
       "2009  1.15  2.05  1.96  "
      ],
      "text/html": "<div>\n<style scoped>\n    .dataframe tbody tr th:only-of-type {\n        vertical-align: middle;\n    }\n\n    .dataframe tbody tr th {\n        vertical-align: top;\n    }\n\n    .dataframe thead th {\n        text-align: right;\n    }\n</style>\n<table border=\"1\" class=\"dataframe\">\n  <thead>\n    <tr style=\"text-align: right;\">\n      <th></th>\n      <th>AAPL</th>\n      <th>MSFT</th>\n      <th>AMZN</th>\n      <th>GOOG</th>\n      <th>FB</th>\n      <th>TSLA</th>\n      <th>BRK.A</th>\n      <th>V</th>\n      <th>JNJ</th>\n      <th>WMT</th>\n      <th>JPM</th>\n      <th>MA</th>\n      <th>PG</th>\n      <th>UNH</th>\n      <th>DIS</th>\n      <th>NVDA</th>\n      <th>HD</th>\n      <th>PYPL</th>\n      <th>BAC</th>\n      <th>VZ</th>\n      <th>ADBE</th>\n      <th>CMCSA</th>\n      <th>NFLX</th>\n      <th>KO</th>\n      <th>NKE</th>\n      <th>MRK</th>\n      <th>PEP</th>\n      <th>T</th>\n      <th>PFE</th>\n      <th>INTC</th>\n      <th>CRM</th>\n      <th>ABT</th>\n      <th>ORCL</th>\n      <th>ABBV</th>\n      <th>CSCO</th>\n      <th>TMO</th>\n      <th>AVGO</th>\n      <th>XOM</th>\n      <th>ACN</th>\n      <th>QCOM</th>\n      <th>COST</th>\n      <th>CVX</th>\n      <th>LLY</th>\n      <th>MCD</th>\n      <th>DHR</th>\n      <th>MDT</th>\n      <th>NEE</th>\n      <th>TXN</th>\n      <th>HON</th>\n      <th>UPS</th>\n    </tr>\n  </thead>\n  <tbody>\n    <tr>\n      <th>2005</th>\n      <td>0.06</td>\n      <td>1.12</td>\n      <td>0.84</td>\n      <td>2.51</td>\n      <td>NaN</td>\n      <td>NaN</td>\n      <td>3.57</td>\n      <td>0.00</td>\n      <td>3.35</td>\n      <td>2.41</td>\n      <td>2.38</td>\n      <td>0.20</td>\n      <td>2.53</td>\n      <td>2.31</td>\n      <td>1.22</td>\n      <td>0.17</td>\n      <td>2.26</td>\n      <td>NaN</td>\n      <td>4.04</td>\n      <td>2.65</td>\n      <td>1.19</td>\n      <td>0.14</td>\n      <td>0.09</td>\n      <td>1.02</td>\n      <td>0.56</td>\n      <td>2.10</td>\n      <td>2.39</td>\n      <td>1.42</td>\n      <td>1.09</td>\n      <td>1.40</td>\n      <td>0.02</td>\n      <td>2.16</td>\n      <td>0.55</td>\n      <td>NaN</td>\n      <td>0.87</td>\n      <td>1.36</td>\n      <td>NaN</td>\n      <td>5.71</td>\n      <td>1.56</td>\n      <td>1.26</td>\n      <td>2.18</td>\n      <td>6.54</td>\n      <td>1.81</td>\n      <td>2.04</td>\n      <td>1.38</td>\n      <td>1.48</td>\n      <td>0.59</td>\n      <td>1.39</td>\n      <td>1.92</td>\n      <td>3.47</td>\n    </tr>\n    <tr>\n      <th>2006</th>\n      <td>0.08</td>\n      <td>1.20</td>\n      <td>0.45</td>\n      <td>4.97</td>\n      <td>NaN</td>\n      <td>NaN</td>\n      <td>4.61</td>\n      <td>0.00</td>\n      <td>3.73</td>\n      <td>2.68</td>\n      <td>4.04</td>\n      <td>0.04</td>\n      <td>2.64</td>\n      <td>2.97</td>\n      <td>1.64</td>\n      <td>0.55</td>\n      <td>2.72</td>\n      <td>NaN</td>\n      <td>4.59</td>\n      <td>2.12</td>\n      <td>0.83</td>\n      <td>0.40</td>\n      <td>0.10</td>\n      <td>1.08</td>\n      <td>0.66</td>\n      <td>2.03</td>\n      <td>3.34</td>\n      <td>1.89</td>\n      <td>2.66</td>\n      <td>0.86</td>\n      <td>0.06</td>\n      <td>1.12</td>\n      <td>0.64</td>\n      <td>NaN</td>\n      <td>0.89</td>\n      <td>0.84</td>\n      <td>NaN</td>\n      <td>6.62</td>\n      <td>1.59</td>\n      <td>1.44</td>\n      <td>2.30</td>\n      <td>7.80</td>\n      <td>2.45</td>\n      <td>2.83</td>\n      <td>1.74</td>\n      <td>2.09</td>\n      <td>0.81</td>\n      <td>2.78</td>\n      <td>2.52</td>\n      <td>3.86</td>\n    </tr>\n    <tr>\n      <th>2007</th>\n      <td>0.14</td>\n      <td>1.42</td>\n      <td>1.12</td>\n      <td>6.65</td>\n      <td>-0.16</td>\n      <td>NaN</td>\n      <td>5.70</td>\n      <td>0.00</td>\n      <td>3.63</td>\n      <td>2.71</td>\n      <td>4.33</td>\n      <td>0.80</td>\n      <td>3.04</td>\n      <td>3.42</td>\n      <td>2.25</td>\n      <td>0.76</td>\n      <td>2.79</td>\n      <td>NaN</td>\n      <td>3.29</td>\n      <td>1.90</td>\n      <td>1.21</td>\n      <td>0.42</td>\n      <td>0.14</td>\n      <td>1.29</td>\n      <td>0.73</td>\n      <td>1.49</td>\n      <td>3.41</td>\n      <td>1.94</td>\n      <td>1.17</td>\n      <td>1.18</td>\n      <td>0.00</td>\n      <td>2.31</td>\n      <td>0.81</td>\n      <td>NaN</td>\n      <td>1.17</td>\n      <td>1.69</td>\n      <td>-0.74</td>\n      <td>7.26</td>\n      <td>1.97</td>\n      <td>1.95</td>\n      <td>2.37</td>\n      <td>8.77</td>\n      <td>2.71</td>\n      <td>1.98</td>\n      <td>2.10</td>\n      <td>2.41</td>\n      <td>0.82</td>\n      <td>1.83</td>\n      <td>3.16</td>\n      <td>0.36</td>\n    </tr>\n    <tr>\n      <th>2008</th>\n      <td>0.24</td>\n      <td>1.87</td>\n      <td>1.49</td>\n      <td>6.66</td>\n      <td>-0.06</td>\n      <td>-2.49</td>\n      <td>2.15</td>\n      <td>0.15</td>\n      <td>4.57</td>\n      <td>3.13</td>\n      <td>1.35</td>\n      <td>-0.19</td>\n      <td>3.64</td>\n      <td>2.40</td>\n      <td>2.28</td>\n      <td>1.31</td>\n      <td>2.37</td>\n      <td>NaN</td>\n      <td>0.54</td>\n      <td>-0.77</td>\n      <td>1.59</td>\n      <td>0.43</td>\n      <td>0.19</td>\n      <td>1.25</td>\n      <td>0.94</td>\n      <td>3.63</td>\n      <td>3.21</td>\n      <td>-0.44</td>\n      <td>1.20</td>\n      <td>0.92</td>\n      <td>0.04</td>\n      <td>3.12</td>\n      <td>1.06</td>\n      <td>NaN</td>\n      <td>1.31</td>\n      <td>2.25</td>\n      <td>0.38</td>\n      <td>8.66</td>\n      <td>2.64</td>\n      <td>1.90</td>\n      <td>2.89</td>\n      <td>11.67</td>\n      <td>-1.89</td>\n      <td>3.76</td>\n      <td>1.98</td>\n      <td>1.87</td>\n      <td>1.02</td>\n      <td>1.44</td>\n      <td>1.08</td>\n      <td>2.94</td>\n    </tr>\n    <tr>\n      <th>2009</th>\n      <td>0.32</td>\n      <td>1.62</td>\n      <td>2.04</td>\n      <td>10.21</td>\n      <td>0.10</td>\n      <td>-1.59</td>\n      <td>3.46</td>\n      <td>0.51</td>\n      <td>4.40</td>\n      <td>3.39</td>\n      <td>2.26</td>\n      <td>1.12</td>\n      <td>4.26</td>\n      <td>3.24</td>\n      <td>1.76</td>\n      <td>-0.05</td>\n      <td>1.34</td>\n      <td>NaN</td>\n      <td>-0.29</td>\n      <td>1.72</td>\n      <td>0.73</td>\n      <td>0.63</td>\n      <td>0.28</td>\n      <td>1.47</td>\n      <td>0.76</td>\n      <td>5.65</td>\n      <td>3.77</td>\n      <td>2.05</td>\n      <td>1.23</td>\n      <td>0.77</td>\n      <td>0.09</td>\n      <td>3.69</td>\n      <td>1.09</td>\n      <td>0.0</td>\n      <td>1.05</td>\n      <td>2.01</td>\n      <td>-0.20</td>\n      <td>3.98</td>\n      <td>2.44</td>\n      <td>0.95</td>\n      <td>2.47</td>\n      <td>5.24</td>\n      <td>3.94</td>\n      <td>4.11</td>\n      <td>1.73</td>\n      <td>1.84</td>\n      <td>0.99</td>\n      <td>1.15</td>\n      <td>2.05</td>\n      <td>1.96</td>\n    </tr>\n  </tbody>\n</table>\n</div>"
     },
     "metadata": {},
     "execution_count": 19
    }
   ],
   "source": [
    "eps = pd.read_csv('PyFinance/04 - Intrinsic Value/50-eps.csv',index_col=0)\n",
    "eps.head()"
   ]
  },
  {
   "cell_type": "code",
   "execution_count": 20,
   "metadata": {},
   "outputs": [
    {
     "output_type": "execute_result",
     "data": {
      "text/plain": [
       "       2009   2010   2011   2012   2013   2014   2015   2016   2017   2018  \\\n",
       "AAPL   0.32   0.54   0.99   1.58   1.42   1.61   2.31   2.08   2.30   2.98   \n",
       "MSFT   1.62   2.10   2.69   2.00   2.58   2.63   1.48   2.56   3.25   2.13   \n",
       "AMZN   2.04   2.53   1.37  -0.09   0.59  -0.52   1.25   4.90   6.15  20.14   \n",
       "GOOG  10.21  13.16  14.88  16.16  18.79  20.57  22.84  27.85  18.00  43.70   \n",
       "FB     0.10   0.28   0.46   0.01   0.60   1.10   1.29   3.49   5.39   7.57   \n",
       "\n",
       "       2019  \n",
       "AAPL   2.97  \n",
       "MSFT   5.06  \n",
       "AMZN  23.01  \n",
       "GOOG  49.16  \n",
       "FB     6.43  "
      ],
      "text/html": "<div>\n<style scoped>\n    .dataframe tbody tr th:only-of-type {\n        vertical-align: middle;\n    }\n\n    .dataframe tbody tr th {\n        vertical-align: top;\n    }\n\n    .dataframe thead th {\n        text-align: right;\n    }\n</style>\n<table border=\"1\" class=\"dataframe\">\n  <thead>\n    <tr style=\"text-align: right;\">\n      <th></th>\n      <th>2009</th>\n      <th>2010</th>\n      <th>2011</th>\n      <th>2012</th>\n      <th>2013</th>\n      <th>2014</th>\n      <th>2015</th>\n      <th>2016</th>\n      <th>2017</th>\n      <th>2018</th>\n      <th>2019</th>\n    </tr>\n  </thead>\n  <tbody>\n    <tr>\n      <th>AAPL</th>\n      <td>0.32</td>\n      <td>0.54</td>\n      <td>0.99</td>\n      <td>1.58</td>\n      <td>1.42</td>\n      <td>1.61</td>\n      <td>2.31</td>\n      <td>2.08</td>\n      <td>2.30</td>\n      <td>2.98</td>\n      <td>2.97</td>\n    </tr>\n    <tr>\n      <th>MSFT</th>\n      <td>1.62</td>\n      <td>2.10</td>\n      <td>2.69</td>\n      <td>2.00</td>\n      <td>2.58</td>\n      <td>2.63</td>\n      <td>1.48</td>\n      <td>2.56</td>\n      <td>3.25</td>\n      <td>2.13</td>\n      <td>5.06</td>\n    </tr>\n    <tr>\n      <th>AMZN</th>\n      <td>2.04</td>\n      <td>2.53</td>\n      <td>1.37</td>\n      <td>-0.09</td>\n      <td>0.59</td>\n      <td>-0.52</td>\n      <td>1.25</td>\n      <td>4.90</td>\n      <td>6.15</td>\n      <td>20.14</td>\n      <td>23.01</td>\n    </tr>\n    <tr>\n      <th>GOOG</th>\n      <td>10.21</td>\n      <td>13.16</td>\n      <td>14.88</td>\n      <td>16.16</td>\n      <td>18.79</td>\n      <td>20.57</td>\n      <td>22.84</td>\n      <td>27.85</td>\n      <td>18.00</td>\n      <td>43.70</td>\n      <td>49.16</td>\n    </tr>\n    <tr>\n      <th>FB</th>\n      <td>0.10</td>\n      <td>0.28</td>\n      <td>0.46</td>\n      <td>0.01</td>\n      <td>0.60</td>\n      <td>1.10</td>\n      <td>1.29</td>\n      <td>3.49</td>\n      <td>5.39</td>\n      <td>7.57</td>\n      <td>6.43</td>\n    </tr>\n  </tbody>\n</table>\n</div>"
     },
     "metadata": {},
     "execution_count": 20
    }
   ],
   "source": [
    "eps = eps.loc[2009:2019]\n",
    "eps = eps.transpose()\n",
    "eps.head()"
   ]
  },
  {
   "cell_type": "code",
   "execution_count": 23,
   "metadata": {},
   "outputs": [
    {
     "output_type": "execute_result",
     "data": {
      "text/plain": [
       "       10Y CAGR   5Y CAGR   3Y CAGR     1Y CAGR\n",
       "CSCO   0.095330  0.118641  0.073460  129.500000\n",
       "BRK.A  0.253736  0.327274  0.503936   19.368098\n",
       "ORCL   0.105434  0.045288  0.127878    2.494118\n",
       "CRM    0.318589       NaN       NaN    1.918367\n",
       "LLY    0.084777  0.318619  0.510407    1.840256"
      ],
      "text/html": "<div>\n<style scoped>\n    .dataframe tbody tr th:only-of-type {\n        vertical-align: middle;\n    }\n\n    .dataframe tbody tr th {\n        vertical-align: top;\n    }\n\n    .dataframe thead th {\n        text-align: right;\n    }\n</style>\n<table border=\"1\" class=\"dataframe\">\n  <thead>\n    <tr style=\"text-align: right;\">\n      <th></th>\n      <th>10Y CAGR</th>\n      <th>5Y CAGR</th>\n      <th>3Y CAGR</th>\n      <th>1Y CAGR</th>\n    </tr>\n  </thead>\n  <tbody>\n    <tr>\n      <th>CSCO</th>\n      <td>0.095330</td>\n      <td>0.118641</td>\n      <td>0.073460</td>\n      <td>129.500000</td>\n    </tr>\n    <tr>\n      <th>BRK.A</th>\n      <td>0.253736</td>\n      <td>0.327274</td>\n      <td>0.503936</td>\n      <td>19.368098</td>\n    </tr>\n    <tr>\n      <th>ORCL</th>\n      <td>0.105434</td>\n      <td>0.045288</td>\n      <td>0.127878</td>\n      <td>2.494118</td>\n    </tr>\n    <tr>\n      <th>CRM</th>\n      <td>0.318589</td>\n      <td>NaN</td>\n      <td>NaN</td>\n      <td>1.918367</td>\n    </tr>\n    <tr>\n      <th>LLY</th>\n      <td>0.084777</td>\n      <td>0.318619</td>\n      <td>0.510407</td>\n      <td>1.840256</td>\n    </tr>\n  </tbody>\n</table>\n</div>"
     },
     "metadata": {},
     "execution_count": 23
    }
   ],
   "source": [
    "eps['10Y CAGR'] = (eps[2019]/eps[2009])**(1/10)-1\n",
    "eps['5Y CAGR'] = (eps[2019]/eps[2014])**(1/5)-1\n",
    "eps['3Y CAGR'] = (eps[2019]/eps[2016])**(1/3)-1\n",
    "eps['1Y CAGR'] = (eps[2019]/eps[2018])**(1/1)-1\n",
    "eps = eps.sort_values('1Y CAGR',ascending=False)\n",
    "eps= eps[['10Y CAGR','5Y CAGR','3Y CAGR','1Y CAGR']]\n",
    "eps.to_csv('Results/eps.csv')\n",
    "eps.head()"
   ]
  },
  {
   "source": [
    "### Book Value per Share (BVPS)\n",
    "Book value is equal to the cost of carrying an asset on a company's balance sheet, and firms calculate it netting the asset against its accumulated depreciation.\n",
    "* if we sell today, what is left for every share?\n",
    "* Ensure growth in the book value.\n",
    "* Best indicator of growth value"
   ],
   "cell_type": "markdown",
   "metadata": {}
  },
  {
   "cell_type": "code",
   "execution_count": 29,
   "metadata": {},
   "outputs": [
    {
     "output_type": "execute_result",
     "data": {
      "text/plain": [
       "            AAPL   MSFT    AMZN    GOOG     FB   TSLA   BRK.A      V    JNJ  \\\n",
       "2021-01-08   NaN    NaN     NaN     NaN    NaN    NaN     NaN    NaN    NaN   \n",
       "2020-09-30  3.85  16.31  164.89  314.17  41.31  17.82  303.74  18.67  24.49   \n",
       "2020-06-30  4.22  15.63  147.16  304.34  38.75  11.53  284.80  18.28  23.92   \n",
       "2020-03-31  4.53  15.09  130.81  297.76  36.94  10.85  270.69  17.75  23.28   \n",
       "2019-12-31  5.10  14.47  124.62  292.65  35.43   8.25  309.39  17.95  22.59   \n",
       "\n",
       "            WMT    JPM    MA     PG    UNH    DIS  NVDA  HD   PYPL    BAC  \\\n",
       "2021-01-08  NaN    NaN   NaN    NaN    NaN    NaN   NaN NaN    NaN    NaN   \n",
       "2020-09-30  NaN  88.94  5.87  19.59  71.76  49.56   NaN NaN  15.81  31.04   \n",
       "2020-06-30  NaN  86.78  6.47  18.90  70.02  50.79   NaN NaN  15.08  30.66   \n",
       "2020-03-31  NaN  85.74  5.40  18.56  63.21  53.27   NaN NaN  13.65  30.54   \n",
       "2019-12-31  NaN  84.74  5.88  18.59  63.75  53.21   NaN NaN  14.43  29.97   \n",
       "\n",
       "               VZ  ADBE  CMCSA   NFLX    KO  NKE    MRK    PEP      T    PFE  \\\n",
       "2021-01-08    NaN   NaN    NaN    NaN   NaN  NaN    NaN    NaN    NaN    NaN   \n",
       "2020-09-30  16.08   NaN  19.14  23.39  4.73  NaN  11.57   9.83  27.38  11.79   \n",
       "2020-06-30  15.49   NaN  18.56  21.17  4.47  NaN  10.97   9.09  27.15  11.62   \n",
       "2020-03-31  14.90   NaN  18.14  19.12  4.62  NaN  10.42   9.76  27.43  11.77   \n",
       "2019-12-31  15.19   NaN  18.42  17.28  4.93  NaN  10.24  10.69  27.84  11.46   \n",
       "\n",
       "             INTC  CRM    ABT  ORCL  ABBV  CSCO    TMO  AVGO    XOM  ACN  \\\n",
       "2021-01-08    NaN  NaN    NaN   NaN   NaN   NaN    NaN   NaN    NaN  NaN   \n",
       "2020-09-30  18.19  NaN  17.83   NaN  8.66   NaN  80.30   NaN  43.66  NaN   \n",
       "2020-06-30  19.28  NaN  17.39   NaN  8.35   NaN  75.52   NaN  44.27  NaN   \n",
       "2020-03-31  18.03  NaN  17.20   NaN -5.02   NaN  72.31   NaN  44.64  NaN   \n",
       "2019-12-31  18.07  NaN  17.76   NaN -5.53   NaN  74.42   NaN  46.99  NaN   \n",
       "\n",
       "            QCOM  COST    CVX   LLY    MCD    DHR  MDT    NEE   TXN    HON  \\\n",
       "2021-01-08   NaN   NaN    NaN   NaN    NaN    NaN  NaN    NaN   NaN    NaN   \n",
       "2020-09-30  5.37   NaN  70.71  5.22 -11.37  53.46  NaN  21.46  9.07  26.10   \n",
       "2020-06-30  2.93   NaN  71.97  4.47 -12.72  51.15  NaN  21.21  8.35  26.17   \n",
       "2020-03-31  2.70   NaN  77.62  3.34 -12.50  44.57  NaN  20.90  8.39  25.45   \n",
       "2019-12-31  3.95   NaN  77.15  2.82 -11.00  43.54  NaN  21.15  9.56  26.31   \n",
       "\n",
       "             UPS  \n",
       "2021-01-08   NaN  \n",
       "2020-09-30  6.49  \n",
       "2020-06-30  5.07  \n",
       "2020-03-31  3.85  \n",
       "2019-12-31  3.83  "
      ],
      "text/html": "<div>\n<style scoped>\n    .dataframe tbody tr th:only-of-type {\n        vertical-align: middle;\n    }\n\n    .dataframe tbody tr th {\n        vertical-align: top;\n    }\n\n    .dataframe thead th {\n        text-align: right;\n    }\n</style>\n<table border=\"1\" class=\"dataframe\">\n  <thead>\n    <tr style=\"text-align: right;\">\n      <th></th>\n      <th>AAPL</th>\n      <th>MSFT</th>\n      <th>AMZN</th>\n      <th>GOOG</th>\n      <th>FB</th>\n      <th>TSLA</th>\n      <th>BRK.A</th>\n      <th>V</th>\n      <th>JNJ</th>\n      <th>WMT</th>\n      <th>JPM</th>\n      <th>MA</th>\n      <th>PG</th>\n      <th>UNH</th>\n      <th>DIS</th>\n      <th>NVDA</th>\n      <th>HD</th>\n      <th>PYPL</th>\n      <th>BAC</th>\n      <th>VZ</th>\n      <th>ADBE</th>\n      <th>CMCSA</th>\n      <th>NFLX</th>\n      <th>KO</th>\n      <th>NKE</th>\n      <th>MRK</th>\n      <th>PEP</th>\n      <th>T</th>\n      <th>PFE</th>\n      <th>INTC</th>\n      <th>CRM</th>\n      <th>ABT</th>\n      <th>ORCL</th>\n      <th>ABBV</th>\n      <th>CSCO</th>\n      <th>TMO</th>\n      <th>AVGO</th>\n      <th>XOM</th>\n      <th>ACN</th>\n      <th>QCOM</th>\n      <th>COST</th>\n      <th>CVX</th>\n      <th>LLY</th>\n      <th>MCD</th>\n      <th>DHR</th>\n      <th>MDT</th>\n      <th>NEE</th>\n      <th>TXN</th>\n      <th>HON</th>\n      <th>UPS</th>\n    </tr>\n  </thead>\n  <tbody>\n    <tr>\n      <th>2021-01-08</th>\n      <td>NaN</td>\n      <td>NaN</td>\n      <td>NaN</td>\n      <td>NaN</td>\n      <td>NaN</td>\n      <td>NaN</td>\n      <td>NaN</td>\n      <td>NaN</td>\n      <td>NaN</td>\n      <td>NaN</td>\n      <td>NaN</td>\n      <td>NaN</td>\n      <td>NaN</td>\n      <td>NaN</td>\n      <td>NaN</td>\n      <td>NaN</td>\n      <td>NaN</td>\n      <td>NaN</td>\n      <td>NaN</td>\n      <td>NaN</td>\n      <td>NaN</td>\n      <td>NaN</td>\n      <td>NaN</td>\n      <td>NaN</td>\n      <td>NaN</td>\n      <td>NaN</td>\n      <td>NaN</td>\n      <td>NaN</td>\n      <td>NaN</td>\n      <td>NaN</td>\n      <td>NaN</td>\n      <td>NaN</td>\n      <td>NaN</td>\n      <td>NaN</td>\n      <td>NaN</td>\n      <td>NaN</td>\n      <td>NaN</td>\n      <td>NaN</td>\n      <td>NaN</td>\n      <td>NaN</td>\n      <td>NaN</td>\n      <td>NaN</td>\n      <td>NaN</td>\n      <td>NaN</td>\n      <td>NaN</td>\n      <td>NaN</td>\n      <td>NaN</td>\n      <td>NaN</td>\n      <td>NaN</td>\n      <td>NaN</td>\n    </tr>\n    <tr>\n      <th>2020-09-30</th>\n      <td>3.85</td>\n      <td>16.31</td>\n      <td>164.89</td>\n      <td>314.17</td>\n      <td>41.31</td>\n      <td>17.82</td>\n      <td>303.74</td>\n      <td>18.67</td>\n      <td>24.49</td>\n      <td>NaN</td>\n      <td>88.94</td>\n      <td>5.87</td>\n      <td>19.59</td>\n      <td>71.76</td>\n      <td>49.56</td>\n      <td>NaN</td>\n      <td>NaN</td>\n      <td>15.81</td>\n      <td>31.04</td>\n      <td>16.08</td>\n      <td>NaN</td>\n      <td>19.14</td>\n      <td>23.39</td>\n      <td>4.73</td>\n      <td>NaN</td>\n      <td>11.57</td>\n      <td>9.83</td>\n      <td>27.38</td>\n      <td>11.79</td>\n      <td>18.19</td>\n      <td>NaN</td>\n      <td>17.83</td>\n      <td>NaN</td>\n      <td>8.66</td>\n      <td>NaN</td>\n      <td>80.30</td>\n      <td>NaN</td>\n      <td>43.66</td>\n      <td>NaN</td>\n      <td>5.37</td>\n      <td>NaN</td>\n      <td>70.71</td>\n      <td>5.22</td>\n      <td>-11.37</td>\n      <td>53.46</td>\n      <td>NaN</td>\n      <td>21.46</td>\n      <td>9.07</td>\n      <td>26.10</td>\n      <td>6.49</td>\n    </tr>\n    <tr>\n      <th>2020-06-30</th>\n      <td>4.22</td>\n      <td>15.63</td>\n      <td>147.16</td>\n      <td>304.34</td>\n      <td>38.75</td>\n      <td>11.53</td>\n      <td>284.80</td>\n      <td>18.28</td>\n      <td>23.92</td>\n      <td>NaN</td>\n      <td>86.78</td>\n      <td>6.47</td>\n      <td>18.90</td>\n      <td>70.02</td>\n      <td>50.79</td>\n      <td>NaN</td>\n      <td>NaN</td>\n      <td>15.08</td>\n      <td>30.66</td>\n      <td>15.49</td>\n      <td>NaN</td>\n      <td>18.56</td>\n      <td>21.17</td>\n      <td>4.47</td>\n      <td>NaN</td>\n      <td>10.97</td>\n      <td>9.09</td>\n      <td>27.15</td>\n      <td>11.62</td>\n      <td>19.28</td>\n      <td>NaN</td>\n      <td>17.39</td>\n      <td>NaN</td>\n      <td>8.35</td>\n      <td>NaN</td>\n      <td>75.52</td>\n      <td>NaN</td>\n      <td>44.27</td>\n      <td>NaN</td>\n      <td>2.93</td>\n      <td>NaN</td>\n      <td>71.97</td>\n      <td>4.47</td>\n      <td>-12.72</td>\n      <td>51.15</td>\n      <td>NaN</td>\n      <td>21.21</td>\n      <td>8.35</td>\n      <td>26.17</td>\n      <td>5.07</td>\n    </tr>\n    <tr>\n      <th>2020-03-31</th>\n      <td>4.53</td>\n      <td>15.09</td>\n      <td>130.81</td>\n      <td>297.76</td>\n      <td>36.94</td>\n      <td>10.85</td>\n      <td>270.69</td>\n      <td>17.75</td>\n      <td>23.28</td>\n      <td>NaN</td>\n      <td>85.74</td>\n      <td>5.40</td>\n      <td>18.56</td>\n      <td>63.21</td>\n      <td>53.27</td>\n      <td>NaN</td>\n      <td>NaN</td>\n      <td>13.65</td>\n      <td>30.54</td>\n      <td>14.90</td>\n      <td>NaN</td>\n      <td>18.14</td>\n      <td>19.12</td>\n      <td>4.62</td>\n      <td>NaN</td>\n      <td>10.42</td>\n      <td>9.76</td>\n      <td>27.43</td>\n      <td>11.77</td>\n      <td>18.03</td>\n      <td>NaN</td>\n      <td>17.20</td>\n      <td>NaN</td>\n      <td>-5.02</td>\n      <td>NaN</td>\n      <td>72.31</td>\n      <td>NaN</td>\n      <td>44.64</td>\n      <td>NaN</td>\n      <td>2.70</td>\n      <td>NaN</td>\n      <td>77.62</td>\n      <td>3.34</td>\n      <td>-12.50</td>\n      <td>44.57</td>\n      <td>NaN</td>\n      <td>20.90</td>\n      <td>8.39</td>\n      <td>25.45</td>\n      <td>3.85</td>\n    </tr>\n    <tr>\n      <th>2019-12-31</th>\n      <td>5.10</td>\n      <td>14.47</td>\n      <td>124.62</td>\n      <td>292.65</td>\n      <td>35.43</td>\n      <td>8.25</td>\n      <td>309.39</td>\n      <td>17.95</td>\n      <td>22.59</td>\n      <td>NaN</td>\n      <td>84.74</td>\n      <td>5.88</td>\n      <td>18.59</td>\n      <td>63.75</td>\n      <td>53.21</td>\n      <td>NaN</td>\n      <td>NaN</td>\n      <td>14.43</td>\n      <td>29.97</td>\n      <td>15.19</td>\n      <td>NaN</td>\n      <td>18.42</td>\n      <td>17.28</td>\n      <td>4.93</td>\n      <td>NaN</td>\n      <td>10.24</td>\n      <td>10.69</td>\n      <td>27.84</td>\n      <td>11.46</td>\n      <td>18.07</td>\n      <td>NaN</td>\n      <td>17.76</td>\n      <td>NaN</td>\n      <td>-5.53</td>\n      <td>NaN</td>\n      <td>74.42</td>\n      <td>NaN</td>\n      <td>46.99</td>\n      <td>NaN</td>\n      <td>3.95</td>\n      <td>NaN</td>\n      <td>77.15</td>\n      <td>2.82</td>\n      <td>-11.00</td>\n      <td>43.54</td>\n      <td>NaN</td>\n      <td>21.15</td>\n      <td>9.56</td>\n      <td>26.31</td>\n      <td>3.83</td>\n    </tr>\n  </tbody>\n</table>\n</div>"
     },
     "metadata": {},
     "execution_count": 29
    }
   ],
   "source": [
    "bvps = pd.read_csv('PyFinance/04 - Intrinsic Value/50-bvps.csv',index_col=0)\n",
    "bvps.head()"
   ]
  },
  {
   "cell_type": "code",
   "execution_count": 30,
   "metadata": {},
   "outputs": [
    {
     "output_type": "execute_result",
     "data": {
      "text/plain": [
       "DatetimeIndex(['2021-01-08', '2020-09-30', '2020-06-30', '2020-03-31',\n",
       "               '2019-12-31', '2019-09-30', '2019-06-30', '2019-03-31',\n",
       "               '2018-12-31', '2018-09-30',\n",
       "               ...\n",
       "               '2008-02-29', '2007-11-30', '2007-08-31', '2007-05-31',\n",
       "               '2007-02-28', '2006-11-30', '2006-08-31', '2006-05-31',\n",
       "               '2006-02-28', '2020-11-30'],\n",
       "              dtype='datetime64[ns]', length=180, freq=None)"
      ]
     },
     "metadata": {},
     "execution_count": 30
    }
   ],
   "source": [
    "bvps.index = pd.to_datetime(bvps.index)\n",
    "bvps.index"
   ]
  },
  {
   "cell_type": "code",
   "execution_count": 31,
   "metadata": {},
   "outputs": [],
   "source": [
    "bvps.sort_index(ascending=False,inplace=True)\n",
    "bvps=bvps.resample('Q',convention='end').agg('mean')"
   ]
  },
  {
   "cell_type": "code",
   "execution_count": 32,
   "metadata": {},
   "outputs": [
    {
     "output_type": "execute_result",
     "data": {
      "text/plain": [
       "            AAPL  MSFT   AMZN  GOOG  FB  TSLA   BRK.A     V    JNJ    WMT  \\\n",
       "2010-09-30  1.86  5.48  14.25   NaN NaN  0.47  150.01  7.49  20.85  18.30   \n",
       "2010-12-31  2.12  5.77  15.22   NaN NaN  0.44  154.89  7.67  20.66  18.98   \n",
       "2011-03-31  2.37  6.34  16.25   NaN NaN  0.35  154.78  7.88  21.86  20.26   \n",
       "2011-06-30  2.67  6.82  17.10   NaN NaN  0.67  156.35  7.98  22.67  19.54   \n",
       "2011-09-30  2.94  7.06  17.07   NaN NaN  0.56  153.40  8.14  22.52  21.04   \n",
       "\n",
       "              JPM    MA     PG    UNH    DIS  NVDA     HD  PYPL    BAC     VZ  \\\n",
       "2010-09-30  44.28  3.71  22.58  23.30  20.74  4.81  11.67   NaN  22.97  29.94   \n",
       "2010-12-31  45.04  3.98  23.10  23.78  21.20  4.99  11.64   NaN  22.63  30.74   \n",
       "2011-03-31  45.30  4.05  24.16  24.67  21.73  5.41  11.64   NaN  22.79  31.41   \n",
       "2011-06-30  46.77  4.31  24.59  25.60  22.48  5.74  11.39   NaN  21.93  32.05   \n",
       "2011-09-30  47.98  4.71  23.86  26.44  21.92  6.11  11.62   NaN  22.72  30.91   \n",
       "\n",
       "             ADBE  CMCSA  NFLX    KO   NKE    MRK    PEP      T    PFE  INTC  \\\n",
       "2010-09-30   9.91   7.86  0.52  6.09  5.05  18.85  12.79  19.17  10.99  8.55   \n",
       "2010-12-31  10.35   8.00  0.79  6.83  5.20  18.43  13.58  18.94  11.02  8.97   \n",
       "2011-03-31  10.74   8.42  0.75  7.13  5.22  18.42  14.97  19.07  11.46  8.87   \n",
       "2011-06-30  10.92   8.53  0.91  7.72  5.26  18.79  15.39  19.26  11.40  9.22   \n",
       "2011-09-30  11.29   8.63  1.06  7.38  5.33  18.87  15.31  19.22  11.78  9.01   \n",
       "\n",
       "             CRM    ABT  ORCL  ABBV  CSCO    TMO  AVGO    XOM   ACN   QCOM  \\\n",
       "2010-09-30  2.42  13.90  6.47   NaN  7.83  38.74  5.58  29.86  4.75  12.94   \n",
       "2010-12-31  2.31  14.72  6.90   NaN  8.01  39.25  6.27  30.66  4.75  13.91   \n",
       "2011-03-31  2.40  15.90  7.32   NaN  8.26  39.80  6.75  31.98  5.76  15.01   \n",
       "2011-06-30  2.34  17.01  7.94   NaN  8.58  41.02  7.28  33.29  5.99  15.68   \n",
       "2011-09-30  2.62  15.85  8.16   NaN  8.70  40.17  7.62  33.84  6.30  16.05   \n",
       "\n",
       "             COST    CVX    LLY    MCD    DHR    MDT   NEE   TXN    HON   UPS  \n",
       "2010-09-30  25.21  51.16  10.76  12.91  20.14  13.52  8.46  8.48  13.42  8.62  \n",
       "2010-12-31  26.83  52.71  10.76  13.89  20.98  13.81  8.59  8.94  13.78  8.14  \n",
       "2011-03-31  27.73  55.14  12.04  13.93  22.17  14.36  8.65  9.11  15.01  8.35  \n",
       "2011-06-30  28.65  58.13  12.33  14.49  24.15  14.92  8.82  9.44  15.57  8.49  \n",
       "2011-09-30  28.95  61.10  13.01  13.04  24.13  15.47  8.81  9.65  15.21  8.16  "
      ],
      "text/html": "<div>\n<style scoped>\n    .dataframe tbody tr th:only-of-type {\n        vertical-align: middle;\n    }\n\n    .dataframe tbody tr th {\n        vertical-align: top;\n    }\n\n    .dataframe thead th {\n        text-align: right;\n    }\n</style>\n<table border=\"1\" class=\"dataframe\">\n  <thead>\n    <tr style=\"text-align: right;\">\n      <th></th>\n      <th>AAPL</th>\n      <th>MSFT</th>\n      <th>AMZN</th>\n      <th>GOOG</th>\n      <th>FB</th>\n      <th>TSLA</th>\n      <th>BRK.A</th>\n      <th>V</th>\n      <th>JNJ</th>\n      <th>WMT</th>\n      <th>JPM</th>\n      <th>MA</th>\n      <th>PG</th>\n      <th>UNH</th>\n      <th>DIS</th>\n      <th>NVDA</th>\n      <th>HD</th>\n      <th>PYPL</th>\n      <th>BAC</th>\n      <th>VZ</th>\n      <th>ADBE</th>\n      <th>CMCSA</th>\n      <th>NFLX</th>\n      <th>KO</th>\n      <th>NKE</th>\n      <th>MRK</th>\n      <th>PEP</th>\n      <th>T</th>\n      <th>PFE</th>\n      <th>INTC</th>\n      <th>CRM</th>\n      <th>ABT</th>\n      <th>ORCL</th>\n      <th>ABBV</th>\n      <th>CSCO</th>\n      <th>TMO</th>\n      <th>AVGO</th>\n      <th>XOM</th>\n      <th>ACN</th>\n      <th>QCOM</th>\n      <th>COST</th>\n      <th>CVX</th>\n      <th>LLY</th>\n      <th>MCD</th>\n      <th>DHR</th>\n      <th>MDT</th>\n      <th>NEE</th>\n      <th>TXN</th>\n      <th>HON</th>\n      <th>UPS</th>\n    </tr>\n  </thead>\n  <tbody>\n    <tr>\n      <th>2010-09-30</th>\n      <td>1.86</td>\n      <td>5.48</td>\n      <td>14.25</td>\n      <td>NaN</td>\n      <td>NaN</td>\n      <td>0.47</td>\n      <td>150.01</td>\n      <td>7.49</td>\n      <td>20.85</td>\n      <td>18.30</td>\n      <td>44.28</td>\n      <td>3.71</td>\n      <td>22.58</td>\n      <td>23.30</td>\n      <td>20.74</td>\n      <td>4.81</td>\n      <td>11.67</td>\n      <td>NaN</td>\n      <td>22.97</td>\n      <td>29.94</td>\n      <td>9.91</td>\n      <td>7.86</td>\n      <td>0.52</td>\n      <td>6.09</td>\n      <td>5.05</td>\n      <td>18.85</td>\n      <td>12.79</td>\n      <td>19.17</td>\n      <td>10.99</td>\n      <td>8.55</td>\n      <td>2.42</td>\n      <td>13.90</td>\n      <td>6.47</td>\n      <td>NaN</td>\n      <td>7.83</td>\n      <td>38.74</td>\n      <td>5.58</td>\n      <td>29.86</td>\n      <td>4.75</td>\n      <td>12.94</td>\n      <td>25.21</td>\n      <td>51.16</td>\n      <td>10.76</td>\n      <td>12.91</td>\n      <td>20.14</td>\n      <td>13.52</td>\n      <td>8.46</td>\n      <td>8.48</td>\n      <td>13.42</td>\n      <td>8.62</td>\n    </tr>\n    <tr>\n      <th>2010-12-31</th>\n      <td>2.12</td>\n      <td>5.77</td>\n      <td>15.22</td>\n      <td>NaN</td>\n      <td>NaN</td>\n      <td>0.44</td>\n      <td>154.89</td>\n      <td>7.67</td>\n      <td>20.66</td>\n      <td>18.98</td>\n      <td>45.04</td>\n      <td>3.98</td>\n      <td>23.10</td>\n      <td>23.78</td>\n      <td>21.20</td>\n      <td>4.99</td>\n      <td>11.64</td>\n      <td>NaN</td>\n      <td>22.63</td>\n      <td>30.74</td>\n      <td>10.35</td>\n      <td>8.00</td>\n      <td>0.79</td>\n      <td>6.83</td>\n      <td>5.20</td>\n      <td>18.43</td>\n      <td>13.58</td>\n      <td>18.94</td>\n      <td>11.02</td>\n      <td>8.97</td>\n      <td>2.31</td>\n      <td>14.72</td>\n      <td>6.90</td>\n      <td>NaN</td>\n      <td>8.01</td>\n      <td>39.25</td>\n      <td>6.27</td>\n      <td>30.66</td>\n      <td>4.75</td>\n      <td>13.91</td>\n      <td>26.83</td>\n      <td>52.71</td>\n      <td>10.76</td>\n      <td>13.89</td>\n      <td>20.98</td>\n      <td>13.81</td>\n      <td>8.59</td>\n      <td>8.94</td>\n      <td>13.78</td>\n      <td>8.14</td>\n    </tr>\n    <tr>\n      <th>2011-03-31</th>\n      <td>2.37</td>\n      <td>6.34</td>\n      <td>16.25</td>\n      <td>NaN</td>\n      <td>NaN</td>\n      <td>0.35</td>\n      <td>154.78</td>\n      <td>7.88</td>\n      <td>21.86</td>\n      <td>20.26</td>\n      <td>45.30</td>\n      <td>4.05</td>\n      <td>24.16</td>\n      <td>24.67</td>\n      <td>21.73</td>\n      <td>5.41</td>\n      <td>11.64</td>\n      <td>NaN</td>\n      <td>22.79</td>\n      <td>31.41</td>\n      <td>10.74</td>\n      <td>8.42</td>\n      <td>0.75</td>\n      <td>7.13</td>\n      <td>5.22</td>\n      <td>18.42</td>\n      <td>14.97</td>\n      <td>19.07</td>\n      <td>11.46</td>\n      <td>8.87</td>\n      <td>2.40</td>\n      <td>15.90</td>\n      <td>7.32</td>\n      <td>NaN</td>\n      <td>8.26</td>\n      <td>39.80</td>\n      <td>6.75</td>\n      <td>31.98</td>\n      <td>5.76</td>\n      <td>15.01</td>\n      <td>27.73</td>\n      <td>55.14</td>\n      <td>12.04</td>\n      <td>13.93</td>\n      <td>22.17</td>\n      <td>14.36</td>\n      <td>8.65</td>\n      <td>9.11</td>\n      <td>15.01</td>\n      <td>8.35</td>\n    </tr>\n    <tr>\n      <th>2011-06-30</th>\n      <td>2.67</td>\n      <td>6.82</td>\n      <td>17.10</td>\n      <td>NaN</td>\n      <td>NaN</td>\n      <td>0.67</td>\n      <td>156.35</td>\n      <td>7.98</td>\n      <td>22.67</td>\n      <td>19.54</td>\n      <td>46.77</td>\n      <td>4.31</td>\n      <td>24.59</td>\n      <td>25.60</td>\n      <td>22.48</td>\n      <td>5.74</td>\n      <td>11.39</td>\n      <td>NaN</td>\n      <td>21.93</td>\n      <td>32.05</td>\n      <td>10.92</td>\n      <td>8.53</td>\n      <td>0.91</td>\n      <td>7.72</td>\n      <td>5.26</td>\n      <td>18.79</td>\n      <td>15.39</td>\n      <td>19.26</td>\n      <td>11.40</td>\n      <td>9.22</td>\n      <td>2.34</td>\n      <td>17.01</td>\n      <td>7.94</td>\n      <td>NaN</td>\n      <td>8.58</td>\n      <td>41.02</td>\n      <td>7.28</td>\n      <td>33.29</td>\n      <td>5.99</td>\n      <td>15.68</td>\n      <td>28.65</td>\n      <td>58.13</td>\n      <td>12.33</td>\n      <td>14.49</td>\n      <td>24.15</td>\n      <td>14.92</td>\n      <td>8.82</td>\n      <td>9.44</td>\n      <td>15.57</td>\n      <td>8.49</td>\n    </tr>\n    <tr>\n      <th>2011-09-30</th>\n      <td>2.94</td>\n      <td>7.06</td>\n      <td>17.07</td>\n      <td>NaN</td>\n      <td>NaN</td>\n      <td>0.56</td>\n      <td>153.40</td>\n      <td>8.14</td>\n      <td>22.52</td>\n      <td>21.04</td>\n      <td>47.98</td>\n      <td>4.71</td>\n      <td>23.86</td>\n      <td>26.44</td>\n      <td>21.92</td>\n      <td>6.11</td>\n      <td>11.62</td>\n      <td>NaN</td>\n      <td>22.72</td>\n      <td>30.91</td>\n      <td>11.29</td>\n      <td>8.63</td>\n      <td>1.06</td>\n      <td>7.38</td>\n      <td>5.33</td>\n      <td>18.87</td>\n      <td>15.31</td>\n      <td>19.22</td>\n      <td>11.78</td>\n      <td>9.01</td>\n      <td>2.62</td>\n      <td>15.85</td>\n      <td>8.16</td>\n      <td>NaN</td>\n      <td>8.70</td>\n      <td>40.17</td>\n      <td>7.62</td>\n      <td>33.84</td>\n      <td>6.30</td>\n      <td>16.05</td>\n      <td>28.95</td>\n      <td>61.10</td>\n      <td>13.01</td>\n      <td>13.04</td>\n      <td>24.13</td>\n      <td>15.47</td>\n      <td>8.81</td>\n      <td>9.65</td>\n      <td>15.21</td>\n      <td>8.16</td>\n    </tr>\n  </tbody>\n</table>\n</div>"
     },
     "metadata": {},
     "execution_count": 32
    }
   ],
   "source": [
    "bvps = bvps.loc['2010-09-01':'2020-10-01']\n",
    "bvps.head()"
   ]
  },
  {
   "cell_type": "code",
   "execution_count": 33,
   "metadata": {},
   "outputs": [
    {
     "output_type": "execute_result",
     "data": {
      "text/plain": [
       "      2010-09-30  2010-12-31  2011-03-31  2011-06-30  2011-09-30  2011-12-31  \\\n",
       "AAPL        1.86        2.12        2.37        2.67        2.94        3.45   \n",
       "MSFT        5.48        5.77        6.34        6.82        7.06        7.65   \n",
       "AMZN       14.25       15.22       16.25       17.10       17.07       17.05   \n",
       "GOOG         NaN         NaN         NaN         NaN         NaN         NaN   \n",
       "FB           NaN         NaN         NaN         NaN         NaN         NaN   \n",
       "\n",
       "      2012-03-31  2012-06-30  2012-09-30  2012-12-31  2013-03-31  2013-06-30  \\\n",
       "AAPL        3.92        4.26        4.50        4.84        5.15        4.85   \n",
       "MSFT        8.17        7.92        8.17        8.67        9.19        9.48   \n",
       "AMZN       16.16       16.60       16.67       18.04       18.53       19.11   \n",
       "GOOG         NaN         NaN         NaN         NaN         NaN         NaN   \n",
       "FB           NaN        6.21        6.54        4.98        4.94        5.11   \n",
       "\n",
       "      2013-09-30  2013-12-31  2014-03-31  2014-06-30  2014-09-30  2014-12-31  \\\n",
       "AAPL        4.91        5.19        4.98        5.05        4.75        5.29   \n",
       "MSFT        9.78       10.25       10.58       10.90       10.92       11.18   \n",
       "AMZN       19.84       21.23       22.45       22.95       22.32       23.10   \n",
       "GOOG         NaN         NaN      135.98      141.66      145.69      152.70   \n",
       "FB          5.35        6.10        6.56        7.15        8.18       12.99   \n",
       "\n",
       "      2015-03-31  2015-06-30  2015-09-30  2015-12-31  2016-03-31  2016-06-30  \\\n",
       "AAPL        5.60        5.51        5.35        5.78        5.95        5.87   \n",
       "MSFT       11.11        9.98        9.70        9.69        9.51        9.22   \n",
       "AMZN       23.33       25.15       26.50       28.42       31.26       34.89   \n",
       "GOOG      158.94      163.07      169.03      175.07      179.92      186.20   \n",
       "FB         13.45       14.09       14.72       15.60       16.54       17.60   \n",
       "\n",
       "      2016-09-30  2016-12-31  2017-03-31  2017-06-30  2017-09-30  2017-12-31  \\\n",
       "AAPL        6.01        6.30        6.44        6.40        6.54        6.90   \n",
       "MSFT        9.04        8.90        9.03       11.38       11.61       10.17   \n",
       "AMZN       37.44       40.43       45.34       48.36       51.16       57.25   \n",
       "GOOG      194.60      201.12      209.43      214.02      226.11      219.50   \n",
       "FB         18.82       20.47       21.46       22.92       24.52       25.58   \n",
       "\n",
       "      2018-03-31  2018-06-30  2018-09-30  2018-12-31  2019-03-31  2019-06-30  \\\n",
       "AAPL        6.42        5.93        5.63        6.23        5.74        5.32   \n",
       "MSFT       10.30       10.77       11.19       11.99       12.37       13.39   \n",
       "AMZN       64.87       71.86       80.01       88.69       98.39      107.41   \n",
       "GOOG      231.42      232.78      244.04      255.38      264.07      276.91   \n",
       "FB         26.75       27.46       27.96       29.48       30.29       31.10   \n",
       "\n",
       "      2019-09-30  2019-12-31  2020-03-31  2020-06-30  2020-09-30  \n",
       "AAPL        5.09        5.10        4.53        4.22        3.85  \n",
       "MSFT       13.89       14.47       15.09       15.63       16.31  \n",
       "AMZN      114.16      124.62      130.81      147.16      164.89  \n",
       "GOOG      282.19      292.65      297.76      304.34      314.17  \n",
       "FB         32.94       35.43       36.94       38.75       41.31  "
      ],
      "text/html": "<div>\n<style scoped>\n    .dataframe tbody tr th:only-of-type {\n        vertical-align: middle;\n    }\n\n    .dataframe tbody tr th {\n        vertical-align: top;\n    }\n\n    .dataframe thead th {\n        text-align: right;\n    }\n</style>\n<table border=\"1\" class=\"dataframe\">\n  <thead>\n    <tr style=\"text-align: right;\">\n      <th></th>\n      <th>2010-09-30</th>\n      <th>2010-12-31</th>\n      <th>2011-03-31</th>\n      <th>2011-06-30</th>\n      <th>2011-09-30</th>\n      <th>2011-12-31</th>\n      <th>2012-03-31</th>\n      <th>2012-06-30</th>\n      <th>2012-09-30</th>\n      <th>2012-12-31</th>\n      <th>2013-03-31</th>\n      <th>2013-06-30</th>\n      <th>2013-09-30</th>\n      <th>2013-12-31</th>\n      <th>2014-03-31</th>\n      <th>2014-06-30</th>\n      <th>2014-09-30</th>\n      <th>2014-12-31</th>\n      <th>2015-03-31</th>\n      <th>2015-06-30</th>\n      <th>2015-09-30</th>\n      <th>2015-12-31</th>\n      <th>2016-03-31</th>\n      <th>2016-06-30</th>\n      <th>2016-09-30</th>\n      <th>2016-12-31</th>\n      <th>2017-03-31</th>\n      <th>2017-06-30</th>\n      <th>2017-09-30</th>\n      <th>2017-12-31</th>\n      <th>2018-03-31</th>\n      <th>2018-06-30</th>\n      <th>2018-09-30</th>\n      <th>2018-12-31</th>\n      <th>2019-03-31</th>\n      <th>2019-06-30</th>\n      <th>2019-09-30</th>\n      <th>2019-12-31</th>\n      <th>2020-03-31</th>\n      <th>2020-06-30</th>\n      <th>2020-09-30</th>\n    </tr>\n  </thead>\n  <tbody>\n    <tr>\n      <th>AAPL</th>\n      <td>1.86</td>\n      <td>2.12</td>\n      <td>2.37</td>\n      <td>2.67</td>\n      <td>2.94</td>\n      <td>3.45</td>\n      <td>3.92</td>\n      <td>4.26</td>\n      <td>4.50</td>\n      <td>4.84</td>\n      <td>5.15</td>\n      <td>4.85</td>\n      <td>4.91</td>\n      <td>5.19</td>\n      <td>4.98</td>\n      <td>5.05</td>\n      <td>4.75</td>\n      <td>5.29</td>\n      <td>5.60</td>\n      <td>5.51</td>\n      <td>5.35</td>\n      <td>5.78</td>\n      <td>5.95</td>\n      <td>5.87</td>\n      <td>6.01</td>\n      <td>6.30</td>\n      <td>6.44</td>\n      <td>6.40</td>\n      <td>6.54</td>\n      <td>6.90</td>\n      <td>6.42</td>\n      <td>5.93</td>\n      <td>5.63</td>\n      <td>6.23</td>\n      <td>5.74</td>\n      <td>5.32</td>\n      <td>5.09</td>\n      <td>5.10</td>\n      <td>4.53</td>\n      <td>4.22</td>\n      <td>3.85</td>\n    </tr>\n    <tr>\n      <th>MSFT</th>\n      <td>5.48</td>\n      <td>5.77</td>\n      <td>6.34</td>\n      <td>6.82</td>\n      <td>7.06</td>\n      <td>7.65</td>\n      <td>8.17</td>\n      <td>7.92</td>\n      <td>8.17</td>\n      <td>8.67</td>\n      <td>9.19</td>\n      <td>9.48</td>\n      <td>9.78</td>\n      <td>10.25</td>\n      <td>10.58</td>\n      <td>10.90</td>\n      <td>10.92</td>\n      <td>11.18</td>\n      <td>11.11</td>\n      <td>9.98</td>\n      <td>9.70</td>\n      <td>9.69</td>\n      <td>9.51</td>\n      <td>9.22</td>\n      <td>9.04</td>\n      <td>8.90</td>\n      <td>9.03</td>\n      <td>11.38</td>\n      <td>11.61</td>\n      <td>10.17</td>\n      <td>10.30</td>\n      <td>10.77</td>\n      <td>11.19</td>\n      <td>11.99</td>\n      <td>12.37</td>\n      <td>13.39</td>\n      <td>13.89</td>\n      <td>14.47</td>\n      <td>15.09</td>\n      <td>15.63</td>\n      <td>16.31</td>\n    </tr>\n    <tr>\n      <th>AMZN</th>\n      <td>14.25</td>\n      <td>15.22</td>\n      <td>16.25</td>\n      <td>17.10</td>\n      <td>17.07</td>\n      <td>17.05</td>\n      <td>16.16</td>\n      <td>16.60</td>\n      <td>16.67</td>\n      <td>18.04</td>\n      <td>18.53</td>\n      <td>19.11</td>\n      <td>19.84</td>\n      <td>21.23</td>\n      <td>22.45</td>\n      <td>22.95</td>\n      <td>22.32</td>\n      <td>23.10</td>\n      <td>23.33</td>\n      <td>25.15</td>\n      <td>26.50</td>\n      <td>28.42</td>\n      <td>31.26</td>\n      <td>34.89</td>\n      <td>37.44</td>\n      <td>40.43</td>\n      <td>45.34</td>\n      <td>48.36</td>\n      <td>51.16</td>\n      <td>57.25</td>\n      <td>64.87</td>\n      <td>71.86</td>\n      <td>80.01</td>\n      <td>88.69</td>\n      <td>98.39</td>\n      <td>107.41</td>\n      <td>114.16</td>\n      <td>124.62</td>\n      <td>130.81</td>\n      <td>147.16</td>\n      <td>164.89</td>\n    </tr>\n    <tr>\n      <th>GOOG</th>\n      <td>NaN</td>\n      <td>NaN</td>\n      <td>NaN</td>\n      <td>NaN</td>\n      <td>NaN</td>\n      <td>NaN</td>\n      <td>NaN</td>\n      <td>NaN</td>\n      <td>NaN</td>\n      <td>NaN</td>\n      <td>NaN</td>\n      <td>NaN</td>\n      <td>NaN</td>\n      <td>NaN</td>\n      <td>135.98</td>\n      <td>141.66</td>\n      <td>145.69</td>\n      <td>152.70</td>\n      <td>158.94</td>\n      <td>163.07</td>\n      <td>169.03</td>\n      <td>175.07</td>\n      <td>179.92</td>\n      <td>186.20</td>\n      <td>194.60</td>\n      <td>201.12</td>\n      <td>209.43</td>\n      <td>214.02</td>\n      <td>226.11</td>\n      <td>219.50</td>\n      <td>231.42</td>\n      <td>232.78</td>\n      <td>244.04</td>\n      <td>255.38</td>\n      <td>264.07</td>\n      <td>276.91</td>\n      <td>282.19</td>\n      <td>292.65</td>\n      <td>297.76</td>\n      <td>304.34</td>\n      <td>314.17</td>\n    </tr>\n    <tr>\n      <th>FB</th>\n      <td>NaN</td>\n      <td>NaN</td>\n      <td>NaN</td>\n      <td>NaN</td>\n      <td>NaN</td>\n      <td>NaN</td>\n      <td>NaN</td>\n      <td>6.21</td>\n      <td>6.54</td>\n      <td>4.98</td>\n      <td>4.94</td>\n      <td>5.11</td>\n      <td>5.35</td>\n      <td>6.10</td>\n      <td>6.56</td>\n      <td>7.15</td>\n      <td>8.18</td>\n      <td>12.99</td>\n      <td>13.45</td>\n      <td>14.09</td>\n      <td>14.72</td>\n      <td>15.60</td>\n      <td>16.54</td>\n      <td>17.60</td>\n      <td>18.82</td>\n      <td>20.47</td>\n      <td>21.46</td>\n      <td>22.92</td>\n      <td>24.52</td>\n      <td>25.58</td>\n      <td>26.75</td>\n      <td>27.46</td>\n      <td>27.96</td>\n      <td>29.48</td>\n      <td>30.29</td>\n      <td>31.10</td>\n      <td>32.94</td>\n      <td>35.43</td>\n      <td>36.94</td>\n      <td>38.75</td>\n      <td>41.31</td>\n    </tr>\n  </tbody>\n</table>\n</div>"
     },
     "metadata": {},
     "execution_count": 33
    }
   ],
   "source": [
    "bvps2 = bvps.copy()\n",
    "bvps2 = bvps2.transpose()\n",
    "bvps2.head()"
   ]
  },
  {
   "cell_type": "code",
   "execution_count": 35,
   "metadata": {},
   "outputs": [
    {
     "output_type": "execute_result",
     "data": {
      "text/plain": [
       "      10Y CAGR   5Y CAGR   3Y CAGR   1Y CAGR\n",
       "TSLA  0.438404  0.243859  0.210013  1.329412\n",
       "CRM   0.331323  0.199414  0.291957  0.923217\n",
       "NFLX  0.463197  0.165205  0.249168  0.493614\n",
       "LLY  -0.069780 -0.092312 -0.174171  0.445983\n",
       "AMZN  0.277432  0.200590  0.263726  0.444376"
      ],
      "text/html": "<div>\n<style scoped>\n    .dataframe tbody tr th:only-of-type {\n        vertical-align: middle;\n    }\n\n    .dataframe tbody tr th {\n        vertical-align: top;\n    }\n\n    .dataframe thead th {\n        text-align: right;\n    }\n</style>\n<table border=\"1\" class=\"dataframe\">\n  <thead>\n    <tr style=\"text-align: right;\">\n      <th></th>\n      <th>10Y CAGR</th>\n      <th>5Y CAGR</th>\n      <th>3Y CAGR</th>\n      <th>1Y CAGR</th>\n    </tr>\n  </thead>\n  <tbody>\n    <tr>\n      <th>TSLA</th>\n      <td>0.438404</td>\n      <td>0.243859</td>\n      <td>0.210013</td>\n      <td>1.329412</td>\n    </tr>\n    <tr>\n      <th>CRM</th>\n      <td>0.331323</td>\n      <td>0.199414</td>\n      <td>0.291957</td>\n      <td>0.923217</td>\n    </tr>\n    <tr>\n      <th>NFLX</th>\n      <td>0.463197</td>\n      <td>0.165205</td>\n      <td>0.249168</td>\n      <td>0.493614</td>\n    </tr>\n    <tr>\n      <th>LLY</th>\n      <td>-0.069780</td>\n      <td>-0.092312</td>\n      <td>-0.174171</td>\n      <td>0.445983</td>\n    </tr>\n    <tr>\n      <th>AMZN</th>\n      <td>0.277432</td>\n      <td>0.200590</td>\n      <td>0.263726</td>\n      <td>0.444376</td>\n    </tr>\n  </tbody>\n</table>\n</div>"
     },
     "metadata": {},
     "execution_count": 35
    }
   ],
   "source": [
    "# We creat a new DataFrame beacuse we don't eant to destory the name variable's types.\n",
    "\n",
    "results = pd.DataFrame(data=None,index=bvps2.index)\n",
    "results['10Y CAGR'] = (bvps2['2020-09-30']/bvps2['2010-09-30'])**(1/10)-1\n",
    "results['5Y CAGR'] = (bvps2['2020-09-30']/bvps2['2015-09-30'])**(1/10)-1\n",
    "results['3Y CAGR'] = (bvps2['2020-09-30']/bvps2['2017-09-30'])**(2/10)-1\n",
    "results['1Y CAGR'] = (bvps2['2020-09-30']/bvps2['2019-09-30'])-1\n",
    "results = results.sort_values('1Y CAGR',ascending=False)\n",
    "results.to_csv('Results/bvps.csv')\n",
    "results.head()"
   ]
  },
  {
   "source": [
    "### Free Cash Flow (FCF)\n",
    "* Free cash flow (FCF) represents the cash available for the company to repay creditors or pay dividends and interest to investors.\n",
    "* What is left for dividend or working capital.\n",
    "* What is left to growth the company. We looking for growth.\n",
    "* FCF reconciles net income by adjusting for non-cash expenses, changes in working capital, and capital expenditures (CAPEX).\n",
    "* However, as a supplemental tool for analysis, FCF can reveal problems in the fundamentals before they arise on the income statement."
   ],
   "cell_type": "markdown",
   "metadata": {}
  },
  {
   "cell_type": "code",
   "execution_count": 36,
   "metadata": {},
   "outputs": [
    {
     "output_type": "execute_result",
     "data": {
      "text/plain": [
       "        AAPL     MSFT    AMZN     GOOG     FB   TSLA    BRK.A       V  \\\n",
       "2005  2275.0  15793.0   529.0  1621.21    NaN    NaN   7251.0  361.36   \n",
       "2006  1563.0  12826.0   486.0  1677.71    NaN    NaN   5624.0  348.00   \n",
       "2007  4735.0  15532.0  1181.0  3372.57    NaN    NaN   7177.0  345.00   \n",
       "2008  8505.0  18430.0  1364.0  5494.00    NaN -63.04   5114.0  120.00   \n",
       "2009  9015.0  15918.0  2920.0  8506.00  122.0 -92.71  10909.0  252.00   \n",
       "\n",
       "          JNJ      WMT       JPM       MA       PG     UNH     DIS     NVDA  \\\n",
       "2005   9321.0   3166.0  -30236.0   190.85   7015.0  3574.0  2326.0    64.94   \n",
       "2006  12093.0   4753.0  -49579.0   555.69   9590.0  5850.0  4668.0   366.81   \n",
       "2007  12537.0   4963.0 -110560.0   613.44  10746.0  5006.0  3832.0   441.86   \n",
       "2008  12691.0   6662.0   52780.0   242.00  12890.0  3632.0  4123.0  1082.45   \n",
       "2009  14360.0  12362.0  122797.0  1238.00  12768.0  4886.0  3566.0  -158.31   \n",
       "\n",
       "          HD  PYPL       BAC       VZ     ADBE   CMCSA    NFLX      KO  \\\n",
       "2005  2780.0   NaN  -13451.0   7061.0   709.51  1214.0  129.85  5612.0   \n",
       "2006  2903.0   NaN   13761.0   7005.0   816.70  2223.0  220.86  5190.0   \n",
       "2007  4257.0   NaN    8893.0   9301.0  1308.98  2031.0  233.17  5741.0   \n",
       "2008  2487.0   NaN    1936.0  10319.0  1168.89  4481.0  240.25  5732.0   \n",
       "2009  3828.0   NaN  127491.0  14518.0   998.20  5164.0  279.13  6297.0   \n",
       "\n",
       "         NKE     MRK     PEP        T      PFE    INTC     CRM      ABT  \\\n",
       "2005  1320.8  6205.8  4204.0   7398.0  12627.0  8980.0   51.56  3839.91   \n",
       "2006  1335.8  5785.0  4065.0   7368.0  15544.0  4772.0   72.46  3924.27   \n",
       "2007  1593.5  5988.2  4551.0  16525.0  11473.0  7625.0   89.10  3527.64   \n",
       "2008  1489.0  5274.0  4651.0  13979.0  16537.0  5729.0  160.72  5706.90   \n",
       "2009  1313.0  1931.0  4726.0  17851.0  15382.0  6655.0  168.50  6186.11   \n",
       "\n",
       "        ORCL     ABBV     CSCO     TMO   AVGO      XOM      ACN    QCOM  \\\n",
       "2005  3364.0      NaN   6876.0   243.5    NaN  34299.0  1575.63  2110.0   \n",
       "2006  4445.0      NaN   7127.0   334.7    NaN  33824.0  2375.77  2568.0   \n",
       "2007  5203.0      NaN   8853.0  1327.2  109.0  36615.0  2280.74  2993.0   \n",
       "2008  7312.0      NaN  10821.0  1171.2  148.0  40407.0  2493.72  2161.0   \n",
       "2009  7726.0  5054.77   8892.0  1472.6   82.0   5947.0  2921.41  6411.0   \n",
       "\n",
       "        COST      CVX     LLY     MCD      DHR     MDT     NEE     TXN  \\\n",
       "2005  799.96  11404.0   626.6  2730.0  1102.85  2372.0  -930.0  2362.0   \n",
       "2006  630.46  10510.0  2963.3  2599.6  1420.83  1813.0 -1221.0  4184.0   \n",
       "2007  715.00   8299.0  4104.4  2929.7  1499.24  2406.0  -726.0  3782.0   \n",
       "2008  655.00   9966.0  6374.1  3781.5  1666.33  2976.0 -1833.0  2567.0   \n",
       "2009  849.00   -470.0  3588.2  3798.9  1630.41  3380.0 -1543.0  1890.0   \n",
       "\n",
       "         HON     UPS  \n",
       "2005  1829.0  3633.0  \n",
       "2006  2565.0  2579.0  \n",
       "2007  3242.0 -1612.0  \n",
       "2008  2960.0  5937.0  \n",
       "2009  3368.0  3743.0  "
      ],
      "text/html": "<div>\n<style scoped>\n    .dataframe tbody tr th:only-of-type {\n        vertical-align: middle;\n    }\n\n    .dataframe tbody tr th {\n        vertical-align: top;\n    }\n\n    .dataframe thead th {\n        text-align: right;\n    }\n</style>\n<table border=\"1\" class=\"dataframe\">\n  <thead>\n    <tr style=\"text-align: right;\">\n      <th></th>\n      <th>AAPL</th>\n      <th>MSFT</th>\n      <th>AMZN</th>\n      <th>GOOG</th>\n      <th>FB</th>\n      <th>TSLA</th>\n      <th>BRK.A</th>\n      <th>V</th>\n      <th>JNJ</th>\n      <th>WMT</th>\n      <th>JPM</th>\n      <th>MA</th>\n      <th>PG</th>\n      <th>UNH</th>\n      <th>DIS</th>\n      <th>NVDA</th>\n      <th>HD</th>\n      <th>PYPL</th>\n      <th>BAC</th>\n      <th>VZ</th>\n      <th>ADBE</th>\n      <th>CMCSA</th>\n      <th>NFLX</th>\n      <th>KO</th>\n      <th>NKE</th>\n      <th>MRK</th>\n      <th>PEP</th>\n      <th>T</th>\n      <th>PFE</th>\n      <th>INTC</th>\n      <th>CRM</th>\n      <th>ABT</th>\n      <th>ORCL</th>\n      <th>ABBV</th>\n      <th>CSCO</th>\n      <th>TMO</th>\n      <th>AVGO</th>\n      <th>XOM</th>\n      <th>ACN</th>\n      <th>QCOM</th>\n      <th>COST</th>\n      <th>CVX</th>\n      <th>LLY</th>\n      <th>MCD</th>\n      <th>DHR</th>\n      <th>MDT</th>\n      <th>NEE</th>\n      <th>TXN</th>\n      <th>HON</th>\n      <th>UPS</th>\n    </tr>\n  </thead>\n  <tbody>\n    <tr>\n      <th>2005</th>\n      <td>2275.0</td>\n      <td>15793.0</td>\n      <td>529.0</td>\n      <td>1621.21</td>\n      <td>NaN</td>\n      <td>NaN</td>\n      <td>7251.0</td>\n      <td>361.36</td>\n      <td>9321.0</td>\n      <td>3166.0</td>\n      <td>-30236.0</td>\n      <td>190.85</td>\n      <td>7015.0</td>\n      <td>3574.0</td>\n      <td>2326.0</td>\n      <td>64.94</td>\n      <td>2780.0</td>\n      <td>NaN</td>\n      <td>-13451.0</td>\n      <td>7061.0</td>\n      <td>709.51</td>\n      <td>1214.0</td>\n      <td>129.85</td>\n      <td>5612.0</td>\n      <td>1320.8</td>\n      <td>6205.8</td>\n      <td>4204.0</td>\n      <td>7398.0</td>\n      <td>12627.0</td>\n      <td>8980.0</td>\n      <td>51.56</td>\n      <td>3839.91</td>\n      <td>3364.0</td>\n      <td>NaN</td>\n      <td>6876.0</td>\n      <td>243.5</td>\n      <td>NaN</td>\n      <td>34299.0</td>\n      <td>1575.63</td>\n      <td>2110.0</td>\n      <td>799.96</td>\n      <td>11404.0</td>\n      <td>626.6</td>\n      <td>2730.0</td>\n      <td>1102.85</td>\n      <td>2372.0</td>\n      <td>-930.0</td>\n      <td>2362.0</td>\n      <td>1829.0</td>\n      <td>3633.0</td>\n    </tr>\n    <tr>\n      <th>2006</th>\n      <td>1563.0</td>\n      <td>12826.0</td>\n      <td>486.0</td>\n      <td>1677.71</td>\n      <td>NaN</td>\n      <td>NaN</td>\n      <td>5624.0</td>\n      <td>348.00</td>\n      <td>12093.0</td>\n      <td>4753.0</td>\n      <td>-49579.0</td>\n      <td>555.69</td>\n      <td>9590.0</td>\n      <td>5850.0</td>\n      <td>4668.0</td>\n      <td>366.81</td>\n      <td>2903.0</td>\n      <td>NaN</td>\n      <td>13761.0</td>\n      <td>7005.0</td>\n      <td>816.70</td>\n      <td>2223.0</td>\n      <td>220.86</td>\n      <td>5190.0</td>\n      <td>1335.8</td>\n      <td>5785.0</td>\n      <td>4065.0</td>\n      <td>7368.0</td>\n      <td>15544.0</td>\n      <td>4772.0</td>\n      <td>72.46</td>\n      <td>3924.27</td>\n      <td>4445.0</td>\n      <td>NaN</td>\n      <td>7127.0</td>\n      <td>334.7</td>\n      <td>NaN</td>\n      <td>33824.0</td>\n      <td>2375.77</td>\n      <td>2568.0</td>\n      <td>630.46</td>\n      <td>10510.0</td>\n      <td>2963.3</td>\n      <td>2599.6</td>\n      <td>1420.83</td>\n      <td>1813.0</td>\n      <td>-1221.0</td>\n      <td>4184.0</td>\n      <td>2565.0</td>\n      <td>2579.0</td>\n    </tr>\n    <tr>\n      <th>2007</th>\n      <td>4735.0</td>\n      <td>15532.0</td>\n      <td>1181.0</td>\n      <td>3372.57</td>\n      <td>NaN</td>\n      <td>NaN</td>\n      <td>7177.0</td>\n      <td>345.00</td>\n      <td>12537.0</td>\n      <td>4963.0</td>\n      <td>-110560.0</td>\n      <td>613.44</td>\n      <td>10746.0</td>\n      <td>5006.0</td>\n      <td>3832.0</td>\n      <td>441.86</td>\n      <td>4257.0</td>\n      <td>NaN</td>\n      <td>8893.0</td>\n      <td>9301.0</td>\n      <td>1308.98</td>\n      <td>2031.0</td>\n      <td>233.17</td>\n      <td>5741.0</td>\n      <td>1593.5</td>\n      <td>5988.2</td>\n      <td>4551.0</td>\n      <td>16525.0</td>\n      <td>11473.0</td>\n      <td>7625.0</td>\n      <td>89.10</td>\n      <td>3527.64</td>\n      <td>5203.0</td>\n      <td>NaN</td>\n      <td>8853.0</td>\n      <td>1327.2</td>\n      <td>109.0</td>\n      <td>36615.0</td>\n      <td>2280.74</td>\n      <td>2993.0</td>\n      <td>715.00</td>\n      <td>8299.0</td>\n      <td>4104.4</td>\n      <td>2929.7</td>\n      <td>1499.24</td>\n      <td>2406.0</td>\n      <td>-726.0</td>\n      <td>3782.0</td>\n      <td>3242.0</td>\n      <td>-1612.0</td>\n    </tr>\n    <tr>\n      <th>2008</th>\n      <td>8505.0</td>\n      <td>18430.0</td>\n      <td>1364.0</td>\n      <td>5494.00</td>\n      <td>NaN</td>\n      <td>-63.04</td>\n      <td>5114.0</td>\n      <td>120.00</td>\n      <td>12691.0</td>\n      <td>6662.0</td>\n      <td>52780.0</td>\n      <td>242.00</td>\n      <td>12890.0</td>\n      <td>3632.0</td>\n      <td>4123.0</td>\n      <td>1082.45</td>\n      <td>2487.0</td>\n      <td>NaN</td>\n      <td>1936.0</td>\n      <td>10319.0</td>\n      <td>1168.89</td>\n      <td>4481.0</td>\n      <td>240.25</td>\n      <td>5732.0</td>\n      <td>1489.0</td>\n      <td>5274.0</td>\n      <td>4651.0</td>\n      <td>13979.0</td>\n      <td>16537.0</td>\n      <td>5729.0</td>\n      <td>160.72</td>\n      <td>5706.90</td>\n      <td>7312.0</td>\n      <td>NaN</td>\n      <td>10821.0</td>\n      <td>1171.2</td>\n      <td>148.0</td>\n      <td>40407.0</td>\n      <td>2493.72</td>\n      <td>2161.0</td>\n      <td>655.00</td>\n      <td>9966.0</td>\n      <td>6374.1</td>\n      <td>3781.5</td>\n      <td>1666.33</td>\n      <td>2976.0</td>\n      <td>-1833.0</td>\n      <td>2567.0</td>\n      <td>2960.0</td>\n      <td>5937.0</td>\n    </tr>\n    <tr>\n      <th>2009</th>\n      <td>9015.0</td>\n      <td>15918.0</td>\n      <td>2920.0</td>\n      <td>8506.00</td>\n      <td>122.0</td>\n      <td>-92.71</td>\n      <td>10909.0</td>\n      <td>252.00</td>\n      <td>14360.0</td>\n      <td>12362.0</td>\n      <td>122797.0</td>\n      <td>1238.00</td>\n      <td>12768.0</td>\n      <td>4886.0</td>\n      <td>3566.0</td>\n      <td>-158.31</td>\n      <td>3828.0</td>\n      <td>NaN</td>\n      <td>127491.0</td>\n      <td>14518.0</td>\n      <td>998.20</td>\n      <td>5164.0</td>\n      <td>279.13</td>\n      <td>6297.0</td>\n      <td>1313.0</td>\n      <td>1931.0</td>\n      <td>4726.0</td>\n      <td>17851.0</td>\n      <td>15382.0</td>\n      <td>6655.0</td>\n      <td>168.50</td>\n      <td>6186.11</td>\n      <td>7726.0</td>\n      <td>5054.77</td>\n      <td>8892.0</td>\n      <td>1472.6</td>\n      <td>82.0</td>\n      <td>5947.0</td>\n      <td>2921.41</td>\n      <td>6411.0</td>\n      <td>849.00</td>\n      <td>-470.0</td>\n      <td>3588.2</td>\n      <td>3798.9</td>\n      <td>1630.41</td>\n      <td>3380.0</td>\n      <td>-1543.0</td>\n      <td>1890.0</td>\n      <td>3368.0</td>\n      <td>3743.0</td>\n    </tr>\n  </tbody>\n</table>\n</div>"
     },
     "metadata": {},
     "execution_count": 36
    }
   ],
   "source": [
    "fcf=pd.read_csv('PyFinance/04 - Intrinsic Value/50-fcf.csv',index_col=0)\n",
    "fcf.head()"
   ]
  },
  {
   "source": [
    "fcf=fcf.loc[2009:2019]\n",
    "fcf=fcf.transpose()\n",
    "fcf.head()"
   ],
   "cell_type": "code",
   "metadata": {},
   "execution_count": 37,
   "outputs": [
    {
     "output_type": "execute_result",
     "data": {
      "text/plain": [
       "         2009     2010     2011     2012     2013     2014     2015     2016  \\\n",
       "AAPL   9015.0  16590.0  33269.0  42561.0  45501.0  50142.0  70019.0  53497.0   \n",
       "MSFT  15918.0  22096.0  24639.0  29321.0  24576.0  27017.0  23724.0  24982.0   \n",
       "AMZN   2920.0   2516.0   2092.0    395.0   2031.0   1949.0   7450.0  10466.0   \n",
       "GOOG   8506.0   7063.0  11127.0  13346.0  11301.0  12065.0  16657.0  26064.0   \n",
       "FB      122.0    405.0    943.0    377.0   2860.0   5495.0   7797.0  11617.0   \n",
       "\n",
       "         2017     2018     2019  \n",
       "AAPL  51774.0  64121.0  58896.0  \n",
       "MSFT  31378.0  32252.0  38260.0  \n",
       "AMZN   8307.0  19400.0  25825.0  \n",
       "GOOG  23907.0  22832.0  30972.0  \n",
       "FB    17483.0  15359.0  21212.0  "
      ],
      "text/html": "<div>\n<style scoped>\n    .dataframe tbody tr th:only-of-type {\n        vertical-align: middle;\n    }\n\n    .dataframe tbody tr th {\n        vertical-align: top;\n    }\n\n    .dataframe thead th {\n        text-align: right;\n    }\n</style>\n<table border=\"1\" class=\"dataframe\">\n  <thead>\n    <tr style=\"text-align: right;\">\n      <th></th>\n      <th>2009</th>\n      <th>2010</th>\n      <th>2011</th>\n      <th>2012</th>\n      <th>2013</th>\n      <th>2014</th>\n      <th>2015</th>\n      <th>2016</th>\n      <th>2017</th>\n      <th>2018</th>\n      <th>2019</th>\n    </tr>\n  </thead>\n  <tbody>\n    <tr>\n      <th>AAPL</th>\n      <td>9015.0</td>\n      <td>16590.0</td>\n      <td>33269.0</td>\n      <td>42561.0</td>\n      <td>45501.0</td>\n      <td>50142.0</td>\n      <td>70019.0</td>\n      <td>53497.0</td>\n      <td>51774.0</td>\n      <td>64121.0</td>\n      <td>58896.0</td>\n    </tr>\n    <tr>\n      <th>MSFT</th>\n      <td>15918.0</td>\n      <td>22096.0</td>\n      <td>24639.0</td>\n      <td>29321.0</td>\n      <td>24576.0</td>\n      <td>27017.0</td>\n      <td>23724.0</td>\n      <td>24982.0</td>\n      <td>31378.0</td>\n      <td>32252.0</td>\n      <td>38260.0</td>\n    </tr>\n    <tr>\n      <th>AMZN</th>\n      <td>2920.0</td>\n      <td>2516.0</td>\n      <td>2092.0</td>\n      <td>395.0</td>\n      <td>2031.0</td>\n      <td>1949.0</td>\n      <td>7450.0</td>\n      <td>10466.0</td>\n      <td>8307.0</td>\n      <td>19400.0</td>\n      <td>25825.0</td>\n    </tr>\n    <tr>\n      <th>GOOG</th>\n      <td>8506.0</td>\n      <td>7063.0</td>\n      <td>11127.0</td>\n      <td>13346.0</td>\n      <td>11301.0</td>\n      <td>12065.0</td>\n      <td>16657.0</td>\n      <td>26064.0</td>\n      <td>23907.0</td>\n      <td>22832.0</td>\n      <td>30972.0</td>\n    </tr>\n    <tr>\n      <th>FB</th>\n      <td>122.0</td>\n      <td>405.0</td>\n      <td>943.0</td>\n      <td>377.0</td>\n      <td>2860.0</td>\n      <td>5495.0</td>\n      <td>7797.0</td>\n      <td>11617.0</td>\n      <td>17483.0</td>\n      <td>15359.0</td>\n      <td>21212.0</td>\n    </tr>\n  </tbody>\n</table>\n</div>"
     },
     "metadata": {},
     "execution_count": 37
    }
   ]
  },
  {
   "cell_type": "code",
   "execution_count": 38,
   "metadata": {},
   "outputs": [
    {
     "output_type": "execute_result",
     "data": {
      "text/plain": [
       "         2009     2010     2011     2012     2013     2014     2015     2016  \\\n",
       "AAPL   9015.0  16590.0  33269.0  42561.0  45501.0  50142.0  70019.0  53497.0   \n",
       "MSFT  15918.0  22096.0  24639.0  29321.0  24576.0  27017.0  23724.0  24982.0   \n",
       "AMZN   2920.0   2516.0   2092.0    395.0   2031.0   1949.0   7450.0  10466.0   \n",
       "GOOG   8506.0   7063.0  11127.0  13346.0  11301.0  12065.0  16657.0  26064.0   \n",
       "FB      122.0    405.0    943.0    377.0   2860.0   5495.0   7797.0  11617.0   \n",
       "\n",
       "         2017     2018     2019  10Y CAGR   5Y CAGR   3Y CAGR   1Y CAGR  \n",
       "AAPL  51774.0  64121.0  58896.0  0.206457  0.032706  0.032568 -0.081487  \n",
       "MSFT  31378.0  32252.0  38260.0  0.091656  0.072066  0.152672  0.186283  \n",
       "AMZN   8307.0  19400.0  25825.0  0.243557  0.676663  0.351304  0.331186  \n",
       "GOOG  23907.0  22832.0  30972.0  0.137953  0.207503  0.059195  0.356517  \n",
       "FB    17483.0  15359.0  21212.0  0.675028  0.310155  0.222257  0.381079  "
      ],
      "text/html": "<div>\n<style scoped>\n    .dataframe tbody tr th:only-of-type {\n        vertical-align: middle;\n    }\n\n    .dataframe tbody tr th {\n        vertical-align: top;\n    }\n\n    .dataframe thead th {\n        text-align: right;\n    }\n</style>\n<table border=\"1\" class=\"dataframe\">\n  <thead>\n    <tr style=\"text-align: right;\">\n      <th></th>\n      <th>2009</th>\n      <th>2010</th>\n      <th>2011</th>\n      <th>2012</th>\n      <th>2013</th>\n      <th>2014</th>\n      <th>2015</th>\n      <th>2016</th>\n      <th>2017</th>\n      <th>2018</th>\n      <th>2019</th>\n      <th>10Y CAGR</th>\n      <th>5Y CAGR</th>\n      <th>3Y CAGR</th>\n      <th>1Y CAGR</th>\n    </tr>\n  </thead>\n  <tbody>\n    <tr>\n      <th>AAPL</th>\n      <td>9015.0</td>\n      <td>16590.0</td>\n      <td>33269.0</td>\n      <td>42561.0</td>\n      <td>45501.0</td>\n      <td>50142.0</td>\n      <td>70019.0</td>\n      <td>53497.0</td>\n      <td>51774.0</td>\n      <td>64121.0</td>\n      <td>58896.0</td>\n      <td>0.206457</td>\n      <td>0.032706</td>\n      <td>0.032568</td>\n      <td>-0.081487</td>\n    </tr>\n    <tr>\n      <th>MSFT</th>\n      <td>15918.0</td>\n      <td>22096.0</td>\n      <td>24639.0</td>\n      <td>29321.0</td>\n      <td>24576.0</td>\n      <td>27017.0</td>\n      <td>23724.0</td>\n      <td>24982.0</td>\n      <td>31378.0</td>\n      <td>32252.0</td>\n      <td>38260.0</td>\n      <td>0.091656</td>\n      <td>0.072066</td>\n      <td>0.152672</td>\n      <td>0.186283</td>\n    </tr>\n    <tr>\n      <th>AMZN</th>\n      <td>2920.0</td>\n      <td>2516.0</td>\n      <td>2092.0</td>\n      <td>395.0</td>\n      <td>2031.0</td>\n      <td>1949.0</td>\n      <td>7450.0</td>\n      <td>10466.0</td>\n      <td>8307.0</td>\n      <td>19400.0</td>\n      <td>25825.0</td>\n      <td>0.243557</td>\n      <td>0.676663</td>\n      <td>0.351304</td>\n      <td>0.331186</td>\n    </tr>\n    <tr>\n      <th>GOOG</th>\n      <td>8506.0</td>\n      <td>7063.0</td>\n      <td>11127.0</td>\n      <td>13346.0</td>\n      <td>11301.0</td>\n      <td>12065.0</td>\n      <td>16657.0</td>\n      <td>26064.0</td>\n      <td>23907.0</td>\n      <td>22832.0</td>\n      <td>30972.0</td>\n      <td>0.137953</td>\n      <td>0.207503</td>\n      <td>0.059195</td>\n      <td>0.356517</td>\n    </tr>\n    <tr>\n      <th>FB</th>\n      <td>122.0</td>\n      <td>405.0</td>\n      <td>943.0</td>\n      <td>377.0</td>\n      <td>2860.0</td>\n      <td>5495.0</td>\n      <td>7797.0</td>\n      <td>11617.0</td>\n      <td>17483.0</td>\n      <td>15359.0</td>\n      <td>21212.0</td>\n      <td>0.675028</td>\n      <td>0.310155</td>\n      <td>0.222257</td>\n      <td>0.381079</td>\n    </tr>\n  </tbody>\n</table>\n</div>"
     },
     "metadata": {},
     "execution_count": 38
    }
   ],
   "source": [
    "fcf['10Y CAGR'] = (fcf[2019]/fcf[2009])**(1/10) -1\n",
    "fcf['5Y CAGR'] = (fcf[2019]/fcf[2014])**(1/5) -1\n",
    "fcf['3Y CAGR'] = (fcf[2019]/fcf[2016])**(1/3) -1\n",
    "fcf['1Y CAGR'] = (fcf[2019]/fcf[2018])**(1/1) -1\n",
    "fcf.head()"
   ]
  },
  {
   "cell_type": "code",
   "execution_count": 39,
   "metadata": {},
   "outputs": [
    {
     "output_type": "execute_result",
     "data": {
      "text/plain": [
       "      10Y CAGR   5Y CAGR   3Y CAGR   1Y CAGR\n",
       "MDT   0.056804  0.051773  0.120741  0.624170\n",
       "BAC  -0.069889  0.149395  0.529160  0.563183\n",
       "KO    0.040822  0.021864  0.120401  0.484906\n",
       "FB    0.675028  0.310155  0.222257  0.381079\n",
       "GOOG  0.137953  0.207503  0.059195  0.356517"
      ],
      "text/html": "<div>\n<style scoped>\n    .dataframe tbody tr th:only-of-type {\n        vertical-align: middle;\n    }\n\n    .dataframe tbody tr th {\n        vertical-align: top;\n    }\n\n    .dataframe thead th {\n        text-align: right;\n    }\n</style>\n<table border=\"1\" class=\"dataframe\">\n  <thead>\n    <tr style=\"text-align: right;\">\n      <th></th>\n      <th>10Y CAGR</th>\n      <th>5Y CAGR</th>\n      <th>3Y CAGR</th>\n      <th>1Y CAGR</th>\n    </tr>\n  </thead>\n  <tbody>\n    <tr>\n      <th>MDT</th>\n      <td>0.056804</td>\n      <td>0.051773</td>\n      <td>0.120741</td>\n      <td>0.624170</td>\n    </tr>\n    <tr>\n      <th>BAC</th>\n      <td>-0.069889</td>\n      <td>0.149395</td>\n      <td>0.529160</td>\n      <td>0.563183</td>\n    </tr>\n    <tr>\n      <th>KO</th>\n      <td>0.040822</td>\n      <td>0.021864</td>\n      <td>0.120401</td>\n      <td>0.484906</td>\n    </tr>\n    <tr>\n      <th>FB</th>\n      <td>0.675028</td>\n      <td>0.310155</td>\n      <td>0.222257</td>\n      <td>0.381079</td>\n    </tr>\n    <tr>\n      <th>GOOG</th>\n      <td>0.137953</td>\n      <td>0.207503</td>\n      <td>0.059195</td>\n      <td>0.356517</td>\n    </tr>\n  </tbody>\n</table>\n</div>"
     },
     "metadata": {},
     "execution_count": 39
    }
   ],
   "source": [
    "data =fcf[['10Y CAGR','5Y CAGR','3Y CAGR','1Y CAGR']]\n",
    "data = data.sort_values('1Y CAGR',ascending=False)\n",
    "data.to_csv('Results/fcf.csv')\n",
    "data.head()"
   ]
  },
  {
   "cell_type": "code",
   "execution_count": null,
   "metadata": {},
   "outputs": [],
   "source": []
  }
 ]
}