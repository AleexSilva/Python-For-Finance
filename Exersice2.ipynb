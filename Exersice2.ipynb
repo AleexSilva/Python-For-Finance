{
 "metadata": {
  "language_info": {
   "codemirror_mode": {
    "name": "ipython",
    "version": 3
   },
   "file_extension": ".py",
   "mimetype": "text/x-python",
   "name": "python",
   "nbconvert_exporter": "python",
   "pygments_lexer": "ipython3",
   "version": "3.8.2"
  },
  "orig_nbformat": 2,
  "kernelspec": {
   "name": "python382jvsc74a57bd049fdda9a8f1b43ecf94cbf6adfec0c9149aed4e40f425dad389976f3db3c5b4b",
   "display_name": "Python 3.8.2 64-bit"
  }
 },
 "nbformat": 4,
 "nbformat_minor": 2,
 "cells": [
  {
   "cell_type": "code",
   "execution_count": 1,
   "metadata": {},
   "outputs": [],
   "source": [
    "import pandas as pd"
   ]
  },
  {
   "cell_type": "code",
   "execution_count": 21,
   "metadata": {},
   "outputs": [
    {
     "output_type": "execute_result",
     "data": {
      "text/plain": [
       "                                      2000      2001      2002      2003  \\\n",
       "Country (or dependent territory)                                           \n",
       "Afghanistan                            NaN       NaN   18768.0   20806.0   \n",
       "Albania                            12857.0   14241.0   15116.0   16269.0   \n",
       "Algeria                           251580.0  265033.0  284171.0  310706.0   \n",
       "Angola                             37442.0   39906.0   46056.0   49439.0   \n",
       "Antigua and Barbuda                 1305.0    1247.0    1271.0    1374.0   \n",
       "\n",
       "                                      2004      2005      2006      2007  \\\n",
       "Country (or dependent territory)                                           \n",
       "Afghanistan                        21522.0   24842.0   26978.0   31390.0   \n",
       "Albania                            17639.0   19212.0   20971.0   22818.0   \n",
       "Algeria                           332978.0  363968.0  381471.0  404831.0   \n",
       "Angola                             56326.0   68755.0   85562.0  107684.0   \n",
       "Antigua and Barbuda                 1463.0    1623.0    1875.0    2055.0   \n",
       "\n",
       "                                      2008      2009  \n",
       "Country (or dependent territory)                      \n",
       "Afghanistan                        33242.0   40390.0  \n",
       "Albania                            25010.0   26045.0  \n",
       "Algeria                           422514.0  432672.0  \n",
       "Angola                            124967.0  128954.0  \n",
       "Antigua and Barbuda                 2128.0    1914.0  "
      ],
      "text/html": "<div>\n<style scoped>\n    .dataframe tbody tr th:only-of-type {\n        vertical-align: middle;\n    }\n\n    .dataframe tbody tr th {\n        vertical-align: top;\n    }\n\n    .dataframe thead th {\n        text-align: right;\n    }\n</style>\n<table border=\"1\" class=\"dataframe\">\n  <thead>\n    <tr style=\"text-align: right;\">\n      <th></th>\n      <th>2000</th>\n      <th>2001</th>\n      <th>2002</th>\n      <th>2003</th>\n      <th>2004</th>\n      <th>2005</th>\n      <th>2006</th>\n      <th>2007</th>\n      <th>2008</th>\n      <th>2009</th>\n    </tr>\n    <tr>\n      <th>Country (or dependent territory)</th>\n      <th></th>\n      <th></th>\n      <th></th>\n      <th></th>\n      <th></th>\n      <th></th>\n      <th></th>\n      <th></th>\n      <th></th>\n      <th></th>\n    </tr>\n  </thead>\n  <tbody>\n    <tr>\n      <th>Afghanistan</th>\n      <td>NaN</td>\n      <td>NaN</td>\n      <td>18768.0</td>\n      <td>20806.0</td>\n      <td>21522.0</td>\n      <td>24842.0</td>\n      <td>26978.0</td>\n      <td>31390.0</td>\n      <td>33242.0</td>\n      <td>40390.0</td>\n    </tr>\n    <tr>\n      <th>Albania</th>\n      <td>12857.0</td>\n      <td>14241.0</td>\n      <td>15116.0</td>\n      <td>16269.0</td>\n      <td>17639.0</td>\n      <td>19212.0</td>\n      <td>20971.0</td>\n      <td>22818.0</td>\n      <td>25010.0</td>\n      <td>26045.0</td>\n    </tr>\n    <tr>\n      <th>Algeria</th>\n      <td>251580.0</td>\n      <td>265033.0</td>\n      <td>284171.0</td>\n      <td>310706.0</td>\n      <td>332978.0</td>\n      <td>363968.0</td>\n      <td>381471.0</td>\n      <td>404831.0</td>\n      <td>422514.0</td>\n      <td>432672.0</td>\n    </tr>\n    <tr>\n      <th>Angola</th>\n      <td>37442.0</td>\n      <td>39906.0</td>\n      <td>46056.0</td>\n      <td>49439.0</td>\n      <td>56326.0</td>\n      <td>68755.0</td>\n      <td>85562.0</td>\n      <td>107684.0</td>\n      <td>124967.0</td>\n      <td>128954.0</td>\n    </tr>\n    <tr>\n      <th>Antigua and Barbuda</th>\n      <td>1305.0</td>\n      <td>1247.0</td>\n      <td>1271.0</td>\n      <td>1374.0</td>\n      <td>1463.0</td>\n      <td>1623.0</td>\n      <td>1875.0</td>\n      <td>2055.0</td>\n      <td>2128.0</td>\n      <td>1914.0</td>\n    </tr>\n  </tbody>\n</table>\n</div>"
     },
     "metadata": {},
     "execution_count": 21
    }
   ],
   "source": [
    "gdp00 = pd.read_csv('PyFinance/03 - Pandas/gdp-00s.csv',index_col=0)\n",
    "gdp00.head()"
   ]
  },
  {
   "cell_type": "code",
   "execution_count": 22,
   "metadata": {},
   "outputs": [
    {
     "output_type": "execute_result",
     "data": {
      "text/plain": [
       "                         2000      2001      2002      2003      2004  \\\n",
       "Albania               12857.0   14241.0   15116.0   16269.0   17639.0   \n",
       "Algeria              251580.0  265033.0  284171.0  310706.0  332978.0   \n",
       "Angola                37442.0   39906.0   46056.0   49439.0   56326.0   \n",
       "Antigua and Barbuda    1305.0    1247.0    1271.0    1374.0    1463.0   \n",
       "Argentina            437650.0  427890.0  387126.0  429738.0  481426.0   \n",
       "\n",
       "                         2005      2006      2007      2008      2009  ...  \\\n",
       "Albania               19212.0   20971.0   22818.0   25010.0   26045.0  ...   \n",
       "Algeria              363968.0  381471.0  404831.0  422514.0  432672.0  ...   \n",
       "Angola                68755.0   85562.0  107684.0  124967.0  128954.0  ...   \n",
       "Antigua and Barbuda    1623.0    1875.0    2055.0    2128.0    1914.0  ...   \n",
       "Argentina            540900.0  602385.0  674119.0  715230.0  678009.0  ...   \n",
       "\n",
       "                         2011      2012      2013      2014      2015  \\\n",
       "Albania               29655.0   30530.0   30604.0   32529.0   33595.0   \n",
       "Algeria              494947.0  497330.0  497988.0  506135.0  477358.0   \n",
       "Angola               162539.0  186124.0  199866.0  220365.0  204604.0   \n",
       "Antigua and Barbuda    1816.0    1772.0    1720.0    1762.0    1770.0   \n",
       "Argentina            797264.0  819698.0  849616.0  839897.0  867177.0   \n",
       "\n",
       "                         2016       2017       2018       2019       20y-pct  \n",
       "Albania               34736.0    37609.0    40080.0    41709.0  5.799866e+05  \n",
       "Algeria              471382.0   478071.0   496403.0   509307.0  9.145625e+06  \n",
       "Angola               204875.0   217987.0   220542.0   222459.0  2.999116e+06  \n",
       "Antigua and Barbuda    1883.0     1893.0     2073.0     2181.0  3.826652e+04  \n",
       "Argentina            885228.0  1039331.0  1036982.0  1033456.0  1.563982e+07  \n",
       "\n",
       "[5 rows x 21 columns]"
      ],
      "text/html": "<div>\n<style scoped>\n    .dataframe tbody tr th:only-of-type {\n        vertical-align: middle;\n    }\n\n    .dataframe tbody tr th {\n        vertical-align: top;\n    }\n\n    .dataframe thead th {\n        text-align: right;\n    }\n</style>\n<table border=\"1\" class=\"dataframe\">\n  <thead>\n    <tr style=\"text-align: right;\">\n      <th></th>\n      <th>2000</th>\n      <th>2001</th>\n      <th>2002</th>\n      <th>2003</th>\n      <th>2004</th>\n      <th>2005</th>\n      <th>2006</th>\n      <th>2007</th>\n      <th>2008</th>\n      <th>2009</th>\n      <th>...</th>\n      <th>2011</th>\n      <th>2012</th>\n      <th>2013</th>\n      <th>2014</th>\n      <th>2015</th>\n      <th>2016</th>\n      <th>2017</th>\n      <th>2018</th>\n      <th>2019</th>\n      <th>20y-pct</th>\n    </tr>\n  </thead>\n  <tbody>\n    <tr>\n      <th>Albania</th>\n      <td>12857.0</td>\n      <td>14241.0</td>\n      <td>15116.0</td>\n      <td>16269.0</td>\n      <td>17639.0</td>\n      <td>19212.0</td>\n      <td>20971.0</td>\n      <td>22818.0</td>\n      <td>25010.0</td>\n      <td>26045.0</td>\n      <td>...</td>\n      <td>29655.0</td>\n      <td>30530.0</td>\n      <td>30604.0</td>\n      <td>32529.0</td>\n      <td>33595.0</td>\n      <td>34736.0</td>\n      <td>37609.0</td>\n      <td>40080.0</td>\n      <td>41709.0</td>\n      <td>5.799866e+05</td>\n    </tr>\n    <tr>\n      <th>Algeria</th>\n      <td>251580.0</td>\n      <td>265033.0</td>\n      <td>284171.0</td>\n      <td>310706.0</td>\n      <td>332978.0</td>\n      <td>363968.0</td>\n      <td>381471.0</td>\n      <td>404831.0</td>\n      <td>422514.0</td>\n      <td>432672.0</td>\n      <td>...</td>\n      <td>494947.0</td>\n      <td>497330.0</td>\n      <td>497988.0</td>\n      <td>506135.0</td>\n      <td>477358.0</td>\n      <td>471382.0</td>\n      <td>478071.0</td>\n      <td>496403.0</td>\n      <td>509307.0</td>\n      <td>9.145625e+06</td>\n    </tr>\n    <tr>\n      <th>Angola</th>\n      <td>37442.0</td>\n      <td>39906.0</td>\n      <td>46056.0</td>\n      <td>49439.0</td>\n      <td>56326.0</td>\n      <td>68755.0</td>\n      <td>85562.0</td>\n      <td>107684.0</td>\n      <td>124967.0</td>\n      <td>128954.0</td>\n      <td>...</td>\n      <td>162539.0</td>\n      <td>186124.0</td>\n      <td>199866.0</td>\n      <td>220365.0</td>\n      <td>204604.0</td>\n      <td>204875.0</td>\n      <td>217987.0</td>\n      <td>220542.0</td>\n      <td>222459.0</td>\n      <td>2.999116e+06</td>\n    </tr>\n    <tr>\n      <th>Antigua and Barbuda</th>\n      <td>1305.0</td>\n      <td>1247.0</td>\n      <td>1271.0</td>\n      <td>1374.0</td>\n      <td>1463.0</td>\n      <td>1623.0</td>\n      <td>1875.0</td>\n      <td>2055.0</td>\n      <td>2128.0</td>\n      <td>1914.0</td>\n      <td>...</td>\n      <td>1816.0</td>\n      <td>1772.0</td>\n      <td>1720.0</td>\n      <td>1762.0</td>\n      <td>1770.0</td>\n      <td>1883.0</td>\n      <td>1893.0</td>\n      <td>2073.0</td>\n      <td>2181.0</td>\n      <td>3.826652e+04</td>\n    </tr>\n    <tr>\n      <th>Argentina</th>\n      <td>437650.0</td>\n      <td>427890.0</td>\n      <td>387126.0</td>\n      <td>429738.0</td>\n      <td>481426.0</td>\n      <td>540900.0</td>\n      <td>602385.0</td>\n      <td>674119.0</td>\n      <td>715230.0</td>\n      <td>678009.0</td>\n      <td>...</td>\n      <td>797264.0</td>\n      <td>819698.0</td>\n      <td>849616.0</td>\n      <td>839897.0</td>\n      <td>867177.0</td>\n      <td>885228.0</td>\n      <td>1039331.0</td>\n      <td>1036982.0</td>\n      <td>1033456.0</td>\n      <td>1.563982e+07</td>\n    </tr>\n  </tbody>\n</table>\n<p>5 rows × 21 columns</p>\n</div>"
     },
     "metadata": {},
     "execution_count": 22
    }
   ],
   "source": [
    "gdp10 = pd.read_csv('PyFinance/03 - Pandas/gdp-10s.csv',index_col=0)\n",
    "gdp.head()"
   ]
  },
  {
   "cell_type": "code",
   "execution_count": 27,
   "metadata": {},
   "outputs": [
    {
     "output_type": "execute_result",
     "data": {
      "text/plain": [
       "                         2000      2001      2002      2003      2004  \\\n",
       "Afghanistan               NaN       NaN   18768.0   20806.0   21522.0   \n",
       "Albania               12857.0   14241.0   15116.0   16269.0   17639.0   \n",
       "Algeria              251580.0  265033.0  284171.0  310706.0  332978.0   \n",
       "Angola                37442.0   39906.0   46056.0   49439.0   56326.0   \n",
       "Antigua and Barbuda    1305.0    1247.0    1271.0    1374.0    1463.0   \n",
       "\n",
       "                         2005      2006      2007      2008      2009  \\\n",
       "Afghanistan           24842.0   26978.0   31390.0   33242.0   40390.0   \n",
       "Albania               19212.0   20971.0   22818.0   25010.0   26045.0   \n",
       "Algeria              363968.0  381471.0  404831.0  422514.0  432672.0   \n",
       "Angola                68755.0   85562.0  107684.0  124967.0  128954.0   \n",
       "Antigua and Barbuda    1623.0    1875.0    2055.0    2128.0    1914.0   \n",
       "\n",
       "                         2010      2011      2012      2013      2014  \\\n",
       "Afghanistan           46304.0   50334.0   59945.0   63784.0   69444.0   \n",
       "Albania               28328.0   29655.0   30530.0   30604.0   32529.0   \n",
       "Algeria              471508.0  494947.0  497330.0  497988.0  506135.0   \n",
       "Angola               153871.0  162539.0  186124.0  199866.0  220365.0   \n",
       "Antigua and Barbuda    1814.0    1816.0    1772.0    1720.0    1762.0   \n",
       "\n",
       "                         2015      2016      2017      2018      2019  \n",
       "Afghanistan           72056.0   70098.0   74712.0   77416.0   81880.0  \n",
       "Albania               33595.0   34736.0   37609.0   40080.0   41709.0  \n",
       "Algeria              477358.0  471382.0  478071.0  496403.0  509307.0  \n",
       "Angola               204604.0  204875.0  217987.0  220542.0  222459.0  \n",
       "Antigua and Barbuda    1770.0    1883.0    1893.0    2073.0    2181.0  "
      ],
      "text/html": "<div>\n<style scoped>\n    .dataframe tbody tr th:only-of-type {\n        vertical-align: middle;\n    }\n\n    .dataframe tbody tr th {\n        vertical-align: top;\n    }\n\n    .dataframe thead th {\n        text-align: right;\n    }\n</style>\n<table border=\"1\" class=\"dataframe\">\n  <thead>\n    <tr style=\"text-align: right;\">\n      <th></th>\n      <th>2000</th>\n      <th>2001</th>\n      <th>2002</th>\n      <th>2003</th>\n      <th>2004</th>\n      <th>2005</th>\n      <th>2006</th>\n      <th>2007</th>\n      <th>2008</th>\n      <th>2009</th>\n      <th>2010</th>\n      <th>2011</th>\n      <th>2012</th>\n      <th>2013</th>\n      <th>2014</th>\n      <th>2015</th>\n      <th>2016</th>\n      <th>2017</th>\n      <th>2018</th>\n      <th>2019</th>\n    </tr>\n  </thead>\n  <tbody>\n    <tr>\n      <th>Afghanistan</th>\n      <td>NaN</td>\n      <td>NaN</td>\n      <td>18768.0</td>\n      <td>20806.0</td>\n      <td>21522.0</td>\n      <td>24842.0</td>\n      <td>26978.0</td>\n      <td>31390.0</td>\n      <td>33242.0</td>\n      <td>40390.0</td>\n      <td>46304.0</td>\n      <td>50334.0</td>\n      <td>59945.0</td>\n      <td>63784.0</td>\n      <td>69444.0</td>\n      <td>72056.0</td>\n      <td>70098.0</td>\n      <td>74712.0</td>\n      <td>77416.0</td>\n      <td>81880.0</td>\n    </tr>\n    <tr>\n      <th>Albania</th>\n      <td>12857.0</td>\n      <td>14241.0</td>\n      <td>15116.0</td>\n      <td>16269.0</td>\n      <td>17639.0</td>\n      <td>19212.0</td>\n      <td>20971.0</td>\n      <td>22818.0</td>\n      <td>25010.0</td>\n      <td>26045.0</td>\n      <td>28328.0</td>\n      <td>29655.0</td>\n      <td>30530.0</td>\n      <td>30604.0</td>\n      <td>32529.0</td>\n      <td>33595.0</td>\n      <td>34736.0</td>\n      <td>37609.0</td>\n      <td>40080.0</td>\n      <td>41709.0</td>\n    </tr>\n    <tr>\n      <th>Algeria</th>\n      <td>251580.0</td>\n      <td>265033.0</td>\n      <td>284171.0</td>\n      <td>310706.0</td>\n      <td>332978.0</td>\n      <td>363968.0</td>\n      <td>381471.0</td>\n      <td>404831.0</td>\n      <td>422514.0</td>\n      <td>432672.0</td>\n      <td>471508.0</td>\n      <td>494947.0</td>\n      <td>497330.0</td>\n      <td>497988.0</td>\n      <td>506135.0</td>\n      <td>477358.0</td>\n      <td>471382.0</td>\n      <td>478071.0</td>\n      <td>496403.0</td>\n      <td>509307.0</td>\n    </tr>\n    <tr>\n      <th>Angola</th>\n      <td>37442.0</td>\n      <td>39906.0</td>\n      <td>46056.0</td>\n      <td>49439.0</td>\n      <td>56326.0</td>\n      <td>68755.0</td>\n      <td>85562.0</td>\n      <td>107684.0</td>\n      <td>124967.0</td>\n      <td>128954.0</td>\n      <td>153871.0</td>\n      <td>162539.0</td>\n      <td>186124.0</td>\n      <td>199866.0</td>\n      <td>220365.0</td>\n      <td>204604.0</td>\n      <td>204875.0</td>\n      <td>217987.0</td>\n      <td>220542.0</td>\n      <td>222459.0</td>\n    </tr>\n    <tr>\n      <th>Antigua and Barbuda</th>\n      <td>1305.0</td>\n      <td>1247.0</td>\n      <td>1271.0</td>\n      <td>1374.0</td>\n      <td>1463.0</td>\n      <td>1623.0</td>\n      <td>1875.0</td>\n      <td>2055.0</td>\n      <td>2128.0</td>\n      <td>1914.0</td>\n      <td>1814.0</td>\n      <td>1816.0</td>\n      <td>1772.0</td>\n      <td>1720.0</td>\n      <td>1762.0</td>\n      <td>1770.0</td>\n      <td>1883.0</td>\n      <td>1893.0</td>\n      <td>2073.0</td>\n      <td>2181.0</td>\n    </tr>\n  </tbody>\n</table>\n</div>"
     },
     "metadata": {},
     "execution_count": 27
    }
   ],
   "source": [
    "gdp = pd.concat([gdp00,gdp10],axis=1)\n",
    "gdp.head()"
   ]
  },
  {
   "cell_type": "code",
   "execution_count": 28,
   "metadata": {},
   "outputs": [
    {
     "output_type": "execute_result",
     "data": {
      "text/plain": [
       "                         2000      2001      2002      2003      2004  \\\n",
       "Albania               12857.0   14241.0   15116.0   16269.0   17639.0   \n",
       "Algeria              251580.0  265033.0  284171.0  310706.0  332978.0   \n",
       "Angola                37442.0   39906.0   46056.0   49439.0   56326.0   \n",
       "Antigua and Barbuda    1305.0    1247.0    1271.0    1374.0    1463.0   \n",
       "Argentina            437650.0  427890.0  387126.0  429738.0  481426.0   \n",
       "...                       ...       ...       ...       ...       ...   \n",
       "Venezuela            279760.0  295848.0  273788.0  257591.0  313074.0   \n",
       "Vietnam              159786.0  174695.0  189936.0  207945.0  230306.0   \n",
       "Yemen                 55168.0   58571.0   61811.0   65406.0   69874.0   \n",
       "Zambia                17554.0   18909.0   20064.0   21886.0   24069.0   \n",
       "Zimbabwe              25003.0   25441.0   23803.0   20270.0   19480.0   \n",
       "\n",
       "                         2005      2006      2007      2008      2009  \\\n",
       "Albania               19212.0   20971.0   22818.0   25010.0   26045.0   \n",
       "Algeria              363968.0  381471.0  404831.0  422514.0  432672.0   \n",
       "Angola                68755.0   85562.0  107684.0  124967.0  128954.0   \n",
       "Antigua and Barbuda    1623.0    1875.0    2055.0    2128.0    1914.0   \n",
       "Argentina            540900.0  602385.0  674119.0  715230.0  678009.0   \n",
       "...                       ...       ...       ...       ...       ...   \n",
       "Venezuela            356489.0  403717.0  450740.0  483838.0  471901.0   \n",
       "Vietnam              255657.0  281900.0  310034.0  334014.0  354717.0   \n",
       "Yemen                 76155.0   80984.0   85914.0   90795.0   95021.0   \n",
       "Zambia                26641.0   29630.0   32959.0   36218.0   39858.0   \n",
       "Zimbabwe              18566.0   18451.0   18303.0   15568.0   16869.0   \n",
       "\n",
       "                         2010      2011      2012      2013      2014  \\\n",
       "Albania               28328.0   29655.0   30530.0   30604.0   32529.0   \n",
       "Algeria              471508.0  494947.0  497330.0  497988.0  506135.0   \n",
       "Angola               153871.0  162539.0  186124.0  199866.0  220365.0   \n",
       "Antigua and Barbuda    1814.0    1816.0    1772.0    1720.0    1762.0   \n",
       "Argentina            736718.0  797264.0  819698.0  849616.0  839897.0   \n",
       "...                       ...       ...       ...       ...       ...   \n",
       "Venezuela            476095.0  506340.0  545085.0  562097.0  550205.0   \n",
       "Vietnam              471196.0  511889.0  568401.0  607018.0  660612.0   \n",
       "Yemen                 96373.0   85876.0   85441.0   92756.0   94294.0   \n",
       "Zambia                43252.0   46612.0   49509.0   53420.0   54506.0   \n",
       "Zimbabwe              23247.0   27102.0   31161.0   34187.0   35496.0   \n",
       "\n",
       "                         2015      2016       2017       2018       2019  \n",
       "Albania               33595.0   34736.0    37609.0    40080.0    41709.0  \n",
       "Algeria              477358.0  471382.0   478071.0   496403.0   509307.0  \n",
       "Angola               204604.0  204875.0   217987.0   220542.0   222459.0  \n",
       "Antigua and Barbuda    1770.0    1883.0     1893.0     2073.0     2181.0  \n",
       "Argentina            867177.0  885228.0  1039331.0  1036982.0  1033456.0  \n",
       "...                       ...       ...        ...        ...        ...  \n",
       "Venezuela            520885.0  436659.0   375151.0   308781.0   204291.0  \n",
       "Vietnam              700257.0  770872.0   851064.0   933163.0  1016475.0  \n",
       "Yemen                 68543.0   62769.0    60706.0    62631.0    65088.0  \n",
       "Zambia                54473.0   55712.0    58735.0    62572.0    64607.0  \n",
       "Zimbabwe              37016.0   38427.0    42818.0    45379.0    43168.0  \n",
       "\n",
       "[187 rows x 20 columns]"
      ],
      "text/html": "<div>\n<style scoped>\n    .dataframe tbody tr th:only-of-type {\n        vertical-align: middle;\n    }\n\n    .dataframe tbody tr th {\n        vertical-align: top;\n    }\n\n    .dataframe thead th {\n        text-align: right;\n    }\n</style>\n<table border=\"1\" class=\"dataframe\">\n  <thead>\n    <tr style=\"text-align: right;\">\n      <th></th>\n      <th>2000</th>\n      <th>2001</th>\n      <th>2002</th>\n      <th>2003</th>\n      <th>2004</th>\n      <th>2005</th>\n      <th>2006</th>\n      <th>2007</th>\n      <th>2008</th>\n      <th>2009</th>\n      <th>2010</th>\n      <th>2011</th>\n      <th>2012</th>\n      <th>2013</th>\n      <th>2014</th>\n      <th>2015</th>\n      <th>2016</th>\n      <th>2017</th>\n      <th>2018</th>\n      <th>2019</th>\n    </tr>\n  </thead>\n  <tbody>\n    <tr>\n      <th>Albania</th>\n      <td>12857.0</td>\n      <td>14241.0</td>\n      <td>15116.0</td>\n      <td>16269.0</td>\n      <td>17639.0</td>\n      <td>19212.0</td>\n      <td>20971.0</td>\n      <td>22818.0</td>\n      <td>25010.0</td>\n      <td>26045.0</td>\n      <td>28328.0</td>\n      <td>29655.0</td>\n      <td>30530.0</td>\n      <td>30604.0</td>\n      <td>32529.0</td>\n      <td>33595.0</td>\n      <td>34736.0</td>\n      <td>37609.0</td>\n      <td>40080.0</td>\n      <td>41709.0</td>\n    </tr>\n    <tr>\n      <th>Algeria</th>\n      <td>251580.0</td>\n      <td>265033.0</td>\n      <td>284171.0</td>\n      <td>310706.0</td>\n      <td>332978.0</td>\n      <td>363968.0</td>\n      <td>381471.0</td>\n      <td>404831.0</td>\n      <td>422514.0</td>\n      <td>432672.0</td>\n      <td>471508.0</td>\n      <td>494947.0</td>\n      <td>497330.0</td>\n      <td>497988.0</td>\n      <td>506135.0</td>\n      <td>477358.0</td>\n      <td>471382.0</td>\n      <td>478071.0</td>\n      <td>496403.0</td>\n      <td>509307.0</td>\n    </tr>\n    <tr>\n      <th>Angola</th>\n      <td>37442.0</td>\n      <td>39906.0</td>\n      <td>46056.0</td>\n      <td>49439.0</td>\n      <td>56326.0</td>\n      <td>68755.0</td>\n      <td>85562.0</td>\n      <td>107684.0</td>\n      <td>124967.0</td>\n      <td>128954.0</td>\n      <td>153871.0</td>\n      <td>162539.0</td>\n      <td>186124.0</td>\n      <td>199866.0</td>\n      <td>220365.0</td>\n      <td>204604.0</td>\n      <td>204875.0</td>\n      <td>217987.0</td>\n      <td>220542.0</td>\n      <td>222459.0</td>\n    </tr>\n    <tr>\n      <th>Antigua and Barbuda</th>\n      <td>1305.0</td>\n      <td>1247.0</td>\n      <td>1271.0</td>\n      <td>1374.0</td>\n      <td>1463.0</td>\n      <td>1623.0</td>\n      <td>1875.0</td>\n      <td>2055.0</td>\n      <td>2128.0</td>\n      <td>1914.0</td>\n      <td>1814.0</td>\n      <td>1816.0</td>\n      <td>1772.0</td>\n      <td>1720.0</td>\n      <td>1762.0</td>\n      <td>1770.0</td>\n      <td>1883.0</td>\n      <td>1893.0</td>\n      <td>2073.0</td>\n      <td>2181.0</td>\n    </tr>\n    <tr>\n      <th>Argentina</th>\n      <td>437650.0</td>\n      <td>427890.0</td>\n      <td>387126.0</td>\n      <td>429738.0</td>\n      <td>481426.0</td>\n      <td>540900.0</td>\n      <td>602385.0</td>\n      <td>674119.0</td>\n      <td>715230.0</td>\n      <td>678009.0</td>\n      <td>736718.0</td>\n      <td>797264.0</td>\n      <td>819698.0</td>\n      <td>849616.0</td>\n      <td>839897.0</td>\n      <td>867177.0</td>\n      <td>885228.0</td>\n      <td>1039331.0</td>\n      <td>1036982.0</td>\n      <td>1033456.0</td>\n    </tr>\n    <tr>\n      <th>...</th>\n      <td>...</td>\n      <td>...</td>\n      <td>...</td>\n      <td>...</td>\n      <td>...</td>\n      <td>...</td>\n      <td>...</td>\n      <td>...</td>\n      <td>...</td>\n      <td>...</td>\n      <td>...</td>\n      <td>...</td>\n      <td>...</td>\n      <td>...</td>\n      <td>...</td>\n      <td>...</td>\n      <td>...</td>\n      <td>...</td>\n      <td>...</td>\n      <td>...</td>\n    </tr>\n    <tr>\n      <th>Venezuela</th>\n      <td>279760.0</td>\n      <td>295848.0</td>\n      <td>273788.0</td>\n      <td>257591.0</td>\n      <td>313074.0</td>\n      <td>356489.0</td>\n      <td>403717.0</td>\n      <td>450740.0</td>\n      <td>483838.0</td>\n      <td>471901.0</td>\n      <td>476095.0</td>\n      <td>506340.0</td>\n      <td>545085.0</td>\n      <td>562097.0</td>\n      <td>550205.0</td>\n      <td>520885.0</td>\n      <td>436659.0</td>\n      <td>375151.0</td>\n      <td>308781.0</td>\n      <td>204291.0</td>\n    </tr>\n    <tr>\n      <th>Vietnam</th>\n      <td>159786.0</td>\n      <td>174695.0</td>\n      <td>189936.0</td>\n      <td>207945.0</td>\n      <td>230306.0</td>\n      <td>255657.0</td>\n      <td>281900.0</td>\n      <td>310034.0</td>\n      <td>334014.0</td>\n      <td>354717.0</td>\n      <td>471196.0</td>\n      <td>511889.0</td>\n      <td>568401.0</td>\n      <td>607018.0</td>\n      <td>660612.0</td>\n      <td>700257.0</td>\n      <td>770872.0</td>\n      <td>851064.0</td>\n      <td>933163.0</td>\n      <td>1016475.0</td>\n    </tr>\n    <tr>\n      <th>Yemen</th>\n      <td>55168.0</td>\n      <td>58571.0</td>\n      <td>61811.0</td>\n      <td>65406.0</td>\n      <td>69874.0</td>\n      <td>76155.0</td>\n      <td>80984.0</td>\n      <td>85914.0</td>\n      <td>90795.0</td>\n      <td>95021.0</td>\n      <td>96373.0</td>\n      <td>85876.0</td>\n      <td>85441.0</td>\n      <td>92756.0</td>\n      <td>94294.0</td>\n      <td>68543.0</td>\n      <td>62769.0</td>\n      <td>60706.0</td>\n      <td>62631.0</td>\n      <td>65088.0</td>\n    </tr>\n    <tr>\n      <th>Zambia</th>\n      <td>17554.0</td>\n      <td>18909.0</td>\n      <td>20064.0</td>\n      <td>21886.0</td>\n      <td>24069.0</td>\n      <td>26641.0</td>\n      <td>29630.0</td>\n      <td>32959.0</td>\n      <td>36218.0</td>\n      <td>39858.0</td>\n      <td>43252.0</td>\n      <td>46612.0</td>\n      <td>49509.0</td>\n      <td>53420.0</td>\n      <td>54506.0</td>\n      <td>54473.0</td>\n      <td>55712.0</td>\n      <td>58735.0</td>\n      <td>62572.0</td>\n      <td>64607.0</td>\n    </tr>\n    <tr>\n      <th>Zimbabwe</th>\n      <td>25003.0</td>\n      <td>25441.0</td>\n      <td>23803.0</td>\n      <td>20270.0</td>\n      <td>19480.0</td>\n      <td>18566.0</td>\n      <td>18451.0</td>\n      <td>18303.0</td>\n      <td>15568.0</td>\n      <td>16869.0</td>\n      <td>23247.0</td>\n      <td>27102.0</td>\n      <td>31161.0</td>\n      <td>34187.0</td>\n      <td>35496.0</td>\n      <td>37016.0</td>\n      <td>38427.0</td>\n      <td>42818.0</td>\n      <td>45379.0</td>\n      <td>43168.0</td>\n    </tr>\n  </tbody>\n</table>\n<p>187 rows × 20 columns</p>\n</div>"
     },
     "metadata": {},
     "execution_count": 28
    }
   ],
   "source": [
    "gdp.dropna(inplace=True)\n",
    "gdp"
   ]
  },
  {
   "cell_type": "code",
   "execution_count": 31,
   "metadata": {},
   "outputs": [
    {
     "output_type": "execute_result",
     "data": {
      "text/plain": [
       "Albania                2.427897\n",
       "Algeria                3.012807\n",
       "Angola                 1.367333\n",
       "Antigua and Barbuda    3.735077\n",
       "Argentina              3.064810\n",
       "Name: 20y-pct, dtype: float64"
      ]
     },
     "metadata": {},
     "execution_count": 31
    }
   ],
   "source": [
    "gdp['20y-pct'] = gdp['2000']/gdp.sum(axis=1)*100\n",
    "gdp['20y-pct'].head()"
   ]
  },
  {
   "cell_type": "code",
   "execution_count": null,
   "metadata": {},
   "outputs": [],
   "source": [
    "gdp['20y-pct'] = gdp['2000']/gdp.sum(axis=1)*100\n",
    "gdp['20y-pct'].head()"
   ]
  },
  {
   "cell_type": "code",
   "execution_count": 36,
   "metadata": {},
   "outputs": [
    {
     "output_type": "execute_result",
     "data": {
      "text/plain": [
       "Albania                47.235950\n",
       "Algeria                 8.016619\n",
       "Angola                 44.575001\n",
       "Antigua and Barbuda    20.231533\n",
       "Argentina              40.278370\n",
       "Name: 10y-pct, dtype: float64"
      ]
     },
     "metadata": {},
     "execution_count": 36
    }
   ],
   "source": [
    "gdp['10y-pct'] = (gdp['2019']-gdp['2010'])/gdp['2010']*100\n",
    "gdp['10y-pct'].head()"
   ]
  },
  {
   "cell_type": "code",
   "execution_count": 34,
   "metadata": {},
   "outputs": [
    {
     "output_type": "execute_result",
     "data": {
      "text/plain": [
       "Albania                224.406938\n",
       "Algeria                102.443358\n",
       "Angola                 494.142941\n",
       "Antigua and Barbuda     67.126437\n",
       "Argentina              136.137553\n",
       "Name: 20y-pt, dtype: float64"
      ]
     },
     "metadata": {},
     "execution_count": 34
    }
   ],
   "source": [
    "gdp['20y-pt'] = (gdp['2019']-gdp['2000'])/gdp['2000']*100\n",
    "gdp['20y-pt'].head()"
   ]
  },
  {
   "cell_type": "code",
   "execution_count": 35,
   "metadata": {},
   "outputs": [
    {
     "output_type": "execute_result",
     "data": {
      "text/plain": [
       "Turkmenistan    732.232120\n",
       "Ethiopia        701.312624\n",
       "Maldives        642.302260\n",
       "Vietnam         536.147723\n",
       "China           532.478907\n",
       "Armenia         501.185376\n",
       "Angola          494.142941\n",
       "Bhutan          492.159468\n",
       "Rwanda          486.311787\n",
       "Cambodia        468.809416\n",
       "Name: 20y-pt, dtype: float64"
      ]
     },
     "metadata": {},
     "execution_count": 35
    }
   ],
   "source": [
    "gdp['20y-pt'].sort_values(ascending=False).head(10)"
   ]
  },
  {
   "cell_type": "code",
   "execution_count": 33,
   "metadata": {},
   "outputs": [
    {
     "output_type": "execute_result",
     "data": {
      "text/plain": [
       "Eritrea                           4.779732\n",
       "Libya                             4.628366\n",
       "Zimbabwe                          4.466775\n",
       "San Marino                        4.080667\n",
       "Puerto Rico                       4.034456\n",
       "Federated States of Micronesia    4.010804\n",
       "Palau                             3.914955\n",
       "Italy                             3.864605\n",
       "Brunei                            3.860257\n",
       "Japan                             3.810695\n",
       "Name: 20y-pct, dtype: float64"
      ]
     },
     "metadata": {},
     "execution_count": 33
    }
   ],
   "source": [
    "gdp['20y-pct'].sort_values(ascending=False).head(10)"
   ]
  },
  {
   "cell_type": "code",
   "execution_count": null,
   "metadata": {},
   "outputs": [],
   "source": [
    "gdp.to_excel('gdp-forever.xlsx')"
   ]
  }
 ]
}